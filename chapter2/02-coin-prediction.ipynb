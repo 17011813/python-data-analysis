{
 "cells": [
  {
   "cell_type": "markdown",
   "metadata": {},
   "source": [
    "Copyright (c) 2019 [윤기태]\n",
    "\n",
    "https://github.com/yoonkt200/python-data-analysis\n",
    "\n",
    "[MIT License](https://github.com/yoonkt200/python-data-analysis/blob/master/LICENSE.txt)"
   ]
  },
  {
   "cell_type": "markdown",
   "metadata": {},
   "source": [
    "# (가제) 파이썬 데이터 분석"
   ]
  },
  {
   "cell_type": "markdown",
   "metadata": {},
   "source": [
    "-----"
   ]
  },
  {
   "cell_type": "markdown",
   "metadata": {},
   "source": [
    "# 2.2) 비트코인 시세 예측하기"
   ]
  },
  {
   "cell_type": "markdown",
   "metadata": {},
   "source": [
    "### 바로가기"
   ]
  },
  {
   "cell_type": "markdown",
   "metadata": {},
   "source": [
    "- [1. 시간정보가 포함된 데이터 살펴보기](#1.-시간정보가-포함된-데이터-살펴보기)\n",
    "    - [market price 데이터셋의 기본 정보]\n",
    "    - [시계열 데이터 살펴보기]\n",
    "- [2. 파이썬 라이브러리를 활용한 시세 예측](#2.-파이썬-라이브러리를-활용한-시세-예측)\n",
    "    - [Facebook Prophet 활용하기]\n",
    "    - [ARIMA 모델 활용하기]\n",
    "- [3. 더 나은 결과를 위한 방법들](#3.-더-나은-결과를-위한-방법들)\n",
    "    - [상한가와 하한가 선정]\n",
    "    - [이상치 제거하기]\n",
    "    - [하이퍼 파라미터 선정하기]\n",
    "- [재미로 알아보는 내일의 비트코인 시세](#재미로-알아보는-내일의-비트코인-시세)\n",
    "- [부록 : 선배의 Summary](#부록-:-선배의-Summary)"
   ]
  },
  {
   "cell_type": "markdown",
   "metadata": {},
   "source": [
    "-----"
   ]
  },
  {
   "cell_type": "code",
   "execution_count": 21,
   "metadata": {},
   "outputs": [],
   "source": [
    "# -*- coding: utf-8 -*-\n",
    "\n",
    "%matplotlib inline\n",
    "\n",
    "import pandas as pd\n",
    "import numpy as np\n",
    "import matplotlib.pyplot as plt\n",
    "\n",
    "import warnings\n",
    "warnings.filterwarnings(\"ignore\")"
   ]
  },
  {
   "cell_type": "markdown",
   "metadata": {},
   "source": [
    "# 1. 시간정보가 포함된 데이터 살펴보기"
   ]
  },
  {
   "cell_type": "markdown",
   "metadata": {},
   "source": [
    "### [market price 데이터셋의 기본 정보]"
   ]
  },
  {
   "cell_type": "code",
   "execution_count": 98,
   "metadata": {},
   "outputs": [],
   "source": [
    "# Data Source : https://www.blockchain.com/ko/charts/market-price?timespan=60days\n",
    "\n",
    "url = 'https://raw.githubusercontent.com/yoonkt200/python-data-analysis/master/data/market-price.csv'\n",
    "bitcoin_df = pd.read_csv(url, names = ['day', 'price'])"
   ]
  },
  {
   "cell_type": "code",
   "execution_count": 99,
   "metadata": {},
   "outputs": [
    {
     "name": "stdout",
     "output_type": "stream",
     "text": [
      "(365, 2)\n",
      "<class 'pandas.core.frame.DataFrame'>\n",
      "RangeIndex: 365 entries, 0 to 364\n",
      "Data columns (total 2 columns):\n",
      "day      365 non-null object\n",
      "price    365 non-null float64\n",
      "dtypes: float64(1), object(1)\n",
      "memory usage: 5.8+ KB\n",
      "None\n"
     ]
    }
   ],
   "source": [
    "print(bitcoin_df.shape)\n",
    "print(bitcoin_df.info())"
   ]
  },
  {
   "cell_type": "code",
   "execution_count": 100,
   "metadata": {},
   "outputs": [
    {
     "data": {
      "text/html": [
       "<div>\n",
       "<style scoped>\n",
       "    .dataframe tbody tr th:only-of-type {\n",
       "        vertical-align: middle;\n",
       "    }\n",
       "\n",
       "    .dataframe tbody tr th {\n",
       "        vertical-align: top;\n",
       "    }\n",
       "\n",
       "    .dataframe thead th {\n",
       "        text-align: right;\n",
       "    }\n",
       "</style>\n",
       "<table border=\"1\" class=\"dataframe\">\n",
       "  <thead>\n",
       "    <tr style=\"text-align: right;\">\n",
       "      <th></th>\n",
       "      <th>day</th>\n",
       "      <th>price</th>\n",
       "    </tr>\n",
       "  </thead>\n",
       "  <tbody>\n",
       "    <tr>\n",
       "      <th>360</th>\n",
       "      <td>2018-08-22 00:00:00</td>\n",
       "      <td>6575.229167</td>\n",
       "    </tr>\n",
       "    <tr>\n",
       "      <th>361</th>\n",
       "      <td>2018-08-23 00:00:00</td>\n",
       "      <td>6434.881667</td>\n",
       "    </tr>\n",
       "    <tr>\n",
       "      <th>362</th>\n",
       "      <td>2018-08-24 00:00:00</td>\n",
       "      <td>6543.645714</td>\n",
       "    </tr>\n",
       "    <tr>\n",
       "      <th>363</th>\n",
       "      <td>2018-08-25 00:00:00</td>\n",
       "      <td>6719.429231</td>\n",
       "    </tr>\n",
       "    <tr>\n",
       "      <th>364</th>\n",
       "      <td>2018-08-26 00:00:00</td>\n",
       "      <td>6673.274167</td>\n",
       "    </tr>\n",
       "  </tbody>\n",
       "</table>\n",
       "</div>"
      ],
      "text/plain": [
       "                     day        price\n",
       "360  2018-08-22 00:00:00  6575.229167\n",
       "361  2018-08-23 00:00:00  6434.881667\n",
       "362  2018-08-24 00:00:00  6543.645714\n",
       "363  2018-08-25 00:00:00  6719.429231\n",
       "364  2018-08-26 00:00:00  6673.274167"
      ]
     },
     "execution_count": 100,
     "metadata": {},
     "output_type": "execute_result"
    }
   ],
   "source": [
    "bitcoin_df.tail()"
   ]
  },
  {
   "cell_type": "markdown",
   "metadata": {},
   "source": [
    "-----"
   ]
  },
  {
   "cell_type": "markdown",
   "metadata": {},
   "source": [
    "### [시계열 데이터 살펴보기]"
   ]
  },
  {
   "cell_type": "code",
   "execution_count": 25,
   "metadata": {},
   "outputs": [
    {
     "data": {
      "text/html": [
       "<div>\n",
       "<style scoped>\n",
       "    .dataframe tbody tr th:only-of-type {\n",
       "        vertical-align: middle;\n",
       "    }\n",
       "\n",
       "    .dataframe tbody tr th {\n",
       "        vertical-align: top;\n",
       "    }\n",
       "\n",
       "    .dataframe thead th {\n",
       "        text-align: right;\n",
       "    }\n",
       "</style>\n",
       "<table border=\"1\" class=\"dataframe\">\n",
       "  <thead>\n",
       "    <tr style=\"text-align: right;\">\n",
       "      <th></th>\n",
       "      <th>price</th>\n",
       "    </tr>\n",
       "    <tr>\n",
       "      <th>day</th>\n",
       "      <th></th>\n",
       "    </tr>\n",
       "  </thead>\n",
       "  <tbody>\n",
       "    <tr>\n",
       "      <th>2017-08-27</th>\n",
       "      <td>4354.308333</td>\n",
       "    </tr>\n",
       "    <tr>\n",
       "      <th>2017-08-28</th>\n",
       "      <td>4391.673517</td>\n",
       "    </tr>\n",
       "    <tr>\n",
       "      <th>2017-08-29</th>\n",
       "      <td>4607.985450</td>\n",
       "    </tr>\n",
       "    <tr>\n",
       "      <th>2017-08-30</th>\n",
       "      <td>4594.987850</td>\n",
       "    </tr>\n",
       "    <tr>\n",
       "      <th>2017-08-31</th>\n",
       "      <td>4748.255000</td>\n",
       "    </tr>\n",
       "  </tbody>\n",
       "</table>\n",
       "</div>"
      ],
      "text/plain": [
       "                  price\n",
       "day                    \n",
       "2017-08-27  4354.308333\n",
       "2017-08-28  4391.673517\n",
       "2017-08-29  4607.985450\n",
       "2017-08-30  4594.987850\n",
       "2017-08-31  4748.255000"
      ]
     },
     "execution_count": 25,
     "metadata": {},
     "output_type": "execute_result"
    }
   ],
   "source": [
    "bitcoin_df['day'] = pd.to_datetime(bitcoin_df['day'])\n",
    "bitcoin_df.index = bitcoin_df['day']\n",
    "bitcoin_df.set_index('day', inplace=True)\n",
    "bitcoin_df.head()"
   ]
  },
  {
   "cell_type": "code",
   "execution_count": 26,
   "metadata": {},
   "outputs": [
    {
     "data": {
      "text/html": [
       "<div>\n",
       "<style scoped>\n",
       "    .dataframe tbody tr th:only-of-type {\n",
       "        vertical-align: middle;\n",
       "    }\n",
       "\n",
       "    .dataframe tbody tr th {\n",
       "        vertical-align: top;\n",
       "    }\n",
       "\n",
       "    .dataframe thead th {\n",
       "        text-align: right;\n",
       "    }\n",
       "</style>\n",
       "<table border=\"1\" class=\"dataframe\">\n",
       "  <thead>\n",
       "    <tr style=\"text-align: right;\">\n",
       "      <th></th>\n",
       "      <th>price</th>\n",
       "    </tr>\n",
       "  </thead>\n",
       "  <tbody>\n",
       "    <tr>\n",
       "      <th>count</th>\n",
       "      <td>365.000000</td>\n",
       "    </tr>\n",
       "    <tr>\n",
       "      <th>mean</th>\n",
       "      <td>8395.863578</td>\n",
       "    </tr>\n",
       "    <tr>\n",
       "      <th>std</th>\n",
       "      <td>3239.804756</td>\n",
       "    </tr>\n",
       "    <tr>\n",
       "      <th>min</th>\n",
       "      <td>3319.630000</td>\n",
       "    </tr>\n",
       "    <tr>\n",
       "      <th>25%</th>\n",
       "      <td>6396.772500</td>\n",
       "    </tr>\n",
       "    <tr>\n",
       "      <th>50%</th>\n",
       "      <td>7685.633333</td>\n",
       "    </tr>\n",
       "    <tr>\n",
       "      <th>75%</th>\n",
       "      <td>9630.136277</td>\n",
       "    </tr>\n",
       "    <tr>\n",
       "      <th>max</th>\n",
       "      <td>19498.683333</td>\n",
       "    </tr>\n",
       "  </tbody>\n",
       "</table>\n",
       "</div>"
      ],
      "text/plain": [
       "              price\n",
       "count    365.000000\n",
       "mean    8395.863578\n",
       "std     3239.804756\n",
       "min     3319.630000\n",
       "25%     6396.772500\n",
       "50%     7685.633333\n",
       "75%     9630.136277\n",
       "max    19498.683333"
      ]
     },
     "execution_count": 26,
     "metadata": {},
     "output_type": "execute_result"
    }
   ],
   "source": [
    "bitcoin_df.describe()"
   ]
  },
  {
   "cell_type": "code",
   "execution_count": 27,
   "metadata": {},
   "outputs": [
    {
     "data": {
      "image/png": "[encoded data removed]",
      "text/plain": [
       "<Figure size 432x288 with 1 Axes>"
      ]
     },
     "metadata": {
      "needs_background": "light"
     },
     "output_type": "display_data"
    }
   ],
   "source": [
    "bitcoin_df.plot()\n",
    "plt.show()"
   ]
  },
  {
   "cell_type": "markdown",
   "metadata": {},
   "source": [
    "-----"
   ]
  },
  {
   "cell_type": "markdown",
   "metadata": {},
   "source": [
    "# 2. 파이썬 라이브러리를 활용한 시세 예측"
   ]
  },
  {
   "cell_type": "markdown",
   "metadata": {},
   "source": [
    "### [Facebook Prophet 활용하기]"
   ]
  },
  {
   "cell_type": "markdown",
   "metadata": {},
   "source": [
    "- 아래 코드 실행을 위해, anaconda prompt 혹은 터미널(cmd)에서 아래와 같은 패키지들을 설치해 줍니다.\n",
    "    - (env_name) `conda install -c conda-forge fbprophet`\n",
    "- prophet의 input data columns는 'ds'와 'y'로 고정되어야 합니다.\n",
    "- seasonality_mode : 연간, 월간, 주간, 일간 등의 트렌드성을 반영하는 것을 의미합니다. 비트코인 데이터의 경우 대부분의 주기마다 트렌드성이 반영되는 것이 좋습니다."
   ]
  },
  {
   "cell_type": "markdown",
   "metadata": {},
   "source": [
    "###### Prophet 모델 학습"
   ]
  },
  {
   "cell_type": "code",
   "execution_count": 28,
   "metadata": {},
   "outputs": [],
   "source": [
    "from fbprophet import Prophet"
   ]
  },
  {
   "cell_type": "code",
   "execution_count": 29,
   "metadata": {},
   "outputs": [
    {
     "data": {
      "text/plain": [
       "<fbprophet.forecaster.Prophet at 0x11a71ce80>"
      ]
     },
     "execution_count": 29,
     "metadata": {},
     "output_type": "execute_result"
    }
   ],
   "source": [
    "bitcoin_df = pd.read_csv(url, names = ['ds', 'y']) # prophet의 input data columns : 'ds', 'y'\n",
    "prophet = Prophet(seasonality_mode='multiplicative', \n",
    "                  yearly_seasonality=True,\n",
    "                  weekly_seasonality=True, daily_seasonality=True)\n",
    "prophet.fit(bitcoin_df)"
   ]
  },
  {
   "cell_type": "markdown",
   "metadata": {},
   "source": [
    "-----"
   ]
  },
  {
   "cell_type": "markdown",
   "metadata": {},
   "source": [
    "###### 모델로부터 예측할 기간을 정의하고, 결과를 도출."
   ]
  },
  {
   "cell_type": "code",
   "execution_count": 30,
   "metadata": {},
   "outputs": [],
   "source": [
    "# 5일을 내다보며 예측합니다.\n",
    "future_data = prophet.make_future_dataframe(periods=5, freq = 'd')\n",
    "forecast_data = prophet.predict(future_data)"
   ]
  },
  {
   "cell_type": "code",
   "execution_count": 31,
   "metadata": {},
   "outputs": [
    {
     "data": {
      "text/html": [
       "<div>\n",
       "<style scoped>\n",
       "    .dataframe tbody tr th:only-of-type {\n",
       "        vertical-align: middle;\n",
       "    }\n",
       "\n",
       "    .dataframe tbody tr th {\n",
       "        vertical-align: top;\n",
       "    }\n",
       "\n",
       "    .dataframe thead th {\n",
       "        text-align: right;\n",
       "    }\n",
       "</style>\n",
       "<table border=\"1\" class=\"dataframe\">\n",
       "  <thead>\n",
       "    <tr style=\"text-align: right;\">\n",
       "      <th></th>\n",
       "      <th>ds</th>\n",
       "      <th>trend</th>\n",
       "      <th>yhat_lower</th>\n",
       "      <th>yhat_upper</th>\n",
       "      <th>trend_lower</th>\n",
       "      <th>trend_upper</th>\n",
       "      <th>daily</th>\n",
       "      <th>daily_lower</th>\n",
       "      <th>daily_upper</th>\n",
       "      <th>multiplicative_terms</th>\n",
       "      <th>...</th>\n",
       "      <th>weekly</th>\n",
       "      <th>weekly_lower</th>\n",
       "      <th>weekly_upper</th>\n",
       "      <th>yearly</th>\n",
       "      <th>yearly_lower</th>\n",
       "      <th>yearly_upper</th>\n",
       "      <th>additive_terms</th>\n",
       "      <th>additive_terms_lower</th>\n",
       "      <th>additive_terms_upper</th>\n",
       "      <th>yhat</th>\n",
       "    </tr>\n",
       "  </thead>\n",
       "  <tbody>\n",
       "    <tr>\n",
       "      <th>365</th>\n",
       "      <td>2018-08-27</td>\n",
       "      <td>11502.483184</td>\n",
       "      <td>5290.558879</td>\n",
       "      <td>7110.980187</td>\n",
       "      <td>11502.483184</td>\n",
       "      <td>11502.483184</td>\n",
       "      <td>-0.182871</td>\n",
       "      <td>-0.182871</td>\n",
       "      <td>-0.182871</td>\n",
       "      <td>-0.460898</td>\n",
       "      <td>...</td>\n",
       "      <td>-0.000353</td>\n",
       "      <td>-0.000353</td>\n",
       "      <td>-0.000353</td>\n",
       "      <td>-0.277674</td>\n",
       "      <td>-0.277674</td>\n",
       "      <td>-0.277674</td>\n",
       "      <td>0.0</td>\n",
       "      <td>0.0</td>\n",
       "      <td>0.0</td>\n",
       "      <td>6201.010537</td>\n",
       "    </tr>\n",
       "    <tr>\n",
       "      <th>366</th>\n",
       "      <td>2018-08-28</td>\n",
       "      <td>11508.971204</td>\n",
       "      <td>5234.452584</td>\n",
       "      <td>7003.071821</td>\n",
       "      <td>11508.971204</td>\n",
       "      <td>11508.971204</td>\n",
       "      <td>-0.182871</td>\n",
       "      <td>-0.182871</td>\n",
       "      <td>-0.182871</td>\n",
       "      <td>-0.466463</td>\n",
       "      <td>...</td>\n",
       "      <td>-0.000301</td>\n",
       "      <td>-0.000301</td>\n",
       "      <td>-0.000301</td>\n",
       "      <td>-0.283291</td>\n",
       "      <td>-0.283291</td>\n",
       "      <td>-0.283291</td>\n",
       "      <td>0.0</td>\n",
       "      <td>0.0</td>\n",
       "      <td>0.0</td>\n",
       "      <td>6140.462902</td>\n",
       "    </tr>\n",
       "    <tr>\n",
       "      <th>367</th>\n",
       "      <td>2018-08-29</td>\n",
       "      <td>11515.459225</td>\n",
       "      <td>5150.269448</td>\n",
       "      <td>6855.761747</td>\n",
       "      <td>11515.459225</td>\n",
       "      <td>11515.459225</td>\n",
       "      <td>-0.182871</td>\n",
       "      <td>-0.182871</td>\n",
       "      <td>-0.182871</td>\n",
       "      <td>-0.476878</td>\n",
       "      <td>...</td>\n",
       "      <td>-0.004554</td>\n",
       "      <td>-0.004554</td>\n",
       "      <td>-0.004554</td>\n",
       "      <td>-0.289452</td>\n",
       "      <td>-0.289452</td>\n",
       "      <td>-0.289452</td>\n",
       "      <td>0.0</td>\n",
       "      <td>0.0</td>\n",
       "      <td>0.0</td>\n",
       "      <td>6023.994667</td>\n",
       "    </tr>\n",
       "    <tr>\n",
       "      <th>368</th>\n",
       "      <td>2018-08-30</td>\n",
       "      <td>11521.947245</td>\n",
       "      <td>5093.687199</td>\n",
       "      <td>6874.426193</td>\n",
       "      <td>11521.946578</td>\n",
       "      <td>11521.947279</td>\n",
       "      <td>-0.182871</td>\n",
       "      <td>-0.182871</td>\n",
       "      <td>-0.182871</td>\n",
       "      <td>-0.482437</td>\n",
       "      <td>...</td>\n",
       "      <td>-0.003463</td>\n",
       "      <td>-0.003463</td>\n",
       "      <td>-0.003463</td>\n",
       "      <td>-0.296104</td>\n",
       "      <td>-0.296104</td>\n",
       "      <td>-0.296104</td>\n",
       "      <td>0.0</td>\n",
       "      <td>0.0</td>\n",
       "      <td>0.0</td>\n",
       "      <td>5963.332807</td>\n",
       "    </tr>\n",
       "    <tr>\n",
       "      <th>369</th>\n",
       "      <td>2018-08-31</td>\n",
       "      <td>11528.435266</td>\n",
       "      <td>5100.881511</td>\n",
       "      <td>6796.897390</td>\n",
       "      <td>11528.432616</td>\n",
       "      <td>11528.436632</td>\n",
       "      <td>-0.182871</td>\n",
       "      <td>-0.182871</td>\n",
       "      <td>-0.182871</td>\n",
       "      <td>-0.485864</td>\n",
       "      <td>...</td>\n",
       "      <td>0.000181</td>\n",
       "      <td>0.000181</td>\n",
       "      <td>0.000181</td>\n",
       "      <td>-0.303174</td>\n",
       "      <td>-0.303174</td>\n",
       "      <td>-0.303174</td>\n",
       "      <td>0.0</td>\n",
       "      <td>0.0</td>\n",
       "      <td>0.0</td>\n",
       "      <td>5927.183789</td>\n",
       "    </tr>\n",
       "  </tbody>\n",
       "</table>\n",
       "<p>5 rows × 22 columns</p>\n",
       "</div>"
      ],
      "text/plain": [
       "            ds         trend   yhat_lower   yhat_upper   trend_lower  \\\n",
       "365 2018-08-27  11502.483184  5290.558879  7110.980187  11502.483184   \n",
       "366 2018-08-28  11508.971204  5234.452584  7003.071821  11508.971204   \n",
       "367 2018-08-29  11515.459225  5150.269448  6855.761747  11515.459225   \n",
       "368 2018-08-30  11521.947245  5093.687199  6874.426193  11521.946578   \n",
       "369 2018-08-31  11528.435266  5100.881511  6796.897390  11528.432616   \n",
       "\n",
       "      trend_upper     daily  daily_lower  daily_upper  multiplicative_terms  \\\n",
       "365  11502.483184 -0.182871    -0.182871    -0.182871             -0.460898   \n",
       "366  11508.971204 -0.182871    -0.182871    -0.182871             -0.466463   \n",
       "367  11515.459225 -0.182871    -0.182871    -0.182871             -0.476878   \n",
       "368  11521.947279 -0.182871    -0.182871    -0.182871             -0.482437   \n",
       "369  11528.436632 -0.182871    -0.182871    -0.182871             -0.485864   \n",
       "\n",
       "        ...         weekly  weekly_lower  weekly_upper    yearly  \\\n",
       "365     ...      -0.000353     -0.000353     -0.000353 -0.277674   \n",
       "366     ...      -0.000301     -0.000301     -0.000301 -0.283291   \n",
       "367     ...      -0.004554     -0.004554     -0.004554 -0.289452   \n",
       "368     ...      -0.003463     -0.003463     -0.003463 -0.296104   \n",
       "369     ...       0.000181      0.000181      0.000181 -0.303174   \n",
       "\n",
       "     yearly_lower  yearly_upper  additive_terms  additive_terms_lower  \\\n",
       "365     -0.277674     -0.277674             0.0                   0.0   \n",
       "366     -0.283291     -0.283291             0.0                   0.0   \n",
       "367     -0.289452     -0.289452             0.0                   0.0   \n",
       "368     -0.296104     -0.296104             0.0                   0.0   \n",
       "369     -0.303174     -0.303174             0.0                   0.0   \n",
       "\n",
       "     additive_terms_upper         yhat  \n",
       "365                   0.0  6201.010537  \n",
       "366                   0.0  6140.462902  \n",
       "367                   0.0  6023.994667  \n",
       "368                   0.0  5963.332807  \n",
       "369                   0.0  5927.183789  \n",
       "\n",
       "[5 rows x 22 columns]"
      ]
     },
     "execution_count": 31,
     "metadata": {},
     "output_type": "execute_result"
    }
   ],
   "source": [
    "forecast_data.tail(5)"
   ]
  },
  {
   "cell_type": "code",
   "execution_count": 32,
   "metadata": {},
   "outputs": [
    {
     "data": {
      "text/html": [
       "<div>\n",
       "<style scoped>\n",
       "    .dataframe tbody tr th:only-of-type {\n",
       "        vertical-align: middle;\n",
       "    }\n",
       "\n",
       "    .dataframe tbody tr th {\n",
       "        vertical-align: top;\n",
       "    }\n",
       "\n",
       "    .dataframe thead th {\n",
       "        text-align: right;\n",
       "    }\n",
       "</style>\n",
       "<table border=\"1\" class=\"dataframe\">\n",
       "  <thead>\n",
       "    <tr style=\"text-align: right;\">\n",
       "      <th></th>\n",
       "      <th>ds</th>\n",
       "      <th>yhat</th>\n",
       "      <th>yhat_lower</th>\n",
       "      <th>yhat_upper</th>\n",
       "    </tr>\n",
       "  </thead>\n",
       "  <tbody>\n",
       "    <tr>\n",
       "      <th>365</th>\n",
       "      <td>2018-08-27</td>\n",
       "      <td>6201.010537</td>\n",
       "      <td>5290.558879</td>\n",
       "      <td>7110.980187</td>\n",
       "    </tr>\n",
       "    <tr>\n",
       "      <th>366</th>\n",
       "      <td>2018-08-28</td>\n",
       "      <td>6140.462902</td>\n",
       "      <td>5234.452584</td>\n",
       "      <td>7003.071821</td>\n",
       "    </tr>\n",
       "    <tr>\n",
       "      <th>367</th>\n",
       "      <td>2018-08-29</td>\n",
       "      <td>6023.994667</td>\n",
       "      <td>5150.269448</td>\n",
       "      <td>6855.761747</td>\n",
       "    </tr>\n",
       "    <tr>\n",
       "      <th>368</th>\n",
       "      <td>2018-08-30</td>\n",
       "      <td>5963.332807</td>\n",
       "      <td>5093.687199</td>\n",
       "      <td>6874.426193</td>\n",
       "    </tr>\n",
       "    <tr>\n",
       "      <th>369</th>\n",
       "      <td>2018-08-31</td>\n",
       "      <td>5927.183789</td>\n",
       "      <td>5100.881511</td>\n",
       "      <td>6796.897390</td>\n",
       "    </tr>\n",
       "  </tbody>\n",
       "</table>\n",
       "</div>"
      ],
      "text/plain": [
       "            ds         yhat   yhat_lower   yhat_upper\n",
       "365 2018-08-27  6201.010537  5290.558879  7110.980187\n",
       "366 2018-08-28  6140.462902  5234.452584  7003.071821\n",
       "367 2018-08-29  6023.994667  5150.269448  6855.761747\n",
       "368 2018-08-30  5963.332807  5093.687199  6874.426193\n",
       "369 2018-08-31  5927.183789  5100.881511  6796.897390"
      ]
     },
     "execution_count": 32,
     "metadata": {},
     "output_type": "execute_result"
    }
   ],
   "source": [
    "forecast_data[['ds', 'yhat', 'yhat_lower', 'yhat_upper']].tail(5)"
   ]
  },
  {
   "cell_type": "markdown",
   "metadata": {},
   "source": [
    "-----"
   ]
  },
  {
   "cell_type": "markdown",
   "metadata": {},
   "source": [
    "###### 결과의 시각화"
   ]
  },
  {
   "cell_type": "markdown",
   "metadata": {},
   "source": [
    "- 전체 데이터를 기반으로 학습한, 5일 단위의 예측 결과를 시각화합니다."
   ]
  },
  {
   "cell_type": "code",
   "execution_count": 58,
   "metadata": {},
   "outputs": [
    {
     "data": {
      "image/png": "[encoded data removed]",
      "text/plain": [
       "<Figure size 720x432 with 1 Axes>"
      ]
     },
     "metadata": {},
     "output_type": "display_data"
    }
   ],
   "source": [
    "fig1 = prophet.plot(forecast_data)"
   ]
  },
  {
   "cell_type": "markdown",
   "metadata": {},
   "source": [
    "-----"
   ]
  },
  {
   "cell_type": "markdown",
   "metadata": {},
   "source": [
    "- seasonality_mode로 설정했었던 기간별 트렌드 정보를 시각화합니다."
   ]
  },
  {
   "cell_type": "code",
   "execution_count": 34,
   "metadata": {},
   "outputs": [
    {
     "data": {
      "image/png": "[encoded data removed]",
      "text/plain": [
       "<Figure size 648x864 with 4 Axes>"
      ]
     },
     "metadata": {},
     "output_type": "display_data"
    }
   ],
   "source": [
    "fig2 = prophet.plot_components(forecast_data)"
   ]
  },
  {
   "cell_type": "markdown",
   "metadata": {},
   "source": [
    "-----"
   ]
  },
  {
   "cell_type": "markdown",
   "metadata": {},
   "source": [
    "###### 모델의 성능을 살펴봅니다.\n",
    "- 실제 가격과 예측한 가격간의 차이 : 첫 5일과 마지막 5일은 제외하고 계산합니다."
   ]
  },
  {
   "cell_type": "code",
   "execution_count": 79,
   "metadata": {},
   "outputs": [],
   "source": [
    "y = bitcoin_df.y.values[5:]\n",
    "y_pred = forecast_data.yhat.values[5:-5]"
   ]
  },
  {
   "cell_type": "code",
   "execution_count": 80,
   "metadata": {},
   "outputs": [
    {
     "name": "stdout",
     "output_type": "stream",
     "text": [
      "531.1901793082591\n",
      "0.9728773861945464\n"
     ]
    }
   ],
   "source": [
    "from sklearn.metrics import mean_squared_error, r2_score\n",
    "from math import sqrt\n",
    "\n",
    "rmse = sqrt(mean_squared_error(y, y_pred))\n",
    "print(rmse)\n",
    "r2 = r2_score(y, y_pred)\n",
    "print(r2)"
   ]
  },
  {
   "cell_type": "code",
   "execution_count": 87,
   "metadata": {},
   "outputs": [
    {
     "data": {
      "text/html": [
       "<div>\n",
       "<style scoped>\n",
       "    .dataframe tbody tr th:only-of-type {\n",
       "        vertical-align: middle;\n",
       "    }\n",
       "\n",
       "    .dataframe tbody tr th {\n",
       "        vertical-align: top;\n",
       "    }\n",
       "\n",
       "    .dataframe thead th {\n",
       "        text-align: right;\n",
       "    }\n",
       "</style>\n",
       "<table border=\"1\" class=\"dataframe\">\n",
       "  <thead>\n",
       "    <tr style=\"text-align: right;\">\n",
       "      <th></th>\n",
       "      <th>ds</th>\n",
       "      <th>trend</th>\n",
       "      <th>yhat_lower</th>\n",
       "      <th>yhat_upper</th>\n",
       "      <th>trend_lower</th>\n",
       "      <th>trend_upper</th>\n",
       "      <th>daily</th>\n",
       "      <th>daily_lower</th>\n",
       "      <th>daily_upper</th>\n",
       "      <th>multiplicative_terms</th>\n",
       "      <th>...</th>\n",
       "      <th>weekly</th>\n",
       "      <th>weekly_lower</th>\n",
       "      <th>weekly_upper</th>\n",
       "      <th>yearly</th>\n",
       "      <th>yearly_lower</th>\n",
       "      <th>yearly_upper</th>\n",
       "      <th>additive_terms</th>\n",
       "      <th>additive_terms_lower</th>\n",
       "      <th>additive_terms_upper</th>\n",
       "      <th>yhat</th>\n",
       "    </tr>\n",
       "  </thead>\n",
       "  <tbody>\n",
       "    <tr>\n",
       "      <th>365</th>\n",
       "      <td>2018-08-27</td>\n",
       "      <td>702.522189</td>\n",
       "      <td>6199.856763</td>\n",
       "      <td>7596.013249</td>\n",
       "      <td>702.522189</td>\n",
       "      <td>702.522189</td>\n",
       "      <td>10.780826</td>\n",
       "      <td>10.780826</td>\n",
       "      <td>10.780826</td>\n",
       "      <td>8.832530</td>\n",
       "      <td>...</td>\n",
       "      <td>-0.007824</td>\n",
       "      <td>-0.007824</td>\n",
       "      <td>-0.007824</td>\n",
       "      <td>-1.940472</td>\n",
       "      <td>-1.940472</td>\n",
       "      <td>-1.940472</td>\n",
       "      <td>0.0</td>\n",
       "      <td>0.0</td>\n",
       "      <td>0.0</td>\n",
       "      <td>6907.570681</td>\n",
       "    </tr>\n",
       "    <tr>\n",
       "      <th>366</th>\n",
       "      <td>2018-08-28</td>\n",
       "      <td>707.216431</td>\n",
       "      <td>6309.231820</td>\n",
       "      <td>7654.583723</td>\n",
       "      <td>707.216431</td>\n",
       "      <td>707.216431</td>\n",
       "      <td>10.780826</td>\n",
       "      <td>10.780826</td>\n",
       "      <td>10.780826</td>\n",
       "      <td>8.885989</td>\n",
       "      <td>...</td>\n",
       "      <td>0.022584</td>\n",
       "      <td>0.022584</td>\n",
       "      <td>0.022584</td>\n",
       "      <td>-1.917422</td>\n",
       "      <td>-1.917422</td>\n",
       "      <td>-1.917422</td>\n",
       "      <td>0.0</td>\n",
       "      <td>0.0</td>\n",
       "      <td>0.0</td>\n",
       "      <td>6991.533665</td>\n",
       "    </tr>\n",
       "    <tr>\n",
       "      <th>367</th>\n",
       "      <td>2018-08-29</td>\n",
       "      <td>711.910674</td>\n",
       "      <td>6289.206051</td>\n",
       "      <td>7697.763675</td>\n",
       "      <td>711.910674</td>\n",
       "      <td>712.075053</td>\n",
       "      <td>10.780826</td>\n",
       "      <td>10.780826</td>\n",
       "      <td>10.780826</td>\n",
       "      <td>8.805880</td>\n",
       "      <td>...</td>\n",
       "      <td>-0.063150</td>\n",
       "      <td>-0.063150</td>\n",
       "      <td>-0.063150</td>\n",
       "      <td>-1.911796</td>\n",
       "      <td>-1.911796</td>\n",
       "      <td>-1.911796</td>\n",
       "      <td>0.0</td>\n",
       "      <td>0.0</td>\n",
       "      <td>0.0</td>\n",
       "      <td>6980.910679</td>\n",
       "    </tr>\n",
       "    <tr>\n",
       "      <th>368</th>\n",
       "      <td>2018-08-30</td>\n",
       "      <td>716.604916</td>\n",
       "      <td>6342.750628</td>\n",
       "      <td>7757.379848</td>\n",
       "      <td>716.452344</td>\n",
       "      <td>723.795017</td>\n",
       "      <td>10.780826</td>\n",
       "      <td>10.780826</td>\n",
       "      <td>10.780826</td>\n",
       "      <td>8.817042</td>\n",
       "      <td>...</td>\n",
       "      <td>-0.037673</td>\n",
       "      <td>-0.037673</td>\n",
       "      <td>-0.037673</td>\n",
       "      <td>-1.926111</td>\n",
       "      <td>-1.926111</td>\n",
       "      <td>-1.926111</td>\n",
       "      <td>0.0</td>\n",
       "      <td>0.0</td>\n",
       "      <td>0.0</td>\n",
       "      <td>7034.940871</td>\n",
       "    </tr>\n",
       "    <tr>\n",
       "      <th>369</th>\n",
       "      <td>2018-08-31</td>\n",
       "      <td>721.299158</td>\n",
       "      <td>6327.109781</td>\n",
       "      <td>7835.805027</td>\n",
       "      <td>714.047126</td>\n",
       "      <td>739.639279</td>\n",
       "      <td>10.780826</td>\n",
       "      <td>10.780826</td>\n",
       "      <td>10.780826</td>\n",
       "      <td>8.859597</td>\n",
       "      <td>...</td>\n",
       "      <td>0.041000</td>\n",
       "      <td>0.041000</td>\n",
       "      <td>0.041000</td>\n",
       "      <td>-1.962229</td>\n",
       "      <td>-1.962229</td>\n",
       "      <td>-1.962229</td>\n",
       "      <td>0.0</td>\n",
       "      <td>0.0</td>\n",
       "      <td>0.0</td>\n",
       "      <td>7111.719117</td>\n",
       "    </tr>\n",
       "  </tbody>\n",
       "</table>\n",
       "<p>5 rows × 22 columns</p>\n",
       "</div>"
      ],
      "text/plain": [
       "            ds       trend   yhat_lower   yhat_upper  trend_lower  \\\n",
       "365 2018-08-27  702.522189  6199.856763  7596.013249   702.522189   \n",
       "366 2018-08-28  707.216431  6309.231820  7654.583723   707.216431   \n",
       "367 2018-08-29  711.910674  6289.206051  7697.763675   711.910674   \n",
       "368 2018-08-30  716.604916  6342.750628  7757.379848   716.452344   \n",
       "369 2018-08-31  721.299158  6327.109781  7835.805027   714.047126   \n",
       "\n",
       "     trend_upper      daily  daily_lower  daily_upper  multiplicative_terms  \\\n",
       "365   702.522189  10.780826    10.780826    10.780826              8.832530   \n",
       "366   707.216431  10.780826    10.780826    10.780826              8.885989   \n",
       "367   712.075053  10.780826    10.780826    10.780826              8.805880   \n",
       "368   723.795017  10.780826    10.780826    10.780826              8.817042   \n",
       "369   739.639279  10.780826    10.780826    10.780826              8.859597   \n",
       "\n",
       "        ...         weekly  weekly_lower  weekly_upper    yearly  \\\n",
       "365     ...      -0.007824     -0.007824     -0.007824 -1.940472   \n",
       "366     ...       0.022584      0.022584      0.022584 -1.917422   \n",
       "367     ...      -0.063150     -0.063150     -0.063150 -1.911796   \n",
       "368     ...      -0.037673     -0.037673     -0.037673 -1.926111   \n",
       "369     ...       0.041000      0.041000      0.041000 -1.962229   \n",
       "\n",
       "     yearly_lower  yearly_upper  additive_terms  additive_terms_lower  \\\n",
       "365     -1.940472     -1.940472             0.0                   0.0   \n",
       "366     -1.917422     -1.917422             0.0                   0.0   \n",
       "367     -1.911796     -1.911796             0.0                   0.0   \n",
       "368     -1.926111     -1.926111             0.0                   0.0   \n",
       "369     -1.962229     -1.962229             0.0                   0.0   \n",
       "\n",
       "     additive_terms_upper         yhat  \n",
       "365                   0.0  6907.570681  \n",
       "366                   0.0  6991.533665  \n",
       "367                   0.0  6980.910679  \n",
       "368                   0.0  7034.940871  \n",
       "369                   0.0  7111.719117  \n",
       "\n",
       "[5 rows x 22 columns]"
      ]
     },
     "execution_count": 87,
     "metadata": {},
     "output_type": "execute_result"
    }
   ],
   "source": [
    "forecast_data.tail(5)"
   ]
  },
  {
   "cell_type": "code",
   "execution_count": 81,
   "metadata": {},
   "outputs": [],
   "source": [
    "url = 'https://raw.githubusercontent.com/yoonkt200/python-data-analysis/master/data/market-price-test.csv'\n",
    "bitcoin_test_df = pd.read_csv(url, names = ['ds', 'y'])"
   ]
  },
  {
   "cell_type": "code",
   "execution_count": 93,
   "metadata": {},
   "outputs": [],
   "source": [
    "his = ['2018-08-27 00:00:00', '2018-08-28 00:00:00', '2018-08-29 00:00:00', \n",
    "       '2018-08-30 00:00:00', '2018-08-31 00:00:00']\n",
    "bitcoin_test_df = bitcoin_test_df[bitcoin_test_df['ds'].isin(his)]"
   ]
  },
  {
   "cell_type": "code",
   "execution_count": 102,
   "metadata": {},
   "outputs": [],
   "source": [
    "bitcoin_test_df.to_csv(\"market-price-test.csv\", index=False, header=False)"
   ]
  },
  {
   "cell_type": "code",
   "execution_count": null,
   "metadata": {},
   "outputs": [],
   "source": []
  }
 ],
 "metadata": {
  "kernelspec": {
   "display_name": "Python 3",
   "language": "python",
   "name": "python3"
  },
  "language_info": {
   "codemirror_mode": {
    "name": "ipython",
    "version": 3
   },
   "file_extension": ".py",
   "mimetype": "text/x-python",
   "name": "python",
   "nbconvert_exporter": "python",
   "pygments_lexer": "ipython3",
   "version": "3.6.6"
  }
 },
 "nbformat": 4,
 "nbformat_minor": 2
}
