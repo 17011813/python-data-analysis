{
 "cells": [
  {
   "cell_type": "markdown",
   "metadata": {},
   "source": [
    "Copyright (c) 2019 [윤기태]\n",
    "\n",
    "https://github.com/yoonkt200/python-data-analysis\n",
    "\n",
    "[MIT License](https://github.com/yoonkt200/python-data-analysis/blob/master/LICENSE.txt)"
   ]
  },
  {
   "cell_type": "markdown",
   "metadata": {},
   "source": [
    "# (가제) 파이썬 데이터 분석"
   ]
  },
  {
   "cell_type": "markdown",
   "metadata": {},
   "source": [
    "-----"
   ]
  },
  {
   "cell_type": "markdown",
   "metadata": {},
   "source": [
    "# 2.2 비트코인 시세 예측하기"
   ]
  },
  {
   "cell_type": "markdown",
   "metadata": {},
   "source": [
    "### 바로가기"
   ]
  },
  {
   "cell_type": "markdown",
   "metadata": {},
   "source": [
    "- [1. 시간정보가 포함된 데이터 살펴보기](#1.-시간정보가-포함된-데이터-살펴보기)\n",
    "    - [market price 데이터셋의 기본 정보]\n",
    "- [2. 파이썬 라이브러리를 활용한 시세 예측](#2.-파이썬-라이브러리를-활용한-시세-예측)\n",
    "    - [Facebook Prophet 활용하기]\n",
    "    - [ARIMA 모델 활용하기]\n",
    "- [3. 분석 결과의 시각화](#3.-분석-결과의-시각화)\n",
    "    - [시세 예측의 시각화]\n",
    "- [4. 심화 부록](#4.-심화-부록)\n",
    "    - [LSTM 모델을 활용한 시계열 예측]\n",
    "    - [예측 모델을 평가해보자]\n",
    "- [재미로 알아보는 내일의 비트코인 시세](#재미로-알아보는-내일의-비트코인-시세)\n",
    "- [부록 : 선배의 Summary](#부록-:-선배의-Summary)"
   ]
  },
  {
   "cell_type": "markdown",
   "metadata": {},
   "source": [
    "-----"
   ]
  },
  {
   "cell_type": "code",
   "execution_count": 1,
   "metadata": {},
   "outputs": [],
   "source": [
    "# -*- coding: utf-8 -*-\n",
    "\n",
    "%matplotlib inline\n",
    "\n",
    "import pandas as pd\n",
    "import numpy as np\n",
    "import matplotlib.pyplot as plt"
   ]
  },
  {
   "cell_type": "markdown",
   "metadata": {},
   "source": [
    "# 1. 시간정보가 포함된 데이터 살펴보기"
   ]
  },
  {
   "cell_type": "markdown",
   "metadata": {},
   "source": [
    "### [market price 데이터셋의 기본 정보]"
   ]
  },
  {
   "cell_type": "code",
   "execution_count": 2,
   "metadata": {},
   "outputs": [],
   "source": [
    "# Data Source : https://www.blockchain.com/ko/charts/market-price?timespan=60days\n",
    "\n",
    "# url = 'https://raw.githubusercontent.com/yoonkt200/python-data-analysis/master/data/BostonHousing2.csv'\n",
    "# bitcoin_df = pd.read_csv(url)"
   ]
  },
  {
   "cell_type": "code",
   "execution_count": null,
   "metadata": {},
   "outputs": [],
   "source": []
  }
 ],
 "metadata": {
  "kernelspec": {
   "display_name": "Python 3",
   "language": "python",
   "name": "python3"
  },
  "language_info": {
   "codemirror_mode": {
    "name": "ipython",
    "version": 3
   },
   "file_extension": ".py",
   "mimetype": "text/x-python",
   "name": "python",
   "nbconvert_exporter": "python",
   "pygments_lexer": "ipython3",
   "version": "3.6.6"
  }
 },
 "nbformat": 4,
 "nbformat_minor": 2
}
