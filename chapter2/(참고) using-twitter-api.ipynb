{
 "cells": [
  {
   "cell_type": "markdown",
   "metadata": {},
   "source": [
    "Copyright (c) 2019 [윤기태]\n",
    "\n",
    "https://github.com/yoonkt200/python-data-analysis\n",
    "\n",
    "[MIT License](https://github.com/yoonkt200/python-data-analysis/blob/master/LICENSE.txt)"
   ]
  },
  {
   "cell_type": "markdown",
   "metadata": {},
   "source": [
    "# (가제) 파이썬 데이터 분석"
   ]
  },
  {
   "cell_type": "markdown",
   "metadata": {},
   "source": [
    "-----"
   ]
  },
  {
   "cell_type": "markdown",
   "metadata": {},
   "source": [
    "# 트위터 API 사용법"
   ]
  },
  {
   "cell_type": "markdown",
   "metadata": {},
   "source": [
    "### 1. 트위터 개발자 계정 신청"
   ]
  },
  {
   "cell_type": "markdown",
   "metadata": {},
   "source": [
    "- 트위터 개발자 앱 등록 페이지 : https://developer.twitter.com/en/apps\n",
    "    - `개발자 계정이 없는 경우, 아래와 같은 과정을 거쳐 개발자 계정을 등록`"
   ]
  },
  {
   "cell_type": "markdown",
   "metadata": {},
   "source": [
    "![앱 생성 페이지](img/1.png)"
   ]
  },
  {
   "cell_type": "markdown",
   "metadata": {},
   "source": [
    "![앱 생성 페이지](img/2.png)"
   ]
  },
  {
   "cell_type": "markdown",
   "metadata": {},
   "source": [
    "![앱 생성 페이지](img/3.png)"
   ]
  },
  {
   "cell_type": "markdown",
   "metadata": {},
   "source": [
    "![앱 생성 페이지](img/4.png)"
   ]
  },
  {
   "cell_type": "markdown",
   "metadata": {},
   "source": [
    "![앱 생성 페이지](img/5.png)"
   ]
  },
  {
   "cell_type": "markdown",
   "metadata": {},
   "source": [
    "- 개발자 등록을 마친 계정은 며칠 후에 승인을 받게 됩니다."
   ]
  },
  {
   "cell_type": "markdown",
   "metadata": {},
   "source": [
    "-----"
   ]
  },
  {
   "cell_type": "markdown",
   "metadata": {},
   "source": [
    "### 2. 트위터 apps 등록"
   ]
  },
  {
   "cell_type": "markdown",
   "metadata": {},
   "source": [
    "- `개발자 앱 등록`"
   ]
  },
  {
   "cell_type": "markdown",
   "metadata": {},
   "source": [
    "![앱 생성 페이지](img/1.png)"
   ]
  },
  {
   "cell_type": "markdown",
   "metadata": {},
   "source": [
    "-----\n",
    "- `아래의 내용을 기입하여 앱을 생성`\n",
    "    - Name : 앱의 이름\n",
    "    - Description : 앱의 요약\n",
    "    - Website : 앱에서 보여질 URL (아무 주소나 넣어도 상관 X)\n",
    "    - ..."
   ]
  },
  {
   "cell_type": "markdown",
   "metadata": {},
   "source": [
    "![앱 생성 페이지](img/6.png)"
   ]
  },
  {
   "cell_type": "markdown",
   "metadata": {},
   "source": [
    "![앱 생성 페이지](img/7.png)"
   ]
  },
  {
   "cell_type": "markdown",
   "metadata": {},
   "source": [
    "-----\n",
    "- `앱 생성 후, 아래의 중요 정보를 반드시 확인`\n",
    "    - Consumer Key (API Key)\n",
    "    - Consumer Secret (API Secret)\n",
    "    - Access Token\n",
    "    - Access Token Secret"
   ]
  },
  {
   "cell_type": "markdown",
   "metadata": {},
   "source": [
    "![앱 생성 페이지](img/8.png)"
   ]
  },
  {
   "cell_type": "markdown",
   "metadata": {},
   "source": [
    "-----"
   ]
  },
  {
   "cell_type": "markdown",
   "metadata": {},
   "source": [
    "### 3. 파이썬 API 설정"
   ]
  },
  {
   "cell_type": "markdown",
   "metadata": {},
   "source": [
    "- 1. `(env_name) pip install tweepy` 를 실행하여 트위터 패키지 설치"
   ]
  },
  {
   "cell_type": "code",
   "execution_count": 2,
   "metadata": {},
   "outputs": [],
   "source": [
    "# 패키지 설치 확인\n",
    "import tweepy"
   ]
  },
  {
   "cell_type": "markdown",
   "metadata": {},
   "source": [
    "-----"
   ]
  },
  {
   "cell_type": "markdown",
   "metadata": {},
   "source": [
    "- 2. 아래의 코드를 실행하여 API 토큰 인증"
   ]
  },
  {
   "cell_type": "code",
   "execution_count": 3,
   "metadata": {},
   "outputs": [],
   "source": [
    "import tweepy\n",
    "\n",
    "CONSUMER_KEY = \"{your_key}\"\n",
    "CONSUMER_SECRET = \"{your_key}\"\n",
    "ACCESS_TOKEN_KEY = \"{your_key}\"\n",
    "ACCESS_TOKEN_SECRET = \"{your_key}\"\n",
    "\n",
    "# 개인정보 인증 요청 Handler\n",
    "auth = tweepy.OAuthHandler(CONSUMER_KEY, CONSUMER_SECRET)\n",
    "\n",
    "# 인증 요청\n",
    "auth.set_access_token(ACCESS_TOKEN_KEY, ACCESS_TOKEN_SECRET)\n",
    "\n",
    "# twitter API 가져오기\n",
    "api = tweepy.API(auth)"
   ]
  },
  {
   "cell_type": "code",
   "execution_count": 22,
   "metadata": {
    "scrolled": true
   },
   "outputs": [
    {
     "name": "stdout",
     "output_type": "stream",
     "text": [
      "[{'screen_name': 'PerSON7a', 'name': 'PerSON7a', 'id': 1040939248289894401, 'id_str': '1040939248289894401', 'indices': [3, 12]}]\n",
      "[]\n",
      "RT @PerSON7a: [PL]손흥민 ＂시소코도 잘하려고 했을텐데, 마지막 실점 허무해＂(스포츠타임 현장) (출처 : SPOTV NEWS(스포티비 뉴스) | 네이버TV) https://t.co/8HPmV8Oyex https://t.co/KC7fp6…\n",
      "[{'screen_name': 'SON78PAY019', 'name': '울흥도[🇰🇷]', 'id': 1014821550472564736, 'id_str': '1014821550472564736', 'indices': [3, 15]}]\n",
      "[]\n",
      "RT @SON78PAY019: 손흥민이 이쁘지~ 깐 밤같애~\n",
      "\n",
      "ㅋㅋㅋㅋㅋㅋㅋㅋㅋㅋㅋㅋㅋㅋㅋㅋㅋㅋㅋㅋㅋㅋㅋㅋㅋㅋㅋㅋ뭐 말씀하시는지 알 거 같다 ㅋㅋㅋㅋㅋㅋ깐밤ㅋㅋㅋㅋㅋㅋㄹㄴㄴㅋㅋㅋㅋㅋㅋㅋㅋㅋㅋㅋㅋㅋ https://t.co/lbz5pWoTNJ\n",
      "[{'screen_name': 'PerSON7a', 'name': 'PerSON7a', 'id': 1040939248289894401, 'id_str': '1040939248289894401', 'indices': [3, 12]}]\n",
      "[]\n",
      "RT @PerSON7a: [TS트릴리온] 월드 클래스🏆 손흥민도 반했다!!(20초 ver.) https://t.co/KmaBeJqLmR https://t.co/VfFzgPk5Di\n",
      "[{'screen_name': 'PerSON7a', 'name': 'PerSON7a', 'id': 1040939248289894401, 'id_str': '1040939248289894401', 'indices': [3, 12]}]\n",
      "[]\n",
      "RT @PerSON7a: TS트릴리온, 축구국가대표 손흥민 선수 TS샴푸 모델로 기용 (출처 : 한국경제 | 네이버 뉴스) https://t.co/PF5pDfNbTP https://t.co/y7KnsV2e7J\n",
      "[{'screen_name': 'w25dv05JfBEI6mo', 'name': '🥇7SHINING LIGHT🐯✨', 'id': 1031691566539137024, 'id_str': '1031691566539137024', 'indices': [3, 19]}]\n",
      "[]\n",
      "RT @w25dv05JfBEI6mo: 오늘의 손흥민은 시무룩 https://t.co/UIvgjnJz60\n",
      "[{'screen_name': 'PerSON7a', 'name': 'PerSON7a', 'id': 1040939248289894401, 'id_str': '1040939248289894401', 'indices': [3, 12]}]\n",
      "[]\n",
      "RT @PerSON7a: 축구선수 손흥민 선수가 TS샴푸와 함께 합니다. https://t.co/oTqkg2yEWR\n",
      "[{'screen_name': 'PerSON7a', 'name': 'PerSON7a', 'id': 1040939248289894401, 'id_str': '1040939248289894401', 'indices': [3, 12]}]\n",
      "[]\n",
      "RT @PerSON7a: [현장인터뷰]손흥민 ＂시소코에게 격려했다＂ (출처 : 스포츠조선 | 네이버 스포츠) https://t.co/YuoKwpdkkl https://t.co/1n532534x7\n",
      "[{'screen_name': 'PerSON7a', 'name': 'PerSON7a', 'id': 1040939248289894401, 'id_str': '1040939248289894401', 'indices': [3, 12]}]\n",
      "[]\n",
      "RT @PerSON7a: TS트릴리온, 축구국가대표 손흥민 선수 TS샴푸 모델로 기용 (출처 : 한국경제 | 네이버 뉴스) https://t.co/PF5pDfNbTP https://t.co/y7KnsV2e7J\n",
      "[{'screen_name': 'shm_sonny', 'name': 'sonny day', 'id': 1031019666532065280, 'id_str': '1031019666532065280', 'indices': [3, 13]}]\n",
      "[{'text': '손흥민', 'indices': [15, 19]}]\n",
      "RT @shm_sonny: #손흥민\n",
      "https://t.co/jFvuOQrCU4 https://t.co/f6xNJ466lO\n",
      "[{'screen_name': 'adorable7hm', 'name': '어쏜 🍑', 'id': 978208584327561216, 'id_str': '978208584327561216', 'indices': [3, 15]}]\n",
      "[]\n",
      "RT @adorable7hm: 미친 나도봣다ㅏ샴푸손흥민 웃는거존나예뻐진짜 ㅠㅠㅠㅠㅠㅠㅠㅠㅠㅠ https://t.co/Sqrs0KhR4X\n",
      "[{'screen_name': 'shm_sonny', 'name': 'sonny day', 'id': 1031019666532065280, 'id_str': '1031019666532065280', 'indices': [3, 13]}]\n",
      "[{'text': '손흥민', 'indices': [15, 19]}]\n",
      "RT @shm_sonny: #손흥민\n",
      "https://t.co/jFvuOQrCU4 https://t.co/f6xNJ466lO\n",
      "[{'screen_name': 'haribo_korea', 'name': 'HARIBO KOREA', 'id': 1032923568256966657, 'id_str': '1032923568256966657', 'indices': [3, 16]}]\n",
      "[{'text': '손흥민', 'indices': [71, 75]}]\n",
      "RT @haribo_korea: 만우절이라고 일일 서프라이즈하지말고 얼른 더 긴거 풀어주세요 꼭꼭 감아라 이것도 해줘 (욕심) #손흥민 https://t.co/XcJjfYURuV\n",
      "[{'screen_name': 'PerSON7a', 'name': 'PerSON7a', 'id': 1040939248289894401, 'id_str': '1040939248289894401', 'indices': [3, 12]}]\n",
      "[]\n",
      "RT @PerSON7a: TS트릴리온, 축구국가대표 손흥민 선수 TS샴푸 모델로 기용 (출처 : 한국경제 | 네이버 뉴스) https://t.co/PF5pDfNbTP https://t.co/y7KnsV2e7J\n",
      "[]\n",
      "[{'text': '손흥민', 'indices': [0, 4]}, {'text': '하리보', 'indices': [100, 104]}, {'text': 'Haribo', 'indices': [105, 112]}]\n",
      "#손흥민 선수가 팬이 건넨 바나나도 거절하게 만든 간식은?!!👀\n",
      "\n",
      "영상으로 만나보시죠! (찡긋) (사진 속 손 주목! 스포주의!)\n",
      "▶ https://t.co/2nNKIXJ7pV\n",
      "\n",
      "#하리보 #Haribo… https://t.co/b8RI4krIED\n",
      "[{'screen_name': 'PerSON7a', 'name': 'PerSON7a', 'id': 1040939248289894401, 'id_str': '1040939248289894401', 'indices': [3, 12]}]\n",
      "[]\n",
      "RT @PerSON7a: [PL]손흥민 ＂시소코도 잘하려고 했을텐데, 마지막 실점 허무해＂(스포츠타임 현장) (출처 : SPOTV NEWS(스포티비 뉴스) | 네이버TV) https://t.co/8HPmV8Oyex https://t.co/KC7fp6…\n"
     ]
    }
   ],
   "source": [
    "keyword = \"손흥민\"\n",
    "tweets = api.search(keyword)\n",
    "for tweet in tweets:\n",
    "    print(tweet.entities['user_mentions'])\n",
    "    print(tweet.entities['hashtags'])\n",
    "    print(tweet.text)"
   ]
  },
  {
   "cell_type": "code",
   "execution_count": null,
   "metadata": {},
   "outputs": [],
   "source": []
  }
 ],
 "metadata": {
  "kernelspec": {
   "display_name": "Python 3",
   "language": "python",
   "name": "python3"
  },
  "language_info": {
   "codemirror_mode": {
    "name": "ipython",
    "version": 3
   },
   "file_extension": ".py",
   "mimetype": "text/x-python",
   "name": "python",
   "nbconvert_exporter": "python",
   "pygments_lexer": "ipython3",
   "version": "3.7.2"
  }
 },
 "nbformat": 4,
 "nbformat_minor": 2
}
