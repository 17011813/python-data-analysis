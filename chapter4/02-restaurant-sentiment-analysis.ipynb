{
 "cells": [
  {
   "cell_type": "markdown",
   "metadata": {},
   "source": [
    "Copyright (c) 2019 [윤기태]\n",
    "\n",
    "https://github.com/yoonkt200/python-data-analysis\n",
    "\n",
    "[MIT License](https://github.com/yoonkt200/python-data-analysis/blob/master/LICENSE.txt)"
   ]
  },
  {
   "cell_type": "markdown",
   "metadata": {},
   "source": [
    "# (가제) 파이썬 데이터 분석"
   ]
  },
  {
   "cell_type": "markdown",
   "metadata": {},
   "source": [
    "-----"
   ]
  },
  {
   "cell_type": "markdown",
   "metadata": {},
   "source": [
    "# 4.2) 강남역 맛집 리뷰로 알아보는 감성분석 "
   ]
  },
  {
   "cell_type": "markdown",
   "metadata": {},
   "source": [
    "### 바로가기"
   ]
  },
  {
   "cell_type": "markdown",
   "metadata": {},
   "source": [
    "- [<Step1. 크롤링> : 네이버 플레이스 리뷰 크롤링](#<Step1.-크롤링>-:-네이버-플레이스-리뷰-크롤링)\n",
    "    - [네이버 플레이스 API]\n",
    "    - [맛집 리뷰 정보 크롤링]\n",
    "- [<Step2. 전처리> : TF-IDF를 이용한 핵심어 추출](#<Step2.-전처리>-:-TF\\-IDF를-이용한-핵심어-추출)\n",
    "    - [형태소 추출하기]\n",
    "    - [TF-IDF 추출하기]\n",
    "- [<Step3. 분류> : 긍정 부정 리뷰 분류하기](#<Step3.-분류>-:-긍정-부정-리뷰-분류하기)\n",
    "    - [분류 모델링]\n",
    "    - [분류 모델 개선]\n",
    "- [<Step4. 분석> : 중요 키워드 분석](#<Step4.-분석>-:-중요-키워드-분석)\n",
    "    - [회귀 모델의 변수중요도 추출]\n",
    "    - [중요 변수의 형태소]"
   ]
  },
  {
   "cell_type": "markdown",
   "metadata": {},
   "source": [
    "-----"
   ]
  },
  {
   "cell_type": "code",
   "execution_count": 1,
   "metadata": {},
   "outputs": [],
   "source": [
    "# -*- coding: utf-8 -*-\n",
    "\n",
    "%matplotlib inline\n",
    "\n",
    "import pandas as pd\n",
    "import numpy as np\n",
    "import matplotlib.pyplot as plt\n",
    "import seaborn as sns\n",
    "\n",
    "import warnings\n",
    "warnings.filterwarnings(\"ignore\")"
   ]
  },
  {
   "cell_type": "markdown",
   "metadata": {},
   "source": [
    "# <Step1. 크롤링> : 네이버 플레이스 리뷰 크롤링"
   ]
  },
  {
   "cell_type": "markdown",
   "metadata": {},
   "source": [
    "### [네이버 플레이스 API]"
   ]
  },
  {
   "cell_type": "markdown",
   "metadata": {},
   "source": [
    "![앱 생성 페이지](img/1.png)"
   ]
  },
  {
   "cell_type": "markdown",
   "metadata": {},
   "source": [
    "-----"
   ]
  },
  {
   "cell_type": "code",
   "execution_count": 2,
   "metadata": {
    "scrolled": true
   },
   "outputs": [
    {
     "name": "stdout",
     "output_type": "stream",
     "text": [
      "{'query': {'select': '1', 'item': [{'rank': '1', 'region_keyword': '강남역', 'region_type': 'favor', 'region_info': {'name': '강남역 2호선', 'fkey': '2', 'x': '1270276241', 'y': '374979526', 'spot_id': '13479290', 'bmap': '0', 'coordinates': {'coordinate': [{'x': '127.0272121', 'y': '37.4926153'}, {'x': '127.0228532', 'y': '37.5020801'}, {'x': '127.0292005', 'y': '37.5038361'}, {'x': '127.0334889', 'y': '37.4946773'}, {'x': '127.0272796', 'y': '37.4926696'}]}}, 'biz_type': 'category', 'biz': '고기집', 'coordinate_mode': '0'}, {'rank': '2', 'region_keyword': '', 'region_type': 'none', 'region_info': '', 'biz_type': 'unknown', 'biz': '강남역 고기집', 'coordinate_mode': '0'}], 'type': 'local', 'petrol': '0', 'global_menu': '0'}, 'total': 914, 'items': [{'id': '11609540', 'name': '봉우화로', 'businessCategory': 'restaurant', 'dbType': 'drt', 'category': '육류,고기요리', 'desc': '', 'hasBooking': True, 'hasNPay': False, 'x': '127.0273323', 'y': '37.5017679', 'distance': '8410.31', 'imageSrc': 'http://ldb.phinf.naver.net/20150831_157/1441004365658ntrmq_JPEG/SUBMIT_1414717931230_11609540.jpg', 'imageCount': 26, 'phone': '02-558-8452', 'routeUrl': 'http://m.map.naver.com/viewer/route.nhn?ename=%EB%B4%89%EC%9A%B0%ED%99%94%EB%A1%9C&ex=127.0273323&ey=37.5017679&edid=11609540', 'streetViewUrl': 'http://m.map.naver.com/viewer/panorama.nhn?street=on&pinType=site&pinId=11609540', 'street_panorama': '6XuI/233ynYem6VfsLP9mw==,94.66,10.00,127.0272883,37.5018101,120', 'microReview': '우삼겹과 가위냉면 있는 강남역 고기 맛집', 'roadAddr': '서울 강남구 봉은사로18길 76 스타 팰리스', 'commonAddr': '서울 강남구', 'addr': '역삼동 619-14', 'broadcastInfo': {'program': '2TV저녁생생정보'}, 'blogCafeReviewCount': '1,076', 'bookingReviewCount': '97', 'totalReviewCount': '1,173', 'naverBookingUrl': 'http://booking.naver.com/booking/6/bizes/93194/search', 'bookingBusinessId': '93194', 'moreBookingReviewsPath': '/restaurants/bookingReviews?bookingBusinessId=93194&name=%EB%B4%89%EC%9A%B0%ED%99%94%EB%A1%9C&category=restaurant', 'moreUGCReviewsPath': '/restaurants/fsasReviews?id=11609540&name=%EB%B4%89%EC%9A%B0%ED%99%94%EB%A1%9C&category=restaurant', 'moreFsasReviewsPath': '/restaurants/fsasReviews?id=11609540&name=%EB%B4%89%EC%9A%B0%ED%99%94%EB%A1%9C&category=restaurant', 'tags': ['회냉면', '삼겹살', '비빔밥', '고급스러운', '데이트'], 'options': '예약,단체석,남/녀 화장실 구분,무선 인터넷,포장', 'priceCategory': '2만원 대'}, {'id': '36952307', 'name': '창고43 강남점', 'businessCategory': 'restaurant', 'dbType': 'drt', 'category': '소고기구이', 'desc': '', 'hasBooking': True, 'hasNPay': False, 'x': '127.0292842', 'y': '37.4953361', 'distance': '9115.71', 'imageSrc': 'http://ldb.phinf.naver.net/20170830_29/15040887501966qzTB_JPEG/EqnQorzuEu5u6FiSsmuVE1s8.jpg', 'imageCount': 8, 'phone': '02-508-0043', 'routeUrl': 'http://m.map.naver.com/viewer/route.nhn?ename=%EC%B0%BD%EA%B3%A043%20%EA%B0%95%EB%82%A8%EC%A0%90&ex=127.0292842&ey=37.4953361&edid=36952307', 'streetViewUrl': 'http://m.map.naver.com/viewer/panorama.nhn?street=on&pinType=site&pinId=36952307', 'street_panorama': 'cwASAcR0z8I3p6gadln0bw==,73.78,10.00,127.0290795,37.4952764,120', 'microReview': '강남역 창고43 엄청난 규모 프라이빗한 칸막이 소고기집', 'roadAddr': '서울 강남구 강남대로 362 대륭강남타워 지하1층', 'commonAddr': '서울 강남구', 'addr': '역삼동 826-20', 'blogCafeReviewCount': '321', 'bookingReviewCount': '587', 'totalReviewCount': '908', 'naverBookingUrl': 'http://booking.naver.com/booking/6/bizes/57433/search', 'bookingBusinessId': '57433', 'moreBookingReviewsPath': '/restaurants/bookingReviews?bookingBusinessId=57433&name=%EC%B0%BD%EA%B3%A043%20%EA%B0%95%EB%82%A8%EC%A0%90&category=restaurant', 'moreUGCReviewsPath': '/restaurants/fsasReviews?id=36952307&name=%EC%B0%BD%EA%B3%A043%20%EA%B0%95%EB%82%A8%EC%A0%90&category=restaurant', 'moreFsasReviewsPath': '/restaurants/fsasReviews?id=36952307&name=%EC%B0%BD%EA%B3%A043%20%EA%B0%95%EB%82%A8%EC%A0%90&category=restaurant', 'tags': ['한우', '갈비탕', '냉면', '고급스러운', '연말모임'], 'options': '단체석,주차,남/녀 화장실 구분,장애인 편의시설'}, {'id': '35156836', 'name': '홍대칼국수와족발 강남점', 'businessCategory': 'restaurant', 'dbType': 'drt', 'category': '족발,보쌈', 'desc': '칼국수, 족발 전문점.', 'promotionTitle': '네이버 예약 하시면 야채주먹밥(3,000원)을 서비스로 드립니다.', 'hasBooking': True, 'hasNPay': False, 'x': '127.0282735', 'y': '37.5005423', 'distance': '8570.02', 'imageSrc': 'http://ldb.phinf.naver.net/20161103_182/1478162046778U6SAy_JPEG/177053576426621_0.jpeg', 'imageCount': 48, 'phone': '02-557-5785', 'routeUrl': 'http://m.map.naver.com/viewer/route.nhn?ename=%ED%99%8D%EB%8C%80%EC%B9%BC%EA%B5%AD%EC%88%98%EC%99%80%EC%A1%B1%EB%B0%9C%20%EA%B0%95%EB%82%A8%EC%A0%90&ex=127.0282735&ey=37.5005423&edid=35156836', 'streetViewUrl': 'http://m.map.naver.com/viewer/panorama.nhn?street=on&pinType=site&pinId=35156836', 'street_panorama': 'vkTWMjL5B3dkQJXa2TYm2A==,-36.47,10.00,127.0283685,37.5004584,120', 'microReview': '강남역 족발과 칼국수가 맛있는 집 홍대칼국수와 족발', 'roadAddr': '서울 강남구 테헤란로1길 28-11', 'commonAddr': '서울 강남구', 'addr': '역삼동 817-29', 'blogCafeReviewCount': '613', 'bookingReviewCount': '12', 'totalReviewCount': '625', 'naverBookingUrl': 'https://booking.naver.com/booking/6/bizes/143303/search', 'bookingBusinessId': '143303', 'talktalkUrl': 'http://talk.naver.com/wcdk50?frm=mnmb', 'moreBookingReviewsPath': '/restaurants/bookingReviews?bookingBusinessId=143303&name=%ED%99%8D%EB%8C%80%EC%B9%BC%EA%B5%AD%EC%88%98%EC%99%80%EC%A1%B1%EB%B0%9C%20%EA%B0%95%EB%82%A8%EC%A0%90&category=restaurant', 'moreUGCReviewsPath': '/restaurants/fsasReviews?id=35156836&name=%ED%99%8D%EB%8C%80%EC%B9%BC%EA%B5%AD%EC%88%98%EC%99%80%EC%A1%B1%EB%B0%9C%20%EA%B0%95%EB%82%A8%EC%A0%90&category=restaurant', 'moreFsasReviewsPath': '/restaurants/fsasReviews?id=35156836&name=%ED%99%8D%EB%8C%80%EC%B9%BC%EA%B5%AD%EC%88%98%EC%99%80%EC%A1%B1%EB%B0%9C%20%EA%B0%95%EB%82%A8%EC%A0%90&category=restaurant', 'tags': ['칼국수', '냉채족발', '매운족발', '친절한', '데이트'], 'options': '예약,단체석,주차,무선 인터넷,남/녀 화장실 구분,배달', 'priceCategory': '2만원 대', 'baeminId': '10567588', 'baeminDeliveryDateAndTimes': {'deliveryTime': [{'openAt': '1100', 'closeAt': '2300'}, {'openAt': '1100', 'closeAt': '2600'}, {'openAt': '1100', 'closeAt': '2600'}, {'openAt': '1100', 'closeAt': '2600'}, {'openAt': '1100', 'closeAt': '2600'}, {'openAt': '1100', 'closeAt': '2600'}, {'openAt': '1100', 'closeAt': '2600'}]}, 'yogiyoId': '218178', 'yogiyoDeliveryDateAndTimes': {'actualDeliveryTime': [{'openAt': 0, 'closeAt': 200}, {'openAt': 1100, 'closeAt': 2300}], 'bizHours': [[{'openAt': 1100, 'closeAt': 2359}], [{'openAt': 1100, 'closeAt': 2359}, {'openAt': 0, 'closeAt': 200}], [{'openAt': 1100, 'closeAt': 2359}, {'openAt': 0, 'closeAt': 200}], [{'openAt': 1100, 'closeAt': 2359}, {'openAt': 0, 'closeAt': 200}], [{'openAt': 1100, 'closeAt': 2359}, {'openAt': 0, 'closeAt': 200}], [{'openAt': 1100, 'closeAt': 2359}, {'openAt': 0, 'closeAt': 200}], [{'openAt': 0, 'closeAt': 200}, {'openAt': 1100, 'closeAt': 2300}]]}, 'deliveryArea': '역삼동, 논현동, 반포1동, 서초1.2.4동'}, {'id': '33860503', 'name': '구이혁명가철든놈제2공장', 'businessCategory': 'restaurant', 'dbType': 'drt', 'category': '돼지고기구이', 'desc': '서울특별시 강남구 역삼동 위치, 돼지고기 구이 전문점.', 'hasBooking': True, 'hasNPay': False, 'x': '127.0296519', 'y': '37.4995801', 'distance': '8724.54', 'imageSrc': 'http://ldb.phinf.naver.net/20150901_122/1441071647019cKIBp_JPEG/166761513678302_0.jpg', 'imageCount': 22, 'virtualPhone': '0507-1334-7992', 'phone': '02-6392-7992', 'routeUrl': 'http://m.map.naver.com/viewer/route.nhn?ename=%EA%B5%AC%EC%9D%B4%ED%98%81%EB%AA%85%EA%B0%80%EC%B2%A0%EB%93%A0%EB%86%88%EC%A0%9C2%EA%B3%B5%EC%9E%A5&ex=127.0296519&ey=37.4995801&edid=33860503', 'streetViewUrl': 'http://m.map.naver.com/viewer/panorama.nhn?street=on&pinType=site&pinId=33860503', 'street_panorama': 'Ljcr3hSh26Zy08HIKt90eA==,176.11,10.00,127.0296086,37.4997771,120', 'microReview': '색다른 고기집 구이혁명가 철든놈 맛있는 삼겹살', 'roadAddr': '서울 강남구 강남대로94길 28', 'commonAddr': '서울 강남구', 'addr': '역삼동 649', 'blogCafeReviewCount': '843', 'bookingReviewCount': '177', 'totalReviewCount': '1,020', 'naverBookingUrl': 'https://booking.naver.com/booking/6/bizes/142698/search', 'bookingBusinessId': '142698', 'moreBookingReviewsPath': '/restaurants/bookingReviews?bookingBusinessId=142698&name=%EA%B5%AC%EC%9D%B4%ED%98%81%EB%AA%85%EA%B0%80%EC%B2%A0%EB%93%A0%EB%86%88%EC%A0%9C2%EA%B3%B5%EC%9E%A5&category=restaurant', 'moreUGCReviewsPath': '/restaurants/fsasReviews?id=33860503&name=%EA%B5%AC%EC%9D%B4%ED%98%81%EB%AA%85%EA%B0%80%EC%B2%A0%EB%93%A0%EB%86%88%EC%A0%9C2%EA%B3%B5%EC%9E%A5&category=restaurant', 'moreFsasReviewsPath': '/restaurants/fsasReviews?id=33860503&name=%EA%B5%AC%EC%9D%B4%ED%98%81%EB%AA%85%EA%B0%80%EC%B2%A0%EB%93%A0%EB%86%88%EC%A0%9C2%EA%B3%B5%EC%9E%A5&category=restaurant', 'tags': ['삼겹살', '꼬치구이', '샐러드파스타', '재미있는', '데이트'], 'options': '예약,단체석,무선 인터넷,남/녀 화장실 구분', 'priceCategory': '5만원 대'}, {'id': '37653872', 'name': '강남 돼지상회 무한리필', 'businessCategory': 'restaurant', 'dbType': 'drt', 'category': '돼지고기구이', 'desc': '', 'hasBooking': False, 'hasNPay': False, 'x': '127.0275564', 'y': '37.5007920', 'distance': '8513.76', 'imageSrc': 'http://ldb.phinf.naver.net/20180424_6/1524550649349DgVQy_JPEG/DECq_OY2NjXh4Zw4giHl7dWb.jpg', 'imageCount': 2, 'phone': '02-561-8891', 'routeUrl': 'http://m.map.naver.com/viewer/route.nhn?ename=%EA%B0%95%EB%82%A8%20%EB%8F%BC%EC%A7%80%EC%83%81%ED%9A%8C%20%EB%AC%B4%ED%95%9C%EB%A6%AC%ED%95%84&ex=127.0275564&ey=37.5007920&edid=37653872', 'streetViewUrl': 'http://m.map.naver.com/viewer/panorama.nhn?street=on&pinType=site&pinId=37653872', 'street_panorama': 'M1ZHc57nDWku8+m6X3PE4g==,-24.24,10.00,127.0275564,37.5007030,120', 'microReview': '무한리필 강남돼지상회에서 즐기는 고기', 'roadAddr': '서울 강남구 강남대로98길 11 2층 메트로 빌딩 2층', 'commonAddr': '서울 강남구', 'addr': '역삼동 619-28 2층', 'blogCafeReviewCount': '458', 'bookingReviewCount': '0', 'totalReviewCount': '458', 'moreUGCReviewsPath': '/restaurants/fsasReviews?id=37653872&name=%EA%B0%95%EB%82%A8%20%EB%8F%BC%EC%A7%80%EC%83%81%ED%9A%8C%20%EB%AC%B4%ED%95%9C%EB%A6%AC%ED%95%84&category=restaurant', 'moreFsasReviewsPath': '/restaurants/fsasReviews?id=37653872&name=%EA%B0%95%EB%82%A8%20%EB%8F%BC%EC%A7%80%EC%83%81%ED%9A%8C%20%EB%AC%B4%ED%95%9C%EB%A6%AC%ED%95%84&category=restaurant', 'tags': ['삼겹살', '치킨냉면', '치킨무한리필', '고급스러운', '신선한'], 'options': '단체석,남/녀 화장실 구분,무선 인터넷', 'priceCategory': '2만원 대'}, {'id': '33839465', 'name': '고수닭갈비강남점', 'businessCategory': 'restaurant', 'dbType': 'drt', 'category': '닭갈비', 'desc': '닭갈비, , 철판볶음밥', 'hasBooking': True, 'hasNPay': False, 'x': '127.0290593', 'y': '37.4999471', 'distance': '8662.52', 'imageSrc': 'http://ldb.phinf.naver.net/20150811_50/14392805688229Qmmo_JPEG/33839465_05.jpg', 'imageCount': 15, 'phone': '02-567-9003', 'routeUrl': 'http://m.map.naver.com/viewer/route.nhn?ename=%EA%B3%A0%EC%88%98%EB%8B%AD%EA%B0%88%EB%B9%84%EA%B0%95%EB%82%A8%EC%A0%90&ex=127.0290593&ey=37.4999471&edid=33839465', 'streetViewUrl': 'http://m.map.naver.com/viewer/panorama.nhn?street=on&pinType=site&pinId=33839465', 'street_panorama': 'EUN8bUj9qvTmJiL13zUGaw==,92.06,10.00,127.0289513,37.4999452,120', 'microReview': '강남역맛집 고수닭갈비집에서 먹는 치즈닭갈비', 'roadAddr': '서울 강남구 테헤란로5길 20', 'commonAddr': '서울 강남구', 'addr': '역삼동 635-11', 'blogCafeReviewCount': '680', 'bookingReviewCount': '2', 'totalReviewCount': '682', 'naverBookingUrl': 'https://booking.naver.com/booking/6/bizes/143472/search', 'bookingBusinessId': '143472', 'moreBookingReviewsPath': '/restaurants/bookingReviews?bookingBusinessId=143472&name=%EA%B3%A0%EC%88%98%EB%8B%AD%EA%B0%88%EB%B9%84%EA%B0%95%EB%82%A8%EC%A0%90&category=restaurant', 'moreUGCReviewsPath': '/restaurants/fsasReviews?id=33839465&name=%EA%B3%A0%EC%88%98%EB%8B%AD%EA%B0%88%EB%B9%84%EA%B0%95%EB%82%A8%EC%A0%90&category=restaurant', 'moreFsasReviewsPath': '/restaurants/fsasReviews?id=33839465&name=%EA%B3%A0%EC%88%98%EB%8B%AD%EA%B0%88%EB%B9%84%EA%B0%95%EB%82%A8%EC%A0%90&category=restaurant', 'tags': ['치즈닭갈비', '철판볶음밥', '치즈퐁듀', '화려한', '데이트'], 'priceCategory': '2만원 대'}, {'id': '36237506', 'name': '백억하누 강남본점', 'businessCategory': 'restaurant', 'dbType': 'drt', 'category': '소고기구이', 'desc': '서울특별시 강남구 역삼동 위치, 한우 전문점.', 'promotionTitle': '네이버 6인이상 단체 예약시테이블당 후식된장1개 또는 음료수1개 제공(택) ', 'hasBooking': True, 'hasNPay': False, 'x': '127.0288586', 'y': '37.5005705', 'distance': '8593.98', 'imageSrc': 'http://ldb.phinf.naver.net/20181228_166/154597561904441ytH_JPEG/image.jpg', 'imageCount': 8, 'virtualPhone': '0507-1362-8592', 'phone': '02-568-8592', 'routeUrl': 'http://m.map.naver.com/viewer/route.nhn?ename=%EB%B0%B1%EC%96%B5%ED%95%98%EB%88%84%20%EA%B0%95%EB%82%A8%EB%B3%B8%EC%A0%90&ex=127.0288586&ey=37.5005705&edid=36237506', 'streetViewUrl': 'http://m.map.naver.com/viewer/panorama.nhn?street=on&pinType=site&pinId=36237506', 'street_panorama': 'u95AZIFV/nCrUsvarQ7QGQ==,-167.21,10.00,127.0288098,37.5005989,120', 'microReview': '강남역 식신로드에 출연한 한우불고기', 'roadAddr': '서울 강남구 테헤란로5길 29', 'commonAddr': '서울 강남구', 'addr': '역삼동 817-26', 'broadcastInfo': {'program': '생방송오늘저녁'}, 'blogCafeReviewCount': '378', 'bookingReviewCount': '36', 'totalReviewCount': '414', 'naverBookingUrl': 'https://booking.naver.com/booking/6/bizes/198529/search', 'bookingBusinessId': '198529', 'moreBookingReviewsPath': '/restaurants/bookingReviews?bookingBusinessId=198529&name=%EB%B0%B1%EC%96%B5%ED%95%98%EB%88%84%20%EA%B0%95%EB%82%A8%EB%B3%B8%EC%A0%90&category=restaurant', 'moreUGCReviewsPath': '/restaurants/fsasReviews?id=36237506&name=%EB%B0%B1%EC%96%B5%ED%95%98%EB%88%84%20%EA%B0%95%EB%82%A8%EB%B3%B8%EC%A0%90&category=restaurant', 'moreFsasReviewsPath': '/restaurants/fsasReviews?id=36237506&name=%EB%B0%B1%EC%96%B5%ED%95%98%EB%88%84%20%EA%B0%95%EB%82%A8%EB%B3%B8%EC%A0%90&category=restaurant', 'tags': ['한우', '전복죽', '불고기', '고급진', '싱싱한'], 'options': '예약,단체석,발렛파킹,포장,주차,무선 인터넷,배달,남/녀 화장실 구분'}, {'id': '37362312', 'name': '진대감 강남역 교보타워점', 'businessCategory': 'restaurant', 'dbType': 'drt', 'category': '소고기구이', 'desc': '', 'hasBooking': True, 'hasNPay': False, 'x': '127.0239779', 'y': '37.5018539', 'distance': '8253.81', 'imageSrc': 'http://ldb.phinf.naver.net/20181109_300/1541752309406dHpvk_JPEG/1.jpg', 'imageCount': 17, 'virtualPhone': '0507-1319-0715', 'phone': '02-596-0715', 'routeUrl': 'http://m.map.naver.com/viewer/route.nhn?ename=%EC%A7%84%EB%8C%80%EA%B0%90%20%EA%B0%95%EB%82%A8%EC%97%AD%20%EA%B5%90%EB%B3%B4%ED%83%80%EC%9B%8C%EC%A0%90&ex=127.0239779&ey=37.5018539&edid=37362312', 'streetViewUrl': 'http://m.map.naver.com/viewer/panorama.nhn?street=on&pinType=site&pinId=37362312', 'street_panorama': '8Hd+0ENI/q4nmb3gJ/XfqA==,69.65,10.00,127.0238544,37.5018080,120', 'microReview': '진대감 차돌삼합 집밥 같은 곳', 'roadAddr': '서울 서초구 서초대로73길 54 서초오피스텔 1층 101호 진대감', 'commonAddr': '서울 서초구', 'addr': '서초동 1309-1', 'blogCafeReviewCount': '194', 'bookingReviewCount': '41', 'totalReviewCount': '235', 'naverBookingUrl': 'https://booking.naver.com/booking/6/bizes/193572/search', 'bookingBusinessId': '193572', 'moreBookingReviewsPath': '/restaurants/bookingReviews?bookingBusinessId=193572&name=%EC%A7%84%EB%8C%80%EA%B0%90%20%EA%B0%95%EB%82%A8%EC%97%AD%20%EA%B5%90%EB%B3%B4%ED%83%80%EC%9B%8C%EC%A0%90&category=restaurant', 'moreUGCReviewsPath': '/restaurants/fsasReviews?id=37362312&name=%EC%A7%84%EB%8C%80%EA%B0%90%20%EA%B0%95%EB%82%A8%EC%97%AD%20%EA%B5%90%EB%B3%B4%ED%83%80%EC%9B%8C%EC%A0%90&category=restaurant', 'moreFsasReviewsPath': '/restaurants/fsasReviews?id=37362312&name=%EC%A7%84%EB%8C%80%EA%B0%90%20%EA%B0%95%EB%82%A8%EC%97%AD%20%EA%B5%90%EB%B3%B4%ED%83%80%EC%9B%8C%EC%A0%90&category=restaurant', 'tags': ['백반', '명이나물', '갓김치', '친절하신', '데이트'], 'options': '예약,단체석,주차,남/녀 화장실 구분', 'priceCategory': '1만원 대'}, {'id': '37108078', 'name': '곱창고 강남역점', 'businessCategory': 'restaurant', 'dbType': 'drt', 'category': '곱창,막창,양', 'desc': '', 'hasBooking': True, 'hasNPay': False, 'x': '127.0279364', 'y': '37.4999059', 'distance': '8615.73', 'imageSrc': 'http://ldb.phinf.naver.net/20181214_219/1544774187295j9hxr_JPEG/DSC01589.JPG', 'imageCount': 31, 'virtualPhone': '0507-1386-0001', 'phone': '02-2141-0001', 'routeUrl': 'http://m.map.naver.com/viewer/route.nhn?ename=%EA%B3%B1%EC%B0%BD%EA%B3%A0%20%EA%B0%95%EB%82%A8%EC%97%AD%EC%A0%90&ex=127.0279364&ey=37.4999059&edid=37108078', 'streetViewUrl': 'http://m.map.naver.com/viewer/panorama.nhn?street=on&pinType=site&pinId=37108078', 'street_panorama': 'Eug3a4TiJYUJFtDnzdYhDw==,19.12,10.00,127.0278608,37.4998068,120', 'microReview': '강남역 곱창고 소곱창 저렴하고 맛있는 곳', 'roadAddr': '서울 강남구 강남대로96길 11', 'commonAddr': '서울 강남구', 'addr': '역삼동 817-12', 'blogCafeReviewCount': '375', 'bookingReviewCount': '29', 'totalReviewCount': '404', 'naverBookingUrl': 'https://booking.naver.com/booking/6/bizes/147065/search', 'bookingBusinessId': '147065', 'moreBookingReviewsPath': '/restaurants/bookingReviews?bookingBusinessId=147065&name=%EA%B3%B1%EC%B0%BD%EA%B3%A0%20%EA%B0%95%EB%82%A8%EC%97%AD%EC%A0%90&category=restaurant', 'moreUGCReviewsPath': '/restaurants/fsasReviews?id=37108078&name=%EA%B3%B1%EC%B0%BD%EA%B3%A0%20%EA%B0%95%EB%82%A8%EC%97%AD%EC%A0%90&category=restaurant', 'moreFsasReviewsPath': '/restaurants/fsasReviews?id=37108078&name=%EA%B3%B1%EC%B0%BD%EA%B3%A0%20%EA%B0%95%EB%82%A8%EC%97%AD%EC%A0%90&category=restaurant', 'tags': ['소곱창', '돼지곱창', '순두부찌개', '친절한', '옛날도시락'], 'options': '남/녀 화장실 구분'}, {'id': '37001144', 'name': '투뿔등심 강남점', 'businessCategory': 'restaurant', 'dbType': 'drt', 'category': '소고기구이', 'desc': '', 'promotionTitle': '네이버 예약 서비스 이용시 계란찜 제공 및 6인 이상 예약시 쉐프서비스 메뉴 제공', 'hasBooking': True, 'hasNPay': False, 'x': '127.0293062', 'y': '37.4977328', 'distance': '8885.52', 'imageSrc': 'http://ldb.phinf.naver.net/20161207_51/1481093061715AKNGW_JPEG/177157557438338_0.jpeg', 'imageCount': 24, 'virtualPhone': '0507-1404-8456', 'phone': '02-539-8456', 'routeUrl': 'http://m.map.naver.com/viewer/route.nhn?ename=%ED%88%AC%EB%BF%94%EB%93%B1%EC%8B%AC%20%EA%B0%95%EB%82%A8%EC%A0%90&ex=127.0293062&ey=37.4977328&edid=37001144', 'streetViewUrl': 'http://m.map.naver.com/viewer/panorama.nhn?street=on&pinType=site&pinId=37001144', 'street_panorama': 'WoMJT3bkYaedpaPZmSIUAg==,72.67,10.00,127.0289309,37.4976154,120', 'microReview': '신분당선 회식장소로 좋은 투뿔등심', 'roadAddr': '서울 강남구 테헤란로4길 6 센트럴푸르지오시티 2층', 'commonAddr': '서울 강남구', 'addr': '역삼동 825-20', 'blogCafeReviewCount': '129', 'bookingReviewCount': '213', 'totalReviewCount': '342', 'naverBookingUrl': 'http://booking.naver.com/6/booking/svc/137922/search', 'bookingBusinessId': '137922', 'moreBookingReviewsPath': '/restaurants/bookingReviews?bookingBusinessId=137922&name=%ED%88%AC%EB%BF%94%EB%93%B1%EC%8B%AC%20%EA%B0%95%EB%82%A8%EC%A0%90&category=restaurant', 'moreUGCReviewsPath': '/restaurants/fsasReviews?id=37001144&name=%ED%88%AC%EB%BF%94%EB%93%B1%EC%8B%AC%20%EA%B0%95%EB%82%A8%EC%A0%90&category=restaurant', 'moreFsasReviewsPath': '/restaurants/fsasReviews?id=37001144&name=%ED%88%AC%EB%BF%94%EB%93%B1%EC%8B%AC%20%EA%B0%95%EB%82%A8%EC%A0%90&category=restaurant', 'tags': ['한우', '갈비탕', '육회비빔밥', '고급진', '연말모임'], 'options': '단체석,주차,발렛파킹,포장,남/녀 화장실 구분', 'priceCategory': '7만원 대'}, {'id': '37253680', 'name': '두껍삼 강남직영점', 'businessCategory': 'restaurant', 'dbType': 'drt', 'category': '돼지고기구이', 'desc': '', 'hasBooking': True, 'hasNPay': False, 'x': '127.0286433', 'y': '37.4938257', 'distance': '9235.07', 'imageSrc': 'http://ldb.phinf.naver.net/20160302_244/1456896471470GBKb0_JPEG/176252545768526_0.jpeg', 'imageCount': 28, 'virtualPhone': '0507-1404-3592', 'phone': '02-585-3592', 'routeUrl': 'http://m.map.naver.com/viewer/route.nhn?ename=%EB%91%90%EA%BB%8D%EC%82%BC%20%EA%B0%95%EB%82%A8%EC%A7%81%EC%98%81%EC%A0%90&ex=127.0286433&ey=37.4938257&edid=37253680', 'streetViewUrl': 'http://m.map.naver.com/viewer/panorama.nhn?street=on&pinType=site&pinId=37253680', 'street_panorama': 'pAT0TmFHsXwz2pJGRLLEQA==,-99.91,10.00,127.0287728,37.4938482,120', 'microReview': '강남역회식장소추천 숙성삼겹살의 진한맛 두껍삼 강남점', 'roadAddr': '서울 서초구 서초대로78길 44', 'commonAddr': '서울 서초구', 'addr': '서초동 1330-16', 'blogCafeReviewCount': '458', 'bookingReviewCount': '244', 'totalReviewCount': '702', 'naverBookingUrl': 'http://booking.naver.com/booking/6/bizes/94547/search', 'bookingBusinessId': '94547', 'talktalkUrl': 'http://talk.naver.com/wc9chs?frm=mnmb', 'moreBookingReviewsPath': '/restaurants/bookingReviews?bookingBusinessId=94547&name=%EB%91%90%EA%BB%8D%EC%82%BC%20%EA%B0%95%EB%82%A8%EC%A7%81%EC%98%81%EC%A0%90&category=restaurant', 'moreUGCReviewsPath': '/restaurants/fsasReviews?id=37253680&name=%EB%91%90%EA%BB%8D%EC%82%BC%20%EA%B0%95%EB%82%A8%EC%A7%81%EC%98%81%EC%A0%90&category=restaurant', 'moreFsasReviewsPath': '/restaurants/fsasReviews?id=37253680&name=%EB%91%90%EA%BB%8D%EC%82%BC%20%EA%B0%95%EB%82%A8%EC%A7%81%EC%98%81%EC%A0%90&category=restaurant', 'tags': ['삼겹살', '쌈밥', '갓김치', '고급진', '데이트'], 'options': '예약,단체석,주차,발렛파킹,포장,무선 인터넷,남/녀 화장실 구분', 'priceCategory': '7만원 대'}, {'id': '985516513', 'name': '강남곱', 'businessCategory': 'restaurant', 'dbType': 'drt', 'category': '곱창,막창,양', 'desc': '', 'hasBooking': True, 'hasNPay': False, 'x': '127.0315785', 'y': '37.4943874', 'distance': '9308.20', 'imageSrc': 'http://ldb.phinf.naver.net/20180726_29/1532570907869zY67M_JPEG/n1gneKFVyJFf34uqpFLyz4E7.jpg', 'imageCount': 6, 'virtualPhone': '0507-1414-7592', 'phone': '02-538-7592', 'routeUrl': 'http://m.map.naver.com/viewer/route.nhn?ename=%EA%B0%95%EB%82%A8%EA%B3%B1&ex=127.0315785&ey=37.4943874&edid=985516513', 'streetViewUrl': 'http://m.map.naver.com/viewer/panorama.nhn?street=on&pinType=site&pinId=985516513', 'street_panorama': 'XQQNIM09sZFIQIFAGK/S6Q==,78.45,10.00,127.0314241,37.4943396,120', 'microReview': '대파김치와 곱창이 맛있는 곳', 'roadAddr': '서울 강남구 역삼로3길 12', 'commonAddr': '서울 강남구', 'addr': '역삼동 830-31', 'broadcastInfo': {'program': '식신로드3'}, 'blogCafeReviewCount': '288', 'bookingReviewCount': '60', 'totalReviewCount': '348', 'naverBookingUrl': 'https://booking.naver.com/booking/6/bizes/146441/search', 'bookingBusinessId': '146441', 'moreBookingReviewsPath': '/restaurants/bookingReviews?bookingBusinessId=146441&name=%EA%B0%95%EB%82%A8%EA%B3%B1&category=restaurant', 'moreUGCReviewsPath': '/restaurants/fsasReviews?id=985516513&name=%EA%B0%95%EB%82%A8%EA%B3%B1&category=restaurant', 'moreFsasReviewsPath': '/restaurants/fsasReviews?id=985516513&name=%EA%B0%95%EB%82%A8%EA%B3%B1&category=restaurant', 'tags': ['소곱창', '막창', '김치말이국수', '깨끗한', '신선한'], 'options': '배달,남/녀 화장실 구분,예약,주차,포장,무선 인터넷'}, {'id': '36827540', 'name': '부야스곱창 강남역점', 'businessCategory': 'restaurant', 'dbType': 'drt', 'category': '곱창,막창,양', 'desc': '', 'hasBooking': False, 'hasNPay': False, 'x': '127.0281276', 'y': '37.5004635', 'distance': '8570.94', 'imageSrc': 'http://ldb.phinf.naver.net/20180822_208/1534902119827MNGpF_JPEG/ioiocih9ueyXpqFLx_1AW1mV.jpg', 'imageCount': 11, 'phone': '02-561-5497', 'routeUrl': 'http://m.map.naver.com/viewer/route.nhn?ename=%EB%B6%80%EC%95%BC%EC%8A%A4%EA%B3%B1%EC%B0%BD%20%EA%B0%95%EB%82%A8%EC%97%AD%EC%A0%90&ex=127.0281276&ey=37.5004635&edid=36827540', 'streetViewUrl': 'http://m.map.naver.com/viewer/panorama.nhn?street=on&pinType=site&pinId=36827540', 'street_panorama': 'rS/sLrhP842olQ2zkj/DsA==,-13.83,10.00,127.0281478,37.5003882,120', 'microReview': '팀모임끝나고 테이스티로드나온 강남 부야스곱창', 'roadAddr': '서울 강남구 테헤란로1길 28-9 2층', 'commonAddr': '서울 강남구', 'addr': '역삼동 817-30', 'blogCafeReviewCount': '451', 'bookingReviewCount': '0', 'totalReviewCount': '451', 'moreUGCReviewsPath': '/restaurants/fsasReviews?id=36827540&name=%EB%B6%80%EC%95%BC%EC%8A%A4%EA%B3%B1%EC%B0%BD%20%EA%B0%95%EB%82%A8%EC%97%AD%EC%A0%90&category=restaurant', 'moreFsasReviewsPath': '/restaurants/fsasReviews?id=36827540&name=%EB%B6%80%EC%95%BC%EC%8A%A4%EA%B3%B1%EC%B0%BD%20%EA%B0%95%EB%82%A8%EC%97%AD%EC%A0%90&category=restaurant', 'tags': ['치즈곱창', '돼지곱창', '양곱창', '빈티지한', '데이트'], 'options': '단체석,남/녀 화장실 구분,포장', 'priceCategory': '1만원 대', 'baeminId': '10746608', 'baeminDeliveryDateAndTimes': {'deliveryTime': [{'openAt': '1600', 'closeAt': '2400'}, {'openAt': '1600', 'closeAt': '2400'}, {'openAt': '1600', 'closeAt': '2400'}, {'openAt': '1600', 'closeAt': '2400'}, {'openAt': '1600', 'closeAt': '2400'}, {'openAt': '1600', 'closeAt': '2400'}, {'openAt': '1600', 'closeAt': '2400'}]}, 'deliveryArea': '강남구 일대'}, {'id': '37792495', 'name': '장인닭갈비', 'businessCategory': 'restaurant', 'dbType': 'drt', 'category': '닭갈비', 'desc': '', 'hasBooking': False, 'hasNPay': False, 'x': '127.0274938', 'y': '37.4996548', 'distance': '8620.12', 'imageSrc': 'http://ldb.phinf.naver.net/20161112_233/147894152004419V1R_PNG/177062583539881_0.png', 'imageCount': 32, 'virtualPhone': '0507-1415-3441', 'phone': '02-3452-3441', 'routeUrl': 'http://m.map.naver.com/viewer/route.nhn?ename=%EC%9E%A5%EC%9D%B8%EB%8B%AD%EA%B0%88%EB%B9%84&ex=127.0274938&ey=37.4996548&edid=37792495', 'streetViewUrl': 'http://m.map.naver.com/viewer/panorama.nhn?street=on&pinType=site&pinId=37792495', 'street_panorama': 'IbQjrOl8tcn4g1OKGmVFbg==,-105.50,10.00,127.0277321,37.4996174,120', 'microReview': '강남 맛집 모짜렐라 듬뿍 올려져있는 치즈닭갈비', 'roadAddr': '서울 강남구 테헤란로1길 19 로하스애비뉴빌딩', 'commonAddr': '서울 강남구', 'addr': '역삼동 820-1', 'blogCafeReviewCount': '800', 'bookingReviewCount': '0', 'totalReviewCount': '800', 'moreUGCReviewsPath': '/restaurants/fsasReviews?id=37792495&name=%EC%9E%A5%EC%9D%B8%EB%8B%AD%EA%B0%88%EB%B9%84&category=restaurant', 'moreFsasReviewsPath': '/restaurants/fsasReviews?id=37792495&name=%EC%9E%A5%EC%9D%B8%EB%8B%AD%EA%B0%88%EB%B9%84&category=restaurant', 'tags': ['치즈닭갈비', '철판볶음밥', '신선한', '빈티지한', '김치볶음밥'], 'options': '무선 인터넷,포장,남/녀 화장실 구분,단체석', 'priceCategory': '1만원 대'}, {'id': '1506252365', 'name': '모범갈빗살', 'businessCategory': 'restaurant', 'dbType': 'drt', 'category': '육류,고기요리', 'desc': '', 'promotionTitle': '한우 특갈빗살 200g이상 주문시 냉면 1개 제공. [물냉면/비빔냉면 중 택1] *테이블당 1회 적용. *다른 이벤트와 중복적용 불가.', 'hasBooking': True, 'hasNPay': False, 'x': '127.0244747', 'y': '37.5008165', 'distance': '8376.02', 'imageSrc': 'http://ldb.phinf.naver.net/20170912_75/1505191133550YbwQu_JPEG/jaeeGe0cpY3RYPxbniDGYLBN.JPG.jpg', 'imageCount': 14, 'virtualPhone': '0507-1425-2591', 'phone': '02-533-2588', 'routeUrl': 'http://m.map.naver.com/viewer/route.nhn?ename=%EB%AA%A8%EB%B2%94%EA%B0%88%EB%B9%97%EC%82%B4&ex=127.0244747&ey=37.5008165&edid=1506252365', 'streetViewUrl': 'http://m.map.naver.com/viewer/panorama.nhn?street=on&pinType=site&pinId=1506252365', 'street_panorama': 'NFojy3ch48ZUXIRhvW8vFQ==,80.80,10.00,127.0243350,37.5007938,120', 'microReview': '강남역회식장소 한우가 저렴하고 맛있는 곳', 'roadAddr': '서울 서초구 서초대로73길 38', 'commonAddr': '서울 서초구', 'addr': '서초동 1308-24', 'blogCafeReviewCount': '155', 'bookingReviewCount': '106', 'totalReviewCount': '261', 'naverBookingUrl': 'https://booking.naver.com/booking/6/bizes/153945/search', 'bookingBusinessId': '153945', 'moreBookingReviewsPath': '/restaurants/bookingReviews?bookingBusinessId=153945&name=%EB%AA%A8%EB%B2%94%EA%B0%88%EB%B9%97%EC%82%B4&category=restaurant', 'moreUGCReviewsPath': '/restaurants/fsasReviews?id=1506252365&name=%EB%AA%A8%EB%B2%94%EA%B0%88%EB%B9%97%EC%82%B4&category=restaurant', 'moreFsasReviewsPath': '/restaurants/fsasReviews?id=1506252365&name=%EB%AA%A8%EB%B2%94%EA%B0%88%EB%B9%97%EC%82%B4&category=restaurant', 'tags': ['한우', '명이나물', '냉면', '데이트', '샤브샤브'], 'options': '예약,단체석,주차,포장,무선 인터넷,남/녀 화장실 구분', 'priceCategory': '7만원 대'}, {'id': '37503408', 'name': '일미리금계찜닭 강남1호점', 'businessCategory': 'restaurant', 'dbType': 'drt', 'category': '찜닭', 'desc': '', 'promotionTitle': 'N페이 첫결제 2천P,재결제 3%적립', 'hasBooking': True, 'hasNPay': False, 'x': '127.0288035', 'y': '37.4999500', 'distance': '8650.61', 'imageSrc': 'http://ldb.phinf.naver.net/20180820_88/1534741975637mmKXG_JPEG/7-WiKDo7kNSRAXK2NVF2Hfey.jpg', 'imageCount': 7, 'virtualPhone': '0507-1403-8405', 'phone': '02-508-8405', 'routeUrl': 'http://m.map.naver.com/viewer/route.nhn?ename=%EC%9D%BC%EB%AF%B8%EB%A6%AC%EA%B8%88%EA%B3%84%EC%B0%9C%EB%8B%AD%20%EA%B0%95%EB%82%A81%ED%98%B8%EC%A0%90&ex=127.0288035&ey=37.4999500&edid=37503408', 'streetViewUrl': 'http://m.map.naver.com/viewer/panorama.nhn?street=on&pinType=site&pinId=37503408', 'street_panorama': 'MJR5820ofX1AQoGDf+u/Uw==,137.24,10.00,127.0287504,37.5000664,120', 'microReview': '강남역 맛집 저렴 하면서 맛있는 구름치즈찜닭', 'roadAddr': '서울 강남구 강남대로96길 22', 'commonAddr': '서울 강남구', 'addr': '역삼동 818-6', 'blogCafeReviewCount': '420', 'bookingReviewCount': '0', 'totalReviewCount': '420', 'bookingBusinessId': '204081', 'moreBookingReviewsPath': '/restaurants/bookingReviews?bookingBusinessId=204081&name=%EC%9D%BC%EB%AF%B8%EB%A6%AC%EA%B8%88%EA%B3%84%EC%B0%9C%EB%8B%AD%20%EA%B0%95%EB%82%A81%ED%98%B8%EC%A0%90&category=restaurant', 'moreUGCReviewsPath': '/restaurants/fsasReviews?id=37503408&name=%EC%9D%BC%EB%AF%B8%EB%A6%AC%EA%B8%88%EA%B3%84%EC%B0%9C%EB%8B%AD%20%EA%B0%95%EB%82%A81%ED%98%B8%EC%A0%90&category=restaurant', 'moreFsasReviewsPath': '/restaurants/fsasReviews?id=37503408&name=%EC%9D%BC%EB%AF%B8%EB%A6%AC%EA%B8%88%EA%B3%84%EC%B0%9C%EB%8B%AD%20%EA%B0%95%EB%82%A81%ED%98%B8%EC%A0%90&category=restaurant', 'tags': ['찜닭', '만두', '고추장', '친절한', '데이트'], 'options': '단체석,포장,배달,무선 인터넷,남/녀 화장실 구분', 'chatBotUrl': 'https://talk.naver.com/ct/wc06r7?frm=pnmb', 'chatbotBusinessHours': {'weekday': {'start': '1100', 'end': '2300'}, 'weekend': {'start': '1100', 'end': '2300'}}, 'naverBookingCategory': 'DL41', 'easyOrderId': '204081', 'chatBotCid': '221621'}, {'id': '37837518', 'name': '고기꾼김춘배 강남점', 'businessCategory': 'restaurant', 'dbType': 'drt', 'category': '돼지고기구이', 'desc': '', 'hasBooking': True, 'hasNPay': False, 'x': '127.0272056', 'y': '37.5018446', 'distance': '8397.24', 'imageSrc': 'http://ldb.phinf.naver.net/20180504_67/1525429164924y96lX_JPEG/KakaoTalk_20180420_193206041.jpg', 'imageCount': 20, 'virtualPhone': '0507-1409-5659', 'phone': '070-4251-5659', 'routeUrl': 'http://m.map.naver.com/viewer/route.nhn?ename=%EA%B3%A0%EA%B8%B0%EA%BE%BC%EA%B9%80%EC%B6%98%EB%B0%B0%20%EA%B0%95%EB%82%A8%EC%A0%90&ex=127.0272056&ey=37.5018446&edid=37837518', 'streetViewUrl': 'http://m.map.naver.com/viewer/panorama.nhn?street=on&pinType=site&pinId=37837518', 'street_panorama': '6XuI/233ynYem6VfsLP9mw==,-68.37,10.00,127.0272883,37.5018101,120', 'microReview': '강남역고깃집 고기꾼김춘배 제주산 생고기', 'roadAddr': '서울 강남구 강남대로100길 13 3층', 'commonAddr': '서울 강남구', 'addr': '역삼동 619-5', 'blogCafeReviewCount': '286', 'bookingReviewCount': '366', 'totalReviewCount': '652', 'naverBookingUrl': 'https://booking.naver.com/booking/6/bizes/140266/search', 'bookingBusinessId': '140266', 'moreBookingReviewsPath': '/restaurants/bookingReviews?bookingBusinessId=140266&name=%EA%B3%A0%EA%B8%B0%EA%BE%BC%EA%B9%80%EC%B6%98%EB%B0%B0%20%EA%B0%95%EB%82%A8%EC%A0%90&category=restaurant', 'moreUGCReviewsPath': '/restaurants/fsasReviews?id=37837518&name=%EA%B3%A0%EA%B8%B0%EA%BE%BC%EA%B9%80%EC%B6%98%EB%B0%B0%20%EA%B0%95%EB%82%A8%EC%A0%90&category=restaurant', 'moreFsasReviewsPath': '/restaurants/fsasReviews?id=37837518&name=%EA%B3%A0%EA%B8%B0%EA%BE%BC%EA%B9%80%EC%B6%98%EB%B0%B0%20%EA%B0%95%EB%82%A8%EC%A0%90&category=restaurant', 'tags': ['명이나물', '생갈비', '삼겹살', '고급진', '데이트'], 'options': '예약,단체석,무선 인터넷,남/녀 화장실 구분', 'priceCategory': '3만원 대'}, {'id': '974872496', 'name': '매우매오 강남역점', 'businessCategory': 'restaurant', 'dbType': 'drt', 'category': '육류,고기요리', 'desc': '', 'hasBooking': False, 'hasNPay': False, 'x': '127.0269125', 'y': '37.5023353', 'distance': '8337.09', 'imageSrc': 'http://ldb.phinf.naver.net/20181203_33/1543830239038jRQhv_JPEG/xrQwPp5OhYp-gcPF8wA4Y_i1.jpg', 'imageCount': 18, 'virtualPhone': '0507-1426-5788', 'phone': '02-558-5788', 'routeUrl': 'http://m.map.naver.com/viewer/route.nhn?ename=%EB%A7%A4%EC%9A%B0%EB%A7%A4%EC%98%A4%20%EA%B0%95%EB%82%A8%EC%97%AD%EC%A0%90&ex=127.0269125&ey=37.5023353&edid=974872496', 'streetViewUrl': 'http://m.map.naver.com/viewer/panorama.nhn?street=on&pinType=site&pinId=974872496', 'street_panorama': '7Q7dWe3VG6l+Xfkhy7aWsA==,-140.24,10.00,127.0270362,37.5024078,120', 'microReview': '크림소갈비찜이 있는 매운대 강남역점', 'roadAddr': '서울 강남구 봉은사로4길 40 지층1호 매운대', 'commonAddr': '서울 강남구', 'addr': '역삼동 813-11', 'blogCafeReviewCount': '551', 'bookingReviewCount': '0', 'totalReviewCount': '551', 'moreUGCReviewsPath': '/restaurants/fsasReviews?id=974872496&name=%EB%A7%A4%EC%9A%B0%EB%A7%A4%EC%98%A4%20%EA%B0%95%EB%82%A8%EC%97%AD%EC%A0%90&category=restaurant', 'moreFsasReviewsPath': '/restaurants/fsasReviews?id=974872496&name=%EB%A7%A4%EC%9A%B0%EB%A7%A4%EC%98%A4%20%EA%B0%95%EB%82%A8%EC%97%AD%EC%A0%90&category=restaurant', 'tags': ['소갈비찜', '데이트', '주먹밥', '아담한', '떡볶이'], 'options': '포장,무선 인터넷,남/녀 화장실 구분,단체석', 'priceCategory': '2만원 대'}, {'id': '37704319', 'name': '화기애애', 'businessCategory': 'restaurant', 'dbType': 'drt', 'category': '육류,고기요리', 'desc': '', 'hasBooking': True, 'hasNPay': False, 'x': '127.0265299', 'y': '37.5028753', 'distance': '8268.17', 'imageSrc': 'http://ldb.phinf.naver.net/20180908_116/1536340587088CCDM3_JPEG/%C8%B8%C0%FC_%C8%B8%C0%FC_%C5%A9%B1%E2%BA%AF%C8%AF_2008_02_18_%B4%C1%B0%A3-05.jpg', 'imageCount': 9, 'virtualPhone': '0507-1315-6177', 'phone': '02-508-6177', 'routeUrl': 'http://m.map.naver.com/viewer/route.nhn?ename=%ED%99%94%EA%B8%B0%EC%95%A0%EC%95%A0&ex=127.0265299&ey=37.5028753&edid=37704319', 'streetViewUrl': 'http://m.map.naver.com/viewer/panorama.nhn?street=on&pinType=site&pinId=37704319', 'street_panorama': 'iT5opZYsG6Kv2nE6OFHFKA==,-172.79,10.00,127.0265047,37.5029415,120', 'microReview': '와인과 참숯 화로구이를 즐길 수 있는 강남역고기집', 'roadAddr': '서울 강남구 강남대로106길 12', 'commonAddr': '서울 강남구', 'addr': '역삼동 813-1', 'blogCafeReviewCount': '607', 'bookingReviewCount': '53', 'totalReviewCount': '660', 'naverBookingUrl': 'https://booking.naver.com/booking/6/bizes/183590/search', 'bookingBusinessId': '183590', 'talktalkUrl': 'http://talk.naver.com/wc252f?frm=mnmb', 'moreBookingReviewsPath': '/restaurants/bookingReviews?bookingBusinessId=183590&name=%ED%99%94%EA%B8%B0%EC%95%A0%EC%95%A0&category=restaurant', 'moreUGCReviewsPath': '/restaurants/fsasReviews?id=37704319&name=%ED%99%94%EA%B8%B0%EC%95%A0%EC%95%A0&category=restaurant', 'moreFsasReviewsPath': '/restaurants/fsasReviews?id=37704319&name=%ED%99%94%EA%B8%B0%EC%95%A0%EC%95%A0&category=restaurant', 'tags': ['김치찌개', '와규', '비빔국수', '고급스러운', '데이트'], 'options': '단체석,예약,무선 인터넷', 'priceCategory': '3만원 대'}, {'id': '13185964', 'name': '연타발 강남역점', 'businessCategory': 'restaurant', 'dbType': 'drt', 'category': '곱창,막창,양', 'desc': '서울특별시 서초구 서초동 소재, 양대창 참숯구이 전문점.', 'hasBooking': False, 'hasNPay': False, 'x': '127.0264423', 'y': '37.4981977', 'distance': '8715.17', 'imageSrc': 'http://blogfiles.naver.net/20160318_19/rorinino_1458237607064QgdgE_JPEG/SAM_4292.JPG#2944x1656', 'imageCount': 6, 'phone': '02-536-9282', 'routeUrl': 'http://m.map.naver.com/viewer/route.nhn?ename=%EC%97%B0%ED%83%80%EB%B0%9C%20%EA%B0%95%EB%82%A8%EC%97%AD%EC%A0%90&ex=127.0264423&ey=37.4981977&edid=13185964', 'streetViewUrl': 'http://m.map.naver.com/viewer/panorama.nhn?street=on&pinType=site&pinId=13185964', 'street_panorama': 'lgqEAbB3OMK5lhM70ycOxg==,-106.99,10.00,127.0266545,37.4982623,120', 'microReview': '강남역에 있는 연타발 한우 고깃집', 'roadAddr': '서울 서초구 서초대로77길 3 아라타워 B1', 'commonAddr': '서울 서초구', 'addr': '서초동 1317-16 아라타워 B1', 'blogCafeReviewCount': '227', 'bookingReviewCount': '0', 'totalReviewCount': '227', 'moreUGCReviewsPath': '/restaurants/fsasReviews?id=13185964&name=%EC%97%B0%ED%83%80%EB%B0%9C%20%EA%B0%95%EB%82%A8%EC%97%AD%EC%A0%90&category=restaurant', 'moreFsasReviewsPath': '/restaurants/fsasReviews?id=13185964&name=%EC%97%B0%ED%83%80%EB%B0%9C%20%EA%B0%95%EB%82%A8%EC%97%AD%EC%A0%90&category=restaurant', 'tags': ['양대창', '한우', '곱창전골', '고급스런', '데이트'], 'options': '단체석'}, {'id': '1227858426', 'name': '곱창흡입', 'businessCategory': 'restaurant', 'dbType': 'drt', 'category': '곱창,막창,양', 'desc': '', 'hasBooking': False, 'hasNPay': False, 'x': '127.0285527', 'y': '37.5003736', 'distance': '8598.80', 'imageSrc': 'http://ldb.phinf.naver.net/20181105_106/1541408038992lrtYd_JPEG/7dp4YGGuNuvafjLckIUlHDg-.JPG.jpg', 'imageCount': 63, 'phone': '02-563-5692', 'routeUrl': 'http://m.map.naver.com/viewer/route.nhn?ename=%EA%B3%B1%EC%B0%BD%ED%9D%A1%EC%9E%85&ex=127.0285527&ey=37.5003736&edid=1227858426', 'streetViewUrl': 'http://m.map.naver.com/viewer/panorama.nhn?street=on&pinType=site&pinId=1227858426', 'street_panorama': 'ITf4rG3pQRiZpJE+Gps/oQ==,148.46,10.00,127.0284788,37.5004936,120', 'roadAddr': '서울 강남구 테헤란로1길 28-14 1층', 'commonAddr': '서울 강남구', 'addr': '역삼동 817-23', 'blogCafeReviewCount': '265', 'bookingReviewCount': '0', 'totalReviewCount': '265', 'moreUGCReviewsPath': '/restaurants/fsasReviews?id=1227858426&name=%EA%B3%B1%EC%B0%BD%ED%9D%A1%EC%9E%85&category=restaurant', 'moreFsasReviewsPath': '/restaurants/fsasReviews?id=1227858426&name=%EA%B3%B1%EC%B0%BD%ED%9D%A1%EC%9E%85&category=restaurant', 'options': '단체석,남/녀 화장실 구분', 'priceCategory': '5만원 대'}, {'id': '1839993505', 'name': '몽블리 강남역11번출구점', 'businessCategory': 'restaurant', 'dbType': 'drt', 'category': '소고기구이', 'desc': '', 'hasBooking': False, 'hasNPay': False, 'x': '127.0284544', 'y': '37.4999145', 'distance': '8638.20', 'imageSrc': 'http://ldb.phinf.naver.net/20180822_90/1534922355304kCCDQ_JPEG/VJtSa01nv8Q2Al_U4CJ17VBE.jpg', 'imageCount': 3, 'phone': '02-566-6888', 'routeUrl': 'http://m.map.naver.com/viewer/route.nhn?ename=%EB%AA%BD%EB%B8%94%EB%A6%AC%20%EA%B0%95%EB%82%A8%EC%97%AD11%EB%B2%88%EC%B6%9C%EA%B5%AC%EC%A0%90&ex=127.0284544&ey=37.4999145&edid=1839993505', 'streetViewUrl': 'http://m.map.naver.com/viewer/panorama.nhn?street=on&pinType=site&pinId=1839993505', 'street_panorama': '6uVmUnwgdoVqVQ2gjZGhdg==,149.95,10.00,127.0284168,37.4999690,120', 'roadAddr': '서울 강남구 강남대로96길 18', 'commonAddr': '서울 강남구', 'addr': '역삼동 818-4', 'blogCafeReviewCount': '130', 'bookingReviewCount': '0', 'totalReviewCount': '130', 'moreUGCReviewsPath': '/restaurants/fsasReviews?id=1839993505&name=%EB%AA%BD%EB%B8%94%EB%A6%AC%20%EA%B0%95%EB%82%A8%EC%97%AD11%EB%B2%88%EC%B6%9C%EA%B5%AC%EC%A0%90&category=restaurant', 'moreFsasReviewsPath': '/restaurants/fsasReviews?id=1839993505&name=%EB%AA%BD%EB%B8%94%EB%A6%AC%20%EA%B0%95%EB%82%A8%EC%97%AD11%EB%B2%88%EC%B6%9C%EA%B5%AC%EC%A0%90&category=restaurant', 'options': '예약,단체석,무선 인터넷,주차'}, {'id': '866289572', 'name': '무한리필 대박집', 'businessCategory': 'restaurant', 'dbType': 'drt', 'category': '돼지고기구이', 'desc': '', 'hasBooking': False, 'hasNPay': False, 'x': '127.0278472', 'y': '37.4996749', 'distance': '8633.92', 'imageSrc': 'http://ldb.phinf.naver.net/20180314_81/1521008034154Y2iA0_PNG/NO-hko26Tdc4vXfhUoGcdvoe.png', 'imageCount': 3, 'virtualPhone': '0507-1446-8901', 'phone': '02-568-8896', 'routeUrl': 'http://m.map.naver.com/viewer/route.nhn?ename=%EB%AC%B4%ED%95%9C%EB%A6%AC%ED%95%84%20%EB%8C%80%EB%B0%95%EC%A7%91&ex=127.0278472&ey=37.4996749&edid=866289572', 'streetViewUrl': 'http://m.map.naver.com/viewer/panorama.nhn?street=on&pinType=site&pinId=866289572', 'street_panorama': 'IbQjrOl8tcn4g1OKGmVFbg==,63.30,10.00,127.0277321,37.4996174,120', 'microReview': '강남 무한리필 고기가 있는 강남대박집', 'roadAddr': '서울 강남구 테헤란로1길 20', 'commonAddr': '서울 강남구', 'addr': '역삼동 818 2층', 'blogCafeReviewCount': '500', 'bookingReviewCount': '0', 'totalReviewCount': '500', 'moreUGCReviewsPath': '/restaurants/fsasReviews?id=866289572&name=%EB%AC%B4%ED%95%9C%EB%A6%AC%ED%95%84%20%EB%8C%80%EB%B0%95%EC%A7%91&category=restaurant', 'moreFsasReviewsPath': '/restaurants/fsasReviews?id=866289572&name=%EB%AC%B4%ED%95%9C%EB%A6%AC%ED%95%84%20%EB%8C%80%EB%B0%95%EC%A7%91&category=restaurant', 'tags': ['삼겹살', '육회', '고기뷔페', '데이트', '불고기'], 'options': '예약,단체석,남/녀 화장실 구분', 'priceCategory': '2만원 대'}, {'id': '37577974', 'name': '봉우이층집 강남본점', 'businessCategory': 'restaurant', 'dbType': 'drt', 'category': '돼지고기구이', 'desc': '', 'hasBooking': False, 'hasNPay': False, 'x': '127.0274185', 'y': '37.5017996', 'distance': '8411.19', 'imageSrc': 'http://ldb.phinf.naver.net/20160222_56/14561310598550rG1F_JPEG/176172578079651_0.jpeg', 'imageCount': 14, 'phone': '02-553-8454', 'routeUrl': 'http://m.map.naver.com/viewer/route.nhn?ename=%EB%B4%89%EC%9A%B0%EC%9D%B4%EC%B8%B5%EC%A7%91%20%EA%B0%95%EB%82%A8%EB%B3%B8%EC%A0%90&ex=127.0274185&ey=37.5017996&edid=37577974', 'streetViewUrl': 'http://m.map.naver.com/viewer/panorama.nhn?street=on&pinType=site&pinId=37577974', 'street_panorama': '6XuI/233ynYem6VfsLP9mw==,94.66,10.00,127.0272883,37.5018101,120', 'microReview': '강남역 삼겹살 숙성되 더 맛있는 봉우이층집', 'roadAddr': '서울 강남구 봉은사로18길 76 스타 팰리스', 'commonAddr': '서울 강남구', 'addr': '역삼동 619-14', 'blogCafeReviewCount': '610', 'bookingReviewCount': '0', 'totalReviewCount': '610', 'moreUGCReviewsPath': '/restaurants/fsasReviews?id=37577974&name=%EB%B4%89%EC%9A%B0%EC%9D%B4%EC%B8%B5%EC%A7%91%20%EA%B0%95%EB%82%A8%EB%B3%B8%EC%A0%90&category=restaurant', 'moreFsasReviewsPath': '/restaurants/fsasReviews?id=37577974&name=%EB%B4%89%EC%9A%B0%EC%9D%B4%EC%B8%B5%EC%A7%91%20%EA%B0%95%EB%82%A8%EB%B3%B8%EC%A0%90&category=restaurant', 'tags': ['냉면', '삼겹살', '명이나물', '친절하고', '데이트'], 'options': '단체석,남/녀 화장실 구분,무선 인터넷', 'priceCategory': '2만원 대'}, {'id': '31110991', 'name': '닭갈비전', 'businessCategory': 'restaurant', 'dbType': 'drt', 'category': '닭갈비', 'desc': '', 'hasBooking': False, 'hasNPay': False, 'x': '127.0240520', 'y': '37.5020129', 'distance': '8241.56', 'imageSrc': 'http://ldb.phinf.naver.net/20160724_177/1469370989173Bht04_JPEG/176674636646141_2.jpeg', 'imageCount': 20, 'virtualPhone': '0507-1402-1568', 'phone': '02-537-1568', 'routeUrl': 'http://m.map.naver.com/viewer/route.nhn?ename=%EB%8B%AD%EA%B0%88%EB%B9%84%EC%A0%84&ex=127.0240520&ey=37.5020129&edid=31110991', 'streetViewUrl': 'http://m.map.naver.com/viewer/panorama.nhn?street=on&pinType=site&pinId=31110991', 'street_panorama': 'BkSpQQv1Pzi9YUY/sHcDSw==,80.03,10.00,127.0237813,37.5019651,120', 'microReview': '살얼음 동동 뜬 누룽주가 맛있는 강남역닭갈비 맛집', 'roadAddr': '서울 서초구 서초대로73길 54 강남디오빌 2층 닭갈비전', 'commonAddr': '서울 서초구', 'addr': '서초동 1309-1 강남디오빌 2층 닭갈비전', 'blogCafeReviewCount': '690', 'bookingReviewCount': '0', 'totalReviewCount': '690', 'moreUGCReviewsPath': '/restaurants/fsasReviews?id=31110991&name=%EB%8B%AD%EA%B0%88%EB%B9%84%EC%A0%84&category=restaurant', 'moreFsasReviewsPath': '/restaurants/fsasReviews?id=31110991&name=%EB%8B%AD%EA%B0%88%EB%B9%84%EC%A0%84&category=restaurant', 'tags': ['치즈닭갈비', '감자전', '밤막걸리', '친절한', '데이트'], 'options': '예약,단체석,주차', 'priceCategory': '2만원 대'}, {'id': '13177318', 'name': '호미불닭발강남점', 'businessCategory': 'restaurant', 'dbType': 'drt', 'category': '닭발', 'desc': '강남역 인근 음식점, 불닭발 전문점, 오돌별미, 계란찜 등 메뉴 서비스 안내.', 'hasBooking': False, 'hasNPay': False, 'x': '127.0272789', 'y': '37.5031288', 'distance': '8278.24', 'imageSrc': 'http://ldb.phinf.naver.net/20160602_287/1464870360770JlxKn_JPEG/13177318_01.jpg', 'imageCount': 31, 'phone': '02-501-9540', 'routeUrl': 'http://m.map.naver.com/viewer/route.nhn?ename=%ED%98%B8%EB%AF%B8%EB%B6%88%EB%8B%AD%EB%B0%9C%EA%B0%95%EB%82%A8%EC%A0%90&ex=127.0272789&ey=37.5031288&edid=13177318', 'streetViewUrl': 'http://m.map.naver.com/viewer/panorama.nhn?street=on&pinType=site&pinId=13177318', 'street_panorama': 'uJnDN/QvOfL4Q0IxsJe+cA==,-103.89,10.00,127.0273862,37.5031170,120', 'microReview': '강남닭발배달도 되는 화끈한맛 강남역 호미불닭발', 'roadAddr': '서울 강남구 봉은사로6길 30', 'commonAddr': '서울 강남구', 'addr': '역삼동 812-3', 'blogCafeReviewCount': '434', 'bookingReviewCount': '0', 'totalReviewCount': '434', 'moreUGCReviewsPath': '/restaurants/fsasReviews?id=13177318&name=%ED%98%B8%EB%AF%B8%EB%B6%88%EB%8B%AD%EB%B0%9C%EA%B0%95%EB%82%A8%EC%A0%90&category=restaurant', 'moreFsasReviewsPath': '/restaurants/fsasReviews?id=13177318&name=%ED%98%B8%EB%AF%B8%EB%B6%88%EB%8B%AD%EB%B0%9C%EA%B0%95%EB%82%A8%EC%A0%90&category=restaurant', 'tags': ['닭발', '주먹밥', '가정식', '시끌벅적한', '자극적인'], 'options': '예약,단체석,주차,포장,배달,무선 인터넷,남/녀 화장실 구분'}, {'id': '870437247', 'name': '진대감 강남역 삼성타운점', 'businessCategory': 'restaurant', 'dbType': 'drt', 'category': '소고기구이', 'desc': '', 'hasBooking': True, 'hasNPay': False, 'x': '127.0286641', 'y': '37.4933693', 'distance': '9280.54', 'imageSrc': 'http://ldb.phinf.naver.net/20181109_11/1541750123757MuQIj_JPEG/1.jpg', 'imageCount': 11, 'virtualPhone': '0507-1425-0148', 'phone': '02-587-0073', 'routeUrl': 'http://m.map.naver.com/viewer/route.nhn?ename=%EC%A7%84%EB%8C%80%EA%B0%90%20%EA%B0%95%EB%82%A8%EC%97%AD%20%EC%82%BC%EC%84%B1%ED%83%80%EC%9A%B4%EC%A0%90&ex=127.0286641&ey=37.4933693&edid=870437247', 'streetViewUrl': 'http://m.map.naver.com/viewer/panorama.nhn?street=on&pinType=site&pinId=870437247', 'street_panorama': 'NDVuM6dzBHGAmqbtFXkR4g==,-106.06,10.00,127.0289608,37.4934544,120', 'microReview': '회식장소 명품 차돌삼합 있는 곳', 'roadAddr': '서울 서초구 서초대로78길 50 우영빌딩', 'commonAddr': '서울 서초구', 'addr': '서초동 1330-13', 'broadcastInfo': {'program': '생방송투데이'}, 'blogCafeReviewCount': '141', 'bookingReviewCount': '27', 'totalReviewCount': '168', 'naverBookingUrl': 'https://booking.naver.com/booking/6/bizes/193555/search', 'bookingBusinessId': '193555', 'moreBookingReviewsPath': '/restaurants/bookingReviews?bookingBusinessId=193555&name=%EC%A7%84%EB%8C%80%EA%B0%90%20%EA%B0%95%EB%82%A8%EC%97%AD%20%EC%82%BC%EC%84%B1%ED%83%80%EC%9A%B4%EC%A0%90&category=restaurant', 'moreUGCReviewsPath': '/restaurants/fsasReviews?id=870437247&name=%EC%A7%84%EB%8C%80%EA%B0%90%20%EA%B0%95%EB%82%A8%EC%97%AD%20%EC%82%BC%EC%84%B1%ED%83%80%EC%9A%B4%EC%A0%90&category=restaurant', 'moreFsasReviewsPath': '/restaurants/fsasReviews?id=870437247&name=%EC%A7%84%EB%8C%80%EA%B0%90%20%EA%B0%95%EB%82%A8%EC%97%AD%20%EC%82%BC%EC%84%B1%ED%83%80%EC%9A%B4%EC%A0%90&category=restaurant', 'tags': ['설렁탕', '갓김치', '샤브샤브', '냉면', '초밥'], 'options': '예약,단체석,주차,포장,무선 인터넷,남/녀 화장실 구분,장애인 편의시설', 'priceCategory': '1만원 대'}, {'id': '37085684', 'name': '더막창스', 'businessCategory': 'restaurant', 'dbType': 'drt', 'category': '곱창,막창,양', 'desc': '', 'hasBooking': False, 'hasNPay': False, 'x': '127.0249790', 'y': '37.5009624', 'distance': '8383.57', 'imageSrc': 'http://ldb.phinf.naver.net/20160510_145/14628374452721OKs1_PNG/176460487425120_0.png', 'imageCount': 32, 'virtualPhone': '0507-1433-8592', 'phone': '02-533-8592', 'routeUrl': 'http://m.map.naver.com/viewer/route.nhn?ename=%EB%8D%94%EB%A7%89%EC%B0%BD%EC%8A%A4&ex=127.0249790&ey=37.5009624&edid=37085684', 'streetViewUrl': 'http://m.map.naver.com/viewer/panorama.nhn?street=on&pinType=site&pinId=37085684', 'street_panorama': 'sqLQdM3YbjN+KF4BrX2kvA==,59.76,10.00,127.0249060,37.5009198,120', 'microReview': '식객남녀에 나온 소문난 강남막창맛집', 'roadAddr': '서울 서초구 서초대로77길 37 서초동월드 106호', 'commonAddr': '서울 서초구', 'addr': '서초동 1308-10', 'broadcastInfo': {'program': '식객남녀잘먹었습니다3'}, 'blogCafeReviewCount': '220', 'bookingReviewCount': '0', 'totalReviewCount': '220', 'moreUGCReviewsPath': '/restaurants/fsasReviews?id=37085684&name=%EB%8D%94%EB%A7%89%EC%B0%BD%EC%8A%A4&category=restaurant', 'moreFsasReviewsPath': '/restaurants/fsasReviews?id=37085684&name=%EB%8D%94%EB%A7%89%EC%B0%BD%EC%8A%A4&category=restaurant', 'tags': ['막창', '소곱창', '삼겹살', '데이트', '김치말이국수'], 'options': '예약,무선 인터넷,남/녀 화장실 구분', 'priceCategory': '2만원 대'}, {'id': '19753615', 'name': '점례네 강남본점', 'businessCategory': 'restaurant', 'dbType': 'drt', 'category': '육류,고기요리', 'desc': '한식 요리 전문점으로 한우, 암돼지 갈비, 간장게장 등이 대표 메뉴인 음식점', 'promotionTitle': '테이블당 간장게장.보리굴비(선택1) 서비스 제공!', 'hasBooking': True, 'hasNPay': False, 'x': '127.0295900', 'y': '37.4958770', 'distance': '9076.77', 'imageSrc': 'http://ldb.phinf.naver.net/20150911_223/1441974084639s5fmG_JPEG/166761513922219_7.jpg', 'imageCount': 17, 'virtualPhone': '0507-1400-1588', 'phone': '02-561-1588', 'routeUrl': 'http://m.map.naver.com/viewer/route.nhn?ename=%EC%A0%90%EB%A1%80%EB%84%A4%20%EA%B0%95%EB%82%A8%EB%B3%B8%EC%A0%90&ex=127.0295900&ey=37.4958770&edid=19753615', 'streetViewUrl': 'http://m.map.naver.com/viewer/panorama.nhn?street=on&pinType=site&pinId=19753615', 'street_panorama': 'jF62Ffo2hf/PfMx6Z0YgEg==,-79.03,10.00,127.0297665,37.4958637,120', 'roadAddr': '서울 강남구 테헤란로2길 36', 'commonAddr': '서울 강남구', 'addr': '역삼동 826-9', 'blogCafeReviewCount': '57', 'bookingReviewCount': '40', 'totalReviewCount': '97', 'naverBookingUrl': 'https://booking.naver.com/booking/6/bizes/141138/search', 'bookingBusinessId': '141138', 'moreBookingReviewsPath': '/restaurants/bookingReviews?bookingBusinessId=141138&name=%EC%A0%90%EB%A1%80%EB%84%A4%20%EA%B0%95%EB%82%A8%EB%B3%B8%EC%A0%90&category=restaurant', 'moreUGCReviewsPath': '/restaurants/fsasReviews?id=19753615&name=%EC%A0%90%EB%A1%80%EB%84%A4%20%EA%B0%95%EB%82%A8%EB%B3%B8%EC%A0%90&category=restaurant', 'moreFsasReviewsPath': '/restaurants/fsasReviews?id=19753615&name=%EC%A0%90%EB%A1%80%EB%84%A4%20%EA%B0%95%EB%82%A8%EB%B3%B8%EC%A0%90&category=restaurant', 'tags': ['육회비빔밥', '간장게장', '양념게장', '신선한', '한우'], 'options': '예약,단체석,주차,발렛파킹,남/녀 화장실 구분', 'priceCategory': '5만원 대'}, {'id': '36215113', 'name': '신맵당 강남역점', 'businessCategory': 'restaurant', 'dbType': 'drt', 'category': '신맵당', 'desc': '서울특별시 강남구 역삼동 위치, 치즈갈비찜, 칵테일 등 전문점.', 'hasBooking': False, 'hasNPay': False, 'x': '127.0271279', 'y': '37.5024419', 'distance': '8336.70', 'imageSrc': 'http://ldb.phinf.naver.net/20160712_216/1468312197658vV4QE_JPEG/176662575973033_0.jpeg', 'imageCount': 10, 'virtualPhone': '0507-1405-3767', 'phone': '02-569-3767', 'routeUrl': 'http://m.map.naver.com/viewer/route.nhn?ename=%EC%8B%A0%EB%A7%B5%EB%8B%B9%20%EA%B0%95%EB%82%A8%EC%97%AD%EC%A0%90&ex=127.0271279&ey=37.5024419&edid=36215113', 'streetViewUrl': 'http://m.map.naver.com/viewer/panorama.nhn?street=on&pinType=site&pinId=36215113', 'street_panorama': '7Q7dWe3VG6l+Xfkhy7aWsA==,56.92,10.00,127.0270362,37.5024078,120', 'microReview': '강남 매운갈비찜 보다 더 맛있는 샤브갈비찜', 'roadAddr': '서울 강남구 봉은사로4길 37', 'commonAddr': '서울 강남구', 'addr': '역삼동 812-18 2층', 'blogCafeReviewCount': '494', 'bookingReviewCount': '0', 'totalReviewCount': '494', 'moreUGCReviewsPath': '/restaurants/fsasReviews?id=36215113&name=%EC%8B%A0%EB%A7%B5%EB%8B%B9%20%EA%B0%95%EB%82%A8%EC%97%AD%EC%A0%90&category=restaurant', 'moreFsasReviewsPath': '/restaurants/fsasReviews?id=36215113&name=%EC%8B%A0%EB%A7%B5%EB%8B%B9%20%EA%B0%95%EB%82%A8%EC%97%AD%EC%A0%90&category=restaurant', 'tags': ['소갈비찜', '매운갈비', '돼지갈비', '친절한', '데이트'], 'options': '예약,포장,무선 인터넷,남/녀 화장실 구분,단체석,배달', 'priceCategory': '2만원 대'}, {'id': '188375025', 'name': '김덕후의곱창조 강남점', 'businessCategory': 'restaurant', 'dbType': 'drt', 'category': '곱창,막창,양', 'desc': '', 'hasBooking': False, 'hasNPay': False, 'x': '127.0278219', 'y': '37.5002097', 'distance': '8581.47', 'imageSrc': 'http://ldb.phinf.naver.net/20170113_98/1484267897559C6wrY_JPEG/186063496837.jpg', 'imageCount': 1, 'phone': '02-568-8887', 'routeUrl': 'http://m.map.naver.com/viewer/route.nhn?ename=%EA%B9%80%EB%8D%95%ED%9B%84%EC%9D%98%EA%B3%B1%EC%B0%BD%EC%A1%B0%20%EA%B0%95%EB%82%A8%EC%A0%90&ex=127.0278219&ey=37.5002097&edid=188375025', 'streetViewUrl': 'http://m.map.naver.com/viewer/panorama.nhn?street=on&pinType=site&pinId=188375025', 'street_panorama': '8sm51Mk5fmo2z/Daub6cCQ==,139.48,10.00,127.0277065,37.5002476,120', 'microReview': '시험 공부 안하고 강남 가서 곱창', 'roadAddr': '서울 강남구 테헤란로1길 28-4', 'commonAddr': '서울 강남구', 'addr': '역삼동 817-14', 'blogCafeReviewCount': '161', 'bookingReviewCount': '0', 'totalReviewCount': '161', 'moreUGCReviewsPath': '/restaurants/fsasReviews?id=188375025&name=%EA%B9%80%EB%8D%95%ED%9B%84%EC%9D%98%EA%B3%B1%EC%B0%BD%EC%A1%B0%20%EA%B0%95%EB%82%A8%EC%A0%90&category=restaurant', 'moreFsasReviewsPath': '/restaurants/fsasReviews?id=188375025&name=%EA%B9%80%EB%8D%95%ED%9B%84%EC%9D%98%EA%B3%B1%EC%B0%BD%EC%A1%B0%20%EA%B0%95%EB%82%A8%EC%A0%90&category=restaurant', 'tags': ['곱창무한리필', '순두부찌개', '막창', '친절하고', '옛날도시락'], 'priceCategory': '5만원 대'}, {'id': '1964494899', 'name': '성성식당 역삼지점', 'businessCategory': 'restaurant', 'dbType': 'drt', 'category': '닭볶음탕', 'desc': '', 'hasBooking': False, 'hasNPay': False, 'x': '127.0275406', 'y': '37.5002333', 'distance': '8566.61', 'imageSrc': 'http://ldb.phinf.naver.net/20171116_236/1510803990066qoYgh_JPEG/d0Czvt0e_kPJDg9tx1AnwuP_.jpg', 'imageCount': 4, 'phone': '02-566-3864', 'routeUrl': 'http://m.map.naver.com/viewer/route.nhn?ename=%EC%84%B1%EC%84%B1%EC%8B%9D%EB%8B%B9%20%EC%97%AD%EC%82%BC%EC%A7%80%EC%A0%90&ex=127.0275406&ey=37.5002333&edid=1964494899', 'streetViewUrl': 'http://m.map.naver.com/viewer/panorama.nhn?street=on&pinType=site&pinId=1964494899', 'street_panorama': 'LlRN+zj1v6drB78cuSYiEw==,-69.52,10.00,127.0275962,37.5002125,120', 'microReview': '닭볶음탕이 맛있는 백종원 성성식당', 'roadAddr': '서울 강남구 테헤란로1길 30 2층', 'commonAddr': '서울 강남구', 'addr': '역삼동 817-7', 'blogCafeReviewCount': '185', 'bookingReviewCount': '0', 'totalReviewCount': '185', 'moreUGCReviewsPath': '/restaurants/fsasReviews?id=1964494899&name=%EC%84%B1%EC%84%B1%EC%8B%9D%EB%8B%B9%20%EC%97%AD%EC%82%BC%EC%A7%80%EC%A0%90&category=restaurant', 'moreFsasReviewsPath': '/restaurants/fsasReviews?id=1964494899&name=%EC%84%B1%EC%84%B1%EC%8B%9D%EB%8B%B9%20%EC%97%AD%EC%82%BC%EC%A7%80%EC%A0%90&category=restaurant', 'options': '포장,남/녀 화장실 구분,무선 인터넷', 'priceCategory': '2만원 대'}, {'id': '33989451', 'name': '마포한우곱창', 'businessCategory': 'restaurant', 'dbType': 'drt', 'category': '곱창,막창,양', 'desc': '서울특별시 서초구 서초4동 위치, 곱창 전문점.', 'hasBooking': True, 'hasNPay': False, 'x': '127.0246196', 'y': '37.5011788', 'distance': '8347.04', 'imageSrc': 'http://ldb.phinf.naver.net/20150825_163/1440483667601CmuJE_JPEG/166775555125241_0.jpg', 'imageCount': 32, 'virtualPhone': '0507-1402-4416', 'phone': '02-535-4416', 'routeUrl': 'http://m.map.naver.com/viewer/route.nhn?ename=%EB%A7%88%ED%8F%AC%ED%95%9C%EC%9A%B0%EA%B3%B1%EC%B0%BD&ex=127.0246196&ey=37.5011788&edid=33989451', 'streetViewUrl': 'http://m.map.naver.com/viewer/panorama.nhn?street=on&pinType=site&pinId=33989451', 'street_panorama': 'xGh89bg5KxXesJ0LRThrtw==,-108.15,10.00,127.0247622,37.5012254,120', 'microReview': '식신로드에도 나온 곱창 맛집', 'roadAddr': '서울 서초구 서초대로73길 42 강남역리가스퀘어', 'commonAddr': '서울 서초구', 'addr': '서초동 1308-26', 'broadcastInfo': {'program': '2TV생생정보'}, 'blogCafeReviewCount': '160', 'bookingReviewCount': '28', 'totalReviewCount': '188', 'naverBookingUrl': 'https://booking.naver.com/booking/6/bizes/146623/search', 'bookingBusinessId': '146623', 'moreBookingReviewsPath': '/restaurants/bookingReviews?bookingBusinessId=146623&name=%EB%A7%88%ED%8F%AC%ED%95%9C%EC%9A%B0%EA%B3%B1%EC%B0%BD&category=restaurant', 'moreUGCReviewsPath': '/restaurants/fsasReviews?id=33989451&name=%EB%A7%88%ED%8F%AC%ED%95%9C%EC%9A%B0%EA%B3%B1%EC%B0%BD&category=restaurant', 'moreFsasReviewsPath': '/restaurants/fsasReviews?id=33989451&name=%EB%A7%88%ED%8F%AC%ED%95%9C%EC%9A%B0%EA%B3%B1%EC%B0%BD&category=restaurant', 'tags': ['곱창무한리필', '소곱창', '한우', '싱싱한', '막창'], 'options': '예약,단체석,주차,남/녀 화장실 구분', 'priceCategory': '5만원 대'}, {'id': '37486499', 'name': '반갑다 하대포', 'businessCategory': 'restaurant', 'dbType': 'drt', 'category': '돼지고기구이', 'desc': '', 'hasBooking': True, 'hasNPay': False, 'x': '127.0313693', 'y': '37.4940739', 'distance': '9329.08', 'imageSrc': 'http://ldb.phinf.naver.net/20160326_197/1458962290694Wctzb_JPEG/176276524830395_0.jpeg', 'imageCount': 55, 'virtualPhone': '0507-1402-6823', 'phone': '02-555-6823', 'routeUrl': 'http://m.map.naver.com/viewer/route.nhn?ename=%EB%B0%98%EA%B0%91%EB%8B%A4%20%ED%95%98%EB%8C%80%ED%8F%AC&ex=127.0313693&ey=37.4940739&edid=37486499', 'streetViewUrl': 'http://m.map.naver.com/viewer/panorama.nhn?street=on&pinType=site&pinId=37486499', 'street_panorama': '3fJ7jhKzS/OrCPir+ao7Pw==,-121.84,10.00,127.0315104,37.4941613,120', 'microReview': '강남역 삼겹살 맛집 두툼한 숙성통구이', 'roadAddr': '서울 강남구 역삼로3길 7', 'commonAddr': '서울 강남구', 'addr': '역삼동 831-40', 'blogCafeReviewCount': '183', 'bookingReviewCount': '123', 'totalReviewCount': '306', 'naverBookingUrl': 'http://booking.naver.com/6/booking/svc/136689/search', 'bookingBusinessId': '136689', 'moreBookingReviewsPath': '/restaurants/bookingReviews?bookingBusinessId=136689&name=%EB%B0%98%EA%B0%91%EB%8B%A4%20%ED%95%98%EB%8C%80%ED%8F%AC&category=restaurant', 'moreUGCReviewsPath': '/restaurants/fsasReviews?id=37486499&name=%EB%B0%98%EA%B0%91%EB%8B%A4%20%ED%95%98%EB%8C%80%ED%8F%AC&category=restaurant', 'moreFsasReviewsPath': '/restaurants/fsasReviews?id=37486499&name=%EB%B0%98%EA%B0%91%EB%8B%A4%20%ED%95%98%EB%8C%80%ED%8F%AC&category=restaurant', 'tags': ['갈치', '삼겹살', '생갈비', '친절한', '데이트'], 'options': '예약,단체석,주차,발렛파킹,무선 인터넷,남/녀 화장실 구분', 'priceCategory': '5만원 대'}, {'id': '38751543', 'name': '무한리필 소고기 무쏘 강남역 본점', 'businessCategory': 'restaurant', 'dbType': 'drt', 'category': '소고기구이', 'desc': '', 'hasBooking': False, 'hasNPay': False, 'x': '127.0249756', 'y': '37.5010142', 'distance': '8378.40', 'imageSrc': 'http://ldb.phinf.naver.net/20170527_244/1495895401719Guz6f_JPEG/186477636021571_0.jpeg', 'imageCount': 23, 'virtualPhone': '0507-1415-3695', 'phone': '02-3482-3695', 'routeUrl': 'http://m.map.naver.com/viewer/route.nhn?ename=%EB%AC%B4%ED%95%9C%EB%A6%AC%ED%95%84%20%EC%86%8C%EA%B3%A0%EA%B8%B0%20%EB%AC%B4%EC%8F%98%20%EA%B0%95%EB%82%A8%EC%97%AD%20%EB%B3%B8%EC%A0%90&ex=127.0249756&ey=37.5010142&edid=38751543', 'streetViewUrl': 'http://m.map.naver.com/viewer/panorama.nhn?street=on&pinType=site&pinId=38751543', 'street_panorama': 'khMhDSJdAuNpKjOhczRQAw==,80.37,10.00,127.0248700,37.5009962,120', 'microReview': '강남역 고기집 무쏘에서 즐기는 무한리필 소고기', 'roadAddr': '서울 서초구 서초대로77길 37 서초동월드', 'commonAddr': '서울 서초구', 'addr': '서초4동 1308-10 103호', 'blogCafeReviewCount': '535', 'bookingReviewCount': '0', 'totalReviewCount': '535', 'moreUGCReviewsPath': '/restaurants/fsasReviews?id=38751543&name=%EB%AC%B4%ED%95%9C%EB%A6%AC%ED%95%84%20%EC%86%8C%EA%B3%A0%EA%B8%B0%20%EB%AC%B4%EC%8F%98%20%EA%B0%95%EB%82%A8%EC%97%AD%20%EB%B3%B8%EC%A0%90&category=restaurant', 'moreFsasReviewsPath': '/restaurants/fsasReviews?id=38751543&name=%EB%AC%B4%ED%95%9C%EB%A6%AC%ED%95%84%20%EC%86%8C%EA%B3%A0%EA%B8%B0%20%EB%AC%B4%EC%8F%98%20%EA%B0%95%EB%82%A8%EC%97%AD%20%EB%B3%B8%EC%A0%90&category=restaurant', 'tags': ['꽃등심', '흑돼지', '냉면', '친절한', '데이트'], 'options': '예약,단체석,주차,남/녀 화장실 구분', 'priceCategory': '5만원 대'}, {'id': '36016037', 'name': '곱창이야기 강남점', 'businessCategory': 'restaurant', 'dbType': 'drt', 'category': '곱창,막창,양', 'desc': '서울특별시 서초구 서초동 위치, 곱창, 막창 등 전문점.', 'hasBooking': False, 'hasNPay': False, 'x': '127.0242596', 'y': '37.5017575', 'distance': '8275.32', 'imageSrc': 'http://blogfiles.naver.net/20151026_192/365star123_14458268069665vjB9_JPEG/%B8%AE%BF%A3%C4%C9%C0%CC008.JPG#740x555', 'imageCount': 6, 'phone': '02-535-2771', 'routeUrl': 'http://m.map.naver.com/viewer/route.nhn?ename=%EA%B3%B1%EC%B0%BD%EC%9D%B4%EC%95%BC%EA%B8%B0%20%EA%B0%95%EB%82%A8%EC%A0%90&ex=127.0242596&ey=37.5017575&edid=36016037', 'streetViewUrl': 'http://m.map.naver.com/viewer/panorama.nhn?street=on&pinType=site&pinId=36016037', 'street_panorama': 'BXM/PmMa4Cs4tBliCTOisA==,-20.71,10.00,127.0243022,37.5015955,120', 'microReview': '강남역 곱창이야기 신기한 가루 뿌려주는 곱창', 'roadAddr': '서울 서초구 강남대로69길 10 서호호텔', 'commonAddr': '서울 서초구', 'addr': '서초동 1309-6', 'blogCafeReviewCount': '177', 'bookingReviewCount': '0', 'totalReviewCount': '177', 'moreUGCReviewsPath': '/restaurants/fsasReviews?id=36016037&name=%EA%B3%B1%EC%B0%BD%EC%9D%B4%EC%95%BC%EA%B8%B0%20%EA%B0%95%EB%82%A8%EC%A0%90&category=restaurant', 'moreFsasReviewsPath': '/restaurants/fsasReviews?id=36016037&name=%EA%B3%B1%EC%B0%BD%EC%9D%B4%EC%95%BC%EA%B8%B0%20%EA%B0%95%EB%82%A8%EC%A0%90&category=restaurant', 'tags': ['소곱창', '곱창전골', '막창', '친절해서', '데이트']}, {'id': '1665839038', 'name': '본토닭갈비', 'businessCategory': 'restaurant', 'dbType': 'drt', 'category': '닭갈비', 'desc': '', 'hasBooking': False, 'hasNPay': False, 'x': '127.0271164', 'y': '37.5024596', 'distance': '8334.49', 'imageSrc': 'http://ldb.phinf.naver.net/20180115_299/1515991972316NGGFx_JPEG/oFFBUyHpcnTLF-7bxsI0pePF.JPG.jpg', 'imageCount': 4, 'phone': '02-508-6656', 'routeUrl': 'http://m.map.naver.com/viewer/route.nhn?ename=%EB%B3%B8%ED%86%A0%EB%8B%AD%EA%B0%88%EB%B9%84&ex=127.0271164&ey=37.5024596&edid=1665839038', 'streetViewUrl': 'http://m.map.naver.com/viewer/panorama.nhn?street=on&pinType=site&pinId=1665839038', 'street_panorama': '7Q7dWe3VG6l+Xfkhy7aWsA==,56.92,10.00,127.0270362,37.5024078,120', 'microReview': '춘천식 전통 양념으로 맛있는 닭갈비', 'roadAddr': '서울 강남구 봉은사로4길 37', 'commonAddr': '서울 강남구', 'addr': '역삼동 812-18', 'blogCafeReviewCount': '293', 'bookingReviewCount': '0', 'totalReviewCount': '293', 'moreUGCReviewsPath': '/restaurants/fsasReviews?id=1665839038&name=%EB%B3%B8%ED%86%A0%EB%8B%AD%EA%B0%88%EB%B9%84&category=restaurant', 'moreFsasReviewsPath': '/restaurants/fsasReviews?id=1665839038&name=%EB%B3%B8%ED%86%A0%EB%8B%AD%EA%B0%88%EB%B9%84&category=restaurant', 'options': '포장,남/녀 화장실 구분,주차,무선 인터넷', 'priceCategory': '1만원 대'}, {'id': '30808810', 'name': '제주흑다돈 강남지점', 'businessCategory': 'restaurant', 'dbType': 'drt', 'category': '돼지고기구이', 'desc': '제주흑돼지 전문점, 오겹살, 목살, 생구이 등 안내.', 'hasBooking': False, 'hasNPay': False, 'x': '127.0249792', 'y': '37.5004843', 'distance': '8429.99', 'imageSrc': 'http://ldb.phinf.naver.net/20150901_169/1441108892987LQ9Un_JPEG/SUBMIT_1344489921151_30808810.jpg', 'imageCount': 6, 'phone': '02-3482-2090', 'routeUrl': 'http://m.map.naver.com/viewer/route.nhn?ename=%EC%A0%9C%EC%A3%BC%ED%9D%91%EB%8B%A4%EB%8F%88%20%EA%B0%95%EB%82%A8%EC%A7%80%EC%A0%90&ex=127.0249792&ey=37.5004843&edid=30808810', 'streetViewUrl': 'http://m.map.naver.com/viewer/panorama.nhn?street=on&pinType=site&pinId=30808810', 'street_panorama': 'YWHIgnDGuAGOlHVMRBy1vw==,-7.90,10.00,127.0249651,37.5003590,120', 'microReview': '모임하기 좋은장소 흑돼지가 맛있는곳', 'roadAddr': '서울 서초구 강남대로65길 10', 'commonAddr': '서울 서초구', 'addr': '서초동 1308-15 1,2층', 'blogCafeReviewCount': '274', 'bookingReviewCount': '0', 'totalReviewCount': '274', 'moreUGCReviewsPath': '/restaurants/fsasReviews?id=30808810&name=%EC%A0%9C%EC%A3%BC%ED%9D%91%EB%8B%A4%EB%8F%88%20%EA%B0%95%EB%82%A8%EC%A7%80%EC%A0%90&category=restaurant', 'moreFsasReviewsPath': '/restaurants/fsasReviews?id=30808810&name=%EC%A0%9C%EC%A3%BC%ED%9D%91%EB%8B%A4%EB%8F%88%20%EA%B0%95%EB%82%A8%EC%A7%80%EC%A0%90&category=restaurant', 'tags': ['흑돼지', '쌈밥', '삼겹살', '친절하고', '데이트'], 'options': '예약,단체석,무선 인터넷,남/녀 화장실 구분'}, {'id': '20095313', 'name': '옛골토성 강남점', 'businessCategory': 'restaurant', 'dbType': 'drt', 'category': '돼지고기구이', 'desc': '참나무 장작 바비큐 전문점.', 'hasBooking': True, 'hasNPay': False, 'x': '127.0264466', 'y': '37.5018782', 'distance': '8359.85', 'imageSrc': 'http://ldb.phinf.naver.net/20150831_95/14410331913570MWvs_JPEG/SUBMIT_1326358503371_20095313.jpg', 'imageCount': 16, 'virtualPhone': '0507-1389-5292', 'phone': '02-538-5292', 'routeUrl': 'http://m.map.naver.com/viewer/route.nhn?ename=%EC%98%9B%EA%B3%A8%ED%86%A0%EC%84%B1%20%EA%B0%95%EB%82%A8%EC%A0%90&ex=127.0264466&ey=37.5018782&edid=20095313', 'streetViewUrl': 'http://m.map.naver.com/viewer/panorama.nhn?street=on&pinType=site&pinId=20095313', 'street_panorama': '/2Nz9xePoewwuCQZ5DLzWQ==,-105.78,10.00,127.0266252,37.5019285,120', 'roadAddr': '서울 강남구 강남대로 442 흥국생명빌딩', 'commonAddr': '서울 강남구', 'addr': '역삼동 814-5 흥국생명건물 C동 1층', 'blogCafeReviewCount': '98', 'bookingReviewCount': '0', 'totalReviewCount': '98', 'naverBookingUrl': 'https://booking.naver.com/booking/6/bizes/229066/search', 'bookingBusinessId': '229066', 'moreBookingReviewsPath': '/restaurants/bookingReviews?bookingBusinessId=229066&name=%EC%98%9B%EA%B3%A8%ED%86%A0%EC%84%B1%20%EA%B0%95%EB%82%A8%EC%A0%90&category=restaurant', 'moreUGCReviewsPath': '/restaurants/fsasReviews?id=20095313&name=%EC%98%9B%EA%B3%A8%ED%86%A0%EC%84%B1%20%EA%B0%95%EB%82%A8%EC%A0%90&category=restaurant', 'moreFsasReviewsPath': '/restaurants/fsasReviews?id=20095313&name=%EC%98%9B%EA%B3%A8%ED%86%A0%EC%84%B1%20%EA%B0%95%EB%82%A8%EC%A0%90&category=restaurant', 'tags': ['오리고기', '삼겹살', '오리구이', '연말모임', '연잎밥'], 'options': '예약,단체석,주차,포장,무선 인터넷,남/녀 화장실 구분', 'priceCategory': '7만원 대'}, {'id': '31906443', 'name': '마포갈비', 'businessCategory': 'restaurant', 'dbType': 'drt', 'category': '육류,고기요리', 'desc': '삼겹살, 돼지갈비 전문점.', 'hasBooking': False, 'hasNPay': False, 'x': '127.0250896', 'y': '37.5007208', 'distance': '8411.79', 'imageSrc': 'http://blogfiles.naver.net/20160315_216/hipster-crew_1458051419827YjRxN_JPEG/IMG_4157.JPG#900x600', 'imageCount': 6, 'phone': '02-3482-0072', 'routeUrl': 'http://m.map.naver.com/viewer/route.nhn?ename=%EB%A7%88%ED%8F%AC%EA%B0%88%EB%B9%84&ex=127.0250896&ey=37.5007208&edid=31906443', 'streetViewUrl': 'http://m.map.naver.com/viewer/panorama.nhn?street=on&pinType=site&pinId=31906443', 'street_panorama': 'QxQ0EQobZUhef26imrx/uQ==,99.46,10.00,127.0250138,37.5006905,120', 'microReview': '회식장소로 추천하는 강남역 삼겹살맛집', 'roadAddr': '서울 서초구 서초대로75길 36', 'commonAddr': '서울 서초구', 'addr': '서초4동 1308-11', 'blogCafeReviewCount': '515', 'bookingReviewCount': '0', 'totalReviewCount': '515', 'moreUGCReviewsPath': '/restaurants/fsasReviews?id=31906443&name=%EB%A7%88%ED%8F%AC%EA%B0%88%EB%B9%84&category=restaurant', 'moreFsasReviewsPath': '/restaurants/fsasReviews?id=31906443&name=%EB%A7%88%ED%8F%AC%EA%B0%88%EB%B9%84&category=restaurant', 'tags': ['돼지갈비', '삼겹살', '양념갈비', '친절함', '싱싱한']}, {'id': '20767050', 'name': '한돈애', 'businessCategory': 'restaurant', 'dbType': 'drt', 'category': '돼지고기구이', 'desc': '직화구이 전문, 삼겹, 돼지, 소갈비살 등 안내.', 'hasBooking': False, 'hasNPay': False, 'x': '127.0273909', 'y': '37.4949253', 'distance': '9074.71', 'imageSrc': 'http://ldb.phinf.naver.net/20161105_248/1478320831905D466O_JPEG/177055537051718_0.jpeg', 'imageCount': 41, 'phone': '02-583-5021', 'routeUrl': 'http://m.map.naver.com/viewer/route.nhn?ename=%ED%95%9C%EB%8F%88%EC%95%A0&ex=127.0273909&ey=37.4949253&edid=20767050', 'streetViewUrl': 'http://m.map.naver.com/viewer/panorama.nhn?street=on&pinType=site&pinId=20767050', 'street_panorama': '/TQWOQ0/LjQxADkxEtsBGw==,68.09,10.00,127.0271464,37.4948268,120', 'microReview': '강남역회식장소 숙성꽃삼겹살 맛있는 집', 'roadAddr': '서울 서초구 서초대로74길 29', 'commonAddr': '서울 서초구', 'addr': '서초동 1327-29', 'broadcastInfo': {'program': '생방송투데이'}, 'blogCafeReviewCount': '156', 'bookingReviewCount': '0', 'totalReviewCount': '156', 'moreUGCReviewsPath': '/restaurants/fsasReviews?id=20767050&name=%ED%95%9C%EB%8F%88%EC%95%A0&category=restaurant', 'moreFsasReviewsPath': '/restaurants/fsasReviews?id=20767050&name=%ED%95%9C%EB%8F%88%EC%95%A0&category=restaurant', 'tags': ['삼겹살', '김치전', '갈매기살', '프라이빗', '신선한'], 'options': '예약,단체석,주차,무선 인터넷,남/녀 화장실 구분', 'priceCategory': '5만원 대'}, {'id': '1017596309', 'name': '60년전통신촌황소곱창', 'businessCategory': 'restaurant', 'dbType': 'drt', 'category': '곱창,막창,양', 'desc': '', 'hasBooking': False, 'hasNPay': False, 'x': '127.0271834', 'y': '37.5018556', 'distance': '8395.18', 'imageSrc': 'http://ldb.phinf.naver.net/20180320_73/1521506964448bvTI4_JPEG/B_3FLWTJAo4HftEwbW9WayLe.jpg', 'imageCount': 3, 'virtualPhone': '0507-1303-2640', 'phone': '02-556-2640', 'routeUrl': 'http://m.map.naver.com/viewer/route.nhn?ename=60%EB%85%84%EC%A0%84%ED%86%B5%EC%8B%A0%EC%B4%8C%ED%99%A9%EC%86%8C%EA%B3%B1%EC%B0%BD&ex=127.0271834&ey=37.5018556&edid=1017596309', 'streetViewUrl': 'http://m.map.naver.com/viewer/panorama.nhn?street=on&pinType=site&pinId=1017596309', 'street_panorama': '6XuI/233ynYem6VfsLP9mw==,-68.37,10.00,127.0272883,37.5018101,120', 'microReview': '곱창 맛집 마마무 화사도 다녀간 신촌황소곱창', 'roadAddr': '서울 강남구 강남대로100길 13', 'commonAddr': '서울 강남구', 'addr': '역삼동 619-5', 'blogCafeReviewCount': '237', 'bookingReviewCount': '0', 'totalReviewCount': '237', 'moreUGCReviewsPath': '/restaurants/fsasReviews?id=1017596309&name=60%EB%85%84%EC%A0%84%ED%86%B5%EC%8B%A0%EC%B4%8C%ED%99%A9%EC%86%8C%EA%B3%B1%EC%B0%BD&category=restaurant', 'moreFsasReviewsPath': '/restaurants/fsasReviews?id=1017596309&name=60%EB%85%84%EC%A0%84%ED%86%B5%EC%8B%A0%EC%B4%8C%ED%99%A9%EC%86%8C%EA%B3%B1%EC%B0%BD&category=restaurant', 'options': '예약,단체석,주차,포장,남/녀 화장실 구분'}, {'id': '36929070', 'name': '됐소 강남점', 'businessCategory': 'restaurant', 'dbType': 'drt', 'category': '육류,고기요리', 'desc': '', 'hasBooking': False, 'hasNPay': False, 'x': '127.0284751', 'y': '37.4936170', 'distance': '9248.35', 'imageSrc': 'http://ldb.phinf.naver.net/20150901_126/1441109664792M7fk7_JPEG/SUBMIT_1437896854503_36929070.jpg', 'imageCount': 15, 'virtualPhone': '0507-1332-8588', 'phone': '02-586-8588', 'routeUrl': 'http://m.map.naver.com/viewer/route.nhn?ename=%EB%90%90%EC%86%8C%20%EA%B0%95%EB%82%A8%EC%A0%90&ex=127.0284751&ey=37.4936170&edid=36929070', 'streetViewUrl': 'http://m.map.naver.com/viewer/panorama.nhn?street=on&pinType=site&pinId=36929070', 'street_panorama': 'Vy5YH3JA5Gs5dqWFz5dsKw==,-114.51,10.00,127.0288104,37.4937694,120', 'microReview': '회식장소 하기좋은 강남역 고깃집', 'roadAddr': '서울 서초구 서초대로78길 46 익산빌딩 2, 3층', 'commonAddr': '서울 서초구', 'addr': '서초동 1330-15 익산빌딩 2, 3층', 'blogCafeReviewCount': '218', 'bookingReviewCount': '0', 'totalReviewCount': '218', 'moreUGCReviewsPath': '/restaurants/fsasReviews?id=36929070&name=%EB%90%90%EC%86%8C%20%EA%B0%95%EB%82%A8%EC%A0%90&category=restaurant', 'moreFsasReviewsPath': '/restaurants/fsasReviews?id=36929070&name=%EB%90%90%EC%86%8C%20%EA%B0%95%EB%82%A8%EC%A0%90&category=restaurant', 'tags': ['한우', '삼겹살', '꽃등심', '친절하신', '연말모임'], 'options': '예약,단체석,주차,발렛파킹,포장,무선 인터넷,남/녀 화장실 구분', 'priceCategory': '7만원 대'}, {'id': '37362033', 'name': '제주몬트락 강남본점', 'businessCategory': 'restaurant', 'dbType': 'drt', 'category': '돼지고기구이', 'desc': '', 'hasBooking': False, 'hasNPay': False, 'x': '127.0307354', 'y': '37.4950045', 'distance': '9211.41', 'imageSrc': 'http://ldb.phinf.naver.net/20170823_246/1503479560006Fs5BI_JPEG/lq5kH2cUeD4t9lwXMvlKtB9X.jpg', 'imageCount': 12, 'phone': '02-555-3391', 'routeUrl': 'http://m.map.naver.com/viewer/route.nhn?ename=%EC%A0%9C%EC%A3%BC%EB%AA%AC%ED%8A%B8%EB%9D%BD%20%EA%B0%95%EB%82%A8%EB%B3%B8%EC%A0%90&ex=127.0307354&ey=37.4950045&edid=37362033', 'streetViewUrl': 'http://m.map.naver.com/viewer/panorama.nhn?street=on&pinType=site&pinId=37362033', 'street_panorama': 'yLHejVBh+xVMg3mzzMTIcg==,-169.54,10.00,127.0306752,37.4951348,120', 'microReview': '강남 제주몬트락 요즘 떠오르는 삼겹살 대세집', 'roadAddr': '서울 강남구 강남대로78길 16 1층', 'commonAddr': '서울 강남구', 'addr': '역삼동 831-26 1층', 'broadcastInfo': {'program': '맛있을지도시즌3'}, 'blogCafeReviewCount': '269', 'bookingReviewCount': '0', 'totalReviewCount': '269', 'moreUGCReviewsPath': '/restaurants/fsasReviews?id=37362033&name=%EC%A0%9C%EC%A3%BC%EB%AA%AC%ED%8A%B8%EB%9D%BD%20%EA%B0%95%EB%82%A8%EB%B3%B8%EC%A0%90&category=restaurant', 'moreFsasReviewsPath': '/restaurants/fsasReviews?id=37362033&name=%EC%A0%9C%EC%A3%BC%EB%AA%AC%ED%8A%B8%EB%9D%BD%20%EA%B0%95%EB%82%A8%EB%B3%B8%EC%A0%90&category=restaurant', 'tags': ['삼겹살', '냉면', '고기국수', '고급진', '신선한'], 'options': '예약,단체석,남/녀 화장실 구분'}, {'id': '1855774071', 'name': '숙달돼지 강남CGV점', 'businessCategory': 'restaurant', 'dbType': 'drt', 'category': '돼지고기구이', 'desc': '', 'hasBooking': False, 'hasNPay': False, 'x': '127.0273140', 'y': '37.5022800', 'distance': '8360.61', 'imageSrc': 'http://ldb.phinf.naver.net/20180302_258/1519974059945ifJuO_JPEG/sz3hyPcjYQvqiYo-jJG9A4H3.JPG.jpg', 'imageCount': 12, 'virtualPhone': '0507-1303-8413', 'phone': '02-558-8413', 'routeUrl': 'http://m.map.naver.com/viewer/route.nhn?ename=%EC%88%99%EB%8B%AC%EB%8F%BC%EC%A7%80%20%EA%B0%95%EB%82%A8CGV%EC%A0%90&ex=127.0273140&ey=37.5022800&edid=1855774071', 'streetViewUrl': 'http://m.map.naver.com/viewer/panorama.nhn?street=on&pinType=site&pinId=1855774071', 'street_panorama': 'EeL2n606wuKq4zvsbba1xw==,119.55,10.00,127.0272044,37.5023026,120', 'microReview': '강남역고기집 숙달돼지 맛있는 삼겹살', 'roadAddr': '서울 강남구 강남대로102길 20', 'commonAddr': '서울 강남구', 'addr': '역삼동 619-2 2층', 'blogCafeReviewCount': '173', 'bookingReviewCount': '0', 'totalReviewCount': '173', 'moreUGCReviewsPath': '/restaurants/fsasReviews?id=1855774071&name=%EC%88%99%EB%8B%AC%EB%8F%BC%EC%A7%80%20%EA%B0%95%EB%82%A8CGV%EC%A0%90&category=restaurant', 'moreFsasReviewsPath': '/restaurants/fsasReviews?id=1855774071&name=%EC%88%99%EB%8B%AC%EB%8F%BC%EC%A7%80%20%EA%B0%95%EB%82%A8CGV%EC%A0%90&category=restaurant', 'options': '예약,단체석,남/녀 화장실 구분', 'priceCategory': '5만원 대'}, {'id': '1163940143', 'name': '강남황금장소', 'businessCategory': 'restaurant', 'dbType': 'drt', 'category': '소고기구이', 'desc': '', 'hasBooking': False, 'hasNPay': False, 'x': '127.0277360', 'y': '37.5008349', 'distance': '8517.74', 'imageSrc': 'http://ldb.phinf.naver.net/20181120_53/15426967705705g2lf_JPEG/uQNqxbOEF8B8tsP_4zIIyeBY.jpg', 'imageCount': 15, 'virtualPhone': '0507-1444-8930', 'phone': '02-554-8896', 'routeUrl': 'http://m.map.naver.com/viewer/route.nhn?ename=%EA%B0%95%EB%82%A8%ED%99%A9%EA%B8%88%EC%9E%A5%EC%86%8C&ex=127.0277360&ey=37.5008349&edid=1163940143', 'streetViewUrl': 'http://m.map.naver.com/viewer/panorama.nhn?street=on&pinType=site&pinId=1163940143', 'street_panorama': '2+mRbfZu0DZddG56AJJudQ==,-106.78,10.00,127.0278479,37.5009188,120', 'roadAddr': '서울 강남구 봉은사로18길 90', 'commonAddr': '서울 강남구', 'addr': '역삼동 619-30', 'broadcastInfo': {'program': '생방송투데이'}, 'blogCafeReviewCount': '524', 'bookingReviewCount': '0', 'totalReviewCount': '524', 'moreUGCReviewsPath': '/restaurants/fsasReviews?id=1163940143&name=%EA%B0%95%EB%82%A8%ED%99%A9%EA%B8%88%EC%9E%A5%EC%86%8C&category=restaurant', 'moreFsasReviewsPath': '/restaurants/fsasReviews?id=1163940143&name=%EA%B0%95%EB%82%A8%ED%99%A9%EA%B8%88%EC%9E%A5%EC%86%8C&category=restaurant', 'options': '예약,남/녀 화장실 구분,단체석', 'priceCategory': '5만원 대'}, {'id': '11725305', 'name': '신정', 'businessCategory': 'restaurant', 'dbType': 'drt', 'category': '육류,고기요리', 'desc': '곱창전골, 오리구이, 등심구이 및 국수전골 판매 전문.', 'hasBooking': False, 'hasNPay': False, 'x': '127.0323628', 'y': '37.4970667', 'distance': '9088.01', 'imageSrc': 'http://ldb.phinf.naver.net/20150831_289/1441029855309e82Ak_JPEG/156155406261712_0.jpg', 'imageCount': 5, 'phone': '02-554-1033', 'routeUrl': 'http://m.map.naver.com/viewer/route.nhn?ename=%EC%8B%A0%EC%A0%95&ex=127.0323628&ey=37.4970667&edid=11725305', 'streetViewUrl': 'http://m.map.naver.com/viewer/panorama.nhn?street=on&pinType=site&pinId=11725305', 'street_panorama': '9CjP9N8IcQDtxKAWLCjQMA==,66.72,10.00,127.0320324,37.4969243,120', 'microReview': '강남 맛집 국수전골 먹고 이쁜카페 에서 커피', 'roadAddr': '서울 강남구 테헤란로8길 29 신정', 'commonAddr': '서울 강남구', 'addr': '역삼동 828-2', 'blogCafeReviewCount': '85', 'bookingReviewCount': '0', 'totalReviewCount': '85', 'moreUGCReviewsPath': '/restaurants/fsasReviews?id=11725305&name=%EC%8B%A0%EC%A0%95&category=restaurant', 'moreFsasReviewsPath': '/restaurants/fsasReviews?id=11725305&name=%EC%8B%A0%EC%A0%95&category=restaurant', 'tags': ['오리구이', '곱창전골', '샤브샤브', '오리고기', '북경오리'], 'options': '예약,주차'}, {'id': '35069415', 'name': '단풍나무집 강남역점', 'businessCategory': 'restaurant', 'dbType': 'drt', 'category': '소고기구이', 'desc': '화로구이 전문점.', 'hasBooking': False, 'hasNPay': False, 'x': '127.0296365', 'y': '37.4988894', 'distance': '8789.67', 'imageSrc': 'http://ldb.phinf.naver.net/20150825_11/14404836407756Igsl_JPEG/166775555057949_0.jpg', 'imageCount': 23, 'phone': '02-569-8200', 'routeUrl': 'http://m.map.naver.com/viewer/route.nhn?ename=%EB%8B%A8%ED%92%8D%EB%82%98%EB%AC%B4%EC%A7%91%20%EA%B0%95%EB%82%A8%EC%97%AD%EC%A0%90&ex=127.0296365&ey=37.4988894&edid=35069415', 'streetViewUrl': 'http://m.map.naver.com/viewer/panorama.nhn?street=on&pinType=site&pinId=35069415', 'street_panorama': '/83w358ldNO1bwe5m9J9QA==,-30.55,10.00,127.0297537,37.4986907,120', 'microReview': '소불고기 단풍나무집 분위기좋은 고기집', 'roadAddr': '서울 강남구 테헤란로 113 목화밀라트 지하1층', 'commonAddr': '서울 강남구', 'addr': '역삼동 822-7 목화밀라트 지하1층', 'blogCafeReviewCount': '88', 'bookingReviewCount': '0', 'totalReviewCount': '88', 'moreUGCReviewsPath': '/restaurants/fsasReviews?id=35069415&name=%EB%8B%A8%ED%92%8D%EB%82%98%EB%AC%B4%EC%A7%91%20%EA%B0%95%EB%82%A8%EC%97%AD%EC%A0%90&category=restaurant', 'moreFsasReviewsPath': '/restaurants/fsasReviews?id=35069415&name=%EB%8B%A8%ED%92%8D%EB%82%98%EB%AC%B4%EC%A7%91%20%EA%B0%95%EB%82%A8%EC%97%AD%EC%A0%90&category=restaurant', 'tags': ['불고기', '갈비탕', '삼겹살', '고급스러운', '데이트'], 'options': '예약,단체석,주차,무선 인터넷,남/녀 화장실 구분', 'priceCategory': '7만원 대'}, {'id': '37388550', 'name': '신부자식당', 'businessCategory': 'restaurant', 'dbType': 'drt', 'category': '돼지고기구이', 'desc': '', 'hasBooking': False, 'hasNPay': False, 'x': '127.0274624', 'y': '37.4998286', 'distance': '8602.01', 'imageSrc': 'http://ldb.phinf.naver.net/20151215_36/14501706970154yg0d_JPEG/167160538427138_0.jpeg', 'imageCount': 1, 'phone': '02-567-4900', 'routeUrl': 'http://m.map.naver.com/viewer/route.nhn?ename=%EC%8B%A0%EB%B6%80%EC%9E%90%EC%8B%9D%EB%8B%B9&ex=127.0274624&ey=37.4998286&edid=37388550', 'streetViewUrl': 'http://m.map.naver.com/viewer/panorama.nhn?street=on&pinType=site&pinId=37388550', 'street_panorama': 'LnQ2X7N1XLUaaqTW7sybVQ==,-24.59,10.00,127.0275272,37.4997094,120', 'microReview': '역삼동 맛집 냉면이 맛있는 삼겹살집', 'roadAddr': '서울 강남구 강남대로96길 5', 'commonAddr': '서울 강남구', 'addr': '역삼동 816-4 재영빌딩 2층', 'blogCafeReviewCount': '245', 'bookingReviewCount': '0', 'totalReviewCount': '245', 'moreUGCReviewsPath': '/restaurants/fsasReviews?id=37388550&name=%EC%8B%A0%EB%B6%80%EC%9E%90%EC%8B%9D%EB%8B%B9&category=restaurant', 'moreFsasReviewsPath': '/restaurants/fsasReviews?id=37388550&name=%EC%8B%A0%EB%B6%80%EC%9E%90%EC%8B%9D%EB%8B%B9&category=restaurant', 'tags': ['삼겹살', '명이나물', '냉면', '고급스러운', '핫플레이스'], 'options': '남/녀 화장실 구분,단체석'}, {'id': '1449299574', 'name': '뽕족강남점', 'businessCategory': 'restaurant', 'dbType': 'drt', 'category': '족발,보쌈', 'desc': '', 'hasBooking': False, 'hasNPay': False, 'x': '127.0294615', 'y': '37.4960624', 'distance': '9053.23', 'imageSrc': 'http://ldb.phinf.naver.net/20181027_56/15405788191051MsKg_JPEG/GvgEv13HTJ8_IV98ovigKbMh.jpg', 'imageCount': 5, 'phone': '02-562-6667', 'routeUrl': 'http://m.map.naver.com/viewer/route.nhn?ename=%EB%BD%95%EC%A1%B1%EA%B0%95%EB%82%A8%EC%A0%90&ex=127.0294615&ey=37.4960624&edid=1449299574', 'streetViewUrl': 'http://m.map.naver.com/viewer/panorama.nhn?street=on&pinType=site&pinId=1449299574', 'street_panorama': 'jVKaaLC/8Mmq9NZWsI48UA==,-111.01,10.00,127.0296377,37.4961299,120', 'roadAddr': '서울 강남구 테헤란로2길 32 1층', 'commonAddr': '서울 강남구', 'addr': '역삼동 826-7', 'blogCafeReviewCount': '65', 'bookingReviewCount': '1', 'totalReviewCount': '66', 'moreUGCReviewsPath': '/restaurants/fsasReviews?id=1449299574&name=%EB%BD%95%EC%A1%B1%EA%B0%95%EB%82%A8%EC%A0%90&category=restaurant', 'moreFsasReviewsPath': '/restaurants/fsasReviews?id=1449299574&name=%EB%BD%95%EC%A1%B1%EA%B0%95%EB%82%A8%EC%A0%90&category=restaurant', 'options': '단체석,예약,포장,배달,남/녀 화장실 구분', 'priceCategory': '2만원 대'}, {'id': '1495866370', 'name': '서동한우 강남점', 'businessCategory': 'restaurant', 'dbType': 'drt', 'category': '육류,고기요리', 'desc': '', 'hasBooking': False, 'hasNPay': False, 'x': '127.0274455', 'y': '37.4949663', 'distance': '9073.00', 'imageSrc': 'http://ldb.phinf.naver.net/20190114_159/1547469226282pHIhN_JPEG/jjQRiZN52OAuDCDU1bY1PGDF.jpg', 'imageCount': 11, 'virtualPhone': '0507-1342-9297', 'phone': '02-3474-9297', 'routeUrl': 'http://m.map.naver.com/viewer/route.nhn?ename=%EC%84%9C%EB%8F%99%ED%95%9C%EC%9A%B0%20%EA%B0%95%EB%82%A8%EC%A0%90&ex=127.0274455&ey=37.4949663&edid=1495866370', 'streetViewUrl': 'http://m.map.naver.com/viewer/panorama.nhn?street=on&pinType=site&pinId=1495866370', 'street_panorama': 'LAKroSkA+oe/cXNH1734zg==,-104.21,10.00,127.0276810,37.4950257,120', 'roadAddr': '서울 서초구 서초대로74길 29 2층', 'commonAddr': '서울 서초구', 'addr': '서초동 1327-29 2층', 'blogCafeReviewCount': '13', 'bookingReviewCount': '0', 'totalReviewCount': '13', 'moreUGCReviewsPath': '/restaurants/fsasReviews?id=1495866370&name=%EC%84%9C%EB%8F%99%ED%95%9C%EC%9A%B0%20%EA%B0%95%EB%82%A8%EC%A0%90&category=restaurant', 'moreFsasReviewsPath': '/restaurants/fsasReviews?id=1495866370&name=%EC%84%9C%EB%8F%99%ED%95%9C%EC%9A%B0%20%EA%B0%95%EB%82%A8%EC%A0%90&category=restaurant', 'options': '단체석,주차,예약,발렛파킹,포장,남/녀 화장실 구분', 'priceCategory': '7만원 대'}, {'id': '35597794', 'name': '더하누', 'businessCategory': 'restaurant', 'dbType': 'drt', 'category': '소고기구이', 'desc': '', 'promotionTitle': '네이버 예약후 방문하시는 고객님께 고급 황사마스크 증정!', 'hasBooking': True, 'hasNPay': False, 'x': '127.0280972', 'y': '37.4935230', 'distance': '9241.66', 'imageSrc': 'http://ldb.phinf.naver.net/20190316_96/15527388638096pdA4_JPEG/htrlf1tCUQWyjrgzFxZ5imCi.jpg', 'imageCount': 4, 'virtualPhone': '0507-1400-9392', 'phone': '02-584-9392', 'routeUrl': 'http://m.map.naver.com/viewer/route.nhn?ename=%EB%8D%94%ED%95%98%EB%88%84&ex=127.0280972&ey=37.4935230&edid=35597794', 'streetViewUrl': 'http://m.map.naver.com/viewer/panorama.nhn?street=on&pinType=site&pinId=35597794', 'street_panorama': '0r42SrSp7qc9g5PKCnhPmQ==,72.64,10.00,127.0278530,37.4934465,120', 'roadAddr': '서울 서초구 서초대로74길 49 아르누보씨티2', 'commonAddr': '서울 서초구', 'addr': '서초동 1330-4', 'blogCafeReviewCount': '32', 'bookingReviewCount': '0', 'totalReviewCount': '32', 'naverBookingUrl': 'https://booking.naver.com/booking/6/bizes/140776/search', 'bookingBusinessId': '140776', 'talktalkUrl': 'http://talk.naver.com/wc2gkm?frm=mnmb', 'moreBookingReviewsPath': '/restaurants/bookingReviews?bookingBusinessId=140776&name=%EB%8D%94%ED%95%98%EB%88%84&category=restaurant', 'moreUGCReviewsPath': '/restaurants/fsasReviews?id=35597794&name=%EB%8D%94%ED%95%98%EB%88%84&category=restaurant', 'moreFsasReviewsPath': '/restaurants/fsasReviews?id=35597794&name=%EB%8D%94%ED%95%98%EB%88%84&category=restaurant', 'tags': ['한우', '갈비탕', '한정식', '연말모임', '불고기'], 'options': '예약,단체석,주차,포장,무선 인터넷,남/녀 화장실 구분,장애인 편의시설', 'priceCategory': '1만원 대'}, {'id': '1828111950', 'name': '들었다놨다 강남직영점', 'businessCategory': 'restaurant', 'dbType': 'drt', 'category': '육류,고기요리', 'desc': '', 'hasBooking': False, 'hasNPay': False, 'x': '127.0271834', 'y': '37.5018556', 'distance': '8395.18', 'imageSrc': 'http://ldb.phinf.naver.net/20190110_77/15470817842504ffQe_JPEG/YGT89EhRP-2N0FZ-AixDfEPj.jpg', 'imageCount': 47, 'virtualPhone': '0507-1302-5695', 'phone': '02-569-5695', 'routeUrl': 'http://m.map.naver.com/viewer/route.nhn?ename=%EB%93%A4%EC%97%88%EB%8B%A4%EB%86%A8%EB%8B%A4%20%EA%B0%95%EB%82%A8%EC%A7%81%EC%98%81%EC%A0%90&ex=127.0271834&ey=37.5018556&edid=1828111950', 'streetViewUrl': 'http://m.map.naver.com/viewer/panorama.nhn?street=on&pinType=site&pinId=1828111950', 'street_panorama': '6XuI/233ynYem6VfsLP9mw==,-68.37,10.00,127.0272883,37.5018101,120', 'microReview': '강남역 저렴한 맛집 들었다놨다 닭갈비 참 숯불닭갈비', 'roadAddr': '서울 강남구 강남대로100길 13 101호', 'commonAddr': '서울 강남구', 'addr': '역삼동 619-5 101호', 'broadcastInfo': {'program': '생방송투데이'}, 'blogCafeReviewCount': '197', 'bookingReviewCount': '0', 'totalReviewCount': '197', 'moreUGCReviewsPath': '/restaurants/fsasReviews?id=1828111950&name=%EB%93%A4%EC%97%88%EB%8B%A4%EB%86%A8%EB%8B%A4%20%EA%B0%95%EB%82%A8%EC%A7%81%EC%98%81%EC%A0%90&category=restaurant', 'moreFsasReviewsPath': '/restaurants/fsasReviews?id=1828111950&name=%EB%93%A4%EC%97%88%EB%8B%A4%EB%86%A8%EB%8B%A4%20%EA%B0%95%EB%82%A8%EC%A7%81%EC%98%81%EC%A0%90&category=restaurant', 'options': '예약,단체석,주차,무선 인터넷,남/녀 화장실 구분', 'priceCategory': '2만원 대'}, {'id': '1010367000', 'name': '교대이층집 강남역점', 'businessCategory': 'restaurant', 'dbType': 'drt', 'category': '육류,고기요리', 'desc': '', 'hasBooking': False, 'hasNPay': False, 'x': '127.0305667', 'y': '37.4949108', 'distance': '9212.98', 'imageSrc': 'http://ldb.phinf.naver.net/20190102_170/1546413065755pjrM2_JPEG/o81DOtKu802SeoKJ78uFOzNn.jpg', 'imageCount': 6, 'phone': '02-562-7113', 'routeUrl': 'http://m.map.naver.com/viewer/route.nhn?ename=%EA%B5%90%EB%8C%80%EC%9D%B4%EC%B8%B5%EC%A7%91%20%EA%B0%95%EB%82%A8%EC%97%AD%EC%A0%90&ex=127.0305667&ey=37.4949108&edid=1010367000', 'streetViewUrl': 'http://m.map.naver.com/viewer/panorama.nhn?street=on&pinType=site&pinId=1010367000', 'street_panorama': 'IwlecsPHEqXMjtUnNiXdjg==,142.93,10.00,127.0304478,37.4950677,120', 'roadAddr': '서울 강남구 강남대로78길 14 2층', 'commonAddr': '서울 강남구', 'addr': '역삼동 831-25', 'blogCafeReviewCount': '92', 'bookingReviewCount': '0', 'totalReviewCount': '92', 'moreUGCReviewsPath': '/restaurants/fsasReviews?id=1010367000&name=%EA%B5%90%EB%8C%80%EC%9D%B4%EC%B8%B5%EC%A7%91%20%EA%B0%95%EB%82%A8%EC%97%AD%EC%A0%90&category=restaurant', 'moreFsasReviewsPath': '/restaurants/fsasReviews?id=1010367000&name=%EA%B5%90%EB%8C%80%EC%9D%B4%EC%B8%B5%EC%A7%91%20%EA%B0%95%EB%82%A8%EC%97%AD%EC%A0%90&category=restaurant', 'options': '단체석,예약'}, {'id': '702447560', 'name': '칼맞은삼겹살 강남본점', 'businessCategory': 'restaurant', 'dbType': 'drt', 'category': '육류,고기요리', 'desc': '', 'hasBooking': False, 'hasNPay': False, 'x': '127.0252083', 'y': '37.5005426', 'distance': '8434.22', 'imageCount': 0, 'phone': '02-533-7732', 'routeUrl': 'http://m.map.naver.com/viewer/route.nhn?ename=%EC%B9%BC%EB%A7%9E%EC%9D%80%EC%82%BC%EA%B2%B9%EC%82%B4%20%EA%B0%95%EB%82%A8%EB%B3%B8%EC%A0%90&ex=127.0252083&ey=37.5005426&edid=702447560', 'streetViewUrl': 'http://m.map.naver.com/viewer/panorama.nhn?street=on&pinType=site&pinId=702447560', 'street_panorama': '5Ly6YnA/62bVpB4j4BEd/A==,30.57,10.00,127.0250857,37.5005377,120', 'microReview': '고기맛있는집 강남역 칼맞은삼겹살', 'roadAddr': '서울 서초구 서초대로75길 34', 'commonAddr': '서울 서초구', 'addr': '서초동 1308-14', 'blogCafeReviewCount': '100', 'bookingReviewCount': '0', 'totalReviewCount': '100', 'moreUGCReviewsPath': '/restaurants/fsasReviews?id=702447560&name=%EC%B9%BC%EB%A7%9E%EC%9D%80%EC%82%BC%EA%B2%B9%EC%82%B4%20%EA%B0%95%EB%82%A8%EB%B3%B8%EC%A0%90&category=restaurant', 'moreFsasReviewsPath': '/restaurants/fsasReviews?id=702447560&name=%EC%B9%BC%EB%A7%9E%EC%9D%80%EC%82%BC%EA%B2%B9%EC%82%B4%20%EA%B0%95%EB%82%A8%EB%B3%B8%EC%A0%90&category=restaurant', 'tags': ['삼겹살', '명이나물', '김치찌개', '냉면']}, {'id': '38562941', 'name': '스타닭갈비', 'businessCategory': 'restaurant', 'dbType': 'drt', 'category': '닭갈비', 'desc': '', 'hasBooking': False, 'hasNPay': False, 'x': '127.0281716', 'y': '37.4997744', 'distance': '8638.89', 'imageSrc': 'http://ldb.phinf.naver.net/20170103_142/1483429368001TqaDf_JPEG/1.jpg', 'imageCount': 2, 'phone': '02-501-4325', 'routeUrl': 'http://m.map.naver.com/viewer/route.nhn?ename=%EC%8A%A4%ED%83%80%EB%8B%AD%EA%B0%88%EB%B9%84&ex=127.0281716&ey=37.4997744&edid=38562941', 'streetViewUrl': 'http://m.map.naver.com/viewer/panorama.nhn?street=on&pinType=site&pinId=38562941', 'street_panorama': 'zfTKDC9UEo7MqsJWs/yO3g==,-179.26,10.00,127.0280832,37.4998717,120', 'microReview': '강남역 쭈꾸미 배불리 먹고온 스타쭈꾸미', 'roadAddr': '서울 강남구 강남대로96길 12', 'commonAddr': '서울 강남구', 'addr': '역삼동 818-2', 'blogCafeReviewCount': '112', 'bookingReviewCount': '0', 'totalReviewCount': '112', 'moreUGCReviewsPath': '/restaurants/fsasReviews?id=38562941&name=%EC%8A%A4%ED%83%80%EB%8B%AD%EA%B0%88%EB%B9%84&category=restaurant', 'moreFsasReviewsPath': '/restaurants/fsasReviews?id=38562941&name=%EC%8A%A4%ED%83%80%EB%8B%AD%EA%B0%88%EB%B9%84&category=restaurant', 'tags': ['치즈닭갈비', '쭈꾸미', '신선한', '친구랑']}, {'id': '33636529', 'name': '한도니', 'businessCategory': 'restaurant', 'dbType': 'drt', 'category': '돼지고기구이', 'desc': '서울특별시 강남구 역삼동 위치, 돼지고기구이 전문점.', 'hasBooking': False, 'hasNPay': False, 'x': '127.0306582', 'y': '37.4942898', 'distance': '9276.93', 'imageSrc': 'http://blogfiles.naver.net/20160304_291/jy5846_1457047239754gFVoj_JPEG/%B0%AD%B3%B2%BF%AA_%B0%ED%B1%E2%C1%FD%C3%DF%C3%B5_%C5%EB%B0%A5%B8%C5%B1%E2%BB%EC_%C7%D1%B9%F8%C0%E2%BD%A4%BA%C13.JPG#900x506', 'imageCount': 6, 'phone': '02-538-2292', 'routeUrl': 'http://m.map.naver.com/viewer/route.nhn?ename=%ED%95%9C%EB%8F%84%EB%8B%88&ex=127.0306582&ey=37.4942898&edid=33636529', 'streetViewUrl': 'http://m.map.naver.com/viewer/panorama.nhn?street=on&pinType=site&pinId=33636529', 'street_panorama': '5INJEibxEXCInGQvIit0FQ==,121.97,10.00,127.0304833,37.4943387,120', 'microReview': '강남역에서 맛있는 갈매기살', 'roadAddr': '서울 강남구 역삼로1길 14', 'commonAddr': '서울 강남구', 'addr': '역삼동 831-48', 'broadcastInfo': {'program': '생방송오늘아침'}, 'blogCafeReviewCount': '281', 'bookingReviewCount': '0', 'totalReviewCount': '281', 'moreUGCReviewsPath': '/restaurants/fsasReviews?id=33636529&name=%ED%95%9C%EB%8F%84%EB%8B%88&category=restaurant', 'moreFsasReviewsPath': '/restaurants/fsasReviews?id=33636529&name=%ED%95%9C%EB%8F%84%EB%8B%88&category=restaurant', 'tags': ['갈매기살', '삼겹살', '아이스크림', '친절한', '옛날도시락']}, {'id': '13389603', 'name': '오발탄 강남점', 'businessCategory': 'restaurant', 'dbType': 'drt', 'category': '곱창,막창,양', 'desc': '화로 양, 대창구이 전문점.', 'hasBooking': False, 'hasNPay': False, 'x': '127.0319917', 'y': '37.4954185', 'distance': '9227.92', 'imageSrc': 'http://ldb.phinf.naver.net/20170313_34/148938371049588Edj_PNG/186263547169407_0.png', 'imageCount': 9, 'phone': '02-3452-0082', 'routeUrl': 'http://m.map.naver.com/viewer/route.nhn?ename=%EC%98%A4%EB%B0%9C%ED%83%84%20%EA%B0%95%EB%82%A8%EC%A0%90&ex=127.0319917&ey=37.4954185&edid=13389603', 'streetViewUrl': 'http://m.map.naver.com/viewer/panorama.nhn?street=on&pinType=site&pinId=13389603', 'street_panorama': '8Qa2vw05f9itrjY7icxpww==,89.39,10.00,127.0319192,37.4952244,120', 'roadAddr': '서울 강남구 역삼로5길 22', 'commonAddr': '서울 강남구', 'addr': '역삼1동 830-38', 'blogCafeReviewCount': '57', 'bookingReviewCount': '0', 'totalReviewCount': '57', 'moreUGCReviewsPath': '/restaurants/fsasReviews?id=13389603&name=%EC%98%A4%EB%B0%9C%ED%83%84%20%EA%B0%95%EB%82%A8%EC%A0%90&category=restaurant', 'moreFsasReviewsPath': '/restaurants/fsasReviews?id=13389603&name=%EC%98%A4%EB%B0%9C%ED%83%84%20%EA%B0%95%EB%82%A8%EC%A0%90&category=restaurant', 'tags': ['양대창', '곱창', '한우', '양념갈비', '김치말이국수'], 'options': '단체석', 'priceCategory': '7만원 대'}, {'id': '33771147', 'name': '서래갈매기 강남점', 'businessCategory': 'restaurant', 'dbType': 'drt', 'category': '돼지고기구이', 'desc': '갈매기살, 돼지껍데기, 막창, 항정살 등 메뉴 소개.', 'hasBooking': False, 'hasNPay': False, 'x': '127.0284000', 'y': '37.5001167', 'distance': '8616.41', 'imageSrc': 'http://blogfiles.naver.net/20151123_34/2hjhs_1448235755940L6RKW_JPEG/%BC%AD%B7%A1%B0%A5%B8%C5%B1%E221.JPG#550x412', 'imageCount': 6, 'phone': '02-563-6861', 'routeUrl': 'http://m.map.naver.com/viewer/route.nhn?ename=%EC%84%9C%EB%9E%98%EA%B0%88%EB%A7%A4%EA%B8%B0%20%EA%B0%95%EB%82%A8%EC%A0%90&ex=127.0284000&ey=37.5001167&edid=33771147', 'streetViewUrl': 'http://m.map.naver.com/viewer/panorama.nhn?street=on&pinType=site&pinId=33771147', 'street_panorama': '6uVmUnwgdoVqVQ2gjZGhdg==,21.99,10.00,127.0284168,37.4999690,120', 'microReview': '삼겹살이 더 맛있는 갈매기살 전문점', 'roadAddr': '서울 강남구 강남대로96길 17', 'commonAddr': '서울 강남구', 'addr': '역삼동 817-21', 'blogCafeReviewCount': '129', 'bookingReviewCount': '0', 'totalReviewCount': '129', 'moreUGCReviewsPath': '/restaurants/fsasReviews?id=33771147&name=%EC%84%9C%EB%9E%98%EA%B0%88%EB%A7%A4%EA%B8%B0%20%EA%B0%95%EB%82%A8%EC%A0%90&category=restaurant', 'moreFsasReviewsPath': '/restaurants/fsasReviews?id=33771147&name=%EC%84%9C%EB%9E%98%EA%B0%88%EB%A7%A4%EA%B8%B0%20%EA%B0%95%EB%82%A8%EC%A0%90&category=restaurant', 'tags': ['갈매기살', '파불고기', '냉면', '조그마한', '웰빙']}, {'id': '1922917940', 'name': '백철판0410 강남역지점', 'businessCategory': 'restaurant', 'dbType': 'drt', 'category': '닭갈비', 'desc': '', 'hasBooking': False, 'hasNPay': False, 'x': '127.0307508', 'y': '37.4949524', 'distance': '9217.11', 'imageSrc': 'http://ldb.phinf.naver.net/20180417_236/1523931462328FQsbo_PNG/K-x6iAJQb9U0v62unfXQejOA.png', 'imageCount': 2, 'phone': '02-546-0410', 'routeUrl': 'http://m.map.naver.com/viewer/route.nhn?ename=%EB%B0%B1%EC%B2%A0%ED%8C%900410%20%EA%B0%95%EB%82%A8%EC%97%AD%EC%A7%80%EC%A0%90&ex=127.0307508&ey=37.4949524&edid=1922917940', 'streetViewUrl': 'http://m.map.naver.com/viewer/panorama.nhn?street=on&pinType=site&pinId=1922917940', 'street_panorama': 'yLHejVBh+xVMg3mzzMTIcg==,157.57,10.00,127.0306752,37.4951348,120', 'microReview': '이사간 백철판에서 맛있는 닭갈비', 'roadAddr': '서울 강남구 강남대로78길 16', 'commonAddr': '서울 강남구', 'addr': '역삼동 831-26', 'blogCafeReviewCount': '96', 'bookingReviewCount': '0', 'totalReviewCount': '96', 'moreUGCReviewsPath': '/restaurants/fsasReviews?id=1922917940&name=%EB%B0%B1%EC%B2%A0%ED%8C%900410%20%EA%B0%95%EB%82%A8%EC%97%AD%EC%A7%80%EC%A0%90&category=restaurant', 'moreFsasReviewsPath': '/restaurants/fsasReviews?id=1922917940&name=%EB%B0%B1%EC%B2%A0%ED%8C%900410%20%EA%B0%95%EB%82%A8%EC%97%AD%EC%A7%80%EC%A0%90&category=restaurant', 'tags': ['닭갈비', '샐러드바', '철판요리'], 'options': '남/녀 화장실 구분,단체석', 'priceCategory': '1만원 대', 'baeminId': '10868282', 'baeminDeliveryDateAndTimes': {'deliveryTime': [{'openAt': '1200', 'closeAt': '2300'}, {'openAt': '1330', 'closeAt': '2300'}, {'openAt': '1330', 'closeAt': '2300'}, {'openAt': '1330', 'closeAt': '2300'}, {'openAt': '1330', 'closeAt': '2300'}, {'openAt': '1330', 'closeAt': '2300'}, {'openAt': '1200', 'closeAt': '2300'}]}, 'deliveryArea': '강남구, 서초구'}, {'id': '763219598', 'name': '하남돼지집 강남역CGV점', 'businessCategory': 'restaurant', 'dbType': 'drt', 'category': '돼지고기구이', 'desc': '', 'hasBooking': False, 'hasNPay': False, 'x': '127.0286236', 'y': '37.4999890', 'distance': '8638.73', 'imageSrc': 'http://ldb.phinf.naver.net/20170123_286/14851488200092PNpc_JPEG/186073545039458_0.jpeg', 'imageCount': 22, 'phone': '02-554-2920', 'routeUrl': 'http://m.map.naver.com/viewer/route.nhn?ename=%ED%95%98%EB%82%A8%EB%8F%BC%EC%A7%80%EC%A7%91%20%EA%B0%95%EB%82%A8%EC%97%ADCGV%EC%A0%90&ex=127.0286236&ey=37.4999890&edid=763219598', 'streetViewUrl': 'http://m.map.naver.com/viewer/panorama.nhn?street=on&pinType=site&pinId=763219598', 'street_panorama': 'ppK3oji0YFQrSAuRHZMt4Q==,113.15,10.00,127.0285280,37.5000015,120', 'microReview': '강남역 삼겹살 폭식부르는 하남돼지집', 'roadAddr': '서울 강남구 강남대로96길 20 혜진빌딩', 'commonAddr': '서울 강남구', 'addr': '역삼동 818-5', 'blogCafeReviewCount': '116', 'bookingReviewCount': '0', 'totalReviewCount': '116', 'moreUGCReviewsPath': '/restaurants/fsasReviews?id=763219598&name=%ED%95%98%EB%82%A8%EB%8F%BC%EC%A7%80%EC%A7%91%20%EA%B0%95%EB%82%A8%EC%97%ADCGV%EC%A0%90&category=restaurant', 'moreFsasReviewsPath': '/restaurants/fsasReviews?id=763219598&name=%ED%95%98%EB%82%A8%EB%8F%BC%EC%A7%80%EC%A7%91%20%EA%B0%95%EB%82%A8%EC%97%ADCGV%EC%A0%90&category=restaurant', 'tags': ['명이나물', '생갈비', '삼겹살', '재미있는', '싱싱한'], 'options': '예약,단체석,포장,남/녀 화장실 구분', 'priceCategory': '3만원 대'}, {'id': '34581520', 'name': '짚신매운갈비찜 역삼점', 'businessCategory': 'restaurant', 'dbType': 'drt', 'category': '육류,고기요리', 'desc': '서울특별시 강남구 역삼동 위치, 매운갈비찜 전문점.', 'hasBooking': False, 'hasNPay': False, 'x': '127.0305534', 'y': '37.4949682', 'distance': '9206.86', 'imageSrc': 'http://ldb.phinf.naver.net/20150901_63/1441099778939z70l9_JPEG/34581520_0.jpg', 'imageCount': 5, 'phone': '02-538-3031', 'routeUrl': 'http://m.map.naver.com/viewer/route.nhn?ename=%EC%A7%9A%EC%8B%A0%EB%A7%A4%EC%9A%B4%EA%B0%88%EB%B9%84%EC%B0%9C%20%EC%97%AD%EC%82%BC%EC%A0%90&ex=127.0305534&ey=37.4949682&edid=34581520', 'streetViewUrl': 'http://m.map.naver.com/viewer/panorama.nhn?street=on&pinType=site&pinId=34581520', 'street_panorama': 'IwlecsPHEqXMjtUnNiXdjg==,136.09,10.00,127.0304478,37.4950677,120', 'microReview': '점심특선메뉴로 매운돼지갈비찜', 'roadAddr': '서울 강남구 강남대로78길 14', 'commonAddr': '서울 강남구', 'addr': '역삼동 831-25', 'blogCafeReviewCount': '259', 'bookingReviewCount': '0', 'totalReviewCount': '259', 'moreUGCReviewsPath': '/restaurants/fsasReviews?id=34581520&name=%EC%A7%9A%EC%8B%A0%EB%A7%A4%EC%9A%B4%EA%B0%88%EB%B9%84%EC%B0%9C%20%EC%97%AD%EC%82%BC%EC%A0%90&category=restaurant', 'moreFsasReviewsPath': '/restaurants/fsasReviews?id=34581520&name=%EC%A7%9A%EC%8B%A0%EB%A7%A4%EC%9A%B4%EA%B0%88%EB%B9%84%EC%B0%9C%20%EC%97%AD%EC%82%BC%EC%A0%90&category=restaurant', 'tags': ['매운갈비', '소갈비찜', '돼지갈비', '친절한', '중독적인'], 'options': '예약,포장,무선 인터넷,남/녀 화장실 구분'}, {'id': '1046148017', 'name': '뚝심한우 강남점', 'businessCategory': 'restaurant', 'dbType': 'drt', 'category': '소고기구이', 'desc': '', 'hasBooking': False, 'hasNPay': False, 'x': '127.0275665', 'y': '37.4958186', 'distance': '8994.89', 'imageSrc': 'http://ldb.phinf.naver.net/20180305_265/152022671461223C2V_JPEG/H_dlKkhmvA7BkawmHc4sPCGo.jpg', 'imageCount': 40, 'phone': '02-588-9974', 'routeUrl': 'http://m.map.naver.com/viewer/route.nhn?ename=%EB%9A%9D%EC%8B%AC%ED%95%9C%EC%9A%B0%20%EA%B0%95%EB%82%A8%EC%A0%90&ex=127.0275665&ey=37.4958186&edid=1046148017', 'streetViewUrl': 'http://m.map.naver.com/viewer/panorama.nhn?street=on&pinType=site&pinId=1046148017', 'street_panorama': 'TXGTSI4GmHfPlSXVmuKFtg==,152.60,10.00,127.0274578,37.4960276,120', 'microReview': '비오는 식목일 뚝심한우 뜨끈한 갈비탕', 'roadAddr': '서울 서초구 서초대로78길 22 홍우 제2빌딩 B1', 'commonAddr': '서울 서초구', 'addr': '서초동 1327-2 홍우제2빌딩 B1', 'blogCafeReviewCount': '114', 'bookingReviewCount': '0', 'totalReviewCount': '114', 'moreUGCReviewsPath': '/restaurants/fsasReviews?id=1046148017&name=%EB%9A%9D%EC%8B%AC%ED%95%9C%EC%9A%B0%20%EA%B0%95%EB%82%A8%EC%A0%90&category=restaurant', 'moreFsasReviewsPath': '/restaurants/fsasReviews?id=1046148017&name=%EB%9A%9D%EC%8B%AC%ED%95%9C%EC%9A%B0%20%EA%B0%95%EB%82%A8%EC%A0%90&category=restaurant', 'options': '예약,단체석,주차,남/녀 화장실 구분,포장'}, {'id': '38590126', 'name': '엉터리생고기 강남역삼점', 'businessCategory': 'restaurant', 'dbType': 'drt', 'category': '육류,고기요리', 'desc': '', 'hasBooking': False, 'hasNPay': False, 'x': '127.0306995', 'y': '37.4961082', 'distance': '9103.73', 'imageCount': 0, 'phone': '02-554-3392', 'routeUrl': 'http://m.map.naver.com/viewer/route.nhn?ename=%EC%97%89%ED%84%B0%EB%A6%AC%EC%83%9D%EA%B3%A0%EA%B8%B0%20%EA%B0%95%EB%82%A8%EC%97%AD%EC%82%BC%EC%A0%90&ex=127.0306995&ey=37.4961082&edid=38590126', 'streetViewUrl': 'http://m.map.naver.com/viewer/panorama.nhn?street=on&pinType=site&pinId=38590126', 'street_panorama': 'ODcbFAq2xVczsV8JpmziUw==,52.77,10.00,127.0306056,37.4960434,120', 'microReview': '소고기 무한리필 엉터리생고기 가성비 좋은 소고기집', 'roadAddr': '서울 강남구 테헤란로4길 35', 'commonAddr': '서울 강남구', 'addr': '역삼동 827-14 지하1층', 'blogCafeReviewCount': '125', 'bookingReviewCount': '0', 'totalReviewCount': '125', 'moreUGCReviewsPath': '/restaurants/fsasReviews?id=38590126&name=%EC%97%89%ED%84%B0%EB%A6%AC%EC%83%9D%EA%B3%A0%EA%B8%B0%20%EA%B0%95%EB%82%A8%EC%97%AD%EC%82%BC%EC%A0%90&category=restaurant', 'moreFsasReviewsPath': '/restaurants/fsasReviews?id=38590126&name=%EC%97%89%ED%84%B0%EB%A6%AC%EC%83%9D%EA%B3%A0%EA%B8%B0%20%EA%B0%95%EB%82%A8%EC%97%AD%EC%82%BC%EC%A0%90&category=restaurant', 'tags': ['삼겹살', '냉면', '간장새우', '친절한', '데이트'], 'options': '예약,단체석,무선 인터넷,남/녀 화장실 구분', 'priceCategory': '2만원 대'}, {'id': '32731184', 'name': '담소소사골순대 강남본점', 'businessCategory': 'restaurant', 'dbType': 'drt', 'category': '순대,순대국', 'desc': '서울특별시 강남구 역삼동 위치, 순대 전문점.', 'hasBooking': False, 'hasNPay': False, 'x': '127.0314042', 'y': '37.4952152', 'distance': '9220.94', 'imageSrc': 'http://ldb.phinf.naver.net/20190117_184/1547689407876kMcXO_JPEG/zBOQcZx-7OMW76tV7gBJZW2X.jpg', 'imageCount': 12, 'phone': '02-563-1821', 'routeUrl': 'http://m.map.naver.com/viewer/route.nhn?ename=%EB%8B%B4%EC%86%8C%EC%86%8C%EC%82%AC%EA%B3%A8%EC%88%9C%EB%8C%80%20%EA%B0%95%EB%82%A8%EB%B3%B8%EC%A0%90&ex=127.0314042&ey=37.4952152&edid=32731184', 'streetViewUrl': 'http://m.map.naver.com/viewer/panorama.nhn?street=on&pinType=site&pinId=32731184', 'street_panorama': 'BtZEgxD54vDuyf6ZAHWLwA==,-151.96,10.00,127.0313571,37.4953362,120', 'microReview': '강남역 순대국 강남역 순대 강남역 저렴한 밥집 담소순대국', 'roadAddr': '서울 강남구 강남대로78길 24 청송빌딩 1층', 'commonAddr': '서울 강남구', 'addr': '역삼동 830-1 청송빌딩 1층', 'blogCafeReviewCount': '237', 'bookingReviewCount': '0', 'totalReviewCount': '237', 'moreUGCReviewsPath': '/restaurants/fsasReviews?id=32731184&name=%EB%8B%B4%EC%86%8C%EC%86%8C%EC%82%AC%EA%B3%A8%EC%88%9C%EB%8C%80%20%EA%B0%95%EB%82%A8%EB%B3%B8%EC%A0%90&category=restaurant', 'moreFsasReviewsPath': '/restaurants/fsasReviews?id=32731184&name=%EB%8B%B4%EC%86%8C%EC%86%8C%EC%82%AC%EA%B3%A8%EC%88%9C%EB%8C%80%20%EA%B0%95%EB%82%A8%EB%B3%B8%EC%A0%90&category=restaurant', 'tags': ['순대국밥', '순대볶음', '백순대', '고급진', '나들이'], 'options': '주차', 'priceCategory': '1만원 대', 'baeminId': '10886611', 'baeminDeliveryDateAndTimes': {'deliveryTime': [{'openAt': '1000', 'closeAt': '2530'}, {'openAt': '1000', 'closeAt': '2530'}, {'openAt': '1000', 'closeAt': '2530'}, {'openAt': '1000', 'closeAt': '2530'}, {'openAt': '1000', 'closeAt': '2530'}, {'openAt': '1000', 'closeAt': '2530'}, {'openAt': '1000', 'closeAt': '2530'}]}, 'deliveryArea': '역삼동,  논현1동 일부,  논현2동 일부,  도곡1동'}, {'id': '1488044100', 'name': '정통집 강남점', 'businessCategory': 'restaurant', 'dbType': 'drt', 'category': '돼지고기구이', 'desc': '', 'hasBooking': False, 'hasNPay': False, 'x': '127.0281212', 'y': '37.4999536', 'distance': '8619.45', 'imageSrc': 'http://ldb.phinf.naver.net/20190403_213/1554277080389AA1OO_JPEG/3dypC15Yin8N4eUMLBrQXD2K.jpg', 'imageCount': 5, 'virtualPhone': '0507-1324-5523', 'phone': '02-552-5523', 'routeUrl': 'http://m.map.naver.com/viewer/route.nhn?ename=%EC%A0%95%ED%86%B5%EC%A7%91%20%EA%B0%95%EB%82%A8%EC%A0%90&ex=127.0281212&ey=37.4999536&edid=1488044100', 'streetViewUrl': 'http://m.map.naver.com/viewer/panorama.nhn?street=on&pinType=site&pinId=1488044100', 'street_panorama': '6YlRJZv0G9Lrpgv6sDZm8w==,79.18,10.00,127.0280262,37.4999508,120', 'roadAddr': '서울 강남구 강남대로96길 13 2층', 'commonAddr': '서울 강남구', 'addr': '역삼동 817-17 2층', 'blogCafeReviewCount': '16', 'bookingReviewCount': '0', 'totalReviewCount': '16', 'moreUGCReviewsPath': '/restaurants/fsasReviews?id=1488044100&name=%EC%A0%95%ED%86%B5%EC%A7%91%20%EA%B0%95%EB%82%A8%EC%A0%90&category=restaurant', 'moreFsasReviewsPath': '/restaurants/fsasReviews?id=1488044100&name=%EC%A0%95%ED%86%B5%EC%A7%91%20%EA%B0%95%EB%82%A8%EC%A0%90&category=restaurant', 'options': '단체석,무선 인터넷,남/녀 화장실 구분', 'priceCategory': '2만원 대'}, {'id': '497711404', 'name': '고반식당 강남점', 'businessCategory': 'restaurant', 'dbType': 'drt', 'category': '돼지고기구이', 'desc': '', 'hasBooking': False, 'hasNPay': False, 'x': '127.0311401', 'y': '37.4946664', 'distance': '9261.89', 'imageSrc': 'http://ldb.phinf.naver.net/20161217_227/1481900504907hMpJO_JPEG/177167403164801_0.jpeg', 'imageCount': 2, 'phone': '02-558-9091', 'routeUrl': 'http://m.map.naver.com/viewer/route.nhn?ename=%EA%B3%A0%EB%B0%98%EC%8B%9D%EB%8B%B9%20%EA%B0%95%EB%82%A8%EC%A0%90&ex=127.0311401&ey=37.4946664&edid=497711404', 'streetViewUrl': 'http://m.map.naver.com/viewer/panorama.nhn?street=on&pinType=site&pinId=497711404', 'street_panorama': '5ye5kpzLoolek/muAH0/zg==,-104.99,10.00,127.0312514,37.4946961,120', 'microReview': '역삼동 고기집 회식장소로 좋은 강남 고반식당', 'roadAddr': '서울 강남구 역삼로3길 17 1층', 'commonAddr': '서울 강남구', 'addr': '역삼동 831-35', 'blogCafeReviewCount': '224', 'bookingReviewCount': '0', 'totalReviewCount': '224', 'moreUGCReviewsPath': '/restaurants/fsasReviews?id=497711404&name=%EA%B3%A0%EB%B0%98%EC%8B%9D%EB%8B%B9%20%EA%B0%95%EB%82%A8%EC%A0%90&category=restaurant', 'moreFsasReviewsPath': '/restaurants/fsasReviews?id=497711404&name=%EA%B3%A0%EB%B0%98%EC%8B%9D%EB%8B%B9%20%EA%B0%95%EB%82%A8%EC%A0%90&category=restaurant', 'tags': ['명이나물', '삼겹살', '김치찌개', '친절한', '신선한'], 'options': '예약,단체석,무선 인터넷'}, {'id': '13374691', 'name': '새마을식당 강남역점', 'businessCategory': 'restaurant', 'dbType': 'drt', 'category': '돼지고기구이', 'desc': '불고기, 김치찌개, 삼겹살 등 판매.', 'hasBooking': False, 'hasNPay': False, 'x': '127.0305375', 'y': '37.4944263', 'distance': '9258.45', 'imageSrc': 'http://ldb.phinf.naver.net/20190111_225/1547195456103tOUq1_PNG/7txQF1bGxXnfmmzhXeu7WNgq.PNG.png', 'imageCount': 34, 'phone': '02-558-8592', 'routeUrl': 'http://m.map.naver.com/viewer/route.nhn?ename=%EC%83%88%EB%A7%88%EC%9D%84%EC%8B%9D%EB%8B%B9%20%EA%B0%95%EB%82%A8%EC%97%AD%EC%A0%90&ex=127.0305375&ey=37.4944263&edid=13374691', 'streetViewUrl': 'http://m.map.naver.com/viewer/panorama.nhn?street=on&pinType=site&pinId=13374691', 'street_panorama': 'GlJVA6GcwSlEA3/lkqAUSw==,81.16,10.00,127.0304395,37.4944307,120', 'microReview': '돼지고기와 7분김치찌개가 맛있는 백종원의 새마을식당', 'roadAddr': '서울 강남구 역삼로1길 18', 'commonAddr': '서울 강남구', 'addr': '역삼동 831-32', 'blogCafeReviewCount': '117', 'bookingReviewCount': '0', 'totalReviewCount': '117', 'moreUGCReviewsPath': '/restaurants/fsasReviews?id=13374691&name=%EC%83%88%EB%A7%88%EC%9D%84%EC%8B%9D%EB%8B%B9%20%EA%B0%95%EB%82%A8%EC%97%AD%EC%A0%90&category=restaurant', 'moreFsasReviewsPath': '/restaurants/fsasReviews?id=13374691&name=%EC%83%88%EB%A7%88%EC%9D%84%EC%8B%9D%EB%8B%B9%20%EA%B0%95%EB%82%A8%EC%97%AD%EC%A0%90&category=restaurant', 'tags': ['김치찌개', '연탄불고기', '삼겹살', '소금구이', '고추장']}, {'id': '33949438', 'name': '강남갈매기&삼겹살 강남본점', 'businessCategory': 'restaurant', 'dbType': 'drt', 'category': '육류,고기요리', 'desc': '서울특별시 서초구 서초동 소재, 고기 전문점.', 'hasBooking': False, 'hasNPay': False, 'x': '127.0246988', 'y': '37.5008760', 'distance': '8379.86', 'imageSrc': 'http://blogfiles.naver.net/20160317_63/ds2caa_1458224073047CRfui_JPEG/SAM_0690.JPG#740x493', 'imageCount': 6, 'phone': '02-888-2188', 'routeUrl': 'http://m.map.naver.com/viewer/route.nhn?ename=%EA%B0%95%EB%82%A8%EA%B0%88%EB%A7%A4%EA%B8%B0%26%EC%82%BC%EA%B2%B9%EC%82%B4%20%EA%B0%95%EB%82%A8%EB%B3%B8%EC%A0%90&ex=127.0246988&ey=37.5008760&edid=33949438', 'streetViewUrl': 'http://m.map.naver.com/viewer/panorama.nhn?street=on&pinType=site&pinId=33949438', 'street_panorama': 'sqLQdM3YbjN+KF4BrX2kvA==,-101.99,10.00,127.0249060,37.5009198,120', 'microReview': '강남갈매기 쫄깃쫄깃 맛있는 숯불갈매기살 구이', 'roadAddr': '서울 서초구 서초대로73길 40 강남오피스텔', 'commonAddr': '서울 서초구', 'addr': '서초동 1308-25', 'blogCafeReviewCount': '440', 'bookingReviewCount': '0', 'totalReviewCount': '440', 'moreUGCReviewsPath': '/restaurants/fsasReviews?id=33949438&name=%EA%B0%95%EB%82%A8%EA%B0%88%EB%A7%A4%EA%B8%B0%26%EC%82%BC%EA%B2%B9%EC%82%B4%20%EA%B0%95%EB%82%A8%EB%B3%B8%EC%A0%90&category=restaurant', 'moreFsasReviewsPath': '/restaurants/fsasReviews?id=33949438&name=%EA%B0%95%EB%82%A8%EA%B0%88%EB%A7%A4%EA%B8%B0%26%EC%82%BC%EA%B2%B9%EC%82%B4%20%EA%B0%95%EB%82%A8%EB%B3%B8%EC%A0%90&category=restaurant', 'tags': ['갈매기살', '삼겹살', '냉면', '친절한', '데이트'], 'options': '단체석'}, {'id': '35438097', 'name': '하남돼지집 강남역1호점', 'businessCategory': 'restaurant', 'dbType': 'drt', 'category': '돼지고기구이', 'desc': '양념 삼겹살, 갈매기살, 항정살, 가브리살 등 돼지고기 전문점.', 'hasBooking': False, 'hasNPay': False, 'x': '127.0244985', 'y': '37.5006904', 'distance': '8389.32', 'imageSrc': 'http://ldb.phinf.naver.net/20170124_115/1485227334440ddYwU_JPEG/186074523873551_0.jpeg', 'imageCount': 28, 'phone': '02-591-1253', 'routeUrl': 'http://m.map.naver.com/viewer/route.nhn?ename=%ED%95%98%EB%82%A8%EB%8F%BC%EC%A7%80%EC%A7%91%20%EA%B0%95%EB%82%A8%EC%97%AD1%ED%98%B8%EC%A0%90&ex=127.0244985&ey=37.5006904&edid=35438097', 'streetViewUrl': 'http://m.map.naver.com/viewer/panorama.nhn?street=on&pinType=site&pinId=35438097', 'street_panorama': '0YSo0wJ8OPLYT7WDO2LVXw==,70.23,10.00,127.0244093,37.5006383,120', 'microReview': '강남역 하남돼지집 맛있는 삼겹살', 'roadAddr': '서울 서초구 서초대로73길 38', 'commonAddr': '서울 서초구', 'addr': '서초동 1308-24', 'blogCafeReviewCount': '182', 'bookingReviewCount': '0', 'totalReviewCount': '182', 'moreUGCReviewsPath': '/restaurants/fsasReviews?id=35438097&name=%ED%95%98%EB%82%A8%EB%8F%BC%EC%A7%80%EC%A7%91%20%EA%B0%95%EB%82%A8%EC%97%AD1%ED%98%B8%EC%A0%90&category=restaurant', 'moreFsasReviewsPath': '/restaurants/fsasReviews?id=35438097&name=%ED%95%98%EB%82%A8%EB%8F%BC%EC%A7%80%EC%A7%91%20%EA%B0%95%EB%82%A8%EC%97%AD1%ED%98%B8%EC%A0%90&category=restaurant', 'tags': ['삼겹살', '명이나물', '김치말이국수', '친절한', '싱싱한'], 'options': '예약,단체석,포장,남/녀 화장실 구분'}, {'id': '382411853', 'name': '내가찜한닭', 'businessCategory': 'restaurant', 'dbType': 'drt', 'category': '찜닭', 'desc': '', 'hasBooking': False, 'hasNPay': False, 'x': '127.0278059', 'y': '37.4998415', 'distance': '8616.08', 'imageSrc': 'http://ldb.phinf.naver.net/20161227_43/1482819600344kjDkG_JPEG/177177555020.jpg', 'imageCount': 1, 'routeUrl': 'http://m.map.naver.com/viewer/route.nhn?ename=%EB%82%B4%EA%B0%80%EC%B0%9C%ED%95%9C%EB%8B%AD&ex=127.0278059&ey=37.4998415&edid=382411853', 'streetViewUrl': 'http://m.map.naver.com/viewer/panorama.nhn?street=on&pinType=site&pinId=382411853', 'street_panorama': 'pvzz1utTndMFCqxvA4c1+A==,44.14,10.00,127.0277496,37.4997743,120', 'roadAddr': '서울 강남구 강남대로96길 9', 'commonAddr': '서울 강남구', 'addr': '역삼동 817-11', 'blogCafeReviewCount': '43', 'bookingReviewCount': '0', 'totalReviewCount': '43', 'moreUGCReviewsPath': '/restaurants/fsasReviews?id=382411853&name=%EB%82%B4%EA%B0%80%EC%B0%9C%ED%95%9C%EB%8B%AD&category=restaurant', 'moreFsasReviewsPath': '/restaurants/fsasReviews?id=382411853&name=%EB%82%B4%EA%B0%80%EC%B0%9C%ED%95%9C%EB%8B%AD&category=restaurant', 'tags': ['찜닭', '만두', '치킨'], 'baeminId': '10670538', 'baeminDeliveryDateAndTimes': {'temporaryCloseDate': {'startAt': '2019-04-06 22:20', 'finishAt': '2019-04-06 23:00'}, 'deliveryTime': [{'openAt': '1000', 'closeAt': '2300'}, {'openAt': '1000', 'closeAt': '2300'}, {'openAt': '1000', 'closeAt': '2300'}, {'openAt': '1000', 'closeAt': '2300'}, {'openAt': '1000', 'closeAt': '2300'}, {'openAt': '1000', 'closeAt': '2300'}, {'openAt': '1000', 'closeAt': '2300'}]}, 'deliveryArea': '역삼1, 2동,  논현1, 2동,  잠원동,  서초2, 4, 동,  신사동,  도곡1, 2동,  대치1, 2동,  반포1동'}, {'id': '1030684001', 'name': '진구곱창', 'businessCategory': 'restaurant', 'dbType': 'drt', 'category': '곱창,막창,양', 'desc': '', 'hasBooking': False, 'hasNPay': False, 'x': '127.0248699', 'y': '37.5007456', 'distance': '8399.90', 'imageSrc': 'http://ldb.phinf.naver.net/20180829_279/15355298669166ozgR_JPEG/TzKQn60icH_0z-hN-Pf-Lnng.jpg', 'imageCount': 21, 'phone': '02-533-3309', 'routeUrl': 'http://m.map.naver.com/viewer/route.nhn?ename=%EC%A7%84%EA%B5%AC%EA%B3%B1%EC%B0%BD&ex=127.0248699&ey=37.5007456&edid=1030684001', 'streetViewUrl': 'http://m.map.naver.com/viewer/panorama.nhn?street=on&pinType=site&pinId=1030684001', 'street_panorama': '2+7EuG/15uOKwuhPUbGsXA==,-94.17,10.00,127.0249778,37.5007669,120', 'microReview': '인싸들이 곱창 먹는 곳', 'roadAddr': '서울 서초구 서초대로75길 37', 'commonAddr': '서울 서초구', 'addr': '서초동 1308-23', 'blogCafeReviewCount': '310', 'bookingReviewCount': '0', 'totalReviewCount': '310', 'moreUGCReviewsPath': '/restaurants/fsasReviews?id=1030684001&name=%EC%A7%84%EA%B5%AC%EA%B3%B1%EC%B0%BD&category=restaurant', 'moreFsasReviewsPath': '/restaurants/fsasReviews?id=1030684001&name=%EC%A7%84%EA%B5%AC%EA%B3%B1%EC%B0%BD&category=restaurant', 'options': '단체석,무선 인터넷,남/녀 화장실 구분', 'priceCategory': '3만원 대'}, {'id': '766863930', 'name': '싸움의고수 강남역CGV점', 'businessCategory': 'restaurant', 'dbType': 'drt', 'category': '족발,보쌈', 'desc': '', 'hasBooking': False, 'hasNPay': False, 'x': '127.0275938', 'y': '37.5025705', 'distance': '8345.76', 'imageSrc': 'http://ldb.phinf.naver.net/20170512_26/1494571775739bCWl6_PNG/186462557955609_0.png', 'imageCount': 3, 'phone': '02-567-9577', 'routeUrl': 'http://m.map.naver.com/viewer/route.nhn?ename=%EC%8B%B8%EC%9B%80%EC%9D%98%EA%B3%A0%EC%88%98%20%EA%B0%95%EB%82%A8%EC%97%ADCGV%EC%A0%90&ex=127.0275938&ey=37.5025705&edid=766863930', 'streetViewUrl': 'http://m.map.naver.com/viewer/panorama.nhn?street=on&pinType=site&pinId=766863930', 'street_panorama': 'lXGvgZavQH8CWUFkotRrtg==,110.02,10.00,127.0274752,37.5026122,120', 'microReview': '혼자서도 먹을 수 있는 1인보쌈 맛집', 'roadAddr': '서울 강남구 봉은사로6길 38 정암빌딩 104호', 'commonAddr': '서울 강남구', 'addr': '역삼동 619 정암빌딩 104호', 'blogCafeReviewCount': '113', 'bookingReviewCount': '0', 'totalReviewCount': '113', 'moreUGCReviewsPath': '/restaurants/fsasReviews?id=766863930&name=%EC%8B%B8%EC%9B%80%EC%9D%98%EA%B3%A0%EC%88%98%20%EA%B0%95%EB%82%A8%EC%97%ADCGV%EC%A0%90&category=restaurant', 'moreFsasReviewsPath': '/restaurants/fsasReviews?id=766863930&name=%EC%8B%B8%EC%9B%80%EC%9D%98%EA%B3%A0%EC%88%98%20%EA%B0%95%EB%82%A8%EC%97%ADCGV%EC%A0%90&category=restaurant', 'tags': ['보쌈', '삼겹살', '막국수', '덮밥', '일본라면'], 'options': '포장', 'priceCategory': '1만원 대'}, {'id': '1473740971', 'name': '바류식당', 'businessCategory': 'restaurant', 'dbType': 'drt', 'category': '육류,고기요리', 'desc': '', 'hasBooking': False, 'hasNPay': False, 'x': '127.0285085', 'y': '37.5006214', 'distance': '8573.15', 'imageSrc': 'http://ldb.phinf.naver.net/20181218_46/1545124260213sn1kd_PNG/w0hFDm0DuBVjY58aE5ZW48Dt.PNG.png', 'imageCount': 5, 'phone': '02-553-1218', 'routeUrl': 'http://m.map.naver.com/viewer/route.nhn?ename=%EB%B0%94%EB%A5%98%EC%8B%9D%EB%8B%B9&ex=127.0285085&ey=37.5006214&edid=1473740971', 'streetViewUrl': 'http://m.map.naver.com/viewer/panorama.nhn?street=on&pinType=site&pinId=1473740971', 'street_panorama': '4Scb3x9a8aw5k8Y+aGFP8A==,-41.06,10.00,127.0285892,37.5005287,120', 'roadAddr': '서울 강남구 테헤란로1길 28-13 1층', 'commonAddr': '서울 강남구', 'addr': '역삼동 817-28', 'blogCafeReviewCount': '27', 'bookingReviewCount': '0', 'totalReviewCount': '27', 'moreUGCReviewsPath': '/restaurants/fsasReviews?id=1473740971&name=%EB%B0%94%EB%A5%98%EC%8B%9D%EB%8B%B9&category=restaurant', 'moreFsasReviewsPath': '/restaurants/fsasReviews?id=1473740971&name=%EB%B0%94%EB%A5%98%EC%8B%9D%EB%8B%B9&category=restaurant', 'options': '단체석,주차,예약,무선 인터넷,남/녀 화장실 구분', 'priceCategory': '5만원 대'}, {'id': '1814181646', 'name': '오매족 강남점', 'businessCategory': 'restaurant', 'dbType': 'drt', 'category': '족발,보쌈', 'desc': '', 'hasBooking': False, 'hasNPay': False, 'x': '127.0282970', 'y': '37.4998361', 'distance': '8638.61', 'imageSrc': 'http://ldb.phinf.naver.net/20190102_26/1546424342927IPhj5_JPEG/xFpUMY-AeAMCUg7W6Y8MVu3S.jpg', 'imageCount': 6, 'virtualPhone': '0507-1393-8283', 'phone': '02-554-8283', 'routeUrl': 'http://m.map.naver.com/viewer/route.nhn?ename=%EC%98%A4%EB%A7%A4%EC%A1%B1%20%EA%B0%95%EB%82%A8%EC%A0%90&ex=127.0282970&ey=37.4998361&edid=1814181646', 'streetViewUrl': 'http://m.map.naver.com/viewer/panorama.nhn?street=on&pinType=site&pinId=1814181646', 'street_panorama': 'X0nbXtp9xdzBtDesi+p2vQ==,-179.89,10.00,127.0283056,37.4999366,120', 'roadAddr': '서울 강남구 강남대로96길 16 지하 1층 오매족', 'commonAddr': '서울 강남구', 'addr': '역삼동 818-3', 'blogCafeReviewCount': '24', 'bookingReviewCount': '0', 'totalReviewCount': '24', 'moreUGCReviewsPath': '/restaurants/fsasReviews?id=1814181646&name=%EC%98%A4%EB%A7%A4%EC%A1%B1%20%EA%B0%95%EB%82%A8%EC%A0%90&category=restaurant', 'moreFsasReviewsPath': '/restaurants/fsasReviews?id=1814181646&name=%EC%98%A4%EB%A7%A4%EC%A1%B1%20%EA%B0%95%EB%82%A8%EC%A0%90&category=restaurant', 'options': '단체석,예약,무선 인터넷,포장,배달', 'priceCategory': '3만원 대', 'baeminId': '10883675', 'baeminDeliveryDateAndTimes': {'temporaryCloseDate': {'startAt': '2019-04-03 22:00', 'finishAt': '2019-04-04 00:00'}, 'deliveryTime': [{'openAt': '1600', 'closeAt': '2400'}, {'openAt': '1600', 'closeAt': '2400'}, {'openAt': '1600', 'closeAt': '2400'}, {'openAt': '1600', 'closeAt': '2400'}, {'openAt': '1600', 'closeAt': '2400'}, {'openAt': '1600', 'closeAt': '2400'}, {'openAt': '1600', 'closeAt': '2400'}]}, 'deliveryArea': '강남구 서초구'}, {'id': '37467848', 'name': '유가네닭갈비 강남1호점', 'businessCategory': 'restaurant', 'dbType': 'drt', 'category': '닭갈비', 'desc': '', 'hasBooking': False, 'hasNPay': False, 'x': '127.0276505', 'y': '37.5000116', 'distance': '8592.81', 'imageSrc': 'http://ldb.phinf.naver.net/20170811_56/1502438896300FoRAW_JPEG/rrRcXJBl5MXJrRBtpnX42l4Z.jpg', 'imageCount': 16, 'phone': '02-563-3392', 'routeUrl': 'http://m.map.naver.com/viewer/route.nhn?ename=%EC%9C%A0%EA%B0%80%EB%84%A4%EB%8B%AD%EA%B0%88%EB%B9%84%20%EA%B0%95%EB%82%A81%ED%98%B8%EC%A0%90&ex=127.0276505&ey=37.5000116&edid=37467848', 'streetViewUrl': 'http://m.map.naver.com/viewer/panorama.nhn?street=on&pinType=site&pinId=37467848', 'street_panorama': 'yNMOk7pm0mA6Ojknxib1aA==,41.24,10.00,127.0275589,37.4999762,120', 'microReview': '철판닭갈비가 맛있는 강남 유가네닭갈비', 'roadAddr': '서울 강남구 테헤란로1길 26', 'commonAddr': '서울 강남구', 'addr': '역삼동 817-10 1층', 'broadcastInfo': {'program': '맛있을지도시즌3'}, 'blogCafeReviewCount': '87', 'bookingReviewCount': '0', 'totalReviewCount': '87', 'moreUGCReviewsPath': '/restaurants/fsasReviews?id=37467848&name=%EC%9C%A0%EA%B0%80%EB%84%A4%EB%8B%AD%EA%B0%88%EB%B9%84%20%EA%B0%95%EB%82%A81%ED%98%B8%EC%A0%90&category=restaurant', 'moreFsasReviewsPath': '/restaurants/fsasReviews?id=37467848&name=%EC%9C%A0%EA%B0%80%EB%84%A4%EB%8B%AD%EA%B0%88%EB%B9%84%20%EA%B0%95%EB%82%A81%ED%98%B8%EC%A0%90&category=restaurant', 'tags': ['숯불닭갈비', '철판볶음밥', '떡볶이', '데이트', '고추장'], 'priceCategory': '1만원 대', 'baeminId': '10860725', 'baeminDeliveryDateAndTimes': {'deliveryTime': [{'openAt': '1100', 'closeAt': '2400'}, {'openAt': '1100', 'closeAt': '2400'}, {'openAt': '1100', 'closeAt': '2400'}, {'openAt': '1100', 'closeAt': '2400'}, {'openAt': '1100', 'closeAt': '2400'}, {'openAt': '1100', 'closeAt': '2400'}, {'openAt': '1100', 'closeAt': '2400'}]}, 'yogiyoId': '299786', 'yogiyoDeliveryDateAndTimes': {'actualDeliveryTime': [{'openAt': 1100, 'closeAt': 2359}], 'bizHours': [[{'openAt': 1100, 'closeAt': 2359}], [{'openAt': 1100, 'closeAt': 2359}], [{'openAt': 1100, 'closeAt': 2359}], [{'openAt': 1100, 'closeAt': 2359}], [{'openAt': 1100, 'closeAt': 2359}], [{'openAt': 1100, 'closeAt': 2359}], [{'openAt': 1100, 'closeAt': 2359}]]}, 'deliveryArea': '역삼동/논현동/서초동 1300번지~1399번지/반포동 700번지~799번지/잠원동 1번지~49번지/도곡, 대치 900번지대'}, {'id': '31729816', 'name': '신의주찹쌀순대 강남역점', 'businessCategory': 'restaurant', 'dbType': 'drt', 'category': '순대,순대국', 'desc': '순대 전문점, 순대국, 오징어순대, 찹쌀순대, 뼈해장국 등 메뉴 안내.', 'hasBooking': False, 'hasNPay': False, 'x': '127.0261027', 'y': '37.4988315', 'distance': '8638.96', 'imageSrc': 'http://blogfiles.naver.net/20160412_187/orange605_14604563468927ihiv_JPEG/KakaoTalk_20160411_232319536.jpg#720x960', 'imageCount': 6, 'phone': '02-3481-7888', 'routeUrl': 'http://m.map.naver.com/viewer/route.nhn?ename=%EC%8B%A0%EC%9D%98%EC%A3%BC%EC%B0%B9%EC%8C%80%EC%88%9C%EB%8C%80%20%EA%B0%95%EB%82%A8%EC%97%AD%EC%A0%90&ex=127.0261027&ey=37.4988315&edid=31729816', 'streetViewUrl': 'http://m.map.naver.com/viewer/panorama.nhn?street=on&pinType=site&pinId=31729816', 'street_panorama': 'nqn8twyWkyAWfN9Hlqqsxw==,-105.38,10.00,127.0263319,37.4988973,120', 'microReview': '9번출구 신의주찹쌀순대 업무스트레스를 날려줘 순대국', 'roadAddr': '서울 서초구 서초대로77길 13 강남빌딩', 'commonAddr': '서울 서초구', 'addr': '서초동 1317-7 지하 1층', 'blogCafeReviewCount': '68', 'bookingReviewCount': '0', 'totalReviewCount': '68', 'moreUGCReviewsPath': '/restaurants/fsasReviews?id=31729816&name=%EC%8B%A0%EC%9D%98%EC%A3%BC%EC%B0%B9%EC%8C%80%EC%88%9C%EB%8C%80%20%EA%B0%95%EB%82%A8%EC%97%AD%EC%A0%90&category=restaurant', 'moreFsasReviewsPath': '/restaurants/fsasReviews?id=31729816&name=%EC%8B%A0%EC%9D%98%EC%A3%BC%EC%B0%B9%EC%8C%80%EC%88%9C%EB%8C%80%20%EA%B0%95%EB%82%A8%EC%97%AD%EC%A0%90&category=restaurant', 'tags': ['순대국밥', '삼계탕', '만두국', '혼자']}, {'id': '21818158', 'name': '황해도왕족발찹쌀순대', 'businessCategory': 'restaurant', 'dbType': 'drt', 'category': '순대,순대국', 'desc': '서울 강남구 역삼동 위치, 강남역, 족발, 찹쌀순대, 보쌈, 술국, 쟁반국수, 순대국밥, 인근, 근처,', 'hasBooking': False, 'hasNPay': False, 'x': '127.0309702', 'y': '37.4948150', 'distance': '9240.05', 'imageSrc': 'http://ldb.phinf.naver.net/20150901_7/144110323492896pLj_JPEG/136576575857952_0.jpeg', 'imageCount': 6, 'phone': '02-557-6368', 'routeUrl': 'http://m.map.naver.com/viewer/route.nhn?ename=%ED%99%A9%ED%95%B4%EB%8F%84%EC%99%95%EC%A1%B1%EB%B0%9C%EC%B0%B9%EC%8C%80%EC%88%9C%EB%8C%80&ex=127.0309702&ey=37.4948150&edid=21818158', 'streetViewUrl': 'http://m.map.naver.com/viewer/panorama.nhn?street=on&pinType=site&pinId=21818158', 'street_panorama': 'xTA7V6YZJAsomqF9piCAOQ==,-6.37,10.00,127.0309570,37.4946775,120', 'roadAddr': '서울 강남구 역삼로3길 19', 'commonAddr': '서울 강남구', 'addr': '역삼동 831-28', 'blogCafeReviewCount': '79', 'bookingReviewCount': '0', 'totalReviewCount': '79', 'moreUGCReviewsPath': '/restaurants/fsasReviews?id=21818158&name=%ED%99%A9%ED%95%B4%EB%8F%84%EC%99%95%EC%A1%B1%EB%B0%9C%EC%B0%B9%EC%8C%80%EC%88%9C%EB%8C%80&category=restaurant', 'moreFsasReviewsPath': '/restaurants/fsasReviews?id=21818158&name=%ED%99%A9%ED%95%B4%EB%8F%84%EC%99%95%EC%A1%B1%EB%B0%9C%EC%B0%B9%EC%8C%80%EC%88%9C%EB%8C%80&category=restaurant', 'tags': ['왕족발', '굴보쌈', '순대국밥', '신선한', '막국수']}, {'id': '18579157', 'name': '한방삼계탕', 'businessCategory': 'restaurant', 'dbType': 'drt', 'category': '백숙,삼계탕', 'desc': '', 'hasBooking': False, 'hasNPay': False, 'x': '127.0300960', 'y': '37.4936540', 'distance': '9313.98', 'imageSrc': 'http://blogfiles.naver.net/20160707_262/srokki89_146785230974241jnj_JPEG/attachImage_3691036319.jpeg#740x555', 'imageCount': 6, 'phone': '02-564-9922', 'routeUrl': 'http://m.map.naver.com/viewer/route.nhn?ename=%ED%95%9C%EB%B0%A9%EC%82%BC%EA%B3%84%ED%83%95&ex=127.0300960&ey=37.4936540&edid=18579157', 'streetViewUrl': 'http://m.map.naver.com/viewer/panorama.nhn?street=on&pinType=site&pinId=18579157', 'street_panorama': 'vzNh6cKamj6bPJCbsYBP/g==,70.04,10.00,127.0298608,37.4935684,120', 'microReview': '몸보신에 좋은 건강 삼계탕 맛집', 'roadAddr': '서울 강남구 강남대로 342 역삼빌딩', 'commonAddr': '서울 강남구', 'addr': '역삼1동 831-18', 'blogCafeReviewCount': '127', 'bookingReviewCount': '0', 'totalReviewCount': '127', 'moreUGCReviewsPath': '/restaurants/fsasReviews?id=18579157&name=%ED%95%9C%EB%B0%A9%EC%82%BC%EA%B3%84%ED%83%95&category=restaurant', 'moreFsasReviewsPath': '/restaurants/fsasReviews?id=18579157&name=%ED%95%9C%EB%B0%A9%EC%82%BC%EA%B3%84%ED%83%95&category=restaurant', 'tags': ['삼계탕', '보양식', '닭강정', '단체로']}, {'id': '37792889', 'name': '통돼지네 강남점', 'businessCategory': 'restaurant', 'dbType': 'drt', 'category': '돼지고기구이', 'desc': '', 'hasBooking': False, 'hasNPay': False, 'x': '127.0308984', 'y': '37.4945801', 'distance': '9259.50', 'imageSrc': 'http://ldb.phinf.naver.net/20160614_28/1465884151186JILpi_JPEG/176564553251084_0.jpeg', 'imageCount': 2, 'virtualPhone': '0507-1401-6649', 'phone': '02-564-6649', 'routeUrl': 'http://m.map.naver.com/viewer/route.nhn?ename=%ED%86%B5%EB%8F%BC%EC%A7%80%EB%84%A4%20%EA%B0%95%EB%82%A8%EC%A0%90&ex=127.0308984&ey=37.4945801&edid=37792889', 'streetViewUrl': 'http://m.map.naver.com/viewer/panorama.nhn?street=on&pinType=site&pinId=37792889', 'street_panorama': 'rvvOXUb1zBzH3JjdOe3YDw==,151.07,10.00,127.0308396,37.4946434,120', 'microReview': '신분당선 강남역 삼겹살 김치찌개 맛있는 곳', 'roadAddr': '서울 강남구 역삼로3길 17-5 1층', 'commonAddr': '서울 강남구', 'addr': '역삼동 831-34 1층', 'blogCafeReviewCount': '115', 'bookingReviewCount': '0', 'totalReviewCount': '115', 'moreUGCReviewsPath': '/restaurants/fsasReviews?id=37792889&name=%ED%86%B5%EB%8F%BC%EC%A7%80%EB%84%A4%20%EA%B0%95%EB%82%A8%EC%A0%90&category=restaurant', 'moreFsasReviewsPath': '/restaurants/fsasReviews?id=37792889&name=%ED%86%B5%EB%8F%BC%EC%A7%80%EB%84%A4%20%EA%B0%95%EB%82%A8%EC%A0%90&category=restaurant', 'tags': ['미나리삼겹살', '김치찌개', '두루치기', '친절한', '싱싱한'], 'options': '예약,단체석,남/녀 화장실 구분', 'priceCategory': '2만원 대'}, {'id': '31487585', 'name': '868식당', 'businessCategory': 'restaurant', 'dbType': 'drt', 'category': '소고기구이', 'desc': '한우구이 전문.', 'hasBooking': False, 'hasNPay': False, 'x': '127.0290775', 'y': '37.4967582', 'distance': '8969.19', 'imageSrc': 'http://ldb.phinf.naver.net/20150831_164/1440997645986yoTGc_JPEG/SUBMIT_1364460171992_31487585.jpg', 'imageCount': 7, 'phone': '02-579-7788', 'routeUrl': 'http://m.map.naver.com/viewer/route.nhn?ename=868%EC%8B%9D%EB%8B%B9&ex=127.0290775&ey=37.4967582&edid=31487585', 'streetViewUrl': 'http://m.map.naver.com/viewer/panorama.nhn?street=on&pinType=site&pinId=31487585', 'street_panorama': '45tcxDBwO4u5ccO9MhSdQQ==,-100.33,10.00,127.0293118,37.4968007,120', 'microReview': '강남역 회식장소 무지넓은 삼겹살집', 'roadAddr': '서울 강남구 테헤란로2길 22', 'commonAddr': '서울 강남구', 'addr': '역삼동 825-6', 'blogCafeReviewCount': '42', 'bookingReviewCount': '0', 'totalReviewCount': '42', 'moreUGCReviewsPath': '/restaurants/fsasReviews?id=31487585&name=868%EC%8B%9D%EB%8B%B9&category=restaurant', 'moreFsasReviewsPath': '/restaurants/fsasReviews?id=31487585&name=868%EC%8B%9D%EB%8B%B9&category=restaurant', 'tags': ['우렁쌈밥', '불고기', '삼겹살', '제육볶음', '디저트'], 'options': '단체석'}, {'id': '33252721', 'name': '최씨부엌', 'businessCategory': 'restaurant', 'dbType': 'drt', 'category': '족발,보쌈', 'desc': '손칼국수, 족발 전문점.', 'hasBooking': False, 'hasNPay': False, 'x': '127.0318376', 'y': '37.4952179', 'distance': '9240.15', 'imageSrc': 'http://blogfiles.naver.net/20150710_42/jjae56_1436484342321c8pjW_JPEG/%B0%AD%B3%B2%BF%AA_%B8%C0%C1%FD28.JPG#740x415', 'imageCount': 6, 'phone': '02-555-2463', 'routeUrl': 'http://m.map.naver.com/viewer/route.nhn?ename=%EC%B5%9C%EC%94%A8%EB%B6%80%EC%97%8C&ex=127.0318376&ey=37.4952179&edid=33252721', 'streetViewUrl': 'http://m.map.naver.com/viewer/panorama.nhn?street=on&pinType=site&pinId=33252721', 'street_panorama': '8Qa2vw05f9itrjY7icxpww==,-163.73,10.00,127.0319192,37.4952244,120', 'microReview': '카썸인턴이 추천하는 강남역 칼국수 맛집', 'roadAddr': '서울 강남구 역삼로5길 21', 'commonAddr': '서울 강남구', 'addr': '역삼동 830-4', 'blogCafeReviewCount': '67', 'bookingReviewCount': '0', 'totalReviewCount': '67', 'moreUGCReviewsPath': '/restaurants/fsasReviews?id=33252721&name=%EC%B5%9C%EC%94%A8%EB%B6%80%EC%97%8C&category=restaurant', 'moreFsasReviewsPath': '/restaurants/fsasReviews?id=33252721&name=%EC%B5%9C%EC%94%A8%EB%B6%80%EC%97%8C&category=restaurant', 'tags': ['족발', '칼국수', '바지락', '심플한']}, {'id': '969855508', 'name': '조선국수보쌈', 'businessCategory': 'restaurant', 'dbType': 'drt', 'category': '족발,보쌈', 'desc': '', 'hasBooking': False, 'hasNPay': False, 'x': '127.0289968', 'y': '37.4977097', 'distance': '8873.97', 'imageSrc': 'http://ldb.phinf.naver.net/20170106_215/1483671178648fWx5J_PNG/186055495740425_0.png', 'imageCount': 6, 'virtualPhone': '0507-1404-9530', 'phone': '02-3452-5928', 'routeUrl': 'http://m.map.naver.com/viewer/route.nhn?ename=%EC%A1%B0%EC%84%A0%EA%B5%AD%EC%88%98%EB%B3%B4%EC%8C%88&ex=127.0289968&ey=37.4977097&edid=969855508', 'streetViewUrl': 'http://m.map.naver.com/viewer/panorama.nhn?street=on&pinType=site&pinId=969855508', 'street_panorama': 'nmAec0eUwcaG+xMFF7rWfQ==,88.04,10.00,127.0288885,37.4977059,120', 'microReview': '쿠팡가로 저렴하게 먹고온 강남역 조선국수', 'roadAddr': '서울 강남구 테헤란로4길 6 강남역센트럴애비뉴', 'commonAddr': '서울 강남구', 'addr': '역삼동 825-19', 'blogCafeReviewCount': '161', 'bookingReviewCount': '0', 'totalReviewCount': '161', 'moreUGCReviewsPath': '/restaurants/fsasReviews?id=969855508&name=%EC%A1%B0%EC%84%A0%EA%B5%AD%EC%88%98%EB%B3%B4%EC%8C%88&category=restaurant', 'moreFsasReviewsPath': '/restaurants/fsasReviews?id=969855508&name=%EC%A1%B0%EC%84%A0%EA%B5%AD%EC%88%98%EB%B3%B4%EC%8C%88&category=restaurant', 'tags': ['보쌈', '초계국수', '비빔국수', '신선한', '육개장'], 'priceCategory': '1만원 대'}, {'id': '1059370125', 'name': '정정아식당 강남역점', 'businessCategory': 'restaurant', 'dbType': 'drt', 'category': '닭볶음탕', 'desc': '', 'hasBooking': False, 'hasNPay': False, 'x': '127.0292211', 'y': '37.5000360', 'distance': '8661.44', 'imageSrc': 'http://ldb.phinf.naver.net/20180213_214/1518531003579d8jef_JPEG/9b29989UazjAeM_iysNUpHii.jpeg.jpg', 'imageCount': 1, 'phone': '02-565-1990', 'routeUrl': 'http://m.map.naver.com/viewer/route.nhn?ename=%EC%A0%95%EC%A0%95%EC%95%84%EC%8B%9D%EB%8B%B9%20%EA%B0%95%EB%82%A8%EC%97%AD%EC%A0%90&ex=127.0292211&ey=37.5000360&edid=1059370125', 'streetViewUrl': 'http://m.map.naver.com/viewer/panorama.nhn?street=on&pinType=site&pinId=1059370125', 'street_panorama': 'GV+fUEeDrI0BnaPJikc1GA==,21.72,10.00,127.0291567,37.4998743,120', 'microReview': '강남역맛집 닭볶음탕 감자전이 맛있는 정정아식당', 'roadAddr': '서울 강남구 테헤란로5길 18', 'commonAddr': '서울 강남구', 'addr': '역삼동 635-15', 'blogCafeReviewCount': '49', 'bookingReviewCount': '0', 'totalReviewCount': '49', 'moreUGCReviewsPath': '/restaurants/fsasReviews?id=1059370125&name=%EC%A0%95%EC%A0%95%EC%95%84%EC%8B%9D%EB%8B%B9%20%EA%B0%95%EB%82%A8%EC%97%AD%EC%A0%90&category=restaurant', 'moreFsasReviewsPath': '/restaurants/fsasReviews?id=1059370125&name=%EC%A0%95%EC%A0%95%EC%95%84%EC%8B%9D%EB%8B%B9%20%EA%B0%95%EB%82%A8%EC%97%AD%EC%A0%90&category=restaurant'}, {'id': '33705240', 'name': '해정집 감자탕', 'businessCategory': 'restaurant', 'dbType': 'drt', 'category': '감자탕', 'desc': '감자탕, 족발, 해장국 등 판매.', 'hasBooking': False, 'hasNPay': False, 'x': '127.0279206', 'y': '37.4947650', 'distance': '9112.73', 'imageSrc': 'http://blogfiles.naver.net/20160104_275/csh861216_1451871448292MzIqK_JPEG/KakaoTalk_20160102_143046171.jpg#550x550', 'imageCount': 5, 'phone': '02-3486-9111', 'routeUrl': 'http://m.map.naver.com/viewer/route.nhn?ename=%ED%95%B4%EC%A0%95%EC%A7%91%20%EA%B0%90%EC%9E%90%ED%83%95&ex=127.0279206&ey=37.4947650&edid=33705240', 'streetViewUrl': 'http://m.map.naver.com/viewer/panorama.nhn?street=on&pinType=site&pinId=33705240', 'street_panorama': 'Jtkv8mD+Y+CF5JZo96QXdQ==,81.69,10.00,127.0278107,37.4947466,120', 'roadAddr': '서울 서초구 강남대로55길 9-15', 'commonAddr': '서울 서초구', 'addr': '서초동 1327-17', 'blogCafeReviewCount': '30', 'bookingReviewCount': '0', 'totalReviewCount': '30', 'moreUGCReviewsPath': '/restaurants/fsasReviews?id=33705240&name=%ED%95%B4%EC%A0%95%EC%A7%91%20%EA%B0%90%EC%9E%90%ED%83%95&category=restaurant', 'moreFsasReviewsPath': '/restaurants/fsasReviews?id=33705240&name=%ED%95%B4%EC%A0%95%EC%A7%91%20%EA%B0%90%EC%9E%90%ED%83%95&category=restaurant', 'tags': ['감자탕', '족발', '부대찌개', '보쌈']}, {'id': '36466357', 'name': '고기고샵 강남점', 'businessCategory': 'restaurant', 'dbType': 'drt', 'category': '돼지고기구이', 'desc': '서울특별시 강남구 역삼동 위치, 돼지고기구이 전문점.', 'hasBooking': False, 'hasNPay': False, 'x': '127.0290761', 'y': '37.4994689', 'distance': '8708.92', 'imageSrc': 'http://ldb.phinf.naver.net/20171116_34/1510804082908I3Dac_JPEG/onQQP1AMaRrWxGZDQJKCcZQO.JPG.jpg', 'imageCount': 21, 'phone': '02-553-0943', 'routeUrl': 'http://m.map.naver.com/viewer/route.nhn?ename=%EA%B3%A0%EA%B8%B0%EA%B3%A0%EC%83%B5%20%EA%B0%95%EB%82%A8%EC%A0%90&ex=127.0290761&ey=37.4994689&edid=36466357', 'streetViewUrl': 'http://m.map.naver.com/viewer/panorama.nhn?street=on&pinType=site&pinId=36466357', 'street_panorama': 'cGWq4/qoZL8RYKRXV2z5Og==,115.73,10.00,127.0289101,37.4995822,120', 'microReview': '불금 만끽이 허락된 파트너 강남역 삼겹살', 'roadAddr': '서울 강남구 강남대로94길 20', 'commonAddr': '서울 강남구', 'addr': '역삼동 819-3', 'broadcastInfo': {'program': '모닝와이드'}, 'blogCafeReviewCount': '123', 'bookingReviewCount': '0', 'totalReviewCount': '123', 'moreUGCReviewsPath': '/restaurants/fsasReviews?id=36466357&name=%EA%B3%A0%EA%B8%B0%EA%B3%A0%EC%83%B5%20%EA%B0%95%EB%82%A8%EC%A0%90&category=restaurant', 'moreFsasReviewsPath': '/restaurants/fsasReviews?id=36466357&name=%EA%B3%A0%EA%B8%B0%EA%B3%A0%EC%83%B5%20%EA%B0%95%EB%82%A8%EC%A0%90&category=restaurant', 'tags': ['김치찜', '삼겹살', '김치찌개', '고급진', '싱싱한'], 'options': '예약,단체석,주차,포장,무선 인터넷,남/녀 화장실 구분', 'priceCategory': '2만원 대'}, {'id': '13462810', 'name': '종로삼계탕', 'businessCategory': 'restaurant', 'dbType': 'drt', 'category': '백숙,삼계탕', 'desc': '서울특별시 강남구 역삼동 소재의 삼계탕 전문점.', 'hasBooking': False, 'hasNPay': False, 'x': '127.0287757', 'y': '37.4993839', 'distance': '8703.46', 'imageSrc': 'http://ldb.phinf.naver.net/20150901_300/1441040938887sn3kL_PNG/SUBMIT_1378790027160_13462810.png', 'imageCount': 6, 'phone': '02-562-1758', 'routeUrl': 'http://m.map.naver.com/viewer/route.nhn?ename=%EC%A2%85%EB%A1%9C%EC%82%BC%EA%B3%84%ED%83%95&ex=127.0287757&ey=37.4993839&edid=13462810', 'streetViewUrl': 'http://m.map.naver.com/viewer/panorama.nhn?street=on&pinType=site&pinId=13462810', 'street_panorama': 'G57SJGMMB7erYj0g6s4Twg==,173.45,10.00,127.0287964,37.4995481,120', 'roadAddr': '서울 강남구 강남대로94길 18', 'commonAddr': '서울 강남구', 'addr': '역삼동 819-2', 'blogCafeReviewCount': '74', 'bookingReviewCount': '0', 'totalReviewCount': '74', 'moreUGCReviewsPath': '/restaurants/fsasReviews?id=13462810&name=%EC%A2%85%EB%A1%9C%EC%82%BC%EA%B3%84%ED%83%95&category=restaurant', 'moreFsasReviewsPath': '/restaurants/fsasReviews?id=13462810&name=%EC%A2%85%EB%A1%9C%EC%82%BC%EA%B3%84%ED%83%95&category=restaurant', 'tags': ['삼계탕', '닭볶음탕', '닭불고기', '보양식', '혼자'], 'options': '예약,주차,포장,남/녀 화장실 구분'}, {'id': '942175927', 'name': '홍춘천 강남역점', 'businessCategory': 'restaurant', 'dbType': 'drt', 'category': '닭갈비', 'desc': '', 'hasBooking': False, 'hasNPay': False, 'x': '127.0262126', 'y': '37.4985892', 'distance': '8667.24', 'imageSrc': 'http://ldb.phinf.naver.net/20171010_296/1507619478333IhwLH_JPEG/Z1TxzEAuqFmhikMr3l_WFhNT.jpeg.jpg', 'imageCount': 5, 'phone': '02-533-9290', 'routeUrl': 'http://m.map.naver.com/viewer/route.nhn?ename=%ED%99%8D%EC%B6%98%EC%B2%9C%20%EA%B0%95%EB%82%A8%EC%97%AD%EC%A0%90&ex=127.0262126&ey=37.4985892&edid=942175927', 'streetViewUrl': 'http://m.map.naver.com/viewer/panorama.nhn?street=on&pinType=site&pinId=942175927', 'street_panorama': 'WV7PkRulDMYUI9WmA20jwA==,71.70,10.00,127.0260457,37.4985339,120', 'microReview': '강남역 닭갈비 매운맛 선택 가능한 홍춘천 치즈닭갈비', 'roadAddr': '서울 서초구 서초대로77길 9 강남 누드죤빌딩 지하 1층 101호', 'commonAddr': '서울 서초구', 'addr': '서초동 1317-11', 'blogCafeReviewCount': '177', 'bookingReviewCount': '0', 'totalReviewCount': '177', 'moreUGCReviewsPath': '/restaurants/fsasReviews?id=942175927&name=%ED%99%8D%EC%B6%98%EC%B2%9C%20%EA%B0%95%EB%82%A8%EC%97%AD%EC%A0%90&category=restaurant', 'moreFsasReviewsPath': '/restaurants/fsasReviews?id=942175927&name=%ED%99%8D%EC%B6%98%EC%B2%9C%20%EA%B0%95%EB%82%A8%EC%97%AD%EC%A0%90&category=restaurant', 'tags': ['치즈닭갈비', '튀김', '떡볶이'], 'options': '예약,단체석,남/녀 화장실 구분,포장', 'priceCategory': '1만원 대', 'yogiyoId': '258103', 'yogiyoDeliveryDateAndTimes': {'bizHours': [[{'openAt': 1000, 'closeAt': 2100}], [{'openAt': 1000, 'closeAt': 2100}], [{'openAt': 1000, 'closeAt': 2100}], [{'openAt': 1000, 'closeAt': 2100}], [{'openAt': 1000, 'closeAt': 2100}], [{'openAt': 1000, 'closeAt': 2100}], [{'openAt': 1000, 'closeAt': 2100}]]}}, {'id': '32874531', 'name': '왕십리정분네중앙곱창', 'businessCategory': 'restaurant', 'dbType': 'drt', 'category': '곱창,막창,양', 'desc': '서초동 위치, 곱창 전문점.', 'hasBooking': False, 'hasNPay': False, 'x': '127.0252399', 'y': '37.5008270', 'distance': '8408.01', 'imageSrc': 'http://ldb.phinf.naver.net/20150901_24/1441042050148qrgd5_JPEG/SUBMIT_1374562220671_32874531.jpg', 'imageCount': 25, 'phone': '02-3482-2337', 'routeUrl': 'http://m.map.naver.com/viewer/route.nhn?ename=%EC%99%95%EC%8B%AD%EB%A6%AC%EC%A0%95%EB%B6%84%EB%84%A4%EC%A4%91%EC%95%99%EA%B3%B1%EC%B0%BD&ex=127.0252399&ey=37.5008270&edid=32874531', 'streetViewUrl': 'http://m.map.naver.com/viewer/panorama.nhn?street=on&pinType=site&pinId=32874531', 'street_panorama': 'BLw1GWmiels0clvvzBqzmA==,-90.12,10.00,127.0254748,37.5007971,120', 'microReview': '중독적으로 생각나는 야채곱창', 'roadAddr': '서울 서초구 서초대로77길 35', 'commonAddr': '서울 서초구', 'addr': '서초동 1308-12', 'blogCafeReviewCount': '75', 'bookingReviewCount': '0', 'totalReviewCount': '75', 'moreUGCReviewsPath': '/restaurants/fsasReviews?id=32874531&name=%EC%99%95%EC%8B%AD%EB%A6%AC%EC%A0%95%EB%B6%84%EB%84%A4%EC%A4%91%EC%95%99%EA%B3%B1%EC%B0%BD&category=restaurant', 'moreFsasReviewsPath': '/restaurants/fsasReviews?id=32874531&name=%EC%99%95%EC%8B%AD%EB%A6%AC%EC%A0%95%EB%B6%84%EB%84%A4%EC%A4%91%EC%95%99%EA%B3%B1%EC%B0%BD&category=restaurant', 'tags': ['막창', '돼지곱창', '곱창전골', '자극적인', '소곱창'], 'options': '남/녀 화장실 구분', 'priceCategory': '2만원 대'}, {'id': '1880659013', 'name': '기와집양대창', 'businessCategory': 'restaurant', 'dbType': 'drt', 'category': '곱창,막창,양', 'desc': '', 'hasBooking': False, 'hasNPay': False, 'x': '127.0287011', 'y': '37.4932276', 'distance': '9295.95', 'imageSrc': 'http://ldb.phinf.naver.net/20181212_21/1544616485306uc5eg_JPEG/TRcu4fx-kXuuquw7UKLigJRK.jpg', 'imageCount': 7, 'virtualPhone': '0507-1370-9279', 'phone': '02-522-9279', 'routeUrl': 'http://m.map.naver.com/viewer/route.nhn?ename=%EA%B8%B0%EC%99%80%EC%A7%91%EC%96%91%EB%8C%80%EC%B0%BD&ex=127.0287011&ey=37.4932276&edid=1880659013', 'streetViewUrl': 'http://m.map.naver.com/viewer/panorama.nhn?street=on&pinType=site&pinId=1880659013', 'street_panorama': 'k+Ui0+mpm3/zwvV8pNifZw==,-101.76,10.00,127.0290365,37.4932971,120', 'roadAddr': '서울 서초구 서초대로78길 52 1층 101호', 'commonAddr': '서울 서초구', 'addr': '서초동 1330-12', 'blogCafeReviewCount': '17', 'bookingReviewCount': '0', 'totalReviewCount': '17', 'moreUGCReviewsPath': '/restaurants/fsasReviews?id=1880659013&name=%EA%B8%B0%EC%99%80%EC%A7%91%EC%96%91%EB%8C%80%EC%B0%BD&category=restaurant', 'moreFsasReviewsPath': '/restaurants/fsasReviews?id=1880659013&name=%EA%B8%B0%EC%99%80%EC%A7%91%EC%96%91%EB%8C%80%EC%B0%BD&category=restaurant', 'options': '단체석,예약,남/녀 화장실 구분', 'priceCategory': '7만원 대'}, {'id': '37898695', 'name': '강남곱창이야기 강남역점', 'businessCategory': 'restaurant', 'dbType': 'drt', 'category': '곱창,막창,양', 'desc': '', 'hasBooking': False, 'hasNPay': False, 'x': '127.0243685', 'y': '37.5011338', 'distance': '8340.60', 'imageSrc': 'http://ldb.phinf.naver.net/20160519_79/1463642174558w7mVK_JPEG/176464424552695_0.jpeg', 'imageCount': 2, 'virtualPhone': '0507-1402-7242', 'phone': '010-5180-7242', 'routeUrl': 'http://m.map.naver.com/viewer/route.nhn?ename=%EA%B0%95%EB%82%A8%EA%B3%B1%EC%B0%BD%EC%9D%B4%EC%95%BC%EA%B8%B0%20%EA%B0%95%EB%82%A8%EC%97%AD%EC%A0%90&ex=127.0243685&ey=37.5011338&edid=37898695', 'streetViewUrl': 'http://m.map.naver.com/viewer/panorama.nhn?street=on&pinType=site&pinId=37898695', 'street_panorama': 'M7JoYAzZ421rJJvhrK/pCA==,81.03,10.00,127.0241863,37.5011049,120', 'roadAddr': '서울 서초구 서초대로73길 42 강남역리가스퀘어', 'commonAddr': '서울 서초구', 'addr': '서초동 1308-26 1층 107호', 'blogCafeReviewCount': '58', 'bookingReviewCount': '0', 'totalReviewCount': '58', 'moreUGCReviewsPath': '/restaurants/fsasReviews?id=37898695&name=%EA%B0%95%EB%82%A8%EA%B3%B1%EC%B0%BD%EC%9D%B4%EC%95%BC%EA%B8%B0%20%EA%B0%95%EB%82%A8%EC%97%AD%EC%A0%90&category=restaurant', 'moreFsasReviewsPath': '/restaurants/fsasReviews?id=37898695&name=%EA%B0%95%EB%82%A8%EA%B3%B1%EC%B0%BD%EC%9D%B4%EC%95%BC%EA%B8%B0%20%EA%B0%95%EB%82%A8%EC%97%AD%EC%A0%90&category=restaurant', 'tags': ['막창', '소곱창', '신선한', '김치찌개', '육회'], 'options': '예약,단체석,주차,무선 인터넷,반려동물 동반,남/녀 화장실 구분,장애인 편의시설', 'priceCategory': '5만원 대'}, {'id': '38677017', 'name': '유가네닭갈비 강남역점', 'businessCategory': 'restaurant', 'dbType': 'drt', 'category': '닭갈비', 'desc': '', 'hasBooking': False, 'hasNPay': False, 'x': '127.0263738', 'y': '37.5017232', 'distance': '8371.47', 'imageSrc': 'http://ldb.phinf.naver.net/20170811_56/1502438896300FoRAW_JPEG/rrRcXJBl5MXJrRBtpnX42l4Z.jpg', 'imageCount': 16, 'phone': '02-534-9595', 'routeUrl': 'http://m.map.naver.com/viewer/route.nhn?ename=%EC%9C%A0%EA%B0%80%EB%84%A4%EB%8B%AD%EA%B0%88%EB%B9%84%20%EA%B0%95%EB%82%A8%EC%97%AD%EC%A0%90&ex=127.0263738&ey=37.5017232&edid=38677017', 'streetViewUrl': 'http://m.map.naver.com/viewer/panorama.nhn?street=on&pinType=site&pinId=38677017', 'street_panorama': 'IGihKX8h5ep5gfz4dLK05g==,68.74,10.00,127.0260654,37.5016030,120', 'microReview': '강남역 닭갈비 아직도 맛있는 유가네 닭갈비 볶음밥', 'roadAddr': '서울 강남구 강남대로 438 214호', 'commonAddr': '서울 강남구', 'addr': '역삼동 814-6', 'blogCafeReviewCount': '82', 'bookingReviewCount': '0', 'totalReviewCount': '82', 'moreUGCReviewsPath': '/restaurants/fsasReviews?id=38677017&name=%EC%9C%A0%EA%B0%80%EB%84%A4%EB%8B%AD%EA%B0%88%EB%B9%84%20%EA%B0%95%EB%82%A8%EC%97%AD%EC%A0%90&category=restaurant', 'moreFsasReviewsPath': '/restaurants/fsasReviews?id=38677017&name=%EC%9C%A0%EA%B0%80%EB%84%A4%EB%8B%AD%EA%B0%88%EB%B9%84%20%EA%B0%95%EB%82%A8%EC%97%AD%EC%A0%90&category=restaurant', 'tags': ['치즈닭갈비', '막국수', '숯불닭갈비', '데이트', '철판볶음밥'], 'options': '예약,주차,포장,무선 인터넷,단체석', 'priceCategory': '1만원 대'}, {'id': '957308387', 'name': '고반식당 강남교보타워점', 'businessCategory': 'restaurant', 'dbType': 'drt', 'category': '돼지고기구이', 'desc': '', 'hasBooking': False, 'hasNPay': False, 'x': '127.0245213', 'y': '37.5014878', 'distance': '8312.80', 'imageSrc': 'http://ldb.phinf.naver.net/20170403_65/1491200580974SYRPJ_JPEG/186352426952414_0.jpeg', 'imageCount': 2, 'phone': '02-532-9824', 'routeUrl': 'http://m.map.naver.com/viewer/route.nhn?ename=%EA%B3%A0%EB%B0%98%EC%8B%9D%EB%8B%B9%20%EA%B0%95%EB%82%A8%EA%B5%90%EB%B3%B4%ED%83%80%EC%9B%8C%EC%A0%90&ex=127.0245213&ey=37.5014878&edid=957308387', 'streetViewUrl': 'http://m.map.naver.com/viewer/panorama.nhn?street=on&pinType=site&pinId=957308387', 'street_panorama': 'ttYQ0bmTx8XrO4TsuDwPtw==,-133.78,10.00,127.0245825,37.5016075,120', 'microReview': '강남역 고기집으로 유명한 고반식당 교보타워점', 'roadAddr': '서울 서초구 서초대로75길 45', 'commonAddr': '서울 서초구', 'addr': '서초동 1308-2', 'blogCafeReviewCount': '177', 'bookingReviewCount': '0', 'totalReviewCount': '177', 'moreUGCReviewsPath': '/restaurants/fsasReviews?id=957308387&name=%EA%B3%A0%EB%B0%98%EC%8B%9D%EB%8B%B9%20%EA%B0%95%EB%82%A8%EA%B5%90%EB%B3%B4%ED%83%80%EC%9B%8C%EC%A0%90&category=restaurant', 'moreFsasReviewsPath': '/restaurants/fsasReviews?id=957308387&name=%EA%B3%A0%EB%B0%98%EC%8B%9D%EB%8B%B9%20%EA%B0%95%EB%82%A8%EA%B5%90%EB%B3%B4%ED%83%80%EC%9B%8C%EC%A0%90&category=restaurant', 'tags': ['명이나물', '삼겹살', '김치찌개', '친절해서', '데이트'], 'options': '예약,단체석,무선 인터넷,남/녀 화장실 구분'}, {'id': '1206379356', 'name': '만족오향족발 강남역점', 'businessCategory': 'restaurant', 'dbType': 'drt', 'category': '족발,보쌈', 'desc': '', 'hasBooking': False, 'hasNPay': False, 'x': '127.0302167', 'y': '37.4945010', 'distance': '9237.18', 'imageCount': 0, 'virtualPhone': '0507-1319-4755', 'phone': '02-561-4755', 'routeUrl': 'http://m.map.naver.com/viewer/route.nhn?ename=%EB%A7%8C%EC%A1%B1%EC%98%A4%ED%96%A5%EC%A1%B1%EB%B0%9C%20%EA%B0%95%EB%82%A8%EC%97%AD%EC%A0%90&ex=127.0302167&ey=37.4945010&edid=1206379356', 'streetViewUrl': 'http://m.map.naver.com/viewer/panorama.nhn?street=on&pinType=site&pinId=1206379356', 'street_panorama': 'TzENqIdMCZHMKF5kF7eUwg==,-117.67,10.00,127.0303520,37.4946147,120', 'microReview': '비오는 날 야근후 먹는 만족오향족발 반반족발', 'roadAddr': '서울 강남구 역삼로1길 19', 'commonAddr': '서울 강남구', 'addr': '역삼동 831-5', 'blogCafeReviewCount': '33', 'bookingReviewCount': '0', 'totalReviewCount': '33', 'moreUGCReviewsPath': '/restaurants/fsasReviews?id=1206379356&name=%EB%A7%8C%EC%A1%B1%EC%98%A4%ED%96%A5%EC%A1%B1%EB%B0%9C%20%EA%B0%95%EB%82%A8%EC%97%AD%EC%A0%90&category=restaurant', 'moreFsasReviewsPath': '/restaurants/fsasReviews?id=1206379356&name=%EB%A7%8C%EC%A1%B1%EC%98%A4%ED%96%A5%EC%A1%B1%EB%B0%9C%20%EA%B0%95%EB%82%A8%EC%97%AD%EC%A0%90&category=restaurant', 'options': '단체석,포장,배달,예약,무선 인터넷,남/녀 화장실 구분', 'priceCategory': '2만원 대'}, {'id': '36936443', 'name': '풍년참숯갈비', 'businessCategory': 'restaurant', 'dbType': 'drt', 'category': '육류,고기요리', 'desc': '', 'hasBooking': False, 'hasNPay': False, 'x': '127.0308784', 'y': '37.4939482', 'distance': '9319.58', 'imageSrc': 'http://ldb.phinf.naver.net/20150901_233/1441110626642zQIlz_JPEG/166672598036302_0.jpeg', 'imageCount': 11, 'phone': '02-566-6630', 'routeUrl': 'http://m.map.naver.com/viewer/route.nhn?ename=%ED%92%8D%EB%85%84%EC%B0%B8%EC%88%AF%EA%B0%88%EB%B9%84&ex=127.0308784&ey=37.4939482&edid=36936443', 'streetViewUrl': 'http://m.map.naver.com/viewer/panorama.nhn?street=on&pinType=site&pinId=36936443', 'street_panorama': 'Niy6MhP1XWP/M5XHiSN5AA==,87.86,10.00,127.0307021,37.4938786,120', 'microReview': '풍년참숯불갈비 강남역 4번출구에서 가까운 맛집', 'roadAddr': '서울 강남구 역삼로1길 8 평익빌딩', 'commonAddr': '서울 강남구', 'addr': '역삼동 831-46', 'blogCafeReviewCount': '244', 'bookingReviewCount': '0', 'totalReviewCount': '244', 'moreUGCReviewsPath': '/restaurants/fsasReviews?id=36936443&name=%ED%92%8D%EB%85%84%EC%B0%B8%EC%88%AF%EA%B0%88%EB%B9%84&category=restaurant', 'moreFsasReviewsPath': '/restaurants/fsasReviews?id=36936443&name=%ED%92%8D%EB%85%84%EC%B0%B8%EC%88%AF%EA%B0%88%EB%B9%84&category=restaurant', 'tags': ['돼지갈비', '양념게장', '숯불갈비', '친절함', '신선한']}, {'id': '1462581328', 'name': '숯부래', 'businessCategory': 'restaurant', 'dbType': 'drt', 'category': '소고기구이', 'desc': '', 'hasBooking': False, 'hasNPay': False, 'x': '127.0274455', 'y': '37.4949640', 'distance': '9073.22', 'imageSrc': 'http://ldb.phinf.naver.net/20181008_102/1538989192260I6Sq0_JPEG/sdIOMwvZJC3mabxtB8RH3veX.jpg', 'imageCount': 2, 'phone': '02-583-3365', 'routeUrl': 'http://m.map.naver.com/viewer/route.nhn?ename=%EC%88%AF%EB%B6%80%EB%9E%98&ex=127.0274455&ey=37.4949640&edid=1462581328', 'streetViewUrl': 'http://m.map.naver.com/viewer/panorama.nhn?street=on&pinType=site&pinId=1462581328', 'street_panorama': 'LAKroSkA+oe/cXNH1734zg==,-104.73,10.00,127.0276810,37.4950257,120', 'roadAddr': '서울 서초구 서초대로74길 29 지하1층 B02호', 'commonAddr': '서울 서초구', 'addr': '서초동 1327-29', 'blogCafeReviewCount': '26', 'bookingReviewCount': '0', 'totalReviewCount': '26', 'moreUGCReviewsPath': '/restaurants/fsasReviews?id=1462581328&name=%EC%88%AF%EB%B6%80%EB%9E%98&category=restaurant', 'moreFsasReviewsPath': '/restaurants/fsasReviews?id=1462581328&name=%EC%88%AF%EB%B6%80%EB%9E%98&category=restaurant', 'options': '단체석,무선 인터넷,예약', 'priceCategory': '7만원 대'}, {'id': '11572710', 'name': '금모래', 'businessCategory': 'restaurant', 'dbType': 'drt', 'category': '육류,고기요리', 'desc': '한우구이, 삼겹살, 청국장, 갈비탕 등 판매.', 'hasBooking': False, 'hasNPay': False, 'x': '127.0316156', 'y': '37.4961969', 'distance': '9136.53', 'imageSrc': 'http://blogfiles.naver.net/20140819_30/lllgirlll_1408404426239CRfeH_JPEG/20140117_195020.jpg#480x360', 'imageCount': 5, 'phone': '02-569-3935', 'routeUrl': 'http://m.map.naver.com/viewer/route.nhn?ename=%EA%B8%88%EB%AA%A8%EB%9E%98&ex=127.0316156&ey=37.4961969&edid=11572710', 'streetViewUrl': 'http://m.map.naver.com/viewer/panorama.nhn?street=on&pinType=site&pinId=11572710', 'street_panorama': 'scpjXfv1sYHg/2PakPaVVA==,143.86,10.00,127.0314434,37.4962096,120', 'roadAddr': '서울 강남구 테헤란로6길 37', 'commonAddr': '서울 강남구', 'addr': '역삼1동 827-77', 'blogCafeReviewCount': '18', 'bookingReviewCount': '0', 'totalReviewCount': '18', 'moreUGCReviewsPath': '/restaurants/fsasReviews?id=11572710&name=%EA%B8%88%EB%AA%A8%EB%9E%98&category=restaurant', 'moreFsasReviewsPath': '/restaurants/fsasReviews?id=11572710&name=%EA%B8%88%EB%AA%A8%EB%9E%98&category=restaurant', 'tags': ['갈비탕', '비빔밥'], 'options': '단체석,주차,포장,남/녀 화장실 구분'}, {'id': '12986974', 'name': '바우골참숯화로구이', 'businessCategory': 'restaurant', 'dbType': 'drt', 'category': '육류,고기요리', 'desc': '서울특별시 강남구 역삼1동 소재의 생삼겹살, 왕갈비, 갈매기살, 돼지갈비 등 전문.', 'hasBooking': False, 'hasNPay': False, 'x': '127.0296874', 'y': '37.4993846', 'distance': '8744.78', 'imageSrc': 'http://ldb.phinf.naver.net/20150901_75/1441046456391R9cnx_JPEG/97054533460224_0.jpg', 'imageCount': 1, 'phone': '02-568-6721', 'routeUrl': 'http://m.map.naver.com/viewer/route.nhn?ename=%EB%B0%94%EC%9A%B0%EA%B3%A8%EC%B0%B8%EC%88%AF%ED%99%94%EB%A1%9C%EA%B5%AC%EC%9D%B4&ex=127.0296874&ey=37.4993846&edid=12986974', 'streetViewUrl': 'http://m.map.naver.com/viewer/panorama.nhn?street=on&pinType=site&pinId=12986974', 'street_panorama': 'NdGvd5HXBoatAbchrd3gYA==,-54.34,10.00,127.0298146,37.4992502,120', 'roadAddr': '서울 강남구 강남대로92길 29', 'commonAddr': '서울 강남구', 'addr': '역삼동 649-9', 'blogCafeReviewCount': '61', 'bookingReviewCount': '0', 'totalReviewCount': '61', 'moreUGCReviewsPath': '/restaurants/fsasReviews?id=12986974&name=%EB%B0%94%EC%9A%B0%EA%B3%A8%EC%B0%B8%EC%88%AF%ED%99%94%EB%A1%9C%EA%B5%AC%EC%9D%B4&category=restaurant', 'moreFsasReviewsPath': '/restaurants/fsasReviews?id=12986974&name=%EB%B0%94%EC%9A%B0%EA%B3%A8%EC%B0%B8%EC%88%AF%ED%99%94%EB%A1%9C%EA%B5%AC%EC%9D%B4&category=restaurant', 'tags': ['제육볶음', '김치찌개', '삼겹살', '갈매기살', '냉면'], 'options': '예약,단체석,주차'}, {'id': '33875920', 'name': '원할머니보쌈 강남1호점', 'businessCategory': 'restaurant', 'dbType': 'drt', 'category': '족발,보쌈', 'desc': '족발, 보쌈 전문점.', 'hasBooking': False, 'hasNPay': False, 'x': '127.0242164', 'y': '37.5014748', 'distance': '8300.92', 'imageSrc': 'http://ldb.phinf.naver.net/20180601_295/152781632379882rWY_PNG/TT5gvmfnG5yHvTAHXRfWjZJD.PNG.png', 'imageCount': 6, 'phone': '02-3481-2346', 'routeUrl': 'http://m.map.naver.com/viewer/route.nhn?ename=%EC%9B%90%ED%95%A0%EB%A8%B8%EB%8B%88%EB%B3%B4%EC%8C%88%20%EA%B0%95%EB%82%A81%ED%98%B8%EC%A0%90&ex=127.0242164&ey=37.5014748&edid=33875920', 'streetViewUrl': 'http://m.map.naver.com/viewer/panorama.nhn?street=on&pinType=site&pinId=33875920', 'street_panorama': '+7Ss200Na49WBau9OGnr+g==,169.37,10.00,127.0241996,37.5015636,120', 'roadAddr': '서울 서초구 강남대로69길 11', 'commonAddr': '서울 서초구', 'addr': '서초동 1308 삼미빌딩 2층', 'blogCafeReviewCount': '55', 'bookingReviewCount': '0', 'totalReviewCount': '55', 'moreUGCReviewsPath': '/restaurants/fsasReviews?id=33875920&name=%EC%9B%90%ED%95%A0%EB%A8%B8%EB%8B%88%EB%B3%B4%EC%8C%88%20%EA%B0%95%EB%82%A81%ED%98%B8%EC%A0%90&category=restaurant', 'moreFsasReviewsPath': '/restaurants/fsasReviews?id=33875920&name=%EC%9B%90%ED%95%A0%EB%A8%B8%EB%8B%88%EB%B3%B4%EC%8C%88%20%EA%B0%95%EB%82%A81%ED%98%B8%EC%A0%90&category=restaurant', 'tags': ['보쌈', '족발', '비빔밥', '육개장', '칼국수'], 'options': '포장,배달', 'yogiyoId': '216725', 'yogiyoDeliveryDateAndTimes': {'actualDeliveryTime': [{'openAt': 1200, 'closeAt': 2300}], 'bizHours': [[{'openAt': 1200, 'closeAt': 2359}], [{'openAt': 1200, 'closeAt': 2359}], [{'openAt': 1200, 'closeAt': 2359}], [{'openAt': 1200, 'closeAt': 2359}], [{'openAt': 1200, 'closeAt': 2359}], [{'openAt': 1200, 'closeAt': 2300}], [{'openAt': 1200, 'closeAt': 2300}]]}}, {'id': '11807489', 'name': '봉추찜닭 주공공이점', 'businessCategory': 'restaurant', 'dbType': 'drt', 'category': '찜닭', 'desc': '찜닭 전문점.', 'hasBooking': False, 'hasNPay': False, 'x': '127.0263961', 'y': '37.5021488', 'distance': '8331.64', 'imageSrc': 'http://ldb.phinf.naver.net/20150901_136/1441044316826xJSaA_JPEG/166356465044080_0.jpg', 'imageCount': 10, 'phone': '02-565-4593', 'routeUrl': 'http://m.map.naver.com/viewer/route.nhn?ename=%EB%B4%89%EC%B6%94%EC%B0%9C%EB%8B%AD%20%EC%A3%BC%EA%B3%B5%EA%B3%B5%EC%9D%B4%EC%A0%90&ex=127.0263961&ey=37.5021488&edid=11807489', 'streetViewUrl': 'http://m.map.naver.com/viewer/panorama.nhn?street=on&pinType=site&pinId=11807489', 'street_panorama': 'HnEOiAjOqSf2c3GkITayWw==,-118.19,10.00,127.0264930,37.5022006,120', 'microReview': '강남역맛집 맛있는 찜닭이 먹고 싶을 땐 봉추찜닭', 'roadAddr': '서울 강남구 강남대로 442 흥국생명빌딩', 'commonAddr': '서울 강남구', 'addr': '역삼동 814-5', 'blogCafeReviewCount': '60', 'bookingReviewCount': '0', 'totalReviewCount': '60', 'moreUGCReviewsPath': '/restaurants/fsasReviews?id=11807489&name=%EB%B4%89%EC%B6%94%EC%B0%9C%EB%8B%AD%20%EC%A3%BC%EA%B3%B5%EA%B3%B5%EC%9D%B4%EC%A0%90&category=restaurant', 'moreFsasReviewsPath': '/restaurants/fsasReviews?id=11807489&name=%EB%B4%89%EC%B6%94%EC%B0%9C%EB%8B%AD%20%EC%A3%BC%EA%B3%B5%EA%B3%B5%EC%9D%B4%EC%A0%90&category=restaurant', 'tags': ['찜닭', '데이트'], 'options': '단체석,주차,포장,무선 인터넷,남/녀 화장실 구분', 'priceCategory': '2만원 대'}], 'smartqueryCoordinates': None, 'nlu': {'queryType': 'restaurant', 'queryResult': {'region': '강남역', 'menu': '고기집', 'q': '강남역 고기집', 'keyword': '강남역 고기집', 'showLocationBarFlag': False, 'regionQuery': '강남역', 'repRegion': '강남역', 'selectedRegionIndex': 0, 'selectedRegion': {'name': '강남역', 'index': 0}, 'otherRegions': [], 'location': {'x': '126.9783880', 'y': '37.5666100', 'default': True, 'longitude': '126.9783880', 'latitude': '37.5666100'}, 'dbQuery': {'isDefault': True, 'name': '강남역고기집', 'type': 'restaurant', 'getType': 'search', 'viewType': '1col', 'useFilter': True, 'hasComponents': False}}, 'user': {}, 'deviceInfo': {'os': 'pc', 'ie': '0', 'version': 0}}}\n"
     ]
    }
   ],
   "source": [
    "# 관련도순 상위 100개의 고기집 리스트 정보 API\n",
    "import requests\n",
    "import json\n",
    "\n",
    "source_url = \"https://store.naver.com/sogum/api/businesses?\"\n",
    "url_parameter_start = \"start=1\"\n",
    "url_parameter_display = \"&display=\" # 번호 입력 필요\n",
    "url_parameter_query = \"&query=강남역+고기집\"\n",
    "url_parameter_sorting = \"&sortingOrder=precision\"\n",
    "url_concat = source_url + url_parameter_start + \\\n",
    "            url_parameter_display + str(100) + url_parameter_query + url_parameter_sorting\n",
    "json_data = requests.get(url_concat).text\n",
    "restaurant_list_data = json.loads(json_data)\n",
    "print(restaurant_list_data)"
   ]
  },
  {
   "cell_type": "code",
   "execution_count": 3,
   "metadata": {
    "scrolled": false
   },
   "outputs": [
    {
     "name": "stdout",
     "output_type": "stream",
     "text": [
      "request_url: https://store.naver.com/sogum/api/businesses?start=1&display=100&query=강남역+고기집&sortingOrder=precision\n",
      "request_url: https://store.naver.com/sogum/api/businesses?start=101&display=200&query=강남역+고기집&sortingOrder=precision\n",
      "request_url: https://store.naver.com/sogum/api/businesses?start=201&display=300&query=강남역+고기집&sortingOrder=precision\n",
      "request_url: https://store.naver.com/sogum/api/businesses?start=301&display=400&query=강남역+고기집&sortingOrder=precision\n",
      "request_url: https://store.naver.com/sogum/api/businesses?start=401&display=500&query=강남역+고기집&sortingOrder=precision\n",
      "request_url: https://store.naver.com/sogum/api/businesses?start=501&display=600&query=강남역+고기집&sortingOrder=precision\n",
      "request_url: https://store.naver.com/sogum/api/businesses?start=601&display=700&query=강남역+고기집&sortingOrder=precision\n",
      "request_url: https://store.naver.com/sogum/api/businesses?start=701&display=800&query=강남역+고기집&sortingOrder=precision\n",
      "request_url: https://store.naver.com/sogum/api/businesses?start=801&display=900&query=강남역+고기집&sortingOrder=precision\n",
      "request_url: https://store.naver.com/sogum/api/businesses?start=901&display=1000&query=강남역+고기집&sortingOrder=precision\n"
     ]
    }
   ],
   "source": [
    "# 크롤링에 필요한 id 정보 추출\n",
    "restaurant_id_list = []\n",
    "\n",
    "for start_idx in [1, 101, 201, 301, 401, 501, 601, 701, 801, 901]:\n",
    "    source_url = \"https://store.naver.com/sogum/api/businesses?\"\n",
    "    url_parameter_start = \"start=\" + str(start_idx)\n",
    "    url_parameter_display = \"&display=\"\n",
    "    url_parameter_query = \"&query=강남역+고기집\"\n",
    "    url_parameter_sorting = \"&sortingOrder=precision\"\n",
    "    url_concat = source_url + url_parameter_start + \\\n",
    "                url_parameter_display + str(start_idx+99) + url_parameter_query + url_parameter_sorting\n",
    "    print(\"request_url:\", url_concat)\n",
    "    json_data = requests.get(url_concat).text\n",
    "    restaurant_list_data = json.loads(json_data)\n",
    "\n",
    "    for restaurant in restaurant_list_data['items']:\n",
    "        if 'moreBookingReviewsPath' in restaurant:\n",
    "            restaurant_id_list.append(restaurant['id'])\n",
    "\n",
    "restaurant_id_list = list(set(restaurant_id_list))"
   ]
  },
  {
   "cell_type": "markdown",
   "metadata": {},
   "source": [
    "-----"
   ]
  },
  {
   "cell_type": "markdown",
   "metadata": {},
   "source": [
    "### [맛집 리뷰 정보 크롤링]"
   ]
  },
  {
   "cell_type": "markdown",
   "metadata": {},
   "source": [
    "![앱 생성 페이지](img/2.png)"
   ]
  },
  {
   "cell_type": "markdown",
   "metadata": {},
   "source": [
    "-----"
   ]
  },
  {
   "cell_type": "code",
   "execution_count": 4,
   "metadata": {
    "scrolled": true
   },
   "outputs": [
    {
     "name": "stdout",
     "output_type": "stream",
     "text": [
      "Crawl 0 % complete..\n",
      "Crawl 1 % complete..\n",
      "Crawl 2 % complete..\n",
      "Crawl 4 % complete..\n",
      "Crawl 5 % complete..\n",
      "Crawl 6 % complete..\n",
      "Crawl 8 % complete..\n",
      "Crawl 9 % complete..\n",
      "Crawl 10 % complete..\n",
      "Crawl 12 % complete..\n",
      "Crawl 13 % complete..\n",
      "Crawl 15 % complete..\n",
      "Crawl 16 % complete..\n",
      "Crawl 17 % complete..\n",
      "Crawl 19 % complete..\n",
      "Crawl 20 % complete..\n",
      "Crawl 21 % complete..\n",
      "Crawl 23 % complete..\n",
      "Crawl 24 % complete..\n",
      "Crawl 26 % complete..\n",
      "Crawl 27 % complete..\n",
      "Crawl 28 % complete..\n",
      "Crawl 30 % complete..\n",
      "Crawl 31 % complete..\n",
      "Crawl 32 % complete..\n",
      "Crawl 34 % complete..\n",
      "Crawl 35 % complete..\n",
      "Crawl 36 % complete..\n",
      "Crawl 38 % complete..\n",
      "Crawl 39 % complete..\n",
      "Crawl 41 % complete..\n",
      "Crawl 42 % complete..\n",
      "Crawl 43 % complete..\n",
      "Crawl 45 % complete..\n",
      "Crawl 46 % complete..\n",
      "Crawl 47 % complete..\n",
      "Crawl 49 % complete..\n",
      "Crawl 50 % complete..\n",
      "Crawl 52 % complete..\n",
      "Crawl 53 % complete..\n",
      "Crawl 54 % complete..\n",
      "Crawl 56 % complete..\n",
      "Crawl 57 % complete..\n",
      "Crawl 58 % complete..\n",
      "Crawl 60 % complete..\n",
      "Crawl 61 % complete..\n",
      "Crawl 63 % complete..\n",
      "Crawl 64 % complete..\n",
      "Crawl 65 % complete..\n",
      "Crawl 67 % complete..\n",
      "Crawl 68 % complete..\n",
      "Crawl 69 % complete..\n",
      "Crawl 71 % complete..\n",
      "Crawl 72 % complete..\n",
      "Crawl 73 % complete..\n",
      "Crawl 75 % complete..\n",
      "Crawl 76 % complete..\n",
      "Crawl 78 % complete..\n",
      "Crawl 79 % complete..\n",
      "Crawl 80 % complete..\n",
      "Crawl 82 % complete..\n",
      "Crawl 83 % complete..\n",
      "Crawl 84 % complete..\n",
      "Crawl 86 % complete..\n",
      "Crawl 87 % complete..\n",
      "Crawl 89 % complete..\n",
      "Crawl 90 % complete..\n",
      "Crawl 91 % complete..\n",
      "Crawl 93 % complete..\n",
      "Crawl 94 % complete..\n",
      "Crawl 95 % complete..\n",
      "Crawl 97 % complete..\n",
      "Crawl 98 % complete..\n",
      "Crawl 100 % complete\n"
     ]
    }
   ],
   "source": [
    "# 가져온 맛집 리스트의 리뷰 정보 크롤링\n",
    "import requests\n",
    "from bs4 import BeautifulSoup\n",
    "import re\n",
    "\n",
    "columns = ['score', 'review']\n",
    "df = pd.DataFrame(columns=columns)\n",
    "\n",
    "source_url_head = \"https://store.naver.com/restaurants/detail?id=\"\n",
    "source_url_tail = \"&tab=bookingReview#_tab\"\n",
    "\n",
    "for idx in range(0, len(restaurant_id_list)):\n",
    "    print(\"Crawl\", str(int(idx/len(restaurant_id_list)*100)), \"% complete..\")\n",
    "    req = requests.get(source_url_head + str(restaurant_id_list[idx]) + source_url_tail)\n",
    "    html = req.content\n",
    "    soup = BeautifulSoup(html, 'lxml')\n",
    "    review_area = soup.find(name=\"div\", attrs={\"class\":\"review_area\"})\n",
    "\n",
    "    # 리뷰가 없는 페이지\n",
    "    if review_area is None:\n",
    "        continue\n",
    "\n",
    "    review_list = review_area.find_all(name=\"div\", attrs={\"class\":\"info_area\"})\n",
    "    for review in review_list:\n",
    "        score = review.find(name=\"span\", attrs={\"class\":\"score\"}).text\n",
    "        review_txt = review.find(name=\"div\", attrs={\"class\":\"review_txt\"}).text\n",
    "\n",
    "        # to dataframe\n",
    "        row = [score, review_txt]\n",
    "        series = pd.Series(row, index=df.columns)\n",
    "        df = df.append(series, ignore_index=True)\n",
    "print(\"Crawl 100 %\", \"complete\")"
   ]
  },
  {
   "cell_type": "code",
   "execution_count": 5,
   "metadata": {},
   "outputs": [
    {
     "name": "stdout",
     "output_type": "stream",
     "text": [
      "(556, 3)\n"
     ]
    },
    {
     "data": {
      "text/html": [
       "<div>\n",
       "<style scoped>\n",
       "    .dataframe tbody tr th:only-of-type {\n",
       "        vertical-align: middle;\n",
       "    }\n",
       "\n",
       "    .dataframe tbody tr th {\n",
       "        vertical-align: top;\n",
       "    }\n",
       "\n",
       "    .dataframe thead th {\n",
       "        text-align: right;\n",
       "    }\n",
       "</style>\n",
       "<table border=\"1\" class=\"dataframe\">\n",
       "  <thead>\n",
       "    <tr style=\"text-align: right;\">\n",
       "      <th></th>\n",
       "      <th>score</th>\n",
       "      <th>review</th>\n",
       "      <th>y</th>\n",
       "    </tr>\n",
       "  </thead>\n",
       "  <tbody>\n",
       "    <tr>\n",
       "      <th>0</th>\n",
       "      <td>4</td>\n",
       "      <td>고기도 너무 맛있었구요\\n같이 나오는 반찬이랑 특히 된장찌개!!!!!!계란찜!!!!...</td>\n",
       "      <td>1</td>\n",
       "    </tr>\n",
       "    <tr>\n",
       "      <th>1</th>\n",
       "      <td>1</td>\n",
       "      <td>회식하는데 예약을 했는데 길을 찾는게 낮아져서 약 십분정도 늦어질것 같아 미리 가게...</td>\n",
       "      <td>0</td>\n",
       "    </tr>\n",
       "    <tr>\n",
       "      <th>2</th>\n",
       "      <td>5</td>\n",
       "      <td>한상가득!!! 추천합니다!!!</td>\n",
       "      <td>1</td>\n",
       "    </tr>\n",
       "    <tr>\n",
       "      <th>3</th>\n",
       "      <td>5</td>\n",
       "      <td>최근에 자주 가는데 역시 갈 때마다 예약하고 갑니다\\n서비스 좋고 고기 맛도 좋네요...</td>\n",
       "      <td>1</td>\n",
       "    </tr>\n",
       "    <tr>\n",
       "      <th>4</th>\n",
       "      <td>5</td>\n",
       "      <td>한점 더먹고 오지못한게 너무아쉬운 ㅜ\\n갈때마다 배터지게 먹어도 더못먹은게 매번 후...</td>\n",
       "      <td>1</td>\n",
       "    </tr>\n",
       "  </tbody>\n",
       "</table>\n",
       "</div>"
      ],
      "text/plain": [
       "   score                                             review  y\n",
       "0      4  고기도 너무 맛있었구요\\n같이 나오는 반찬이랑 특히 된장찌개!!!!!!계란찜!!!!...  1\n",
       "1      1  회식하는데 예약을 했는데 길을 찾는게 낮아져서 약 십분정도 늦어질것 같아 미리 가게...  0\n",
       "2      5                                   한상가득!!! 추천합니다!!!  1\n",
       "3      5  최근에 자주 가는데 역시 갈 때마다 예약하고 갑니다\\n서비스 좋고 고기 맛도 좋네요...  1\n",
       "4      5  한점 더먹고 오지못한게 너무아쉬운 ㅜ\\n갈때마다 배터지게 먹어도 더못먹은게 매번 후...  1"
      ]
     },
     "execution_count": 5,
     "metadata": {},
     "output_type": "execute_result"
    }
   ],
   "source": [
    "# 4점 이상의 리뷰는 긍정 리뷰, 3점 이하의 리뷰는 부정 리뷰로 평가\n",
    "df['y'] = df['score'].apply(lambda x: 1 if int(x) > 3 else 0)\n",
    "print(df.shape)\n",
    "df.head()"
   ]
  },
  {
   "cell_type": "code",
   "execution_count": 6,
   "metadata": {},
   "outputs": [],
   "source": [
    "df.to_csv(\"review_data.csv\", index=False)\n",
    "df = pd.read_csv(\"review_data.csv\")"
   ]
  },
  {
   "cell_type": "markdown",
   "metadata": {},
   "source": [
    "-----"
   ]
  },
  {
   "cell_type": "markdown",
   "metadata": {},
   "source": [
    "# <Step2. 전처리> : TF-IDF를 이용한 핵심어 추출"
   ]
  },
  {
   "cell_type": "markdown",
   "metadata": {},
   "source": [
    "### [형태소 추출하기]"
   ]
  },
  {
   "cell_type": "markdown",
   "metadata": {},
   "source": [
    "##### 한글 텍스트로 전처리"
   ]
  },
  {
   "cell_type": "code",
   "execution_count": 7,
   "metadata": {},
   "outputs": [],
   "source": [
    "import re\n",
    "\n",
    "# 텍스트 정제 함수 : 한글 이외의 문자는 전부 제거\n",
    "def text_cleaning(text):\n",
    "    hangul = re.compile('[^ ㄱ-ㅣ가-힣]+') # 한글의 정규표현식\n",
    "    result = hangul.sub('', text)\n",
    "    return result"
   ]
  },
  {
   "cell_type": "code",
   "execution_count": 8,
   "metadata": {},
   "outputs": [
    {
     "data": {
      "text/html": [
       "<div>\n",
       "<style scoped>\n",
       "    .dataframe tbody tr th:only-of-type {\n",
       "        vertical-align: middle;\n",
       "    }\n",
       "\n",
       "    .dataframe tbody tr th {\n",
       "        vertical-align: top;\n",
       "    }\n",
       "\n",
       "    .dataframe thead th {\n",
       "        text-align: right;\n",
       "    }\n",
       "</style>\n",
       "<table border=\"1\" class=\"dataframe\">\n",
       "  <thead>\n",
       "    <tr style=\"text-align: right;\">\n",
       "      <th></th>\n",
       "      <th>score</th>\n",
       "      <th>y</th>\n",
       "      <th>ko_text</th>\n",
       "    </tr>\n",
       "  </thead>\n",
       "  <tbody>\n",
       "    <tr>\n",
       "      <th>0</th>\n",
       "      <td>4</td>\n",
       "      <td>1</td>\n",
       "      <td>고기도 너무 맛있었구요같이 나오는 반찬이랑 특히 된장찌개계란찜다음엔 꼭 밥을 시켜서...</td>\n",
       "    </tr>\n",
       "    <tr>\n",
       "      <th>1</th>\n",
       "      <td>1</td>\n",
       "      <td>0</td>\n",
       "      <td>회식하는데 예약을 했는데 길을 찾는게 낮아져서 약 십분정도 늦어질것 같아 미리 가게...</td>\n",
       "    </tr>\n",
       "    <tr>\n",
       "      <th>2</th>\n",
       "      <td>5</td>\n",
       "      <td>1</td>\n",
       "      <td>한상가득 추천합니다</td>\n",
       "    </tr>\n",
       "    <tr>\n",
       "      <th>3</th>\n",
       "      <td>5</td>\n",
       "      <td>1</td>\n",
       "      <td>최근에 자주 가는데 역시 갈 때마다 예약하고 갑니다서비스 좋고 고기 맛도 좋네요다음...</td>\n",
       "    </tr>\n",
       "    <tr>\n",
       "      <th>4</th>\n",
       "      <td>5</td>\n",
       "      <td>1</td>\n",
       "      <td>한점 더먹고 오지못한게 너무아쉬운 ㅜ갈때마다 배터지게 먹어도 더못먹은게 매번 후회되...</td>\n",
       "    </tr>\n",
       "  </tbody>\n",
       "</table>\n",
       "</div>"
      ],
      "text/plain": [
       "   score  y                                            ko_text\n",
       "0      4  1  고기도 너무 맛있었구요같이 나오는 반찬이랑 특히 된장찌개계란찜다음엔 꼭 밥을 시켜서...\n",
       "1      1  0  회식하는데 예약을 했는데 길을 찾는게 낮아져서 약 십분정도 늦어질것 같아 미리 가게...\n",
       "2      5  1                                         한상가득 추천합니다\n",
       "3      5  1  최근에 자주 가는데 역시 갈 때마다 예약하고 갑니다서비스 좋고 고기 맛도 좋네요다음...\n",
       "4      5  1  한점 더먹고 오지못한게 너무아쉬운 ㅜ갈때마다 배터지게 먹어도 더못먹은게 매번 후회되..."
      ]
     },
     "execution_count": 8,
     "metadata": {},
     "output_type": "execute_result"
    }
   ],
   "source": [
    "df['ko_text'] = df['review'].apply(lambda x: text_cleaning(x))\n",
    "del df['review']\n",
    "df.head()"
   ]
  },
  {
   "cell_type": "markdown",
   "metadata": {},
   "source": [
    "-----"
   ]
  },
  {
   "cell_type": "markdown",
   "metadata": {},
   "source": [
    "##### 형태소 단위로 추출"
   ]
  },
  {
   "cell_type": "code",
   "execution_count": 9,
   "metadata": {},
   "outputs": [
    {
     "name": "stdout",
     "output_type": "stream",
     "text": [
      "['고기/Noun', '도/Josa', '너무/Adverb', '맛있었구요/Adjective', '같이/Adverb', '나오는/Verb', '반찬/Noun', '이랑/Josa', '특히/Adverb', '된장찌개/Noun', '계란찜/Noun', '다음/Noun', '엔/Josa', '꼭/Noun', '밥/Noun', '을/Josa', '시켜서/Verb', '말아먹어야겠습니다/Verb', '재/Noun', '방문/Noun', '의사/Noun', '뿜뿜/Noun']\n"
     ]
    }
   ],
   "source": [
    "from konlpy.tag import Twitter\n",
    "\n",
    "def get_pos(x):\n",
    "    tagger = Twitter()\n",
    "    pos = tagger.pos(x)\n",
    "    pos = ['{}/{}'.format(word,tag) for word, tag in pos]\n",
    "    return pos\n",
    "\n",
    "# 형태소 추출 동작 테스트\n",
    "result = get_pos(df['ko_text'][0])\n",
    "print(result)"
   ]
  },
  {
   "cell_type": "markdown",
   "metadata": {},
   "source": [
    "-----"
   ]
  },
  {
   "cell_type": "markdown",
   "metadata": {},
   "source": [
    "### [TF-IDF 추출하기]"
   ]
  },
  {
   "cell_type": "markdown",
   "metadata": {},
   "source": [
    "##### corpus index 생성하기"
   ]
  },
  {
   "cell_type": "code",
   "execution_count": 10,
   "metadata": {},
   "outputs": [],
   "source": [
    "from sklearn.feature_extraction.text import CountVectorizer\n",
    "\n",
    "index_vectorizer = CountVectorizer(tokenizer = lambda x: get_pos(x))\n",
    "X = index_vectorizer.fit_transform(df['ko_text'].tolist())"
   ]
  },
  {
   "cell_type": "code",
   "execution_count": 11,
   "metadata": {},
   "outputs": [
    {
     "data": {
      "text/plain": [
       "(556, 3074)"
      ]
     },
     "execution_count": 11,
     "metadata": {},
     "output_type": "execute_result"
    }
   ],
   "source": [
    "X.shape"
   ]
  },
  {
   "cell_type": "code",
   "execution_count": 12,
   "metadata": {},
   "outputs": [
    {
     "name": "stdout",
     "output_type": "stream",
     "text": [
      "{'고기/Noun': 234, '도/Josa': 733, '너무/Adverb': 539, '맛있었구요/Adjective': 1041, '같이/Adverb': 171, '나오는/Verb': 485, '반찬/Noun': 1265, '이랑/Josa': 2146, '특히/Adverb': 2781, '된장찌개/Noun': 797, '계란찜/Noun': 226, '다음/Noun': 646, '엔/Josa': 1940, '꼭/Noun': 451, '밥/Noun': 1287, '을/Josa': 2117, '시켜서/Verb': 1655, '말아먹어야겠습니다/Verb': 1010, '재/Noun': 2312, '방문/Noun': 1289, '의사/Noun': 2125, '뿜뿜/Noun': 1477, '회식/Noun': 3046, '하는데/Verb': 2871, '예약/Noun': 1986, '했는데/Verb': 2997, '길/Noun': 415, '찾는게/Verb': 2622, '낮아져서/Verb': 523, '약/Noun': 1839, '십분/Noun': 1688, '정도/Noun': 2370, '늦어질것/Verb': 609, '같아/Adjective': 161, '미리/Noun': 1220, '가게/Noun': 28, '에/Josa': 1929, '양/Modifier': 1846, '해전/Noun': 2969, '화/Suffix': 3025, '를/Josa': 919, '드렸어요/Verb': 822, '그런데/Conjunction': 360, '대뜸/Noun': 692, '늦어지는/Verb': 608, '시간/Noun': 1635, '차라리/Noun': 2604, '다른/Noun': 633, '손님/Noun': 1587, '받는게/Verb': 1273, '낫다/Noun': 519, '는/Josa': 600, '식/Noun': 1664, '으로/Josa': 2114, '말/Noun': 1004, '하셔서/Verb': 2886, '굉장히/Adjective': 281, '불쾌했어요/Adjective': 1421, 'ㅡㅡ/KoreanParticle': 25, '한/Determiner': 2908, '늦겠다는/Verb': 606, '것/Noun': 208, '아니/Adjective': 1726, '고저/Noun': 241, '혼자/Noun': 3021, '였다면/Verb': 1975, '안/VerbPrefix': 1755, '가고/Verb': 31, '말았겠지만/Verb': 1011, '여러/Modifier': 1947, '명/Noun': 1144, '이/Josa': 2129, '예/Modifier': 1983, '약/Modifier': 1838, '한/Modifier': 2910, '거/Noun': 184, '라/Josa': 896, '어쩔/Modifier': 1875, '수/Noun': 1594, '없이/Adverb': 1926, '갔는데/Verb': 143, '절대/Noun': 2352, '다시는/Verb': 641, '갈듯/Verb': 112, '하네요/Verb': 2865, '그런/Modifier': 357, '장사/Noun': 2307, '하지/Verb': 2904, '마세요/Verb': 931, '상가/Noun': 1511, '득/Noun': 832, '추천/Noun': 2668, '합니다/Verb': 2949, '최근/Noun': 2660, '자주/Noun': 2284, '가는데/Verb': 46, '역시/Noun': 1961, '갈/Verb': 105, '때/Noun': 876, '마다/Josa': 927, '하고/Josa': 2848, '갑니다/Verb': 137, '서비스/Noun': 1537, '좋고/Adjective': 2419, '맛/Noun': 1013, '좋/Adjective': 2415, '네/Determiner': 550, '요다음/Noun': 2066, '또/Noun': 889, '갈게요/Verb': 108, '점/Noun': 2353, '더/Noun': 713, '먹고/Verb': 1087, '오지/Noun': 2015, '못/VerbPrefix': 1177, '한게/Verb': 2915, '아쉬운/Adjective': 1736, 'ㅜ/KoreanParticle': 14, '배/Noun': 1295, '터지게/Verb': 2760, '먹어도/Verb': 1100, '더못/Adjective': 716, '먹은게/Verb': 1127, '매번/Noun': 1071, '후회되네요/Adjective': 3054, 'ㅋㅋ/KoreanParticle': 2, '먹고싶을/Verb': 1088, '땐/Noun': 878, '항상/Noun': 2953, '감격시대/Noun': 122, '로/Josa': 915, '사진/Noun': 1492, '은/Josa': 2116, '떠드느라/Verb': 881, '못/Noun': 1176, '찍었는데/Verb': 2597, '빠르게/Adjective': 1459, '안내/Noun': 1759, '해주시/Noun': 2977, '고/Josa': 228, '직원/Noun': 2541, '분들/Suffix': 1409, '친절했어요/Adjective': 2705, '얇고/Adjective': 1843, '해동/Noun': 2960, '덜/Noun': 724, '된/Verb': 791, '들/Suffix': 836, '외/Noun': 2057, '에는/Josa': 1933, '다/Adverb': 619, '괜찮았고/Adjective': 274, '갈비살/Noun': 118, '제일/Noun': 2387, '맛있었/Adjective': 1038, '어요/Noun': 1868, '같이/Josa': 172, '나온/Verb': 490, '밑반찬/Noun': 1234, '좋았어요/Adjective': 2449, '고/Modifier': 229, '기질/Noun': 413, '무척/Noun': 1185, '좋아서/Adjective': 2430, '만족했어요/Adjective': 987, '아이/Noun': 1748, '스크린/Noun': 1622, '존맛/Noun': 2407, '탱/Adverb': 2758, '식사/Noun': 1670, '하는/Verb': 2867, '사람/Noun': 1480, '많아서/Adjective': 993, '가길/Verb': 35, '잘/VerbPrefix': 2293, '했구나/Verb': 2993, '했어요/Verb': 3005, '무한리필/Noun': 1187, '인데/Josa': 2194, '나고/Verb': 471, '질/Noun': 2551, '기지/Noun': 411, '않았구요/Verb': 1791, '말고/Josa': 1005, '나와서/Verb': 495, '좋았고/Adjective': 2440, '났네요/Verb': 520, '일/Noun': 2205, '하시는/Verb': 2893, '이모/Noun': 2154, '님/Suffix': 618, '들/Verb': 837, '정말/Noun': 2371, '정신없이/Adverb': 2377, '바쁜데/Adjective': 1254, '그래도/Adverb': 350, '챙겨주셨어요/Verb': 2633, '사장/Noun': 1491, '보이시/Noun': 1360, '아저씨/Noun': 1749, '계속/Noun': 227, '홀안/Noun': 3023, '빙글빙글/Adverb': 1457, '돌/Noun': 749, '며/Josa': 1142, '체크/Noun': 2651, '하시더라구요/Verb': 2897, '맛있었어요/Adjective': 1049, '처럼/Josa': 2636, '싹/Noun': 1702, '비우고/Verb': 1449, '왔습니다/Verb': 2053, '굿굿/Noun': 332, '주말/Noun': 2470, '저녁/Noun': 2318, '진짜/Noun': 2548, '많았어요/Adjective': 995, '가실거면/Verb': 76, '하는게/Verb': 2870, '좋을듯/Adjective': 2460, '싶고/Verb': 1690, '닭볶음탕/Noun': 668, '베이컨/Noun': 1322, '치즈/Noun': 2681, '감자전/Noun': 133, '먹었는데/Verb': 1108, '둘다/Verb': 811, 'ㅠㅠ/KoreanParticle': 17, '단계/Noun': 652, '칼칼한/Adjective': 2717, '딱/Adverb': 870, '맛있었음/Adjective': 1050, 'ㅜㅜ/KoreanParticle': 15, '여기/Noun': 1943, '가시/Noun': 74, '면/Josa': 1143, '날치/Noun': 509, '알/Noun': 1807, '볶음밥/Noun': 1369, '드세요/Verb': 827, '먹은/Verb': 1125, '중/Suffix': 2504, '젤/Noun': 2390, '셋/Noun': 1566, '이/Suffix': 2132, '서/Josa': 1532, '두/Determiner': 803, '개/Noun': 174, '볶았는데/Verb': 1367, '세/Modifier': 1554, '볶을걸/Verb': 1368, '후회/Noun': 3053, '함/Noun': 2946, '여자/Noun': 1955, '이서/Noun': 2161, '급하게/Adjective': 382, '닭도리탕/Noun': 666, '세트/Noun': 1561, '와/Josa': 2036, '주먹밥/Noun': 2471, '까지/Josa': 425, '가득/Noun': 53, '시키고/Verb': 1658, '소/Modifier': 1568, '주한/Noun': 2493, '명/Suffix': 1145, '입가심/Noun': 2222, 'ㅋㅋㅋㅋㅋ/KoreanParticle': 5, '좋아요/Adjective': 2432, '첫/Noun': 2643, '번째/Suffix': 1313, '밝고/Verb': 1286, '친절하네요/Adjective': 2687, '일단/Noun': 2206, '그거/Noun': 341, '했다고/Verb': 3000, '봅니다/Verb': 1375, '이/Determiner': 2128, '기/Noun': 386, '가/Josa': 26, '막히네요/Verb': 951, '먹느라/Verb': 1092, '찍었어요/Verb': 2598, '강추/Noun': 156, '꽃/Noun': 452, '도리/Noun': 736, '탕/Noun': 2755, '먹으러/Verb': 1120, '매콤/Noun': 1078, '달콤/Noun': 663, '넘/Verb': 544, '잇어요/Verb': 2234, '한/Verb': 2911, '잔/Noun': 2291, '하러/Verb': 2878, '가야겠어요/Verb': 78, '앙/Adverb': 1826, '랑/Josa': 907, '참/Verb': 2613, '치마/Noun': 2679, '요/Josa': 2061, '먹었어용/Verb': 1114, 'ㅋㅋㅋ/KoreanParticle': 3, '단계여도/Verb': 653, '꽤/Noun': 454, '매웠고/Adjective': 1074, '진챠/Noun': 2549, '모/Modifier': 1154, '듬/Noun': 858, '튀김/Noun': 2772, '완전/Noun': 2045, '바삭/Noun': 1256, '해/Noun': 2954, '강/Noun': 152, '추한/Adjective': 2670, '달/Noun': 658, '한번/Noun': 2922, '씩/Suffix': 1719, '가려고요/Verb': 55, 'ㅎㅎㅎ/KoreanParticle': 9, '이벤트/Noun': 2157, '기다리겠/Verb': 389, '숩/Noun': 1610, '니당/Verb': 616, '가격/Noun': 30, '비해/Verb': 1454, '닭/Noun': 664, '조금/Noun': 2394, '들어있는건/Verb': 855, '아쉬웠지만/Adjective': 1744, '양념/Noun': 1848, '과/Josa': 259, '사리는/Verb': 1483, '중독/Noun': 2505, '적/Suffix': 2327, '인/Josa': 2187, '매운/Adjective': 1073, 'ㅎㅎ/KoreanParticle': 8, '언제나/Adverb': 1883, '있는/Adjective': 2241, '음식/Noun': 2121, '나/Josa': 466, '친절/Noun': 2683, '하겠/Verb': 2846, '습/Noun': 1631, '푸/Verb': 2827, '짐/Noun': 2554, '맛있게/Adjective': 1017, '잘/Verb': 2292, '왔어요/Verb': 2054, '국물/Noun': 320, '진한/Adjective': 2550, '같아요/Adjective': 164, '바쁜/Adjective': 1252, '도/Noun': 734, '친절하게/Adjective': 2685, '대해/Noun': 709, '주셔서/Verb': 2475, '감사해요/Verb': 128, '북적/Noun': 1406, '주문/Noun': 2472, '힘드셨을텐데도/Adjective': 3067, '웃으며/Verb': 2089, '친절하고/Adjective': 2686, '재밌게/Adjective': 2314, '받아주셨어요/Verb': 1279, '시켰는데/Verb': 1657, '맛있구요/Adjective': 1021, '똥집/Noun': 892, '기름/Noun': 403, '쩐내/Noun': 2581, '잡내/Verb': 2300, '바로바로/Adverb': 1244, '차서/Noun': 2606, '한거/Verb': 2913, '있었으면/Adjective': 2257, '좋았을텐데/Adjective': 2452, '신나서/Adjective': 1673, '바로/Noun': 1243, '찍었/Verb': 2595, '용/Noun': 2075, '수정/Noun': 1601, '친구/Noun': 2682, '한테/Josa': 2932, '받아서/Verb': 1277, '올려용/Verb': 2029, '보내주세용/Verb': 1345, '기대기다/Verb': 398, '맛있고/Adjective': 1019, '좋았습니다/Adjective': 2448, '맛있어요/Adjective': 1036, '강남/Noun': 153, '최고/Noun': 2659, '성비/Noun': 1553, '듯/Noun': 859, '술/Noun': 1608, '원/Noun': 2091, '나왔는데/Verb': 496, '어디가/Noun': 1859, '이렇게/Adverb': 2151, '먹음/Noun': 1134, '돌솥밥/Noun': 750, '줌/Noun': 2501, '맛있었고/Adjective': 1039, '숯불/Noun': 1611, '의/Josa': 2124, '향/Noun': 3013, '느꼈습니다/Verb': 585, '육즙/Noun': 2110, '살아있고/Verb': 1500, '맛있었습니다/Adjective': 1047, '대박/Noun': 696, '이에요/Josa': 2171, '맛있습니다/Adjective': 1031, '먹었습니다/Verb': 1112, '만큼/Josa': 988, '만족합니다/Adjective': 981, '소고기/Noun': 1571, '감사합니다/Verb': 126, '체인점/Noun': 2649, '많이/Adverb': 999, '생기/Noun': 1526, '기전/Noun': 409, '부터/Josa': 1404, '다닌/Verb': 627, '요/Modifier': 2062, '예전/Noun': 1989, '같지/Adjective': 173, '않은것/Verb': 1804, '년/Noun': 555, '사이/Noun': 1488, '좀/Noun': 2408, '떨어지고/Verb': 885, '장아찌/Noun': 2309, '국수/Noun': 322, '변했어요/Adjective': 1328, '만들고/Verb': 958, '막/Noun': 944, '해주셨는데/Verb': 2973, '두신거처럼/Verb': 808, '라고/Josa': 898, '실망했어요/Adjective': 1679, '이번/Noun': 2156, '지금/Noun': 2526, '이런/Adjective': 2149, '없었다고기/Adjective': 1918, '육/Modifier': 2107, '사시미/Noun': 1485, '찌개/Noun': 2591, '곤드레/Adverb': 246, '전부/Noun': 2347, '괜찮고/Adjective': 270, '콜키/Noun': 2733, '지/Josa': 2522, '프리/Noun': 2832, '적립/Noun': 2330, '된다는/Verb': 795, '분/Noun': 1407, '넘게/Verb': 545, '기다렸는데/Verb': 388, '기다리길/Verb': 391, '기도/Noun': 402, '지만/Josa': 2533, '별/Modifier': 1329, '미네/Noun': 1216, '매우/Noun': 1072, '만족하며/Adjective': 978, '돌아왔어요/Verb': 753, '친절합니다/Adjective': 2700, '갈께/Verb': 110, '욧/Noun': 2074, '친절해요/Adjective': 2702, 'ㅡ/KoreanParticle': 24, '친절하시고/Adjective': 2693, '챙겨주셔서/Verb': 2632, '감사했어요/Verb': 130, '갈래/Noun': 113, '있으나/Adjective': 2259, '정신/Noun': 2376, '없고/Adjective': 1896, '빨리/Adverb': 1462, '나가야/Noun': 468, '느낌이였어요/Verb': 596, '시간대/Noun': 1636, '비추/Verb': 1452, '구워주셔서/Verb': 305, '편하고/Adjective': 2811, '즐겁게/Adjective': 2515, '막었습니다/Verb': 948, '맜/Noun': 1056, '있었구요/Adjective': 2253, '구워주시면서/Verb': 312, '먹으면/Verb': 1123, '좋을/Adjective': 2457, '맛있어서/Adjective': 1034, '즐거운/Adjective': 2512, '보냈습니다/Verb': 1347, '맛있는/Adjective': 1025, '데넘/Noun': 729, '비싸다여/Adjective': 1445, '들이/Verb': 857, '구워주시고/Verb': 308, '세상/Noun': 1558, '이영자/Noun': 2174, '맛집/Noun': 1055, '필요/Noun': 2838, '없음/Adjective': 1925, '왜/Noun': 2056, '좋아하는지/Adjective': 2436, '알거/Verb': 1808, '같음/Adjective': 170, 'ㅋㅋㅋㅋ/KoreanParticle': 4, '열심히/Adverb': 1972, '돈/Noun': 746, '벌어서/Verb': 1318, '드신/Verb': 831, '언능/Adverb': 1879, '드시러/Verb': 830, '고고하세요/Adjective': 232, 'ㅎ/KoreanParticle': 7, '끊임없이/Adjective': 457, '오는/Verb': 2001, '이었어요/Verb': 2169, '사실/Noun': 1486, '이전/Noun': 2177, '지점/Noun': 2538, '갔가/Verb': 141, '살짝/Noun': 1502, '실망했었는데/Adjective': 1680, '논현/Noun': 564, '본점/Noun': 1371, '가보고/Verb': 64, '영자/Noun': 1980, '언니/Suffix': 1881, '인지/Josa': 2201, '게/Josa': 210, '됐어요/Verb': 766, '양/Noun': 1847, '적지/Noun': 2338, '만/Josa': 952, '한우/Noun': 2927, '니까/Josa': 615, '요/Noun': 2063, '초밥/Noun': 2656, '분위기/Noun': 1411, '퀄리티/Noun': 2738, '전반/Noun': 2345, '아쉬운건/Adjective': 1737, '종류/Noun': 2413, '적었어요/Verb': 2333, '놀/Noun': 566, '고온/Noun': 240, '기분/Noun': 406, '랄/Noun': 906, '까/Verb': 424, '난/Josa': 503, '김치/Noun': 417, '찌게/Noun': 2592, '입니다/Adjective': 2225, '찾아/Verb': 2625, '뵙겠습니다/Verb': 1381, '오랜/Modifier': 2005, '만/Noun': 954, '생각나서/Verb': 1524, '들려/Verb': 843, '본/Verb': 1370, '육덕/Noun': 2108, '등심/Noun': 863, '간만/Noun': 99, '가니/Verb': 50, '반겨주시고/Verb': 1263, '와인/Noun': 2041, '병/Noun': 1336, '받았네요/Verb': 1280, '올/Modifier': 2025, '정겨운/Noun': 2367, '느낌/Noun': 594, '안고/Noun': 1756, '옵니다/Eomi': 2033, '오늘/Noun': 2002, '만족하고/Adjective': 975, '가는것/Verb': 44, '같습니다/Adjective': 160, '올게요/Verb': 2027, '마리아/Noun': 929, '쥬/Noun': 2507, '뭉/Noun': 1207, '태기/Noun': 2756, '아쉽네요/Adjective': 1745, '여긴/Verb': 1946, '무조건/Noun': 1184, '구입/Noun': 319, '해야/Verb': 2966, '있는데/Adjective': 2242, '그게/Noun': 344, '악수/Noun': 1753, '벌고자/Verb': 1316, '전략/Noun': 2342, '노골/Noun': 556, '적임/Noun': 2336, '나쁘진/Adjective': 478, '않으나/Verb': 1801, '쓸/Verb': 1717, '생각/Noun': 1520, '와야/Verb': 2040, '할듯/Verb': 2938, '안심/Noun': 1770, '부드러워요/Adjective': 1388, '메뉴판/Noun': 1140, '보고/Noun': 1339, '하려는데/Verb': 2880, '자꾸/Noun': 2273, '팔려는/Verb': 2800, '강매/Noun': 155, '보구/Noun': 1341, '말씀드릴께요/Verb': 1009, '를/Noun': 920, '번은/Noun': 1311, '듯뭐/Noun': 860, '하시는거죠/Verb': 2894, '품질/Noun': 2828, '코키/Noun': 2729, '여서/Josa': 1949, '만족했습니다/Adjective': 986, '평일/Noun': 2821, '먹기/Noun': 1091, '힘든/Adjective': 3068, '공부/Noun': 258, '아들/Noun': 1732, '일요/Noun': 2211, '하기/Verb': 2854, '로/Noun': 916, '교대역/Noun': 283, '근처/Noun': 377, '찾던/Verb': 2624, '중/Noun': 2503, '탐라/Noun': 2753, '도야지/Noun': 740, '삼겹살/Noun': 1507, '노래/Noun': 557, '부르던/Verb': 1392, '녀석/Noun': 554, '에게/Josa': 1931, '딱이라/Adjective': 873, '해서/Verb': 2964, '네이버/Noun': 553, '했더니/Verb': 3002, '음료/Noun': 2119, '득템/Noun': 833, '듣던데로/Verb': 835, '상차림/Noun': 1514, '짐하게/Verb': 2555, '팅/Noun': 2788, '되자/Verb': 789, '입가/Noun': 2221, '기/Modifier': 385, '대/Modifier': 684, '제주/Noun': 2388, '오/Modifier': 1992, '겹/Noun': 216, '인분/Noun': 2195, '우삼겹/Noun': 2081, '먹어서/Verb': 1101, '후식/Noun': 3052, '먹으려던/Verb': 1122, '김치말이/Verb': 418, '기회/Noun': 414, '미루고/Verb': 1217, '입구/Noun': 2223, '소프트아이스크림/Noun': 1582, '하나/Noun': 2862, '쫙/Noun': 2587, '빼서/Verb': 1466, '제대로/Noun': 2385, '했습니다/Verb': 3004, '일주일/Noun': 2214, '식/Suffix': 1665, '하는거/Verb': 2868, '다시/Noun': 640, '한/Josa': 2909, '상기/Noun': 1513, '시키는/Verb': 1659, '먹었다고/Verb': 1110, '좋아합니다/Adjective': 2438, '친절하시구/Adjective': 2695, '짱/Noun': 2575, '리뷰/Noun': 921, '많은/Adjective': 997, '이유/Noun': 2176, '있엇네/Noun': 2251, 'ㅋㅋㅋㅋㅋㅋㅋㅋ/KoreanParticle': 6, '친절하셨어요/Adjective': 2691, '교대/Noun': 282, '있으면/Adjective': 2261, '있습니다/Adjective': 2246, '많고/Adjective': 991, '쌈/Noun': 1703, '배부르게/Adjective': 1299, '먹었어요/Verb': 1113, 'ㅎㅎㅎㅎㅎㄹㄹㄹ/KoreanParticle': 11, '덩달아/Noun': 726, '좋아지네요/Verb': 2433, '먹을것도/Verb': 1130, '다양하고/Adjective': 644, '이/Modifier': 2130, '스크림/Noun': 1623, '굿/Noun': 331, '맛있었어/Adjective': 1048, '요한/Noun': 2072, '갓/Noun': 140, '는데/Verb': 602, '옛날/Noun': 1991, '학생/Noun': 2907, '점심/Noun': 2358, '위주/Noun': 2100, '먹다가/Verb': 1098, '사회인/Noun': 1495, '되서/Verb': 778, '일부러/Noun': 2210, '여전히/Adjective': 1957, '깔끔하고/Adjective': 429, '에요/Josa': 1939, '이제/Noun': 2178, '자주자주/Adverb': 2285, '가야겟어요/Verb': 77, '먹구가요/Verb': 1090, '옵니다/Verb': 2034, '짱짱/Noun': 2579, 'ㅠㅡㅜ/KoreanParticle': 23, '이네/Josa': 2139, '녹는다는/Verb': 561, '무슨/Modifier': 1180, '뜻/Noun': 895, '몰랐는데/Verb': 1172, '경험/Noun': 220, '별개/Noun': 1331, '드리고/Verb': 824, '싶네요/Verb': 1691, '올께요/Verb': 2028, '너/Noun': 538, '어/Suffix': 1855, '무/Noun': 1178, '순삭/Noun': 1607, '매일/Noun': 1075, '오고싶은/Verb': 1997, '영혼/Noun': 1981, '있어서/Adjective': 2249, '뜨거운/Adjective': 893, '샥샥/Noun': 1530, '비벼서/Verb': 1440, '꿀이네요/Verb': 456, '주/Noun': 2467, '올거/Verb': 2026, '환갑잔치/Noun': 3035, '방/Noun': 1288, '변경/Noun': 1325, '늘/Noun': 604, '좋은/Adjective': 2455, '음식점/Noun': 2122, '친절한/Adjective': 2698, '함께/Adverb': 2947, '가끔/Noun': 41, '할/Verb': 2934, '가서/Verb': 72, '남자친구/Noun': 515, '확실히/Adjective': 3032, '질도/Noun': 2553, '좋구/Adjective': 2420, '예요/Josa': 1987, '먹어/Verb': 1099, '부드럽구/Adjective': 1390, '맛있다고/Adjective': 1028, '아주/Noun': 1750, '먹었네요/Verb': 1107, '제/Noun': 2381, '번/Noun': 1310, '테이블/Noun': 2765, '이었던거/Verb': 2167, '같은데/Adjective': 169, '담당/Noun': 671, '여/Modifier': 1942, '성/Modifier': 1550, '서버/Noun': 1535, '말씀/Noun': 1006, '드려도/Verb': 818, '부족한/Adjective': 1400, '수시로/Adverb': 1599, '챙겨주시고/Verb': 2634, '편하게/Adjective': 2810, '받고/Verb': 1270, '와서/Verb': 2039, '만족스러워/Adjective': 969, '부모님/Noun': 1393, '모시/Noun': 1165, '가려구요/Verb': 56, '및/Noun': 1233, '세팅/Noun': 1562, '되어/Verb': 780, '친절해서/Adjective': 2701, '만족스러/Adjective': 967, '웟습니/Noun': 2095, '다/Josa': 620, '자리/Noun': 2278, '조용하니/Adjective': 2399, '어번/Noun': 1867, '후/Noun': 3049, '만족하여/Adjective': 979, '여자친구/Noun': 1956, '기념일/Noun': 387, '보내기/Verb': 1344, '위해/Noun': 2102, '이용/Noun': 2175, '여성/Noun': 1951, '분/Suffix': 1408, '저희/Modifier': 2324, '받으셨는데/Verb': 1283, '흔한/Adjective': 3064, '인사/Noun': 2196, '우리/Noun': 2079, '요구/Noun': 2064, '없었는데/Adjective': 1917, '하시겠냐고/Verb': 2890, '물어보고/Verb': 1201, '에도/Josa': 1934, '확인/Noun': 3033, '대답/Noun': 691, '휙/Noun': 3060, '가버리시더라구요/Verb': 63, '여의도/Noun': 1954, '설명/Noun': 1549, '그냥/Noun': 345, '냅다/Adverb': 534, '구워주시고구/Verb': 309, '우시다가/Verb': 2083, '큰소리/Noun': 2743, '얘기/Noun': 1852, '하시고/Verb': 2891, '언짢더군요/Adjective': 1884, '기다리고/Verb': 390, '있었는데/Adjective': 2254, '뭐/Noun': 1208, '그리/Verb': 371, '급하신지/Adjective': 383, '마늘/Noun': 926, '구/Modifier': 287, '우려/Noun': 2078, '쏟아/Verb': 1712, '테/Noun': 2763, '튀고고/Verb': 2771, '굽/Noun': 326, '가버리시고/Verb': 62, '되는지/Verb': 775, '양배추/Noun': 1850, '고추/Noun': 242, '언제/Noun': 1882, '먹는/Verb': 1093, '건지/Verb': 197, '아무런/Adjective': 1733, '없으셔서/Adjective': 1922, '께/Josa': 446, '컴/Noun': 2725, '플레인/Noun': 2835, '걸었는데/Verb': 205, '그/Determiner': 339, '께서는/Josa': 448, '응대/Noun': 2123, '해/Verb': 2955, '그/Noun': 340, '했네요/Verb': 2996, '짜리/Verb': 2568, '였어요/Verb': 1977, '일이/Noun': 2212, '금요일/Noun': 381, '이어서/Josa': 2164, '그랬던건/Adjective': 353, '지근/Noun': 2525, '무자/Noun': 1182, '근무/Noun': 376, '자/Suffix': 2271, '모/Noun': 1155, '자른것/Verb': 2277, '갇마/Noun': 104, '보이더군요/Verb': 1359, '룸/Noun': 918, '배정/Noun': 1302, '받아/Verb': 1275, '구이/Noun': 318, '된장/Noun': 796, '만족스런/Adjective': 974, '였습니다/Verb': 1976, '기대이하였음/Verb': 399, '제주도/Noun': 2389, '온거/Verb': 2023, '같은/Adjective': 168, '합니당/Verb': 2950, '이나/Josa': 2137, '만족/Noun': 965, '비싼/Adjective': 1447, '편이/Noun': 2806, '맛있음/Adjective': 1053, '초벌/Noun': 2657, '구워오는/Verb': 298, '걸림/Verb': 204, '보다/Josa': 1348, '옷/Noun': 2035, '냄새/Noun': 533, '벰/Verb': 1324, '대/Suffix': 685, '편/Noun': 2803, '친절하셨고/Adjective': 2690, '고기랑/Noun': 235, '냉면/Noun': 536, '다만/Noun': 637, '아쉬웠네요/Adjective': 1741, '파절/Noun': 2794, '어느/Modifier': 1857, '빠지는게/Verb': 1460, '잇었어요/Verb': 2235, '오픈/Noun': 2017, '는데도/Verb': 603, '짱/VerbPrefix': 2577, '이였/Verb': 2173, '니/Josa': 613, '번창/Noun': 1315, '하세/Verb': 2884, '유/Noun': 2103, '좋은데/Adjective': 2456, '시끄러워서/Adjective': 1642, '대화/Noun': 710, '들렸어요/Verb': 844, '그레잇/Noun': 368, '캐/Noun': 2718, '쥬얼/Noun': 2508, '하/Suffix': 2844, '지도/Noun': 2532, '않고/Verb': 1781, '부담/Noun': 1382, '높지/Adjective': 574, '조용하고/Adjective': 2398, '근데/Adverb': 375, '구워서/Verb': 296, '나오니까/Verb': 487, '식는/Verb': 1668, '감/Noun': 121, '있어요/Adjective': 2250, '괜찮은데/Adjective': 278, '본질/Noun': 1372, '없어요/Adjective': 1913, '덕분/Noun': 720, '좋게/Adjective': 2416, 'ㅠㅠㅠㅠㅠㅠ/KoreanParticle': 21, '갈거에요/Verb': 106, '인지/Noun': 2202, '오고/Verb': 1995, '그랬으나/Adjective': 354, '묵은지/Noun': 1189, '엄청나서/Adjective': 1893, '용서/Noun': 2076, '대/Verb': 686, '일본인/Noun': 2209, '출장/Noun': 2671, '감동/Noun': 123, '했다네요/Verb': 3001, '여러가지/Noun': 1948, '삼/Modifier': 1505, '합/Noun': 2948, '조합/Noun': 2403, '각자/Noun': 91, '그릇/Noun': 370, '놔주시고/Verb': 576, '차돌/Noun': 2602, '해요/Verb': 2968, '환기/Noun': 3037, '되지/Verb': 790, '않아요/Verb': 1790, '나쁘지/Adjective': 477, '않았는데/Verb': 1793, '적고/Verb': 2328, '차/Noun': 2601, '바빠/Adjective': 1246, '보이시더라구요/Verb': 1362, '너/Modifier': 537, '무적/Noun': 1183, '별/Noun': 1330, '뺐아요/Verb': 1468, '원인/Noun': 2093, '집도/Noun': 2558, '아닌데/Adjective': 1731, '이라/Josa': 2143, '그런가싶은데/Adjective': 358, '납니다/Verb': 517, '모두/Noun': 1156, '추하네요/Adjective': 2669, '가보세요/Verb': 68, '소금/Noun': 1573, '장소/Noun': 2308, '무엇/Noun': 1181, '닭갈비/Noun': 665, '엄청/Adverb': 1892, '더운/Adjective': 718, '날/Noun': 506, '불/Noun': 1412, '있음에도/Adjective': 2266, '시원하게/Adjective': 1652, '먹을/Verb': 1128, '있었습니다/Adjective': 2255, '시켜/Verb': 1654, '약시/Noun': 1842, '간/Suffix': 93, '늦었는데도/Verb': 611, '전화/Noun': 2350, '친절히/Adjective': 2706, '해주시는것도/Verb': 2981, '남기지/Verb': 513, '다먹엇어/Noun': 638, '처음/Noun': 2638, '하였는데/Verb': 2901, '에서/Josa': 1935, '보낸/Verb': 1346, '확정/Noun': 3034, '문자/Noun': 1192, '께서/Josa': 447, '따로/Adverb': 868, '연락/Noun': 1965, '주셨구요/Verb': 2477, '톡소/Noun': 2767, '소주/Noun': 1580, '주셨는데/Verb': 2478, '마시는/Verb': 936, '저/Determiner': 2315, '한텐/Noun': 2933, '딱이더라구요/Adjective': 872, '간장/Noun': 101, '보았는데/Verb': 1355, '담번/Noun': 672, '신사/Noun': 1674, '놀러/Verb': 571, '갔을/Verb': 151, '용하겠습니다/Adjective': 2077, '집중/Noun': 2564, '하느라/Verb': 2866, '사진하나를/Verb': 1493, '찍었네요/Verb': 2596, '하/Exclamation': 2843, '핫/Noun': 2952, '왔답니다/Verb': 2052, '캠핑/Noun': 2719, '물/Noun': 1196, '씬나는/Adjective': 1720, '집이었어요/Verb': 2563, '단체/Noun': 657, '갔었는데/Verb': 149, '우선/Noun': 2082, '정기/Noun': 2369, '모임/Noun': 1166, '잡았는데/Verb': 2303, '좋아하네요/Adjective': 2434, '그다지/Noun': 347, '넓지/Adjective': 543, '않아/Verb': 1787, '들어갈수있나/Verb': 852, '문제/Noun': 1194, '없더군요/Adjective': 1908, '칭구들/Noun': 2711, '므/Noun': 1212, '긋/Verb': 384, '신경/Noun': 1672, '써/Verb': 1704, '구워주신/Verb': 313, '즐겼습니다/Verb': 2516, '소세지/Noun': 1576, '콘치/Noun': 2731, '즈/Modifier': 2510, '떡볶이/Noun': 883, '등/Noun': 862, '사이드/Noun': 1489, '메뉴/Noun': 1139, '알차고/Adjective': 1823, '므너므/Noun': 1213, '각/Modifier': 90, '입/Noun': 2220, '댜/Noun': 712, '머것/Noun': 1084, '여우/Noun': 1952, '타나/Noun': 2750, '나아아/Noun': 481, '아/Josa': 1722, '첨으로/Adverb': 2641, '하고/Verb': 2849, '간/Noun': 92, '독특한/Adjective': 744, '도심/Noun': 738, '속/Noun': 1584, '덕/Noun': 719, '즐거웠다고/Adjective': 2513, '맛있었고요/Adjective': 1040, '예정/Noun': 1990, '몇번/Noun': 1153, '째/Suffix': 2580, '만족합니당/Adjective': 982, '한양/Noun': 2926, '때문/Noun': 877, '오게/Verb': 1993, '되는거/Verb': 771, '행복한/Adjective': 3012, '기억/Noun': 407, '만들어/Verb': 959, '줘서/Verb': 2506, '감사합니당/Verb': 127, '즐기며/Verb': 2519, '소시지/Noun': 1578, '달달/Noun': 660, '하니/Verb': 2875, '맛있어오/Adjective': 1035, '담요/Noun': 674, '슬리퍼/Noun': 1628, '이/Noun': 2131, '써서/Verb': 1705, '즐기다/Verb': 2518, '왔/Verb': 2047, '소개/Noun': 1569, '됐구요/Verb': 765, '남짓한/Adjective': 516, '인원/Noun': 2199, '생일/Noun': 1529, '파티/Noun': 2796, '괜춘습니당/Noun': 279, '가기/Noun': 33, '가성/Noun': 73, '비도/Noun': 1436, '좋아여/Adjective': 2431, '엄지/Noun': 1891, '척/Noun': 2639, '폭발/Noun': 2825, '생/Noun': 1519, '갈비/Noun': 117, '콜라보/Noun': 2732, '반했어/Noun': 1269, '만이/Noun': 964, '네/Suffix': 552, '이만/Noun': 2153, '곳/Noun': 253, '사생/Noun': 1484, '뿐일듯/Adjective': 1475, '빼주/Noun': 1467, '장치/Noun': 2310, '있고/Adjective': 2237, '충전기/Noun': 2674, '구비/Noun': 290, '돼있고/Verb': 761, '걱정/Noun': 190, '매장/Noun': 1076, '한잔/Noun': 2928, '싶었네요/Verb': 1695, '운전/Noun': 2085, '아쉬워요/Adjective': 1740, '해야겠어요/Verb': 2967, '괜찮았습니다/Adjective': 275, '직접/Noun': 2543, '구워줘서/Verb': 315, '오후/Noun': 2021, '시경/Noun': 1637, '샹/Noun': 1531, '리아/Noun': 922, '준비/Noun': 2498, '되어있지/Verb': 784, '않아서/Verb': 1789, '봐서/Verb': 1377, '아쉬웠습니다/Adjective': 1743, '앉아서/Verb': 1778, '세드/Noun': 1555, '작아서/Adjective': 2288, '먹는데/Verb': 1096, '불편했습니다/Adjective': 1427, '벨/Noun': 1323, '없어서/Adjective': 1911, '불러/Verb': 1416, '야해서/Adjective': 1837, '귀찮았습니다/Adjective': 336, '남자/Noun': 514, '바닥/Noun': 1240, '휴지/Noun': 3061, '주/Modifier': 2466, '울/Modifier': 2087, '장갑/Noun': 2306, '낀/Verb': 465, '채/Noun': 2630, '주웠고/Verb': 2486, '구울/Noun': 294, '교체/Noun': 285, '않은/Verb': 1803, '해주셔서/Verb': 2972, '약간/Noun': 1840, '한적해서/Adjective': 2929, '위생/Noun': 2099, '쪽/Noun': 2582, '개선/Noun': 178, '필/Noun': 2837, '여/Josa': 1941, '있을/Adjective': 2263, '베리/Noun': 1321, '코/Noun': 2727, '다른/Modifier': 632, '에서는/Josa': 1936, '맛볼수/Verb': 1014, '없는/Adjective': 1900, '소스/Noun': 1577, '일품/Noun': 2217, '또한/Noun': 890, '목/Noun': 1170, '살이/Noun': 1501, '인기/Noun': 2192, '먹는게/Verb': 1094, '어울릴/Verb': 1872, '같았는데/Adjective': 165, '좋았네요/Adjective': 2443, '인테리어/Noun': 2203, '가정/Noun': 82, '집/Noun': 2556, '특이하고/Adjective': 2777, '하시면/Verb': 2899, '웨이/Noun': 2096, '맛있었다/Adjective': 1044, '목살/Noun': 1171, '훌륭했고/Adjective': 3058, '과도/Josa': 263, '어울렸다/Verb': 1869, '였는데/Verb': 1974, '늑간살/Noun': 599, '어느/Adverb': 1856, '부위/Noun': 1398, '없었고/Adjective': 1916, '방울토마토/Noun': 1293, '구워/Verb': 295, '먹은건/Verb': 1126, '신의한수/Noun': 1676, '조만간/Noun': 2396, '붙어있고/Verb': 1429, '좋네요/Adjective': 2422, '담/Noun': 669, '그리아도/Verb': 373, '마셔/Verb': 932, '싶어요/Verb': 1694, '좀더/Noun': 2409, '되면/Verb': 777, '좋겠어요/Adjective': 2418, '대비/Noun': 698, '청결/Noun': 2644, '안/Noun': 1754, '갔으면/Verb': 150, '대기/Noun': 689, '뻔/Noun': 1470, '하길/Verb': 2861, '다양한/Adjective': 645, '연령/Noun': 1966, '층/Noun': 2677, '찾는/Verb': 2621, '이구/Noun': 2136, '가족/Noun': 88, '연인/Noun': 1967, '회사/Noun': 3044, '동료/Noun': 756, '다양하게/Adjective': 643, '듯합/Noun': 861, '다재/Noun': 648, '수고/Noun': 1595, '하세요/Verb': 2885, '첫/Modifier': 2642, '버터/Noun': 1309, '비빔밥/Noun': 1443, '매진/Noun': 1077, '먹으려/Verb': 1121, '구/Noun': 288, '저녁식사/Noun': 2319, '애용/Noun': 1832, '식당/Noun': 1669, '인당/Verb': 2193, '이상/Noun': 2159, '먹/Verb': 1085, '엇/VerbPrefix': 1927, '터질/Verb': 2762, '뻔했네요/Adjective': 1471, '받았어요/Verb': 1282, '전담/Noun': 2341, '해주시는/Verb': 2980, '지속/Noun': 2535, '써주시는/Verb': 1709, '부분/Noun': 1394, '와/Verb': 2037, '닿았습니다/Verb': 683, '있지만/Adjective': 2268, '맛있/Adjective': 1016, '음/Noun': 2118, '어쩔/Adverb': 1874, '없네요/Adjective': 1899, '죽/Noun': 2494, '구성/Noun': 292, '먹다/Verb': 1097, '가자고/Verb': 80, '추진/Noun': 2667, '해봤는데요/Verb': 2963, '편했고/Adjective': 2818, '하자고하네요/Verb': 2903, 'ㅋ/KoreanParticle': 1, '하고싶을/Verb': 2852, '만족스러운/Adjective': 968, '데리/Noun': 730, '갔는데다/Verb': 144, '핵/Noun': 2990, '얼굴/Noun': 1887, '알아봐주시고/Verb': 1820, '콘/Noun': 2730, '샐러드/Noun': 1518, '떨어질/Verb': 886, '가져다주셔서/Verb': 85, '고맙다음/Adjective': 238, '하기로/Verb': 2857, '광고/Noun': 266, '호평/Noun': 3019, '아쉬웠다/Adjective': 1742, '예식/Noun': 1985, '시/Noun': 1633, '제공/Noun': 2383, '되는/Verb': 770, '않았다/Verb': 1794, '물론/Adverb': 1200, '달라/Noun': 661, '이야기/Noun': 2163, '않았으나/Verb': 1799, '준다고도/Verb': 2496, '앟았/Noun': 1829, '다생/Noun': 639, '짜고/Verb': 2567, '간이/Noun': 100, '있다/Adjective': 2243, '발라내는/Verb': 1285, '보이는데/Verb': 1358, '바른/Verb': 1245, '어떻게/Adjective': 1861, '나는지는/Verb': 474, '이해/Noun': 2181, '불가/Noun': 1413, '챙겨주었다/Verb': 2635, '둘이서/Noun': 813, '만원/Noun': 961, '비용/Noun': 1448, '내고/Verb': 527, '했으나/Verb': 3006, '없다/Adjective': 1904, '가고싶어요/Verb': 32, '하시고요/Verb': 2892, '반/Noun': 1262, '궈줘/Noun': 335, '그리고/Conjunction': 372, '껩데기/Noun': 449, '준다더니/Verb': 2497, '그건/Adverb': 342, '안주/Noun': 1772, '로는/Josa': 917, '괸찬네/Noun': 280, '가보는/Verb': 66, '이었는데/Verb': 2165, '이었습니다/Verb': 2168, '부탁/Noun': 1402, '드렸더니/Verb': 821, '조용히/Adjective': 2402, '있었어요/Adjective': 2256, '소규모/Noun': 1572, '모임이시라면/Verb': 1167, '드립니다/Verb': 825, '점장님/Noun': 2360, '즐거웠습니다/Adjective': 2514, '하였습니다/Verb': 2902, '주신/Noun': 2481, '돼지껍데기/Noun': 764, '기대하지/Adjective': 401, '않았었는데/Verb': 1798, '깜빡/Noun': 437, '입니/Adjective': 2224, '닷/Noun': 677, '거리/Noun': 187, '가깝고/Adjective': 40, '흑/Adverb': 3062, '돼지/Noun': 762, '넓고/Adjective': 540, '장/Suffix': 2305, '소로/Noun': 1574, '교통/Noun': 286, '좋구요/Adjective': 2421, '하지만/Conjunction': 2905, '시끄러웠습니다/Adjective': 1645, '많이/Modifier': 1000, '주시/Noun': 2479, '맛있는데/Adjective': 1026, '안되네요/Adjective': 1761, 'ㅠ/KoreanParticle': 16, '배꼽/Noun': 1296, '좋으나/Adjective': 2453, '줄/Noun': 2499, '모르고/Verb': 1163, '불친절함/Adjective': 1419, '들어/Verb': 849, '되는데/Verb': 772, '써야/Verb': 1706, '시스템/Noun': 1651, '따라와/Verb': 867, '아쉬운듯/Adjective': 1738, '통해/Noun': 2769, '안되어있었습니다/Adjective': 1767, '한시였기/Verb': 2925, '빈/Noun': 1455, '없었습니다/Adjective': 1920, '했을/Verb': 3008, '먹었기에/Verb': 1106, '건데/Eomi': 195, '대한/Noun': 708, '만족도/Noun': 966, '높았습니다/Adjective': 572, '역삼/Noun': 1960, '이라고/Josa': 2144, '해도/Noun': 2959, '손색/Noun': 1588, '없을만한/Adjective': 1924, '두꺼운데/Adjective': 806, '야들야들하게/Adjective': 1834, '부드럽고/Adjective': 1389, '지방/Noun': 2534, '살코기/Noun': 1503, '조화로워요/Adjective': 2405, '명란/Noun': 1148, '색다른/Adjective': 1517, '이고/Josa': 2135, '독특했어요/Adjective': 745, '판이/Noun': 2799, '힘들었어요/Adjective': 3071, '했지만/Verb': 3009, '얇아/Adjective': 1844, '삼겹/Noun': 1506, '별로/Noun': 1333, '얇음/Adjective': 1845, '모르게/Verb': 1160, '그만/Adverb': 374, '시끄럽고/Adjective': 1646, '알바생/Noun': 1818, '바빠서/Adjective': 1247, '서빙/Noun': 1538, '받기가/Verb': 1271, '쉽지는/Verb': 1615, '않았네요/Verb': 1792, '건가/Noun': 192, '잇게잘/Verb': 2229, '묵었습니다/Verb': 1188, '맛있네요/Adjective': 1024, '맛있었는데/Adjective': 1043, '여섯/Noun': 1950, '화로/Noun': 3027, '한참/Noun': 2930, '불편했네요/Adjective': 1426, '하기에는/Verb': 2859, '평범하지만/Adjective': 2820, '모로/Noun': 1159, '딴/Verb': 874, '친절하셔서/Adjective': 2689, '싶을/Verb': 1697, '그럭저럭/Adverb': 355, '이었지만/Verb': 2170, '좌석/Noun': 2464, '많구/Adjective': 992, '들개/Noun': 838, '특이한/Adjective': 2778, '굽기/Verb': 327, '방식/Noun': 1292, '연기/Noun': 1964, '안나/Noun': 1757, '셀러/Noun': 1564, '드/Noun': 816, '커요/Verb': 2721, '초/Noun': 2653, '짜/Verb': 2566, '서서/Noun': 1539, '한산해서/Adjective': 2924, '암튼/Adverb': 1824, '먹었/Verb': 1104, '슴/Noun': 1629, '자리는/Adjective': 2280, '좁아요/Adjective': 2412, '이하/Noun': 2180, '스타일/Noun': 1624, '당황/Noun': 682, '했구요/Verb': 2994, '그렇지만/Conjunction': 367, '탄/Verb': 2752, '몸/Noun': 1175, '안나내요/Verb': 1758, '종업원/Noun': 2414, '같에요/Adjective': 167, '컨셉/Noun': 2724, '신선하고/Adjective': 1675, '저희/Noun': 2325, '대식/Noun': 699, '라서/Noun': 904, '익는거/Verb': 2184, '기다리는/Verb': 392, '게/Noun': 211, '감질/Verb': 135, '났어요/Verb': 522, '익/Noun': 2183, '동안/Noun': 757, '데이트/Noun': 731, '땡기지만/Verb': 879, '라면/Noun': 902, '건장한/Adjective': 196, '끼리/Noun': 463, '갈꺼면/Verb': 109, '늦게/Verb': 605, '나온거/Verb': 491, '빼고는/Verb': 1464, '마싯었어용/Verb': 937, 'ㅎㅎㅎㅎㅎㅎ/KoreanParticle': 12, '갈게/Verb': 107, '보감/Noun': 1337, '감자탕/Noun': 134, '보쌈/Noun': 1354, '오징어/Noun': 2016, '초무/Noun': 2654, '침/Noun': 2710, '전체/Noun': 2348, '좋음/Adjective': 2461, '정겹게/Adjective': 2368, '친절하신/Adjective': 2697, '놀다/Verb': 567, '하는지/Verb': 2873, '비법/Noun': 1439, '궁금하네요/Adjective': 333, '살/Noun': 1497, '되게/Adverb': 768, '레스토랑/Noun': 911, '맘/Noun': 1012, '쏙/Noun': 1711, '넓어서/Adjective': 541, '미슐랭/Noun': 1222, '닥/Noun': 650, '주차/Noun': 2491, '할말이/Verb': 2940, '없습니다/Adjective': 1909, '꼬냑/Noun': 450, '크리스마스/Noun': 2741, '이브/Noun': 2158, '갈려구요/Verb': 114, '하셨고/Verb': 2887, '괜찮은/Adjective': 277, '느/Noun': 583, '먼저/Noun': 1137, '먹어야겠어요/Verb': 1102, '그래서/Adverb': 351, '음미/Noun': 2120, '할수/Verb': 2941, '잇을꺼/Verb': 2236, '같네요/Adjective': 159, '업무/Noun': 1894, '상/Suffix': 1510, '외국인/Noun': 2059, '접대/Noun': 2361, '자리/Suffix': 2279, '다녀왔습니다/Verb': 622, '호주인/Noun': 3017, '명과/Noun': 1146, '특선/Noun': 2776, '불고기/Noun': 1414, '정식/Noun': 2375, '외국/Noun': 2058, '변하지/Adjective': 1327, '않는/Verb': 1784, '내렸으면/Verb': 529, '기대/Noun': 397, '보다는/Josa': 1349, '시/Modifier': 1632, '그니/Noun': 346, '쳐/Verb': 2652, '매/Modifier': 1068, '뉴/Noun': 582, '연하기/Adjective': 1968, '만해/Noun': 990, '삶은/Verb': 1504, '수육/Noun': 1600, '들더군요/Verb': 841, '느끼하고/Adjective': 589, '달아서/Verb': 662, '집사람/Noun': 2560, '좋다고/Adjective': 2425, '정갈합니다/Adjective': 2365, '십년/Noun': 1687, '전/Modifier': 2339, '이나/Noun': 2138, '한결같은/Adjective': 2916, '짙은/Adjective': 2565, '회색/Noun': 3045, '마/Noun': 924, '소재/Noun': 1579, '비치는/Verb': 1453, '커튼/Noun': 2722, '창밖/Noun': 2618, '보이는/Verb': 1357, '대나무/Noun': 690, '운치있습니다/Verb': 2086, '친절했고/Adjective': 2703, '조용하게/Adjective': 2397, '싶어서/Verb': 1693, '컨디션/Noun': 2723, '나중/Noun': 501, '뱀/Noun': 1307, '부정/Noun': 1399, '모든/Noun': 1157, '밸런스/Noun': 1306, '맞았고/Verb': 1064, '찾을/Verb': 2629, '당일/Noun': 681, '좋았구요/Adjective': 2442, '애기/Noun': 1831, '갔는데도/Verb': 145, '쯤/Suffix': 2590, '지나/Noun': 2527, '런가/Noun': 909, '스럽게/Josa': 1618, '저렴한/Adjective': 2321, '서브/Noun': 1536, '좋더라구요/Adjective': 2427, '원래/Noun': 2092, '이런/Modifier': 2150, '글/Noun': 378, '남기는데/Verb': 512, '애/Noun': 1830, '좋아해서/Adjective': 2439, '남겨요/Verb': 510, '갈께요/Verb': 111, '그땐/Noun': 349, '가겠습니다/Verb': 29, '괜찮아요/Adjective': 273, '비/Noun': 1432, '규/Noun': 337, '하셨는데/Verb': 2889, '그런지/Adjective': 361, '물건/Noun': 1198, '던지고가고/Verb': 722, '막장/Noun': 949, '더군요/Adjective': 714, '물휴지/Noun': 1206, '던지고가서/Verb': 723, '민망했네요/Adjective': 1225, '나오고/Verb': 482, '다른데/Adjective': 634, '잘못줘놓고/Verb': 2298, '가져다주더군요/Verb': 84, '쓰고가는데/Verb': 1715, '이딴/Modifier': 2142, '해줄거면/Verb': 2987, '다른데가서/Adjective': 635, '돈더/Noun': 747, '쓰고/Verb': 1714, '낫겠습니다/Verb': 518, '솔직히/Adjective': 1590, '좋았다면/Adjective': 2446, '점도/Noun': 2354, '주인/Noun': 2487, '아주머니/Noun': 1751, '바쁘면/Adjective': 1248, '쓰시고요/Verb': 1716, '준/Noun': 2495, '언/Modifier': 1878, '제/Modifier': 2380, '가도/Noun': 52, '영/Modifier': 1978, '동/Modifier': 755, '족발/Noun': 2406, '호점/Noun': 3016, '기다리지/Verb': 394, '않아도/Verb': 1788, '김치전/Noun': 419, '막국수/Noun': 946, '어제/Noun': 1873, '다녀왔지만/Verb': 624, '시끄러운거/Adjective': 1639, '빼곤/Verb': 1465, '카운터/Noun': 2715, '고객/Noun': 231, '대응/Noun': 701, '최악/Noun': 2662, '짜증나는듯/Adjective': 2570, '괜찬/Noun': 269, '과/Noun': 260, '하게/Verb': 2845, '맵/Noun': 1081, '쫄깃쫄깃/Noun': 2585, '두부김치/Noun': 807, '봤는데/Verb': 1379, '둘/Noun': 810, '나왔어요/Verb': 498, '실수/Noun': 1681, '나왔지만/Verb': 500, '대체로/Noun': 706, '셋팅/Noun': 1567, '주심/Noun': 2483, '나게/Verb': 470, '없다는게/Adjective': 1907, '아쉽지만/Adjective': 1747, '맛있으니/Adjective': 1052, '포장/Noun': 2824, '해보려구요/Verb': 2961, '맞긴한/Verb': 1060, '가/Verb': 27, '골목/Noun': 249, '호/Noun': 3015, '바글바글/Adverb': 1235, '줄이/Verb': 2500, '쭉/Noun': 2588, '서/Verb': 1534, '다한/Noun': 649, '예의/Noun': 1988, '없/Adjective': 1895, '달까/Verb': 659, '내/Determiner': 524, '주고/Verb': 2469, '먹으면서도/Verb': 1124, '나쁜/Adjective': 479, '전/Noun': 2340, '다신/Verb': 642, '렵/Noun': 914, '찾아오는/Verb': 2626, '쉽게/Verb': 1614, '위치/Noun': 2101, '인게/Josa': 2191, '선배/Noun': 1547, '들도/Verb': 842, '좋아하셔서/Adjective': 2437, '들를게요/Verb': 846, '편했습니다/Adjective': 2819, '없을/Adjective': 1923, '가면/Noun': 60, '해주신다고/Verb': 2984, '하셨네요/Verb': 2888, '맛있어용/Adjective': 1037, '진/Noun': 2544, '대감/Noun': 687, '군데/Noun': 323, '나서/Verb': 480, '외식/Noun': 2060, '하려구/Verb': 2879, '엉망/Noun': 1928, '거의/Noun': 189, '집어던지듯이/Verb': 2561, '놓고가시고/Verb': 575, '바쁜건/Adjective': 1253, '알겠는데/Verb': 1810, '그럼/Adjective': 363, '써주시지/Verb': 1710, '일행/Noun': 2218, '늦었는데/Verb': 610, '믿고가는/Verb': 1229, '했나/Verb': 2995, '봐요/Verb': 1378, '곱창/Noun': 252, '크게/Noun': 2739, '느꼈어요/Verb': 586, '동창/Noun': 758, '곱/Noun': 251, '되었네요/Verb': 785, '제각각/Noun': 2382, '입맛/Noun': 2228, '물개/Noun': 1197, '박수치며/Verb': 1258, '마지막/Noun': 941, '완벽했네요/Adjective': 2044, '당/Modifier': 678, '일/Modifier': 2204, '도축/Noun': 742, '이라는/Josa': 2145, '문구/Noun': 1190, '믿음/Noun': 1231, '가는/Verb': 43, '이다/Josa': 2140, '하얀/Adjective': 2900, '가루/Noun': 57, '솔솔/Noun': 1589, '비주/Noun': 1451, '얼/Noun': 1886, '자극/Noun': 2272, '했다/Verb': 2998, '파김치/Noun': 2791, '부추/Noun': 1401, '특제/Noun': 2780, '찍어/Verb': 2593, '먹으니/Verb': 1118, '좋았다/Adjective': 2445, '사랑/Noun': 1482, '기다림/Noun': 396, '좋으네요/Adjective': 2454, '모듬/Noun': 1158, '즐길수/Verb': 2520, '진리/Noun': 2546, '에너지/Noun': 1932, '만/Modifier': 953, '땅/Noun': 875, '충전/Noun': 2673, '토요일/Noun': 2766, '생각나는데/Verb': 1522, '강남역/Noun': 154, '들리는/Verb': 847, '끝내주지만/Adjective': 460, '대창/Noun': 704, '자랑/Noun': 2275, '곳불토/Noun': 255, '보내고/Verb': 1343, '갔습니다/Verb': 147, '조/Modifier': 2392, '화가/Noun': 3026, '환상/Noun': 3038, '돌아서면/Verb': 752, '생각나는/Verb': 1521, '인거/Josa': 2190, '싶은/Verb': 1696, '미세먼지/Noun': 1221, '들릴게요/Verb': 848, '별미/Noun': 1334, '나네요/Verb': 472, '많지안았으며/Adjective': 1003, '구워지시고/Verb': 317, '잘라주시기까지/Verb': 2296, '편안히/Adjective': 2805, '돼지고기/Noun': 763, '하남/Noun': 2864, '내내/Noun': 528, '행복/Noun': 3010, '느낄/Verb': 593, '친절하시고고기/Adjective': 2694, '간건데/Verb': 95, '팁/Noun': 2787, '알려주시고/Verb': 1815, '써주셔서/Verb': 1708, '감사했습니다/Verb': 129, '행복하게/Adjective': 3011, '잡아주셔서/Verb': 2301, '마시/Verb': 934, '씀/Verb': 1718, '인정/Noun': 2200, '좋아/Adjective': 2429, '써요/Verb': 1707, '깔끔합니다/Adjective': 432, '받지/Verb': 1284, '육질/Noun': 2111, '황제/Noun': 3042, '있어/Adjective': 2247, '별표/Noun': 1335, '싸/VerbPrefix': 1699, '특이했음/Adjective': 2779, '같/Adjective': 157, '이간/Noun': 2133, '저/Noun': 2316, '청결한/Adjective': 2645, '집맛/Noun': 2559, '보장/Noun': 1364, '됨/Verb': 800, '판도/Noun': 2798, '갈아/Adverb': 120, '갈매기살/Noun': 116, '나오는데/Verb': 486, '걸리고/Verb': 201, '걸려/Verb': 199, '기다리다/Verb': 393, '지치게/Verb': 2540, '되더군요/Verb': 776, '그닥/Noun': 348, '싶진/Verb': 1698, '않습니다/Verb': 1786, '정갈하고/Adjective': 2362, '친절하시/Adjective': 2692, '하구요/Verb': 2853, '드려요/Verb': 819, '벌써/Noun': 1317, '가까이/Noun': 39, '다니고/Verb': 625, '새로운/Adjective': 1516, '맛있어/Adjective': 1032, '하지요/Verb': 2906, '닭발/Noun': 667, '막걸리/Noun': 945, '맥주/Noun': 1079, '주종/Noun': 2489, '가리지/Verb': 58, '않게/Verb': 1780, '어울리고/Verb': 1870, '오래오래/Noun': 2004, '해주세요/Verb': 2971, '깨끗했습니다/Adjective': 442, '적었습니다/Verb': 2332, '힘든데/Adjective': 3069, '여기는/Verb': 1944, '심지어/Noun': 1685, '맛있기까지/Adjective': 1022, '아기/Noun': 1723, '의자/Noun': 2127, '없는듯/Adjective': 1902, '했고/Verb': 2992, '직장인/Noun': 2542, '퇴근/Noun': 2770, '오시더라구요/Verb': 2014, '작았지만/Adjective': 2289, '괜찮았어요/Adjective': 276, '일반/Noun': 2208, '비싸다고/Adjective': 1444, '양은/Noun': 1851, '굳/Adjective': 324, '고기만/Noun': 236, '배부르진/Adjective': 1300, '않을거/Verb': 1805, '같고/Adjective': 158, '개꿀/Noun': 175, '맛있게잘/Adjective': 1018, '떡/Noun': 882, '안녕하세요/Adjective': 1760, '돼서/Verb': 760, '선릉역/Noun': 1545, '주변/Noun': 2474, '고깃집/Noun': 237, '진심/Noun': 2547, '겹살/Noun': 218, '도시락/Noun': 737, '김치찌개/Noun': 420, '공/Modifier': 256, '깃밥/Noun': 422, '끝내지/Verb': 461, '마시고/Verb': 935, '산이/Noun': 1496, '더라고요/Adjective': 715, '좋는거/Adjective': 2423, '같아여/Adjective': 163, '껍살/Noun': 445, '섞어/Verb': 1543, '금방/Noun': 380, '구워지는/Verb': 316, '거솓/Noun': 188, '좋았고요/Adjective': 2441, '옆/Noun': 1982, '타게/Verb': 2749, '구워주세요/Verb': 304, '껍데기/Noun': 444, '쫀득/Noun': 2583, '속/Modifier': 1583, '부드러워서/Adjective': 1387, '끝/Noun': 458, '홀/Noun': 3022, '집기/Noun': 2557, '깔끔하게/Adjective': 428, '빛나서/Verb': 1458, '얼마/Noun': 1888, '알았는데/Verb': 1822, '지/Verb': 2524, '개월/Noun': 180, '되셨다고/Verb': 779, '놀랐어요/Verb': 570, '아무리/Adverb': 1734, '맛있어도/Adjective': 1033, '어려운데/Adjective': 1862, '반짝반짝해서/Adjective': 1264, '맛있구/Adjective': 1020, '깔끔하네요/Adjective': 430, '굽는데/Verb': 330, '힘들지/Adjective': 3073, '쫀쫀하/Noun': 2584, '하겠습니다/Verb': 2847, '세번/Noun': 1557, '붙어있는/Verb': 1430, '해서주니까/Verb': 2965, '편하기도/Adjective': 2813, '내부/Noun': 530, '깨끗하니/Adjective': 440, '팡팡/Adverb': 2801, '임/Noun': 2219, '건/Noun': 191, '모르겠는데/Verb': 1161, '비계/Noun': 1433, '겹겹이/Noun': 217, '되있어서/Verb': 788, '식감/Noun': 1666, '하다고/Verb': 2876, '느껴짐/Verb': 584, '자체/Noun': 2286, '깨끗함/Adjective': 441, '담그셨다는/Verb': 670, '짱/Modifier': 2574, '요새/Noun': 2068, '생겨서/Verb': 1525, '인생/Noun': 2197, '먹었고/Verb': 1105, '좋습니다/Adjective': 2428, '비빔냉면/Noun': 1441, '밖에/Josa': 1260, '물냉면/Noun': 1199, '잊어버림/Verb': 2269, '송포/Noun': 1592, '욤/Noun': 2073, 'ㅎㅎㅎㅎ/KoreanParticle': 10, '잇는것/Verb': 2231, '구워주니까/Verb': 303, '어른/Noun': 1865, '오기/Noun': 1998, '걍/Adverb': 183, '훈제오리/Noun': 3055, '아닌/Adjective': 1730, '깊은/Adjective': 423, '하면서/Verb': 2883, '엄마/Noun': 1890, '오붓하게/Adjective': 2011, '보리/Noun': 1350, '굴비/Noun': 325, '좋아하는/Adjective': 2435, '배나무/Noun': 1297, '골오리/Verb': 250, '슝/Noun': 1616, '오리가/Noun': 2007, '유명한/Adjective': 2105, '끝장/Noun': 462, '왔는데/Verb': 2050, '효도/Noun': 3048, '정갈한/Adjective': 2363, '세월/Noun': 1560, '오호/Exclamation': 2020, '싸인/Noun': 1701, '난다/Verb': 504, '오리/Noun': 2006, '먹을수있는/Verb': 1133, '코스/Noun': 2728, '요리/Noun': 2067, '깔끔했다/Adjective': 435, '서울/Noun': 1541, '좋다/Adjective': 2424, '알겠다/Verb': 1811, '감사/Noun': 124, '정갈한데/Adjective': 2364, '갑자기/Noun': 138, '치우고/Verb': 2680, '그런건/Adjective': 359, '그렇네요/Adjective': 365, '겸/Noun': 215, '회의/Noun': 3047, '선택/Noun': 1548, '런치/Noun': 910, '수다/Noun': 1597, '경/Modifier': 219, '나오면서/Verb': 488, '이미/Adverb': 2155, '건너갔고/Verb': 193, '매/Noun': 1069, '눈/Noun': 579, '스캔/Noun': 1621, '오향/Noun': 2019, '번쩍/Noun': 1314, '고소하고/Adjective': 239, '부드러움/Noun': 1386, '반했답니다/Adjective': 1268, '식구/Noun': 1667, '불금/Noun': 1415, '내/Noun': 526, '소중하니까/Adjective': 1581, '오리로/Noun': 2009, '보신/Noun': 1353, '자해/Noun': 2287, '나/Noun': 467, '옳았다/Adjective': 2031, '오봉/Noun': 2010, '쭉쭉쭉/Noun': 2589, '맛있다/Adjective': 1027, '마무리/Noun': 930, '완벽하게/Adjective': 2043, '오리고기/Noun': 2008, '디/Noun': 864, '끝내주고/Adjective': 459, '아줌마/Noun': 1752, '취향/Noun': 2676, '저격/Noun': 2317, '이었다는/Verb': 2166, '쏴/Verb': 1713, '잡채/Noun': 2304, '볶아서/Verb': 1366, '나왔으면/Verb': 499, '일텐데/Josa': 2216, '친절하세요/Adjective': 2688, '상견례/Noun': 1512, '격식/Noun': 212, '어울리는/Verb': 1871, '생각나면/Verb': 1523, '곳불/Noun': 254, '칼국수/Noun': 2716, '작은듯/Adjective': 2290, '적당해여/Adjective': 2329, '비록/Noun': 1437, '가긴/Verb': 34, '느린것/Adjective': 598, '같았습니다/Adjective': 166, '시킨지/Verb': 1663, '만에/Josa': 960, '먹었지만/Verb': 1116, '아쉽습니다/Adjective': 1746, '당/Suffix': 679, '주시는줄/Verb': 2480, '하며/Verb': 2881, '요청/Noun': 2071, '란/Noun': 905, '말씀드렸고/Verb': 1007, '드렸었는데/Verb': 823, '도착/Noun': 741, '자라/Noun': 2274, '해줘놓고/Verb': 2988, '뒤늦게/Adjective': 815, '해놓고/Verb': 2957, '안오느냐고/Verb': 1771, '짜증/Noun': 2569, '섞인/Verb': 1544, '라니/Josa': 900, '까진/Josa': 427, '착오/Noun': 2610, '그럴/Adjective': 362, '이후/Noun': 2182, '사과/Noun': 1478, '한마디/Noun': 2921, '따지듯/Verb': 869, '열/Modifier': 1969, '아니었느냐고/Adjective': 1728, '되/Verb': 767, '묻는데/Verb': 1195, '불쾌했습니다/Adjective': 1420, '여직원/Noun': 1958, '태도/Noun': 2757, '스페셜/Noun': 1626, '인스타/Noun': 2198, '갔어요/Verb': 148, '칭찬/Noun': 2712, '테라스/Noun': 2764, '전면/Noun': 2343, '창/Noun': 2615, '열려서/Verb': 1971, '할수있었어요/Verb': 2943, '진꽃살/Noun': 2545, '살살/Noun': 1499, '녹아요/Verb': 562, '알려주신/Verb': 1816, '방법/Noun': 1290, '대로/Josa': 694, '넣어/Verb': 549, '뒀다가/Verb': 814, 'ㅠㅠㅠㅠㅠ/KoreanParticle': 20, '믿고/Verb': 1228, '김일도/Noun': 416, '되는듯/Verb': 773, '숙성/Noun': 1603, '라서/Josa': 903, '든/Josa': 834, '일정하게/Adjective': 2213, '쫄깃쫄깃해/Noun': 2586, '한답니다/Verb': 2919, '서/Modifier': 1533, '초점/Noun': 2658, '되어서/Verb': 781, '법도/Noun': 1319, '알려주셔서/Verb': 1814, '만의/Josa': 963, '노하우/Noun': 559, '철학/Noun': 2640, '있다고나/Adjective': 2245, '할까/Verb': 2937, '아니라/Adjective': 1727, '속풀이/Noun': 1585, '개밥/Noun': 177, '수제/Noun': 1602, '입니다고/Adjective': 2227, '좋죠/Adjective': 2462, '청국장/Noun': 2646, '서초동/Noun': 1542, '비있는/Verb': 1450, '있을까요/Adjective': 2264, '오네요/Verb': 1999, '구워주셨어요/Verb': 306, '힘들어서/Adjective': 3070, '한개/Modifier': 2912, '빼/Noun': 1463, '했다가/Verb': 2999, '드디어/Adverb': 817, '다녀왔어요/Verb': 623, '맛있잖아/Adjective': 1054, 'ㅠㅠㅠㅠㅠㅠㅠㅠ/KoreanParticle': 22, '편함/Adjective': 2815, '알려주는대로/Verb': 1813, '특/Noun': 2773, '찍어서/Verb': 2594, '먹음/Verb': 1135, '볼/Noun': 1373, '좋았어용/Adjective': 2450, '갈비탕/Noun': 119, '육회/Noun': 2112, '체적/Noun': 2650, '만족하나/Adjective': 976, '아쉬움/Noun': 1739, '녹는/Verb': 560, '최상급/Noun': 2661, '보고왔습니다/Verb': 1340, '구워주고/Verb': 301, '가지/Noun': 89, '플레이/Noun': 2834, '예쁘게/Adjective': 1984, '만족했/Adjective': 984, '덜덜/Noun': 725, '간다는/Verb': 97, '찜콩/Noun': 2599, '저렴하면서도/Adjective': 2320, '구워주시는/Verb': 310, '정성/Noun': 2374, '깃/Noun': 421, '들여져/Verb': 856, '대접받은/Verb': 702, '소박하게/Adjective': 1575, '필요한것만/Adjective': 2840, '몇/Noun': 1152, '풍/Adverb': 2829, '미를/Adjective': 1219, '역할/Noun': 1963, '주었습니다/Verb': 2484, '심연/Noun': 1684, '이러/Verb': 2148, '곤란해여/Adjective': 247, '친절하시구요/Adjective': 2696, '동치미/Noun': 759, '만은/Josa': 962, '증말/Noun': 2521, '없었답니다/Adjective': 1919, '만족해요/Adjective': 983, '챙겨/Verb': 2631, '가져가서/Verb': 83, '마셨어요/Verb': 933, '차돌박이/Noun': 2603, '맛잇엇어/Noun': 1015, '퀄러티/Noun': 2737, '조용한/Adjective': 2401, '슴슴/Noun': 1630, '바꿨던데/Verb': 1239, '맞았어요/Verb': 1065, '후기/Noun': 3050, '남기네요/Verb': 511, '바쁠/Adjective': 1255, '구워야하고/Verb': 297, '나오지만/Verb': 489, '불편함/Adjective': 1425, '느낀/Verb': 592, '적/Noun': 2326, '찾게/Verb': 2619, '됩니다/Verb': 801, '느리고/Adjective': 597, '지난번/Noun': 2528, '구워주시/Verb': 307, '했던것/Verb': 3003, '구워주시더라구요/Verb': 311, '물어보니/Verb': 1202, '몰려서/Verb': 1174, '그랬다고/Conjunction': 352, '하시는데/Verb': 2895, '팀/Noun': 2786, '인가/Josa': 2189, '얼마나/Noun': 1889, '바쁘셨던/Adjective': 1250, '모르겠습니다/Verb': 1162, '높은/Adjective': 573, '점수/Noun': 2357, '주겠네요/Verb': 2468, '입니다가/Adjective': 2226, '가보시길/Verb': 69, '추웟어/Noun': 2666, '육전/Noun': 2109, '좋다다만/Adjective': 2426, '차별/Noun': 2605, '한다/Verb': 2917, '약속/Noun': 1841, '간장게장/Noun': 102, '주지/Noun': 2490, '않는다/Verb': 1785, '정보/Noun': 2372, '없다는걸/Adjective': 1906, '명시/Noun': 1150, '낚이/Noun': 502, '없어야/Adjective': 1912, '된다고/Verb': 794, '검댕/Noun': 206, '똑같은/Adjective': 891, '나와/Verb': 494, '하는수/Verb': 2872, '불판/Noun': 1422, '닦고/Verb': 651, '먹었다/Verb': 1109, '명성/Noun': 1149, '걸/Noun': 198, '맞지/Verb': 1067, '점례네/Noun': 2356, '해주시네요/Verb': 2979, '해주시고/Verb': 2978, '점례/Noun': 2355, '네/Josa': 551, '맛있었당/Adjective': 1046, '뼈/Noun': 1473, '맛있었다다만/Adjective': 1045, '부산/Noun': 1395, '이랑은/Josa': 2147, '틀림/Noun': 2784, '계란말이/Noun': 225, '조화/Noun': 2404, '그룹/Noun': 369, '많았음/Adjective': 996, '맵긴/Verb': 1082, '보통/Noun': 1365, '하면/Verb': 2882, '먹을만/Verb': 1132, '하니/Noun': 2874, '우린/Noun': 2080, '받는다고/Verb': 1274, '센스/Noun': 1563, '어차피/Noun': 1876, '빈자리/Noun': 1456, '앉긴/Verb': 1776, '없다고/Adjective': 1905, '짜증날듯/Adjective': 2571, '짠듯/Verb': 2573, '완젼/Noun': 2046, '감사함니다/Verb': 125, '미뤄/Verb': 1218, '드렸는데도/Verb': 820, '흔쾌히/Adjective': 3063, '받아들여주시고/Verb': 1276, '내주셔서/Verb': 532, '앞/Noun': 1827, '으로도/Josa': 2115, '될거/Verb': 798, '미끄러운거/Adjective': 1215, '마감/Noun': 925, '이시인/Noun': 2162, '까지더라구요/Verb': 426, '죄송/Noun': 2465, '있어도/Adjective': 2248, '친절함이/Adjective': 2699, '떨어져/Verb': 884, '앉아/Verb': 1777, '야한다고/Adjective': 1835, '해주셨으면/Verb': 2976, '뻔했습니다/Adjective': 1472, '느끼지만/Verb': 588, '곁들이니/Verb': 223, '느끼함도/Adjective': 590, '세명/Noun': 1556, '왔네요/Verb': 2049, '마카/Noun': 943, '카/Noun': 2713, 'ㅗ/KoreanParticle': 13, '오노/Noun': 2000, '카나/Noun': 2714, '자장/Noun': 2283, '만족스러워서/Adjective': 970, '깔끔해요/Adjective': 434, '비빔면/Noun': 1442, '감사히/Adverb': 132, '먹겠습니다/Verb': 1086, '빠짐/Verb': 1461, '논현동/Noun': 565, '먹자에서/Verb': 1136, '보기/Noun': 1342, '드문/Adjective': 826, '부탁드립니다/Adjective': 1403, '따/Verb': 865, '봉/Noun': 1376, '반하고/Adjective': 1266, '안질리는/Verb': 1773, '필요한건/Adjective': 2839, '없는지/Adjective': 1903, '지인/Noun': 2537, '시켜줄수/Verb': 1656, '밖/Noun': 1259, '배달/Noun': 1298, '됬으면/Verb': 802, '쉬는/Verb': 1612, '맨날/Adverb': 1080, '먹을거/Verb': 1129, 'ㅠㅠㅠ/KoreanParticle': 18, '오시/Noun': 2013, '보세요/Verb': 1351, '찾은/Verb': 2628, '온다면/Verb': 2024, '에서만/Josa': 1937, '먹을듯/Verb': 1131, '아깝지/Adjective': 1725, '않네요/Verb': 1783, '그런/Adjective': 356, '있죠/Adjective': 2267, '방송/Noun': 1291, '않았음/Verb': 1800, '오겠습니다/Verb': 1994, '변치/Noun': 1326, '않길/Verb': 1782, '깜놀/Noun': 436, '터지는/Verb': 2761, '많이주세요/Adjective': 1001, '블로그/Noun': 1431, '대부분/Noun': 697, '많은데/Adjective': 998, '나온것처럼/Verb': 492, '있네요/Adjective': 2240, '감칠맛/Noun': 136, '살맛/Noun': 1498, '부드러울수있다니/Adjective': 1385, '퍽퍽/Noun': 2802, '일도/Noun': 2207, '바람/Noun': 1242, '불어/Noun': 1418, '포기/Noun': 2822, '할수는/Verb': 2942, '정육/Noun': 2379, '왕/Suffix': 2055, '그렇게/Adverb': 364, '고해/Noun': 245, '부드럽습니다/Adjective': 1391, '순/Modifier': 1604, '환율/Noun': 3039, '하기엔/Verb': 2860, '부담스럽네요/Adjective': 1384, '압박/Noun': 1825, '하기에/Verb': 2858, '시끄러운/Adjective': 1638, '있구요/Adjective': 2239, '많지는/Adjective': 1002, '않지만/Verb': 1806, '독특하고/Adjective': 743, '레트로/Noun': 913, '스웨/Noun': 1620, '풍만/Noun': 2830, '마저/Josa': 940, '들어요/Verb': 854, '맛있었네요/Adjective': 1042, '노른자/Noun': 558, '화채/Noun': 3028, '값/Noun': 139, '싸고/Verb': 1700, '가까우면/Adjective': 36, '단골/Noun': 654, '할거/Verb': 2935, '파채/Noun': 2795, '이지만/Josa': 2179, '냉동/Noun': 535, '어렸을/Verb': 1864, '먹었던/Verb': 1111, '기억나서/Verb': 408, '훌륭해용/Adjective': 3057, '들어가는/Verb': 850, '순간/Noun': 1605, '확/Noun': 3029, '잇고/Verb': 2230, '담주에도/Verb': 675, '추가/Noun': 2664, '쥰맛탱/Noun': 2509, '구리/Noun': 289, '스피드/Noun': 1627, '쵝오/Noun': 2663, '짱/Suffix': 2576, '잇어/Verb': 2233, '요요/Noun': 2069, '친철/Noun': 2708, '오고싶네요/Verb': 1996, '분명/Noun': 1410, '번의/Noun': 1312, '받았는데/Verb': 1281, '안되어있구/Adjective': 1764, '지정/Noun': 2539, '앉기엔/Verb': 1775, '불편하여/Adjective': 1423, '안되어/Adjective': 1763, '다를/Adjective': 636, '되어있는/Verb': 783, '라는/Josa': 899, '앞뒤/Noun': 1828, '맞구/Verb': 1059, '부실하구/Adjective': 1397, '대략/Noun': 693, '없어/Adjective': 1910, '보이시네요/Verb': 1361, '성능/Noun': 1552, '비는/Verb': 1435, '괜찮습니다/Adjective': 271, '고급/Noun': 233, '져서/Verb': 2391, '저렴해서/Adjective': 2322, '놀랐네요/Verb': 569, '가졌는데/Verb': 87, '만족한다고/Adjective': 980, '할게요/Verb': 2936, '바꿔주시고/Verb': 1238, '자리였는데/Adjective': 2281, '잡아주셨어/Verb': 2302, '가네여/Verb': 42, '많앗어요/Adjective': 994, '랫/Noun': 908, '던거/Adjective': 721, '잡/Noun': 2299, '쾌적합니다/Adjective': 2736, '하고가서/Verb': 2850, '해주셨어요/Verb': 2975, '조/Noun': 2393, '큼/Verb': 2745, '비싸지만/Adjective': 1446, '편하고요/Adjective': 2812, '잇다/Verb': 2232, '만족스러웠습니다/Adjective': 971, '사항/Noun': 1494, '대로/Noun': 695, '창가/Noun': 2616, '주셨고/Verb': 2476, '상태/Noun': 1515, '시끄러워요/Adjective': 1643, 'ㅠㅠㅠㅠ/KoreanParticle': 19, '순두부/Noun': 1606, '리필/Noun': 923, '두/Josa': 804, '시끌시끌하긴/Adjective': 1649, '않았습니다만/Verb': 1796, '적은/Verb': 2335, '원/Modifier': 2090, '어치/Noun': 1877, '먹어줘야/Verb': 1103, '찰/Noun': 2611, '인/Noun': 2188, '기준/Noun': 410, '피크타임/Noun': 2836, '지났음에도/Verb': 2530, '마련/Noun': 928, '꽉차/Verb': 453, '활기/Noun': 3040, '넘쳐/Adjective': 548, '미국/Noun': 1214, '온/Noun': 2022, '후배/Noun': 3051, '되었습니다/Verb': 786, '싶습니다/Verb': 1692, '갔다가/Verb': 146, '다음주/Noun': 647, '타/Modifier': 2747, '비교/Noun': 1434, '창고/Noun': 2617, '라도/Josa': 901, '고가/Noun': 230, '아니였네요/Adjective': 1729, '플/Exclamation': 2833, '레이스/Noun': 912, '깨끗하게/Adjective': 438, '나뉘어있어서/Verb': 473, '만나기에/Verb': 956, '합리/Noun': 2951, '편해요/Adjective': 2817, '가능하고/Adjective': 47, '있음/Adjective': 2265, '튼/Verb': 2782, '맛있었지만/Adjective': 1051, '눌러야/Verb': 581, '나왔습니다/Verb': 497, '무난/Noun': 1179, '부담스러/Adjective': 1383, '움/Noun': 2088, '모자라면/Verb': 1169, '알아서/Verb': 1821, '할텐데/Verb': 2945, '다룸/Noun': 628, '깨끗하고/Adjective': 439, '미역/Noun': 1224, '황태/Noun': 3043, '손/Noun': 1586, '대지/Noun': 703, '않았습니다/Verb': 1795, '좋겠습니다/Adjective': 2417, '통/Noun': 2768, '가능하니/Adjective': 48, '오래/Adverb': 2003, '기다릴까봐/Verb': 395, '뜨끈한/Adjective': 894, '누룽지/Noun': 578, '뱃속/Noun': 1308, '편안/Noun': 2804, '맜있어/Noun': 1058, '과거/Noun': 261, '겁나/Verb': 207, '개인/Noun': 181, '막창/Noun': 950, '포에버/Noun': 2823, '국산/Noun': 321, '개오래/Verb': 179, '걸리는데/Verb': 203, '안되서/Adjective': 1762, '옴/Noun': 2032, '문안/Noun': 1191, '들어갔는데/Verb': 853, '나오냐/Verb': 483, '핑계/Noun': 2842, '댄/Verb': 711, '상/Noun': 1509, '케어/Noun': 2726, '안됨/Adjective': 1769, '잘라주면서/Verb': 2295, '뭘/Noun': 1210, '먹으/Verb': 1117, '라거/Noun': 897, '구우/Noun': 293, '멘트/Noun': 1141, '구워주거나/Verb': 300, '어떤/Adjective': 1860, '없엇음/Noun': 1915, '애초/Noun': 1833, '잘라주고/Verb': 2294, '먹었을텐데/Verb': 1115, '이도/Noun': 2141, '도아/Noun': 739, '니/Noun': 614, '짜증났음/Adjective': 2572, '여기저기/Noun': 1945, '주방/Noun': 2473, '고하/Noun': 244, '기본/Noun': 405, '나오냐고/Verb': 484, '물어봐야하고/Verb': 1205, '알아본다고하고/Verb': 1819, '답/Noun': 676, '줌/Verb': 2502, '물어봐/Verb': 1204, '야함/Adjective': 1836, '술술/Noun': 1609, '넘어가는/Verb': 547, '갈만/Verb': 115, '환경/Noun': 3036, '쾌적한/Adjective': 2735, '편입/Noun': 2808, '적어요/Verb': 2331, '시원한/Adjective': 1653, '배치/Noun': 1303, '좋았으며/Adjective': 2451, '즉시/Noun': 2511, '처리/Noun': 2637, '간편/Noun': 103, '구워주는/Verb': 302, '개존맛/Noun': 182, '편합니다/Adjective': 2816, '알바/Noun': 1817, '건네주셔서/Verb': 194, '파세요/Verb': 2792, '지는/Josa': 2531, '글쎄/Noun': 379, '마인드/Noun': 939, '교육/Noun': 284, '필요할듯/Adjective': 2841, '시끄러운것도/Adjective': 1640, '단점/Noun': 655, '되어있고/Verb': 782, '세심/Noun': 1559, '떨어짐/Verb': 887, '저번/Noun': 2323, '확실/Noun': 3030, '히/Adverb': 3066, '가니깐/Verb': 51, '모임있을/Verb': 1168, '떄/Noun': 880, '데/Noun': 728, '타/Noun': 2748, '구워주지/Verb': 314, '도도/Noun': 735, '지난주/Noun': 2529, '홍대/Noun': 3024, '초반/Noun': 2655, '주워주셨는데/Verb': 2485, '역점/Noun': 1962, '있었지만/Adjective': 2258, '전혀/Noun': 2349, '실내/Noun': 1677, '어두워/Adjective': 1858, '익었는지/Verb': 2186, '판단/Noun': 2797, '어려워/Adjective': 1863, '불편한/Adjective': 1424, '굽는게/Verb': 329, '힘들었을/Adjective': 3072, '뿐/Noun': 1474, '해줬는데/Verb': 2989, '되는줄/Verb': 774, '몰랐어요/Verb': 1173, '에가/Josa': 1930, '훨씬/Adverb': 3059, '편하더라고요/Adjective': 2814, '사있습니다/Verb': 1490, '파/Noun': 2790, '무침/Verb': 1186, '굽는건데/Verb': 328, '깔끔해서/Adjective': 433, '대신/Noun': 700, '반/Modifier': 1261, '뿔/Noun': 1476, '팅팅/Noun': 2789, '탱탱/Noun': 2759, '생생하니/Adjective': 1527, '좀있고/Adjective': 2410, '지/Modifier': 2523, '가보기에/Verb': 65, '보이진/Verb': 1363, '간단한/Adjective': 98, '불러야지/Verb': 1417, '해주시더라고요/Verb': 2982, '보강/Noun': 1338, '해주시면/Verb': 2983, '두툼/Noun': 809, '하기도/Verb': 2856, '좋을거/Adjective': 2458, '올리고/Verb': 2030, '그것/Noun': 343, '맜나/Noun': 1057, '친젛/Noun': 2707, 'ㅇㅇㅇㅇㄹㄹㄹㄹㄹㄹㄹㄹㄹㄹㄹㄹㄹㄹㄹㄹㄹㄹㄹㄹㄹㄹ/KoreanParticle': 0, '친절하/Adjective': 2684, '심/Noun': 1682, '좋을것/Adjective': 2459, '가마/Noun': 59, '골/Noun': 248, '송추갈비/Noun': 1591, '꺼내놓으셔서/Verb': 443, '식었고/Verb': 1671, '비린내가/Adjective': 1438, '났습니다/Verb': 521, '질긴/Verb': 2552, '편이었습니다/Verb': 2807, '익숙/Noun': 2185, '어/Noun': 1854, '수선/Noun': 1598, '한건데/Verb': 2914, '실망/Noun': 1678, '스럽네요/Adjective': 1619, '개도/Noun': 176, '아깝습니다/Adjective': 1724, '찾았네요/Verb': 2627, '소고/Noun': 1570, '광부/Noun': 267, '믿어서/Verb': 1230, '는/Verb': 601, '셈/Noun': 1565, '치고/Josa': 2678, '웬/Modifier': 2097, '열/Noun': 1970, '였네요/Verb': 1973, '시키지/Verb': 1661, '와사비/Noun': 2038, '잎/Noun': 2270, '유쾌하/Noun': 2106, '심도/Verb': 1683, '한층/Noun': 2931, '돋구네요/Verb': 748, '부서/Noun': 1396, '걸렸습니다/Verb': 200, '해가면서/Verb': 2956, '구워주/Verb': 299, '쇼/Noun': 1593, '넘나/Verb': 546, '봤던/Verb': 1380, '우중/Noun': 2084, '곁들이는/Verb': 222, '갔는/Verb': 142, '뎅/Noun': 732, '조용하진/Adjective': 2400, '탑/Noun': 2754, '쾌적하고/Adjective': 2734, '깔끔한/Adjective': 431, '사용/Noun': 1487, '하시던/Verb': 2898, '재고/Noun': 2313, '위/Noun': 2098, '이름/Noun': 2152, '스티커/Noun': 1625, '덩어리/Noun': 727, '가져오셔서/Verb': 86, '바꿔/Verb': 1236, '먹으라고/Verb': 1119, '내시/Noun': 531, '한두/Modifier': 2920, '가는게/Verb': 45, '만족하는/Adjective': 977, '전문점/Noun': 2344, '걸리긴/Verb': 202, '시끄럽지/Adjective': 1648, '가요/Noun': 79, '크기/Noun': 2740, '양도/Noun': 1849, '스노우/Noun': 1617, '없어져서/Verb': 1914, '성과/Noun': 1551, '훌륭해요/Adjective': 3056, '대관/Noun': 688, '명언/Noun': 1151, '제나/Noun': 2384, '매니져/Verb': 1070, '님/Noun': 617, '충족/Noun': 2675, '찾기/Noun': 2620, '완벽/Noun': 2042, '오세요/Verb': 2012, '관자/Noun': 265, '오피스/Noun': 2018, '지역/Noun': 2536, '한산한거/Adjective': 2923, '여유롭게/Verb': 1953, '쉴/Verb': 1613, '틈/Noun': 2785, '바쁘지/Adjective': 1251, '않으시면/Verb': 1802, '주신다/Verb': 2482, '시끄러웠는데/Adjective': 1644, '심하진/Adjective': 1686, '않았어요/Verb': 1797, '느끼했는데/Adjective': 591, '나물/Noun': 476, '꿀맛/Noun': 455, '드셔/Verb': 828, '해주는/Verb': 2970, '따라/Verb': 866, '틀리다는걸/Verb': 2783, '호텔/Noun': 3018, '가까워서/Adjective': 38, '없었지만/Adjective': 1921, '확실하네요/Adjective': 3031, '받아주셨고고기/Verb': 1278, '했으면/Verb': 3007, '클/Verb': 2744, '날뻔/Noun': 507, '왔고요/Verb': 2048, '겉절이/Noun': 209, '멋있었어요/Adjective': 1138, '볼수/Verb': 1374, '특별한/Adjective': 2775, '이여/Josa': 2172, '다니는/Verb': 626, '유독/Noun': 2104, '둘이가서/Verb': 812, '고픈거/Adjective': 243, '부터/Noun': 1405, '짱아찌/Noun': 2578, '햇/Noun': 2991, '가까운/Adjective': 37, '칠/Modifier': 2709, '백/Modifier': 1304, '가봤는데/Verb': 71, '두/Noun': 805, '주차장/Noun': 2492, '할인/Noun': 2944, '괜찮아서/Adjective': 272, '간거였는데/Verb': 94, '잘못/Noun': 2297, '바꿔주셨는데/Verb': 1237, '조리/Noun': 2395, '나온게/Verb': 493, '당면/Noun': 680, '눌러/Verb': 580, '붙고/Verb': 1428, '뻑뻑/Noun': 1469, '마침/Noun': 942, '들고나/Verb': 840, '가방/Noun': 61, '현금/Noun': 3014, '결제/Noun': 213, '혹은/Adverb': 3020, '가능하다/Adjective': 49, '밍밍/Noun': 1232, '벗어난/Verb': 1320, '아무튼/Adverb': 1735, '적절/Noun': 2337, '되있구요/Verb': 787, '친절했구요/Adjective': 2704, '만족스러웠으나/Adjective': 973, '좋지/Adjective': 2463, '요구사항/Noun': 2065, '대표/Noun': 707, '원칙/Noun': 2094, '맞다고/Verb': 1063, '하시니/Verb': 2896, '흰/Adjective': 3065, '받는/Verb': 1272, '느낌이었네요/Verb': 595, '규칙/Noun': 338, '나름/Noun': 475, '있으시겠지만/Adjective': 2262, '돌이/Noun': 754, '딱딱하게/Adjective': 871, '표정/Noun': 2826, '하는것을/Verb': 2869, '아/Exclamation': 1721, '다르고/Adjective': 629, '어/Eomi': 1853, '다르니까/Adjective': 630, '방침/Noun': 1294, '뭐라/Verb': 1209, '할말은/Verb': 2939, '없구요/Adjective': 1897, '그렇듯/Adjective': 366, '하기는/Verb': 2855, '드셨다고/Verb': 829, '들르겠습니다/Verb': 845, '기막힌/Adjective': 404, '프로/Noun': 2831, '의식/Noun': 2126, '더욱/Noun': 717, '알도/Noun': 1812, '싱거웠어요/Adjective': 1689, '장흥/Noun': 2311, '과는/Josa': 262, '곁들이와/Verb': 224, '해놨으니/Verb': 2958, '기대하라고/Adjective': 400, '떵떵/Noun': 888, '안된다며/Adjective': 1768, '맞냐고/Verb': 1061, '에서부터/Josa': 1938, '물어보시니/Verb': 1203, '민망했어요/Adjective': 1226, '된거/Noun': 792, '맞는지/Verb': 1062, '전화해서/Adjective': 2351, '막상/Noun': 947, '가보니/Verb': 67, '명단/Noun': 1147, '황당/Noun': 3041, '큰/Verb': 2742, '앉으라고/Verb': 1779, '감사했지만/Verb': 131, '차지/Noun': 2607, '있으니/Adjective': 2260, '괜시리/Noun': 268, '민폐/Noun': 1227, '끼치는것/Verb': 464, '같아서/Adjective': 162, '먹는내내/Verb': 1095, '마음/Noun': 938, '편치/Verb': 2809, '일찍/Noun': 2215, '담아/Verb': 673, '논/Noun': 563, '윤기/Noun': 2113, '삼성/Noun': 1508, '타운/Noun': 2751, '시키면/Verb': 1660, '착각/Noun': 2608, '체인/Noun': 2648, '기지점/Noun': 412, '맹탕/Noun': 1083, '반해서/Adjective': 1267, '해보았는데/Verb': 2962, '즐겼어요/Verb': 2517, '결혼/Noun': 214, '한다고/Verb': 2918, '만/Suffix': 955, '청첩장/Noun': 2647, '보시더니/Verb': 1352, '선물/Noun': 1546, '좋았던/Adjective': 2447, '정갈해서/Adjective': 2366, '단지/Noun': 656, '점심시간/Noun': 2359, '바쁘셔서/Adjective': 1249, '늦어졌습니다/Verb': 607, '만족스러웠어요/Adjective': 972, '만족했답니다/Adjective': 985, '가신/Noun': 75, '하던/Verb': 2877, '된고/Verb': 793, '가볼게요/Verb': 70, '다르더라구요/Adjective': 631, '만큼/Noun': 989, '정원/Noun': 2378, '있구/Adjective': 2238, '집은/Verb': 2562, '없는거/Adjective': 1901, '먹구/Verb': 1089, '요절/Noun': 2070, '맞이/Noun': 1066, '다녀왔는데/Verb': 621, '만도/Noun': 957, '백억/Noun': 1305, '누/Noun': 577, '맛있다길래/Adjective': 1029, '가라/Noun': 54, '알겠네요/Verb': 1809, '배부름을/Adjective': 1301, '느끼고/Verb': 587, '어머니/Noun': 1866, '생신/Noun': 1528, '전복/Noun': 2346, '키조개/Noun': 2746, '거기/Noun': 185, '곁들여서/Verb': 221, '맛있더군요/Adjective': 1030, '바라보며/Verb': 1241, '될꺼/Verb': 799, '늦은/Verb': 612, '시각/Noun': 1634, '놀라고/Verb': 568, '얹어도/Verb': 1885, '하나같이/Adverb': 2863, '찰떡/Noun': 2612, '궁합/Noun': 334, '주정이/Noun': 2488, '수긍/Noun': 1596, '참시/Verb': 2614, '자세하게/Adjective': 2282, '왔다고/Verb': 2051, '말씀드렸는데/Verb': 1008, '안되어있다는/Adjective': 1766, '거듭/Noun': 186, '내/Modifier': 525, '역/Noun': 1959, '캡쳐/Noun': 2720, '보여/Verb': 1356, '안되어있다고/Adjective': 1765, '추운/Verb': 2665, '날씨/Noun': 508, '영문/Noun': 1979, '모른/Verb': 1164, '돌아/Verb': 751, '나갔어야/Verb': 469, '찾다가/Verb': 2623, '정상/Noun': 2373, '하고도/Josa': 2851, '착석/Noun': 2609, '이상해서/Adjective': 2160, '들어가서/Verb': 851, '시도/Noun': 1650, '서야/Verb': 1540, '안쪽/Noun': 1774, '별도/Noun': 1332, '관리/Noun': 264, '되고/Verb': 769, '있다고/Adjective': 2244, '해주었습니다/Verb': 2986, '파악/Noun': 2793, '뭡/Noun': 1211, '대체/Noun': 705, '문전/Noun': 1193, '박대/Noun': 1257, '찝찝함이/Adjective': 2600, '사라지지/Verb': 1479, '없긴/Adjective': 1898, '들고/Verb': 839, '시끄러워/Adjective': 1641, '사람과/Noun': 1481, '제약/Noun': 2386, '간격/Noun': 96, '좁고/Adjective': 2411, '가장/Noun': 81, '해주셨습니다/Verb': 2974, '맛있긴/Adjective': 1023, '공간/Noun': 257, '시끄럽긴/Adjective': 1647, '구석/Noun': 291, '있었고/Adjective': 2252, '좋았는데/Adjective': 2444, '특대/Noun': 2774, '시킨/Verb': 1662, '미스/Noun': 1223, '자로/Noun': 2276, '충분하네요/Adjective': 2672, '넓은/Adjective': 542, '해주었더라구요/Verb': 2985, '적었지만/Verb': 2334, '언니/Noun': 1880, '이건/Noun': 2134, '난다고/Verb': 505}\n"
     ]
    }
   ],
   "source": [
    "print(index_vectorizer.vocabulary_)"
   ]
  },
  {
   "cell_type": "code",
   "execution_count": 13,
   "metadata": {},
   "outputs": [
    {
     "name": "stdout",
     "output_type": "stream",
     "text": [
      "고기도 너무 맛있었구요같이 나오는 반찬이랑 특히 된장찌개계란찜다음엔 꼭 밥을 시켜서 말아먹어야겠습니다재방문의사 뿜뿜\n",
      "0\n",
      "  (0, 1477)\t1\n",
      "  (0, 2125)\t1\n",
      "  (0, 1289)\t1\n",
      "  (0, 2312)\t1\n",
      "  (0, 1010)\t1\n",
      "  (0, 1655)\t1\n",
      "  (0, 2117)\t1\n",
      "  (0, 1287)\t1\n",
      "  (0, 451)\t1\n",
      "  (0, 1940)\t1\n",
      "  (0, 646)\t1\n",
      "  (0, 226)\t1\n",
      "  (0, 797)\t1\n",
      "  (0, 2781)\t1\n",
      "  (0, 2146)\t1\n",
      "  (0, 1265)\t1\n",
      "  (0, 485)\t1\n",
      "  (0, 171)\t1\n",
      "  (0, 1041)\t1\n",
      "  (0, 539)\t1\n",
      "  (0, 733)\t1\n",
      "  (0, 234)\t1\n"
     ]
    }
   ],
   "source": [
    "print(df['ko_text'][0])\n",
    "print(X[0, 1068])\n",
    "print(X[0])"
   ]
  },
  {
   "cell_type": "markdown",
   "metadata": {},
   "source": [
    "-----"
   ]
  },
  {
   "cell_type": "markdown",
   "metadata": {},
   "source": [
    "##### TF-IDF로 변환"
   ]
  },
  {
   "cell_type": "code",
   "execution_count": 14,
   "metadata": {},
   "outputs": [],
   "source": [
    "from sklearn.feature_extraction.text import TfidfTransformer\n",
    "\n",
    "tfidf_vectorizer = TfidfTransformer()\n",
    "X = tfidf_vectorizer.fit_transform(X)"
   ]
  },
  {
   "cell_type": "code",
   "execution_count": 15,
   "metadata": {},
   "outputs": [
    {
     "name": "stdout",
     "output_type": "stream",
     "text": [
      "(556, 3074)\n",
      "  (0, 2781)\t0.23252654255429128\n",
      "  (0, 2312)\t0.19909762476238754\n",
      "  (0, 2146)\t0.19656271444689502\n",
      "  (0, 2125)\t0.21840348360657694\n",
      "  (0, 2117)\t0.1486694900102282\n",
      "  (0, 1940)\t0.20770822206131592\n",
      "  (0, 1655)\t0.2632668276691996\n",
      "  (0, 1477)\t0.29400711278410796\n",
      "  (0, 1289)\t0.15794247223049565\n",
      "  (0, 1287)\t0.20770822206131592\n",
      "  (0, 1265)\t0.20178625743938294\n",
      "  (0, 1041)\t0.2632668276691996\n",
      "  (0, 1010)\t0.29400711278410796\n",
      "  (0, 797)\t0.21840348360657694\n",
      "  (0, 733)\t0.08698021889224967\n",
      "  (0, 646)\t0.16968128443797048\n",
      "  (0, 539)\t0.12095908526936404\n",
      "  (0, 485)\t0.24528491361550148\n",
      "  (0, 451)\t0.21099482591282812\n",
      "  (0, 234)\t0.11026382372410307\n",
      "  (0, 226)\t0.2632668276691996\n",
      "  (0, 171)\t0.22263038113095449\n"
     ]
    }
   ],
   "source": [
    "print(X.shape)\n",
    "print(X[0])"
   ]
  },
  {
   "cell_type": "markdown",
   "metadata": {},
   "source": [
    "-----"
   ]
  },
  {
   "cell_type": "markdown",
   "metadata": {},
   "source": [
    "# <Step3. 분류> : 긍정 부정 리뷰 분류하기"
   ]
  },
  {
   "cell_type": "markdown",
   "metadata": {},
   "source": [
    "### [분류 모델링]"
   ]
  },
  {
   "cell_type": "markdown",
   "metadata": {},
   "source": [
    "##### 데이터셋 분리"
   ]
  },
  {
   "cell_type": "code",
   "execution_count": 16,
   "metadata": {},
   "outputs": [
    {
     "name": "stdout",
     "output_type": "stream",
     "text": [
      "(389, 3074)\n",
      "(167, 3074)\n"
     ]
    }
   ],
   "source": [
    "from sklearn.model_selection import train_test_split\n",
    "\n",
    "y = df['y']\n",
    "x_train, x_test, y_train, y_test = train_test_split(X, y, test_size=0.30, random_state=40)\n",
    "print(x_train.shape)\n",
    "print(x_test.shape)"
   ]
  },
  {
   "cell_type": "markdown",
   "metadata": {},
   "source": [
    "-----"
   ]
  },
  {
   "cell_type": "markdown",
   "metadata": {},
   "source": [
    "##### Logistic Regression"
   ]
  },
  {
   "cell_type": "code",
   "execution_count": 17,
   "metadata": {},
   "outputs": [
    {
     "name": "stdout",
     "output_type": "stream",
     "text": [
      "accuracy: 0.93\n",
      "Precision : 0.928\n",
      "Recall : 1.000\n",
      "F1 : 0.963\n"
     ]
    }
   ],
   "source": [
    "from sklearn.linear_model import LogisticRegression\n",
    "from sklearn.metrics import accuracy_score, precision_score, recall_score, f1_score\n",
    "\n",
    "lr = LogisticRegression(random_state=0)\n",
    "lr.fit(x_train, y_train)\n",
    "y_pred = lr.predict(x_test)\n",
    "y_pred_probability = lr.predict_proba(x_test)[:,1]\n",
    "\n",
    "print(\"accuracy: %.2f\" % accuracy_score(y_test, y_pred))\n",
    "print(\"Precision : %.3f\" % precision_score(y_test, y_pred))\n",
    "print(\"Recall : %.3f\" % recall_score(y_test, y_pred))\n",
    "print(\"F1 : %.3f\" % f1_score(y_test, y_pred))"
   ]
  },
  {
   "cell_type": "code",
   "execution_count": 18,
   "metadata": {},
   "outputs": [
    {
     "name": "stdout",
     "output_type": "stream",
     "text": [
      "[[  0  12]\n",
      " [  0 155]]\n"
     ]
    }
   ],
   "source": [
    "from sklearn.metrics import confusion_matrix\n",
    "\n",
    "confmat = confusion_matrix(y_true=y_test, y_pred=y_pred)\n",
    "print(confmat)"
   ]
  },
  {
   "cell_type": "code",
   "execution_count": 19,
   "metadata": {},
   "outputs": [
    {
     "name": "stdout",
     "output_type": "stream",
     "text": [
      "AUC : 0.928\n"
     ]
    },
    {
     "data": {
      "text/plain": [
       "<matplotlib.legend.Legend at 0x13dcc9198>"
      ]
     },
     "execution_count": 19,
     "metadata": {},
     "output_type": "execute_result"
    },
    {
     "data": {
      "image/png": "[encoded data removed]",
      "text/plain": [
       "<Figure size 360x288 with 1 Axes>"
      ]
     },
     "metadata": {
      "needs_background": "light"
     },
     "output_type": "display_data"
    }
   ],
   "source": [
    "# AUC (Area Under the Curve) & ROC curve\n",
    "from sklearn.metrics import roc_curve, roc_auc_score\n",
    "\n",
    "false_positive_rate, true_positive_rate, thresholds = roc_curve(y_test, y_pred_probability)\n",
    "roc_auc = roc_auc_score(y_test, y_pred_probability)\n",
    "print(\"AUC : %.3f\" % roc_auc)\n",
    "\n",
    "# ROC curve plot\n",
    "plt.rcParams['figure.figsize'] = [5, 4]\n",
    "plt.plot(false_positive_rate, true_positive_rate, label='ROC curve (area = %0.3f)' % roc_auc, \n",
    "         color='red', linewidth=4.0)\n",
    "plt.plot([0, 1], [0, 1], 'k--')\n",
    "plt.xlim([0.0, 1.0])\n",
    "plt.ylim([0.0, 1.0])\n",
    "plt.xlabel('False Positive Rate')\n",
    "plt.ylabel('True Positive Rate')\n",
    "plt.title('ROC curve of Logistic regression')\n",
    "plt.legend(loc=\"lower right\")"
   ]
  },
  {
   "cell_type": "markdown",
   "metadata": {},
   "source": [
    "------"
   ]
  },
  {
   "cell_type": "markdown",
   "metadata": {},
   "source": [
    "### [분류 모델 개선]"
   ]
  },
  {
   "cell_type": "markdown",
   "metadata": {},
   "source": [
    "##### 클래스 불균형 문제 해결하기"
   ]
  },
  {
   "cell_type": "code",
   "execution_count": 20,
   "metadata": {},
   "outputs": [
    {
     "data": {
      "text/plain": [
       "1    504\n",
       "0     52\n",
       "Name: y, dtype: int64"
      ]
     },
     "execution_count": 20,
     "metadata": {},
     "output_type": "execute_result"
    }
   ],
   "source": [
    "df['y'].value_counts()"
   ]
  },
  {
   "cell_type": "code",
   "execution_count": 21,
   "metadata": {},
   "outputs": [],
   "source": [
    "# 1:1 비율로 랜덤 샘플링\n",
    "positive_random_idx = df[df['y']==1].sample(50, random_state=30).index.tolist()\n",
    "negative_random_idx = df[df['y']==0].sample(50, random_state=30).index.tolist()"
   ]
  },
  {
   "cell_type": "code",
   "execution_count": 22,
   "metadata": {},
   "outputs": [
    {
     "name": "stdout",
     "output_type": "stream",
     "text": [
      "(70, 3074)\n",
      "(30, 3074)\n"
     ]
    }
   ],
   "source": [
    "# 랜덤 데이터로 데이터셋 나누기\n",
    "random_idx = positive_random_idx + negative_random_idx\n",
    "sample_X = X[random_idx, :]\n",
    "y = df['y'][random_idx]\n",
    "x_train, x_test, y_train, y_test = train_test_split(sample_X, y, test_size=0.30, random_state=40)\n",
    "print(x_train.shape)\n",
    "print(x_test.shape)"
   ]
  },
  {
   "cell_type": "markdown",
   "metadata": {},
   "source": [
    "-----"
   ]
  },
  {
   "cell_type": "markdown",
   "metadata": {},
   "source": [
    "##### Logistic Regression 다시 학습"
   ]
  },
  {
   "cell_type": "code",
   "execution_count": 23,
   "metadata": {},
   "outputs": [
    {
     "name": "stdout",
     "output_type": "stream",
     "text": [
      "accuracy: 0.73\n",
      "Precision : 0.714\n",
      "Recall : 0.714\n",
      "F1 : 0.714\n"
     ]
    }
   ],
   "source": [
    "lr = LogisticRegression(random_state=0)\n",
    "lr.fit(x_train, y_train)\n",
    "y_pred = lr.predict(x_test)\n",
    "y_pred_probability = lr.predict_proba(x_test)[:,1]\n",
    "\n",
    "print(\"accuracy: %.2f\" % accuracy_score(y_test, y_pred))\n",
    "print(\"Precision : %.3f\" % precision_score(y_test, y_pred))\n",
    "print(\"Recall : %.3f\" % recall_score(y_test, y_pred))\n",
    "print(\"F1 : %.3f\" % f1_score(y_test, y_pred))"
   ]
  },
  {
   "cell_type": "code",
   "execution_count": 24,
   "metadata": {},
   "outputs": [
    {
     "name": "stdout",
     "output_type": "stream",
     "text": [
      "[[12  4]\n",
      " [ 4 10]]\n"
     ]
    }
   ],
   "source": [
    "# confusion matrix\n",
    "confmat = confusion_matrix(y_true=y_test, y_pred=y_pred)\n",
    "print(confmat)"
   ]
  },
  {
   "cell_type": "code",
   "execution_count": 25,
   "metadata": {},
   "outputs": [
    {
     "name": "stdout",
     "output_type": "stream",
     "text": [
      "AUC : 0.862\n"
     ]
    },
    {
     "data": {
      "text/plain": [
       "<matplotlib.legend.Legend at 0x13dc13c18>"
      ]
     },
     "execution_count": 25,
     "metadata": {},
     "output_type": "execute_result"
    },
    {
     "data": {
      "image/png": "[encoded data removed]",
      "text/plain": [
       "<Figure size 360x288 with 1 Axes>"
      ]
     },
     "metadata": {
      "needs_background": "light"
     },
     "output_type": "display_data"
    }
   ],
   "source": [
    "# AUC (Area Under the Curve) & ROC curve\n",
    "false_positive_rate, true_positive_rate, thresholds = roc_curve(y_test, y_pred_probability)\n",
    "roc_auc = roc_auc_score(y_test, y_pred_probability)\n",
    "print(\"AUC : %.3f\" % roc_auc)\n",
    "\n",
    "# ROC curve plot\n",
    "plt.rcParams['figure.figsize'] = [5, 4]\n",
    "plt.plot(false_positive_rate, true_positive_rate, label='ROC curve (area = %0.3f)' % roc_auc, \n",
    "         color='red', linewidth=4.0)\n",
    "plt.plot([0, 1], [0, 1], 'k--')\n",
    "plt.xlim([0.0, 1.0])\n",
    "plt.ylim([0.0, 1.0])\n",
    "plt.xlabel('False Positive Rate')\n",
    "plt.ylabel('True Positive Rate')\n",
    "plt.title('ROC curve of Logistic regression')\n",
    "plt.legend(loc=\"lower right\")"
   ]
  },
  {
   "cell_type": "markdown",
   "metadata": {},
   "source": [
    "-----"
   ]
  },
  {
   "cell_type": "markdown",
   "metadata": {},
   "source": [
    "# <Step4. 분석> : 중요 키워드 분석"
   ]
  },
  {
   "cell_type": "markdown",
   "metadata": {},
   "source": [
    "### [회귀 모델의 변수중요도 추출]"
   ]
  },
  {
   "cell_type": "code",
   "execution_count": 26,
   "metadata": {},
   "outputs": [
    {
     "data": {
      "text/plain": [
       "<BarContainer object of 3074 artists>"
      ]
     },
     "execution_count": 26,
     "metadata": {},
     "output_type": "execute_result"
    },
    {
     "data": {
      "image/png": "[encoded data removed]",
      "text/plain": [
       "<Figure size 720x576 with 1 Axes>"
      ]
     },
     "metadata": {
      "needs_background": "light"
     },
     "output_type": "display_data"
    }
   ],
   "source": [
    "plt.rcParams['figure.figsize'] = [10, 8]\n",
    "plt.bar(range(len(lr.coef_[0])), lr.coef_[0])"
   ]
  },
  {
   "cell_type": "code",
   "execution_count": 27,
   "metadata": {},
   "outputs": [
    {
     "data": {
      "text/plain": [
       "array([0., 0., 0., ..., 0., 0., 0.])"
      ]
     },
     "execution_count": 27,
     "metadata": {},
     "output_type": "execute_result"
    }
   ],
   "source": [
    "abs(lr.coef_[0])"
   ]
  },
  {
   "cell_type": "code",
   "execution_count": 28,
   "metadata": {},
   "outputs": [
    {
     "data": {
      "text/plain": [
       "[(0.7689327837239531, 1036),\n",
       " (0.43563769760481236, 2371),\n",
       " (0.39475186821576874, 1156),\n",
       " (0.34850801887616806, 126),\n",
       " (0.34471666998044087, 2419),\n",
       " (0.3410985390497016, 1112),\n",
       " (0.3299474284142872, 1031),\n",
       " (0.3289306114827572, 1411),\n",
       " (0.3218596120089303, 1024),\n",
       " (0.30688171128357883, 1576),\n",
       " (0.29629411184261306, 1049),\n",
       " (0.29609852204472403, 618),\n",
       " (0.2698732457244118, 2225),\n",
       " (0.2667977156013306, 1409),\n",
       " (0.25255161802420323, 1159),\n",
       " (0.23236082920422335, 21),\n",
       " (0.23131183505581043, 684),\n",
       " (0.23002402144376832, 8),\n",
       " (0.22296340464479228, 1017),\n",
       " (0.2227438565373262, 619),\n",
       " (0.21945109472831054, 2487),\n",
       " (0.21814929390961796, 106),\n",
       " (0.21777305340691794, 2659),\n",
       " (0.2152440785332877, 1019),\n",
       " (0.21275215025935332, 981),\n",
       " (0.20958098663978803, 974),\n",
       " (0.20930767844164336, 2691),\n",
       " (0.20183899360308982, 2407),\n",
       " (0.19640014605482534, 1602),\n",
       " (0.19458886032886863, 2045),\n",
       " (0.1901857283718155, 1571),\n",
       " (0.1880609702090767, 968),\n",
       " (0.1870878811336018, 1000),\n",
       " (0.1820042163045119, 1890),\n",
       " (0.17908573791585858, 2292),\n",
       " (0.1720099237674939, 966),\n",
       " (0.16625188153276507, 485),\n",
       " (0.16171347325336016, 2168),\n",
       " (0.1602045899943013, 604),\n",
       " (0.1595827472474074, 2661),\n",
       " (0.1595827472474074, 1340),\n",
       " (0.1595827472474074, 560),\n",
       " (0.15939754656216068, 2123),\n",
       " (0.15727762292863307, 907),\n",
       " (0.15652046999693822, 1287),\n",
       " (0.1564439976280771, 52),\n",
       " (0.15636622056980717, 2574),\n",
       " (0.15339793137569013, 2964),\n",
       " (0.15313179068244145, 837),\n",
       " (0.15192522815270706, 2358),\n",
       " (0.15173383237101604, 2479),\n",
       " (0.15038881157385384, 2577),\n",
       " (0.15038881157385384, 2461),\n",
       " (0.15038881157385384, 2348),\n",
       " (0.14982242812355312, 1499),\n",
       " (0.14966265486607064, 1491),\n",
       " (0.14850874388594415, 646),\n",
       " (0.14722739462044476, 797),\n",
       " (0.14464152299116917, 1939),\n",
       " (0.14382896014476212, 253),\n",
       " (0.14237786124136323, 2690),\n",
       " (0.14237786124136323, 1741),\n",
       " (0.1413224838680597, 1996),\n",
       " (0.1400980689833211, 429),\n",
       " (0.13773015904853023, 2831),\n",
       " (0.13773015904853023, 2126),\n",
       " (0.13773015904853023, 404),\n",
       " (0.13752588027049362, 2220),\n",
       " (0.13579690561494243, 235),\n",
       " (0.13525376143160062, 836),\n",
       " (0.13351986412835554, 2816),\n",
       " (0.1288407145679565, 2830),\n",
       " (0.1288407145679565, 1620),\n",
       " (0.1288407145679565, 940),\n",
       " (0.1288407145679565, 913),\n",
       " (0.1288407145679565, 854),\n",
       " (0.1288407145679565, 743),\n",
       " (0.12835179298251687, 1288),\n",
       " (0.1253535898553227, 2234),\n",
       " (0.1253535898553227, 2230),\n",
       " (0.12502752769073674, 2679),\n",
       " (0.12398442867862826, 2693),\n",
       " (0.12325193469723791, 889),\n",
       " (0.12249391135857698, 506),\n",
       " (0.12096062406933211, 2127),\n",
       " (0.12096062406933211, 1012),\n",
       " (0.12009173876487136, 3046),\n",
       " (0.11958498050377289, 2677),\n",
       " (0.11955952605033295, 4),\n",
       " (0.11895040685860206, 130),\n",
       " (0.11895040685860206, 24),\n",
       " (0.11880813771257276, 657),\n",
       " (0.11824297167438669, 2095),\n",
       " (0.11824297167438669, 967),\n",
       " (0.11790283887777712, 730),\n",
       " (0.11724623360552135, 536),\n",
       " (0.1167525644266831, 2668),\n",
       " (0.1165504692812826, 2154),\n",
       " (0.11599892407462062, 1477),\n",
       " (0.11599892407462062, 1010),\n",
       " (0.11271513840632713, 2114),\n",
       " (0.11167522234851009, 2632),\n",
       " (0.11167522234851009, 113),\n",
       " (0.11140167386712885, 2269),\n",
       " (0.11140167386712885, 1441),\n",
       " (0.11140167386712885, 1260),\n",
       " (0.11140167386712885, 1199),\n",
       " (0.11124192925181002, 1100),\n",
       " (0.11106388561173738, 1818),\n",
       " (0.11106388561173738, 1646),\n",
       " (0.11106388561173738, 1615),\n",
       " (0.11106388561173738, 1271),\n",
       " (0.11101105495656226, 2399),\n",
       " (0.11101105495656226, 2253),\n",
       " (0.11101105495656226, 1233),\n",
       " (0.11101105495656226, 671),\n",
       " (0.10871080869413503, 2483),\n",
       " (0.10871080869413503, 1681),\n",
       " (0.10871080869413503, 706),\n",
       " (0.10871080869413503, 500),\n",
       " (0.10871080869413503, 498),\n",
       " (0.10555288075391787, 2330),\n",
       " (0.10555288075391787, 1918),\n",
       " (0.10555288075391787, 795),\n",
       " (0.10458818113918998, 1702),\n",
       " (0.10434878011728885, 2657),\n",
       " (0.10427105251791172, 1875),\n",
       " (0.10427105251791172, 1792),\n",
       " (0.1038705100192271, 1655),\n",
       " (0.1038705100192271, 1041),\n",
       " (0.1038705100192271, 226),\n",
       " (0.10364614419518466, 2146),\n",
       " (0.10322697750426718, 385),\n",
       " (0.09975393111517634, 1685),\n",
       " (0.09975393111517634, 1654),\n",
       " (0.09975393111517634, 1118),\n",
       " (0.09945146073757659, 1247),\n",
       " (0.09909710894668632, 2149),\n",
       " (0.09909710894668632, 1485),\n",
       " (0.0960041954813022, 1053),\n",
       " (0.09589856453759271, 780),\n",
       " (0.09464388741743789, 2522),\n",
       " (0.09451666595506712, 2832),\n",
       " (0.09451666595506712, 2733),\n",
       " (0.09451666595506712, 2526),\n",
       " (0.09451666595506712, 2107),\n",
       " (0.09451666595506712, 270),\n",
       " (0.09294043838723749, 1744),\n",
       " (0.09096379835010539, 246),\n",
       " (0.09007611235839871, 1900),\n",
       " (0.09007611235839871, 375),\n",
       " (0.08953687412744897, 108),\n",
       " (0.08641544231123703, 1670),\n",
       " (0.08641469668925568, 2746),\n",
       " (0.08641469668925568, 2346),\n",
       " (0.08641469668925568, 1241),\n",
       " (0.08641469668925568, 1030),\n",
       " (0.08641469668925568, 799),\n",
       " (0.08641469668925568, 221),\n",
       " (0.08641469668925568, 185),\n",
       " (0.0861699190628608, 2125),\n",
       " (0.08560652361633, 2591),\n",
       " (0.08402414728845772, 315),\n",
       " (0.08398169442759698, 1594),\n",
       " (0.08327642051911537, 2068),\n",
       " (0.08327642051911537, 1525),\n",
       " (0.08327642051911537, 670),\n",
       " (0.0832468730413753, 451),\n",
       " (0.08112944479814369, 2603),\n",
       " (0.08112944479814369, 2378),\n",
       " (0.08080408206443258, 1562),\n",
       " (0.08019047859262574, 1350),\n",
       " (0.08019047859262574, 325),\n",
       " (0.07983422443548711, 2955),\n",
       " (0.0794666780925643, 1348),\n",
       " (0.0792891221743254, 2909),\n",
       " (0.07870232592157422, 308),\n",
       " (0.07832101796832841, 2876),\n",
       " (0.07832101796832841, 2801),\n",
       " (0.07832101796832841, 2286),\n",
       " (0.07832101796832841, 2219),\n",
       " (0.07832101796832841, 1666),\n",
       " (0.07832101796832841, 1161),\n",
       " (0.07832101796832841, 788),\n",
       " (0.07832101796832841, 584),\n",
       " (0.07832101796832841, 441),\n",
       " (0.07832101796832841, 217),\n",
       " (0.07737949890376308, 417),\n",
       " (0.07688067655761002, 1462),\n",
       " (0.0745693491633744, 1032),\n",
       " (0.0745693491633744, 530),\n",
       " (0.07447081489374893, 2279),\n",
       " (0.07447081489374893, 265),\n",
       " (0.07353078755394114, 2583),\n",
       " (0.07353078755394114, 1503),\n",
       " (0.07353078755394114, 768),\n",
       " (0.07209424701265107, 2948),\n",
       " (0.07209424701265107, 2457),\n",
       " (0.07176629826977239, 2791),\n",
       " (0.07166937895204521, 2402),\n",
       " (0.07166937895204521, 1572),\n",
       " (0.07166937895204521, 1167),\n",
       " (0.07166937895204521, 821),\n",
       " (0.07166937895204521, 66),\n",
       " (0.07120380342446525, 2434),\n",
       " (0.07120380342446525, 2369),\n",
       " (0.07120380342446525, 2303),\n",
       " (0.07120380342446525, 1908),\n",
       " (0.07120380342446525, 1787),\n",
       " (0.07120380342446525, 852),\n",
       " (0.07120380342446525, 543),\n",
       " (0.07120380342446525, 347),\n",
       " (0.0701320649867582, 1946),\n",
       " (0.0701320649867582, 1433),\n",
       " (0.07008488749988168, 2403),\n",
       " (0.06834430111827049, 1505),\n",
       " (0.0674958109542791, 191),\n",
       " (0.06730807674948917, 2061),\n",
       " (0.06728597271267325, 2256),\n",
       " (0.06728597271267325, 2165),\n",
       " (0.06728597271267325, 1302),\n",
       " (0.06684887247959607, 1347),\n",
       " (0.06586062738648604, 192),\n",
       " (0.0653418345723709, 2380),\n",
       " (0.06470543098201835, 229),\n",
       " (0.06462034915211595, 3048),\n",
       " (0.06462034915211595, 2435),\n",
       " (0.06462034915211595, 2011),\n",
       " (0.06462034915211595, 2007),\n",
       " (0.06462034915211595, 1616),\n",
       " (0.06462034915211595, 462),\n",
       " (0.06375899980115556, 2082),\n",
       " (0.06375899980115556, 1955),\n",
       " (0.06375899980115556, 1194),\n",
       " (0.06352067349058918, 2110),\n",
       " (0.06281683198744203, 1943),\n",
       " (0.06251376384536837, 2670),\n",
       " (0.06251376384536837, 2549),\n",
       " (0.06251376384536837, 1256),\n",
       " (0.06251376384536837, 1074),\n",
       " (0.06251376384536837, 653),\n",
       " (0.06251376384536837, 389),\n",
       " (0.06251376384536837, 55),\n",
       " (0.06194311200518797, 1181),\n",
       " (0.06176353395858546, 825),\n",
       " (0.061362308353892926, 1145),\n",
       " (0.06104968971438907, 1750),\n",
       " (0.060668072101503975, 2105),\n",
       " (0.060668072101503975, 2050),\n",
       " (0.060668072101503975, 1028),\n",
       " (0.05940406885628638, 2512),\n",
       " (0.05940406885628638, 1120),\n",
       " (0.059219495058622014, 1940),\n",
       " (0.0586903286978451, 1610),\n",
       " (0.0586903286978451, 1114),\n",
       " (0.0586903286978451, 658),\n",
       " (0.0586903286978451, 152),\n",
       " (0.05786388690754557, 1297),\n",
       " (0.05786388690754557, 250),\n",
       " (0.05631419617784585, 2249),\n",
       " (0.055977558288927344, 2922),\n",
       " (0.055977558288927344, 2772),\n",
       " (0.055977558288927344, 2755),\n",
       " (0.055977558288927344, 736),\n",
       " (0.055977558288927344, 616),\n",
       " (0.055977558288927344, 454),\n",
       " (0.055977558288927344, 452),\n",
       " (0.055977558288927344, 3),\n",
       " (0.05568879188897263, 731),\n",
       " (0.05568879188897263, 470),\n",
       " (0.055409084012514466, 2053),\n",
       " (0.055409084012514466, 1669),\n",
       " (0.05452391875628513, 2781),\n",
       " (0.05392814882736832, 2347),\n",
       " (0.05391160985693361, 2092),\n",
       " (0.05391160985693361, 1165),\n",
       " (0.053873370086350084, 2157),\n",
       " (0.05323967125428214, 2308),\n",
       " (0.05323967125428214, 305),\n",
       " (0.052742418450257254, 153),\n",
       " (0.0524425124561528, 2613),\n",
       " (0.05231968475014485, 1882),\n",
       " (0.05215412314140407, 2758),\n",
       " (0.05215412314140407, 1154),\n",
       " (0.05215412314140407, 858),\n",
       " (0.05215412314140407, 9),\n",
       " (0.0520618962176807, 2449),\n",
       " (0.0519592652329767, 965),\n",
       " (0.051487550001520395, 88),\n",
       " (0.05109956002631904, 1635),\n",
       " (0.0507005205613544, 2504),\n",
       " (0.0503035973288145, 2440),\n",
       " (0.049562573785714076, 2682),\n",
       " (0.04704298861745099, 539),\n",
       " (0.04637493015275739, 1034),\n",
       " (0.04594866638394534, 1166),\n",
       " (0.045641340623818735, 28),\n",
       " (0.04406741935413908, 1947),\n",
       " (0.041730135496100905, 1055),\n",
       " (0.04027120580547955, 160),\n",
       " (0.04015953066479784, 2293),\n",
       " (0.04002173523731262, 228),\n",
       " (0.037626872094624834, 915),\n",
       " (0.03668242025789298, 620),\n",
       " (0.03524074910273253, 171),\n",
       " (0.03158029060299526, 733),\n",
       " (0.030339251740983023, 896),\n",
       " (0.03014120296657004, 143),\n",
       " (0.029338563169965314, 402),\n",
       " (0.02905313352930932, 2102),\n",
       " (0.02789102633048781, 322),\n",
       " (0.027068717358309225, 2996),\n",
       " (0.02400326077317322, 2862),\n",
       " (0.022368118278095057, 2548),\n",
       " (0.02223953431602954, 2949),\n",
       " (0.021122992085898643, 2934),\n",
       " (0.02082800035497745, 2638),\n",
       " (0.019841753312003663, 946),\n",
       " (0.019555440165117975, 1892),\n",
       " (0.017286835031770507, 1561),\n",
       " (0.01571238614377192, 406),\n",
       " (0.014089191778701224, 2312),\n",
       " (0.012451492719765622, 2036),\n",
       " (0.009787952581496723, 2143),\n",
       " (0.009031558417550984, 2455),\n",
       " (0.008319286237121443, 589),\n",
       " (0.006928140160709762, 1402),\n",
       " (0.006002383183906607, 164),\n",
       " (0.0058097010836203325, 1911),\n",
       " (0.00572963989903867, 1933),\n",
       " (0.004935588250751961, 1520),\n",
       " (0.0021406643662679184, 1989),\n",
       " (0.0014489552124062192, 2683),\n",
       " (0.0006126961677779257, 637),\n",
       " (0.0001974002713504099, 2848),\n",
       " (0.0, 3073),\n",
       " (0.0, 3072),\n",
       " (0.0, 3071),\n",
       " (0.0, 3070),\n",
       " (0.0, 3069),\n",
       " (0.0, 3068),\n",
       " (0.0, 3067),\n",
       " (0.0, 3066),\n",
       " (0.0, 3065),\n",
       " (0.0, 3063),\n",
       " (0.0, 3062),\n",
       " (0.0, 3059),\n",
       " (0.0, 3058),\n",
       " (0.0, 3057),\n",
       " (0.0, 3056),\n",
       " (0.0, 3055),\n",
       " (0.0, 3054),\n",
       " (0.0, 3053),\n",
       " (0.0, 3052),\n",
       " (0.0, 3051),\n",
       " (0.0, 3050),\n",
       " (0.0, 3047),\n",
       " (0.0, 3045),\n",
       " (0.0, 3044),\n",
       " (0.0, 3043),\n",
       " (0.0, 3042),\n",
       " (0.0, 3041),\n",
       " (0.0, 3040),\n",
       " (0.0, 3038),\n",
       " (0.0, 3037),\n",
       " (0.0, 3036),\n",
       " (0.0, 3035),\n",
       " (0.0, 3034),\n",
       " (0.0, 3032),\n",
       " (0.0, 3031),\n",
       " (0.0, 3030),\n",
       " (0.0, 3029),\n",
       " (0.0, 3028),\n",
       " (0.0, 3026),\n",
       " (0.0, 3025),\n",
       " (0.0, 3024),\n",
       " (0.0, 3023),\n",
       " (0.0, 3021),\n",
       " (0.0, 3020),\n",
       " (0.0, 3019),\n",
       " (0.0, 3017),\n",
       " (0.0, 3016),\n",
       " (0.0, 3014),\n",
       " (0.0, 3013),\n",
       " (0.0, 3012),\n",
       " (0.0, 3011),\n",
       " (0.0, 3010),\n",
       " (0.0, 3008),\n",
       " (0.0, 3007),\n",
       " (0.0, 3006),\n",
       " (0.0, 3003),\n",
       " (0.0, 3001),\n",
       " (0.0, 3000),\n",
       " (0.0, 2999),\n",
       " (0.0, 2998),\n",
       " (0.0, 2994),\n",
       " (0.0, 2993),\n",
       " (0.0, 2992),\n",
       " (0.0, 2991),\n",
       " (0.0, 2990),\n",
       " (0.0, 2989),\n",
       " (0.0, 2987),\n",
       " (0.0, 2986),\n",
       " (0.0, 2985),\n",
       " (0.0, 2984),\n",
       " (0.0, 2983),\n",
       " (0.0, 2982),\n",
       " (0.0, 2981),\n",
       " (0.0, 2980),\n",
       " (0.0, 2979),\n",
       " (0.0, 2978),\n",
       " (0.0, 2977),\n",
       " (0.0, 2976),\n",
       " (0.0, 2975),\n",
       " (0.0, 2974),\n",
       " (0.0, 2971),\n",
       " (0.0, 2969),\n",
       " (0.0, 2968),\n",
       " (0.0, 2967),\n",
       " (0.0, 2966),\n",
       " (0.0, 2965),\n",
       " (0.0, 2963),\n",
       " (0.0, 2962),\n",
       " (0.0, 2961),\n",
       " (0.0, 2960),\n",
       " (0.0, 2958),\n",
       " (0.0, 2956),\n",
       " (0.0, 2953),\n",
       " (0.0, 2952),\n",
       " (0.0, 2951),\n",
       " (0.0, 2950),\n",
       " (0.0, 2947),\n",
       " (0.0, 2945),\n",
       " (0.0, 2943),\n",
       " (0.0, 2942),\n",
       " (0.0, 2941),\n",
       " (0.0, 2939),\n",
       " (0.0, 2937),\n",
       " (0.0, 2936),\n",
       " (0.0, 2935),\n",
       " (0.0, 2933),\n",
       " (0.0, 2932),\n",
       " (0.0, 2931),\n",
       " (0.0, 2928),\n",
       " (0.0, 2926),\n",
       " (0.0, 2925),\n",
       " (0.0, 2924),\n",
       " (0.0, 2923),\n",
       " (0.0, 2920),\n",
       " (0.0, 2919),\n",
       " (0.0, 2918),\n",
       " (0.0, 2916),\n",
       " (0.0, 2915),\n",
       " (0.0, 2913),\n",
       " (0.0, 2912),\n",
       " (0.0, 2911),\n",
       " (0.0, 2907),\n",
       " (0.0, 2906),\n",
       " (0.0, 2905),\n",
       " (0.0, 2903),\n",
       " (0.0, 2902),\n",
       " (0.0, 2901),\n",
       " (0.0, 2900),\n",
       " (0.0, 2899),\n",
       " (0.0, 2898),\n",
       " (0.0, 2897),\n",
       " (0.0, 2896),\n",
       " (0.0, 2895),\n",
       " (0.0, 2894),\n",
       " (0.0, 2893),\n",
       " (0.0, 2892),\n",
       " (0.0, 2889),\n",
       " (0.0, 2888),\n",
       " (0.0, 2887),\n",
       " (0.0, 2885),\n",
       " (0.0, 2884),\n",
       " (0.0, 2880),\n",
       " (0.0, 2878),\n",
       " (0.0, 2877),\n",
       " (0.0, 2875),\n",
       " (0.0, 2874),\n",
       " (0.0, 2873),\n",
       " (0.0, 2870),\n",
       " (0.0, 2869),\n",
       " (0.0, 2868),\n",
       " (0.0, 2866),\n",
       " (0.0, 2865),\n",
       " (0.0, 2864),\n",
       " (0.0, 2863),\n",
       " (0.0, 2861),\n",
       " (0.0, 2859),\n",
       " (0.0, 2857),\n",
       " (0.0, 2856),\n",
       " (0.0, 2855),\n",
       " (0.0, 2854),\n",
       " (0.0, 2853),\n",
       " (0.0, 2852),\n",
       " (0.0, 2851),\n",
       " (0.0, 2850),\n",
       " (0.0, 2847),\n",
       " (0.0, 2846),\n",
       " (0.0, 2843),\n",
       " (0.0, 2841),\n",
       " (0.0, 2840),\n",
       " (0.0, 2839),\n",
       " (0.0, 2838),\n",
       " (0.0, 2836),\n",
       " (0.0, 2834),\n",
       " (0.0, 2833),\n",
       " (0.0, 2829),\n",
       " (0.0, 2828),\n",
       " (0.0, 2827),\n",
       " (0.0, 2826),\n",
       " (0.0, 2825),\n",
       " (0.0, 2824),\n",
       " (0.0, 2823),\n",
       " (0.0, 2822),\n",
       " (0.0, 2821),\n",
       " (0.0, 2820),\n",
       " (0.0, 2819),\n",
       " (0.0, 2818),\n",
       " (0.0, 2817),\n",
       " (0.0, 2815),\n",
       " (0.0, 2814),\n",
       " (0.0, 2813),\n",
       " (0.0, 2812),\n",
       " (0.0, 2811),\n",
       " (0.0, 2810),\n",
       " (0.0, 2809),\n",
       " (0.0, 2808),\n",
       " (0.0, 2806),\n",
       " (0.0, 2805),\n",
       " (0.0, 2804),\n",
       " (0.0, 2802),\n",
       " (0.0, 2800),\n",
       " (0.0, 2798),\n",
       " (0.0, 2797),\n",
       " (0.0, 2796),\n",
       " (0.0, 2795),\n",
       " (0.0, 2794),\n",
       " (0.0, 2793),\n",
       " (0.0, 2792),\n",
       " (0.0, 2790),\n",
       " (0.0, 2789),\n",
       " (0.0, 2787),\n",
       " (0.0, 2786),\n",
       " (0.0, 2785),\n",
       " (0.0, 2784),\n",
       " (0.0, 2780),\n",
       " (0.0, 2779),\n",
       " (0.0, 2778),\n",
       " (0.0, 2777),\n",
       " (0.0, 2776),\n",
       " (0.0, 2775),\n",
       " (0.0, 2774),\n",
       " (0.0, 2773),\n",
       " (0.0, 2770),\n",
       " (0.0, 2769),\n",
       " (0.0, 2768),\n",
       " (0.0, 2767),\n",
       " (0.0, 2766),\n",
       " (0.0, 2764),\n",
       " (0.0, 2762),\n",
       " (0.0, 2761),\n",
       " (0.0, 2760),\n",
       " (0.0, 2759),\n",
       " (0.0, 2756),\n",
       " (0.0, 2754),\n",
       " (0.0, 2753),\n",
       " (0.0, 2752),\n",
       " (0.0, 2751),\n",
       " (0.0, 2750),\n",
       " (0.0, 2749),\n",
       " (0.0, 2747),\n",
       " (0.0, 2745),\n",
       " (0.0, 2744),\n",
       " (0.0, 2742),\n",
       " (0.0, 2741),\n",
       " (0.0, 2740),\n",
       " (0.0, 2738),\n",
       " (0.0, 2737),\n",
       " (0.0, 2736),\n",
       " (0.0, 2735),\n",
       " (0.0, 2734),\n",
       " (0.0, 2732),\n",
       " (0.0, 2731),\n",
       " (0.0, 2730),\n",
       " (0.0, 2729),\n",
       " (0.0, 2728),\n",
       " (0.0, 2724),\n",
       " (0.0, 2723),\n",
       " (0.0, 2722),\n",
       " (0.0, 2721),\n",
       " (0.0, 2720),\n",
       " (0.0, 2719),\n",
       " (0.0, 2718),\n",
       " (0.0, 2717),\n",
       " (0.0, 2716),\n",
       " (0.0, 2714),\n",
       " (0.0, 2713),\n",
       " (0.0, 2712),\n",
       " (0.0, 2711),\n",
       " (0.0, 2710),\n",
       " (0.0, 2709),\n",
       " (0.0, 2708),\n",
       " (0.0, 2707),\n",
       " (0.0, 2706),\n",
       " (0.0, 2705),\n",
       " (0.0, 2704),\n",
       " (0.0, 2703),\n",
       " (0.0, 2702),\n",
       " (0.0, 2700),\n",
       " (0.0, 2699),\n",
       " (0.0, 2698),\n",
       " (0.0, 2697),\n",
       " (0.0, 2696),\n",
       " (0.0, 2695),\n",
       " (0.0, 2694),\n",
       " (0.0, 2692),\n",
       " (0.0, 2689),\n",
       " (0.0, 2688),\n",
       " (0.0, 2687),\n",
       " (0.0, 2684),\n",
       " (0.0, 2681),\n",
       " (0.0, 2680),\n",
       " (0.0, 2678),\n",
       " (0.0, 2676),\n",
       " (0.0, 2675),\n",
       " (0.0, 2674),\n",
       " (0.0, 2673),\n",
       " (0.0, 2672),\n",
       " (0.0, 2671),\n",
       " (0.0, 2669),\n",
       " (0.0, 2667),\n",
       " (0.0, 2666),\n",
       " (0.0, 2665),\n",
       " (0.0, 2664),\n",
       " (0.0, 2663),\n",
       " (0.0, 2658),\n",
       " (0.0, 2656),\n",
       " (0.0, 2655),\n",
       " (0.0, 2654),\n",
       " (0.0, 2653),\n",
       " (0.0, 2650),\n",
       " (0.0, 2648),\n",
       " (0.0, 2647),\n",
       " (0.0, 2646),\n",
       " (0.0, 2645),\n",
       " (0.0, 2644),\n",
       " (0.0, 2642),\n",
       " (0.0, 2641),\n",
       " (0.0, 2640),\n",
       " (0.0, 2639),\n",
       " (0.0, 2637),\n",
       " (0.0, 2636),\n",
       " (0.0, 2635),\n",
       " (0.0, 2634),\n",
       " (0.0, 2633),\n",
       " (0.0, 2631),\n",
       " (0.0, 2629),\n",
       " (0.0, 2628),\n",
       " (0.0, 2627),\n",
       " (0.0, 2626),\n",
       " (0.0, 2625),\n",
       " (0.0, 2624),\n",
       " (0.0, 2623),\n",
       " (0.0, 2622),\n",
       " (0.0, 2621),\n",
       " (0.0, 2620),\n",
       " (0.0, 2619),\n",
       " (0.0, 2618),\n",
       " (0.0, 2617),\n",
       " (0.0, 2616),\n",
       " (0.0, 2615),\n",
       " (0.0, 2614),\n",
       " (0.0, 2612),\n",
       " (0.0, 2609),\n",
       " (0.0, 2608),\n",
       " (0.0, 2607),\n",
       " (0.0, 2606),\n",
       " (0.0, 2604),\n",
       " (0.0, 2602),\n",
       " (0.0, 2601),\n",
       " (0.0, 2600),\n",
       " (0.0, 2599),\n",
       " (0.0, 2598),\n",
       " (0.0, 2597),\n",
       " (0.0, 2596),\n",
       " (0.0, 2595),\n",
       " (0.0, 2594),\n",
       " (0.0, 2593),\n",
       " (0.0, 2592),\n",
       " (0.0, 2590),\n",
       " (0.0, 2589),\n",
       " (0.0, 2587),\n",
       " (0.0, 2586),\n",
       " (0.0, 2585),\n",
       " (0.0, 2584),\n",
       " (0.0, 2581),\n",
       " (0.0, 2580),\n",
       " (0.0, 2579),\n",
       " (0.0, 2578),\n",
       " (0.0, 2576),\n",
       " (0.0, 2575),\n",
       " (0.0, 2573),\n",
       " (0.0, 2571),\n",
       " (0.0, 2566),\n",
       " (0.0, 2565),\n",
       " (0.0, 2564),\n",
       " (0.0, 2563),\n",
       " (0.0, 2562),\n",
       " (0.0, 2559),\n",
       " (0.0, 2558),\n",
       " (0.0, 2557),\n",
       " (0.0, 2555),\n",
       " (0.0, 2554),\n",
       " (0.0, 2553),\n",
       " (0.0, 2551),\n",
       " (0.0, 2550),\n",
       " (0.0, 2547),\n",
       " (0.0, 2546),\n",
       " (0.0, 2545),\n",
       " (0.0, 2542),\n",
       " (0.0, 2537),\n",
       " (0.0, 2536),\n",
       " (0.0, 2535),\n",
       " (0.0, 2534),\n",
       " (0.0, 2533),\n",
       " (0.0, 2532),\n",
       " (0.0, 2531),\n",
       " (0.0, 2530),\n",
       " (0.0, 2529),\n",
       " (0.0, 2528),\n",
       " (0.0, 2527),\n",
       " (0.0, 2524),\n",
       " (0.0, 2523),\n",
       " (0.0, 2521),\n",
       " (0.0, 2520),\n",
       " (0.0, 2519),\n",
       " (0.0, 2518),\n",
       " (0.0, 2517),\n",
       " (0.0, 2516),\n",
       " (0.0, 2515),\n",
       " (0.0, 2514),\n",
       " (0.0, 2513),\n",
       " (0.0, 2510),\n",
       " (0.0, 2509),\n",
       " (0.0, 2508),\n",
       " (0.0, 2507),\n",
       " (0.0, 2505),\n",
       " (0.0, 2503),\n",
       " (0.0, 2501),\n",
       " (0.0, 2497),\n",
       " (0.0, 2496),\n",
       " (0.0, 2495),\n",
       " (0.0, 2494),\n",
       " (0.0, 2493),\n",
       " (0.0, 2489),\n",
       " (0.0, 2488),\n",
       " (0.0, 2485),\n",
       " (0.0, 2484),\n",
       " (0.0, 2482),\n",
       " (0.0, 2481),\n",
       " (0.0, 2478),\n",
       " (0.0, 2477),\n",
       " (0.0, 2476),\n",
       " (0.0, 2474),\n",
       " (0.0, 2468),\n",
       " (0.0, 2467),\n",
       " (0.0, 2465),\n",
       " (0.0, 2463),\n",
       " (0.0, 2462),\n",
       " (0.0, 2460),\n",
       " (0.0, 2459),\n",
       " (0.0, 2458),\n",
       " (0.0, 2456),\n",
       " (0.0, 2454),\n",
       " (0.0, 2452),\n",
       " (0.0, 2451),\n",
       " (0.0, 2450),\n",
       " (0.0, 2447),\n",
       " (0.0, 2446),\n",
       " (0.0, 2445),\n",
       " (0.0, 2444),\n",
       " (0.0, 2443),\n",
       " (0.0, 2442),\n",
       " (0.0, 2441),\n",
       " (0.0, 2439),\n",
       " (0.0, 2438),\n",
       " (0.0, 2437),\n",
       " (0.0, 2436),\n",
       " (0.0, 2433),\n",
       " (0.0, 2431),\n",
       " (0.0, 2429),\n",
       " (0.0, 2428),\n",
       " (0.0, 2427),\n",
       " (0.0, 2424),\n",
       " (0.0, 2423),\n",
       " (0.0, 2422),\n",
       " (0.0, 2421),\n",
       " (0.0, 2420),\n",
       " (0.0, 2418),\n",
       " (0.0, 2417),\n",
       " (0.0, 2416),\n",
       " (0.0, 2415),\n",
       " (0.0, 2414),\n",
       " (0.0, 2413),\n",
       " (0.0, 2412),\n",
       " (0.0, 2411),\n",
       " (0.0, 2410),\n",
       " (0.0, 2409),\n",
       " (0.0, 2405),\n",
       " (0.0, 2404),\n",
       " (0.0, 2401),\n",
       " (0.0, 2400),\n",
       " (0.0, 2398),\n",
       " (0.0, 2397),\n",
       " (0.0, 2396),\n",
       " (0.0, 2393),\n",
       " (0.0, 2392),\n",
       " (0.0, 2391),\n",
       " (0.0, 2390),\n",
       " (0.0, 2389),\n",
       " (0.0, 2388),\n",
       " (0.0, 2387),\n",
       " (0.0, 2386),\n",
       " (0.0, 2385),\n",
       " (0.0, 2384),\n",
       " (0.0, 2383),\n",
       " (0.0, 2382),\n",
       " (0.0, 2381),\n",
       " (0.0, 2379),\n",
       " (0.0, 2377),\n",
       " (0.0, 2375),\n",
       " (0.0, 2374),\n",
       " (0.0, 2373),\n",
       " (0.0, 2368),\n",
       " (0.0, 2367),\n",
       " (0.0, 2366),\n",
       " (0.0, 2365),\n",
       " (0.0, 2364),\n",
       " (0.0, 2363),\n",
       " (0.0, 2362),\n",
       " (0.0, 2361),\n",
       " (0.0, 2360),\n",
       " (0.0, 2359),\n",
       " (0.0, 2357),\n",
       " (0.0, 2355),\n",
       " (0.0, 2354),\n",
       " (0.0, 2352),\n",
       " (0.0, 2351),\n",
       " (0.0, 2349),\n",
       " (0.0, 2344),\n",
       " (0.0, 2343),\n",
       " (0.0, 2342),\n",
       " (0.0, 2341),\n",
       " (0.0, 2339),\n",
       " (0.0, 2338),\n",
       " (0.0, 2337),\n",
       " (0.0, 2336),\n",
       " (0.0, 2334),\n",
       " (0.0, 2333),\n",
       " (0.0, 2332),\n",
       " (0.0, 2331),\n",
       " (0.0, 2329),\n",
       " (0.0, 2328),\n",
       " (0.0, 2326),\n",
       " (0.0, 2323),\n",
       " (0.0, 2322),\n",
       " (0.0, 2321),\n",
       " (0.0, 2320),\n",
       " (0.0, 2319),\n",
       " (0.0, 2317),\n",
       " (0.0, 2314),\n",
       " (0.0, 2313),\n",
       " (0.0, 2311),\n",
       " (0.0, 2310),\n",
       " (0.0, 2307),\n",
       " (0.0, 2305),\n",
       " (0.0, 2304),\n",
       " (0.0, 2302),\n",
       " (0.0, 2301),\n",
       " (0.0, 2300),\n",
       " (0.0, 2299),\n",
       " (0.0, 2298),\n",
       " (0.0, 2296),\n",
       " (0.0, 2291),\n",
       " (0.0, 2290),\n",
       " (0.0, 2289),\n",
       " (0.0, 2287),\n",
       " (0.0, 2285),\n",
       " (0.0, 2283),\n",
       " (0.0, 2282),\n",
       " (0.0, 2281),\n",
       " (0.0, 2280),\n",
       " (0.0, 2276),\n",
       " (0.0, 2275),\n",
       " (0.0, 2273),\n",
       " (0.0, 2272),\n",
       " (0.0, 2270),\n",
       " (0.0, 2268),\n",
       " (0.0, 2267),\n",
       " (0.0, 2266),\n",
       " (0.0, 2265),\n",
       " (0.0, 2264),\n",
       " (0.0, 2263),\n",
       " (0.0, 2262),\n",
       " (0.0, 2261),\n",
       " (0.0, 2260),\n",
       " (0.0, 2258),\n",
       " (0.0, 2257),\n",
       " (0.0, 2255),\n",
       " (0.0, 2252),\n",
       " (0.0, 2251),\n",
       " (0.0, 2248),\n",
       " (0.0, 2246),\n",
       " (0.0, 2245),\n",
       " (0.0, 2244),\n",
       " (0.0, 2240),\n",
       " (0.0, 2238),\n",
       " (0.0, 2236),\n",
       " (0.0, 2235),\n",
       " (0.0, 2233),\n",
       " (0.0, 2232),\n",
       " (0.0, 2231),\n",
       " (0.0, 2229),\n",
       " (0.0, 2228),\n",
       " (0.0, 2227),\n",
       " (0.0, 2226),\n",
       " (0.0, 2224),\n",
       " (0.0, 2223),\n",
       " (0.0, 2222),\n",
       " (0.0, 2221),\n",
       " (0.0, 2218),\n",
       " (0.0, 2217),\n",
       " (0.0, 2216),\n",
       " (0.0, 2215),\n",
       " (0.0, 2214),\n",
       " (0.0, 2213),\n",
       " (0.0, 2211),\n",
       " (0.0, 2210),\n",
       " (0.0, 2209),\n",
       " (0.0, 2208),\n",
       " (0.0, 2207),\n",
       " (0.0, 2206),\n",
       " (0.0, 2204),\n",
       " (0.0, 2203),\n",
       " (0.0, 2201),\n",
       " (0.0, 2200),\n",
       " (0.0, 2198),\n",
       " (0.0, 2197),\n",
       " (0.0, 2195),\n",
       " (0.0, 2192),\n",
       " (0.0, 2191),\n",
       " (0.0, 2190),\n",
       " (0.0, 2189),\n",
       " (0.0, 2186),\n",
       " (0.0, 2184),\n",
       " (0.0, 2183),\n",
       " (0.0, 2181),\n",
       " (0.0, 2180),\n",
       " (0.0, 2179),\n",
       " (0.0, 2178),\n",
       " (0.0, 2177),\n",
       " (0.0, 2176),\n",
       " (0.0, 2174),\n",
       " (0.0, 2173),\n",
       " (0.0, 2172),\n",
       " (0.0, 2167),\n",
       " (0.0, 2166),\n",
       " (0.0, 2163),\n",
       " (0.0, 2162),\n",
       " (0.0, 2161),\n",
       " (0.0, 2160),\n",
       " (0.0, 2158),\n",
       " (0.0, 2155),\n",
       " (0.0, 2153),\n",
       " (0.0, 2152),\n",
       " (0.0, 2151),\n",
       " (0.0, 2150),\n",
       " (0.0, 2148),\n",
       " (0.0, 2147),\n",
       " (0.0, 2145),\n",
       " (0.0, 2142),\n",
       " (0.0, 2140),\n",
       " (0.0, 2139),\n",
       " (0.0, 2138),\n",
       " (0.0, 2136),\n",
       " (0.0, 2135),\n",
       " (0.0, 2134),\n",
       " (0.0, 2133),\n",
       " (0.0, 2130),\n",
       " (0.0, 2122),\n",
       " (0.0, 2120),\n",
       " (0.0, 2119),\n",
       " (0.0, 2118),\n",
       " (0.0, 2115),\n",
       " (0.0, 2113),\n",
       " (0.0, 2112),\n",
       " (0.0, 2111),\n",
       " ...]"
      ]
     },
     "execution_count": 28,
     "metadata": {},
     "output_type": "execute_result"
    }
   ],
   "source": [
    "sorted(((value, index) for index, value in enumerate(lr.coef_[0])), reverse=True)"
   ]
  },
  {
   "cell_type": "markdown",
   "metadata": {},
   "source": [
    "-----"
   ]
  },
  {
   "cell_type": "markdown",
   "metadata": {},
   "source": [
    "### [중요 변수의 형태소]"
   ]
  },
  {
   "cell_type": "code",
   "execution_count": 29,
   "metadata": {},
   "outputs": [],
   "source": [
    "high_coef_pos_index = sorted(((value, index) for index, value in enumerate(lr.coef_[0])), reverse=True)"
   ]
  },
  {
   "cell_type": "code",
   "execution_count": 30,
   "metadata": {},
   "outputs": [
    {
     "name": "stdout",
     "output_type": "stream",
     "text": [
      "{234: '고기/Noun', 733: '도/Josa', 539: '너무/Adverb', 1041: '맛있었구요/Adjective', 171: '같이/Adverb', 485: '나오는/Verb', 1265: '반찬/Noun', 2146: '이랑/Josa', 2781: '특히/Adverb', 797: '된장찌개/Noun', 226: '계란찜/Noun', 646: '다음/Noun', 1940: '엔/Josa', 451: '꼭/Noun', 1287: '밥/Noun', 2117: '을/Josa', 1655: '시켜서/Verb', 1010: '말아먹어야겠습니다/Verb', 2312: '재/Noun', 1289: '방문/Noun', 2125: '의사/Noun', 1477: '뿜뿜/Noun', 3046: '회식/Noun', 2871: '하는데/Verb', 1986: '예약/Noun', 2997: '했는데/Verb', 415: '길/Noun', 2622: '찾는게/Verb', 523: '낮아져서/Verb', 1839: '약/Noun', 1688: '십분/Noun', 2370: '정도/Noun', 609: '늦어질것/Verb', 161: '같아/Adjective', 1220: '미리/Noun', 28: '가게/Noun', 1929: '에/Josa', 1846: '양/Modifier', 2969: '해전/Noun', 3025: '화/Suffix', 919: '를/Josa', 822: '드렸어요/Verb', 360: '그런데/Conjunction', 692: '대뜸/Noun', 608: '늦어지는/Verb', 1635: '시간/Noun', 2604: '차라리/Noun', 633: '다른/Noun', 1587: '손님/Noun', 1273: '받는게/Verb', 519: '낫다/Noun', 600: '는/Josa', 1664: '식/Noun', 2114: '으로/Josa', 1004: '말/Noun', 2886: '하셔서/Verb', 281: '굉장히/Adjective', 1421: '불쾌했어요/Adjective', 25: 'ㅡㅡ/KoreanParticle', 2908: '한/Determiner', 606: '늦겠다는/Verb', 208: '것/Noun', 1726: '아니/Adjective', 241: '고저/Noun', 3021: '혼자/Noun', 1975: '였다면/Verb', 1755: '안/VerbPrefix', 31: '가고/Verb', 1011: '말았겠지만/Verb', 1947: '여러/Modifier', 1144: '명/Noun', 2129: '이/Josa', 1983: '예/Modifier', 1838: '약/Modifier', 2910: '한/Modifier', 184: '거/Noun', 896: '라/Josa', 1875: '어쩔/Modifier', 1594: '수/Noun', 1926: '없이/Adverb', 143: '갔는데/Verb', 2352: '절대/Noun', 641: '다시는/Verb', 112: '갈듯/Verb', 2865: '하네요/Verb', 357: '그런/Modifier', 2307: '장사/Noun', 2904: '하지/Verb', 931: '마세요/Verb', 1511: '상가/Noun', 832: '득/Noun', 2668: '추천/Noun', 2949: '합니다/Verb', 2660: '최근/Noun', 2284: '자주/Noun', 46: '가는데/Verb', 1961: '역시/Noun', 105: '갈/Verb', 876: '때/Noun', 927: '마다/Josa', 2848: '하고/Josa', 137: '갑니다/Verb', 1537: '서비스/Noun', 2419: '좋고/Adjective', 1013: '맛/Noun', 2415: '좋/Adjective', 550: '네/Determiner', 2066: '요다음/Noun', 889: '또/Noun', 108: '갈게요/Verb', 2353: '점/Noun', 713: '더/Noun', 1087: '먹고/Verb', 2015: '오지/Noun', 1177: '못/VerbPrefix', 2915: '한게/Verb', 1736: '아쉬운/Adjective', 14: 'ㅜ/KoreanParticle', 1295: '배/Noun', 2760: '터지게/Verb', 1100: '먹어도/Verb', 716: '더못/Adjective', 1127: '먹은게/Verb', 1071: '매번/Noun', 3054: '후회되네요/Adjective', 2: 'ㅋㅋ/KoreanParticle', 1088: '먹고싶을/Verb', 878: '땐/Noun', 2953: '항상/Noun', 122: '감격시대/Noun', 915: '로/Josa', 1492: '사진/Noun', 2116: '은/Josa', 881: '떠드느라/Verb', 1176: '못/Noun', 2597: '찍었는데/Verb', 1459: '빠르게/Adjective', 1759: '안내/Noun', 2977: '해주시/Noun', 228: '고/Josa', 2541: '직원/Noun', 1409: '분들/Suffix', 2705: '친절했어요/Adjective', 1843: '얇고/Adjective', 2960: '해동/Noun', 724: '덜/Noun', 791: '된/Verb', 836: '들/Suffix', 2057: '외/Noun', 1933: '에는/Josa', 619: '다/Adverb', 274: '괜찮았고/Adjective', 118: '갈비살/Noun', 2387: '제일/Noun', 1038: '맛있었/Adjective', 1868: '어요/Noun', 172: '같이/Josa', 490: '나온/Verb', 1234: '밑반찬/Noun', 2449: '좋았어요/Adjective', 229: '고/Modifier', 413: '기질/Noun', 1185: '무척/Noun', 2430: '좋아서/Adjective', 987: '만족했어요/Adjective', 1748: '아이/Noun', 1622: '스크린/Noun', 2407: '존맛/Noun', 2758: '탱/Adverb', 1670: '식사/Noun', 2867: '하는/Verb', 1480: '사람/Noun', 993: '많아서/Adjective', 35: '가길/Verb', 2293: '잘/VerbPrefix', 2993: '했구나/Verb', 3005: '했어요/Verb', 1187: '무한리필/Noun', 2194: '인데/Josa', 471: '나고/Verb', 2551: '질/Noun', 411: '기지/Noun', 1791: '않았구요/Verb', 1005: '말고/Josa', 495: '나와서/Verb', 2440: '좋았고/Adjective', 520: '났네요/Verb', 2205: '일/Noun', 2893: '하시는/Verb', 2154: '이모/Noun', 618: '님/Suffix', 837: '들/Verb', 2371: '정말/Noun', 2377: '정신없이/Adverb', 1254: '바쁜데/Adjective', 350: '그래도/Adverb', 2633: '챙겨주셨어요/Verb', 1491: '사장/Noun', 1360: '보이시/Noun', 1749: '아저씨/Noun', 227: '계속/Noun', 3023: '홀안/Noun', 1457: '빙글빙글/Adverb', 749: '돌/Noun', 1142: '며/Josa', 2651: '체크/Noun', 2897: '하시더라구요/Verb', 1049: '맛있었어요/Adjective', 2636: '처럼/Josa', 1702: '싹/Noun', 1449: '비우고/Verb', 2053: '왔습니다/Verb', 332: '굿굿/Noun', 2470: '주말/Noun', 2318: '저녁/Noun', 2548: '진짜/Noun', 995: '많았어요/Adjective', 76: '가실거면/Verb', 2870: '하는게/Verb', 2460: '좋을듯/Adjective', 1690: '싶고/Verb', 668: '닭볶음탕/Noun', 1322: '베이컨/Noun', 2681: '치즈/Noun', 133: '감자전/Noun', 1108: '먹었는데/Verb', 811: '둘다/Verb', 17: 'ㅠㅠ/KoreanParticle', 652: '단계/Noun', 2717: '칼칼한/Adjective', 870: '딱/Adverb', 1050: '맛있었음/Adjective', 15: 'ㅜㅜ/KoreanParticle', 1943: '여기/Noun', 74: '가시/Noun', 1143: '면/Josa', 509: '날치/Noun', 1807: '알/Noun', 1369: '볶음밥/Noun', 827: '드세요/Verb', 1125: '먹은/Verb', 2504: '중/Suffix', 2390: '젤/Noun', 1566: '셋/Noun', 2132: '이/Suffix', 1532: '서/Josa', 803: '두/Determiner', 174: '개/Noun', 1367: '볶았는데/Verb', 1554: '세/Modifier', 1368: '볶을걸/Verb', 3053: '후회/Noun', 2946: '함/Noun', 1955: '여자/Noun', 2161: '이서/Noun', 382: '급하게/Adjective', 666: '닭도리탕/Noun', 1561: '세트/Noun', 2036: '와/Josa', 2471: '주먹밥/Noun', 425: '까지/Josa', 53: '가득/Noun', 1658: '시키고/Verb', 1568: '소/Modifier', 2493: '주한/Noun', 1145: '명/Suffix', 2222: '입가심/Noun', 5: 'ㅋㅋㅋㅋㅋ/KoreanParticle', 2432: '좋아요/Adjective', 2643: '첫/Noun', 1313: '번째/Suffix', 1286: '밝고/Verb', 2687: '친절하네요/Adjective', 2206: '일단/Noun', 341: '그거/Noun', 3000: '했다고/Verb', 1375: '봅니다/Verb', 2128: '이/Determiner', 386: '기/Noun', 26: '가/Josa', 951: '막히네요/Verb', 1092: '먹느라/Verb', 2598: '찍었어요/Verb', 156: '강추/Noun', 452: '꽃/Noun', 736: '도리/Noun', 2755: '탕/Noun', 1120: '먹으러/Verb', 1078: '매콤/Noun', 663: '달콤/Noun', 544: '넘/Verb', 2234: '잇어요/Verb', 2911: '한/Verb', 2291: '잔/Noun', 2878: '하러/Verb', 78: '가야겠어요/Verb', 1826: '앙/Adverb', 907: '랑/Josa', 2613: '참/Verb', 2679: '치마/Noun', 2061: '요/Josa', 1114: '먹었어용/Verb', 3: 'ㅋㅋㅋ/KoreanParticle', 653: '단계여도/Verb', 454: '꽤/Noun', 1074: '매웠고/Adjective', 2549: '진챠/Noun', 1154: '모/Modifier', 858: '듬/Noun', 2772: '튀김/Noun', 2045: '완전/Noun', 1256: '바삭/Noun', 2954: '해/Noun', 152: '강/Noun', 2670: '추한/Adjective', 658: '달/Noun', 2922: '한번/Noun', 1719: '씩/Suffix', 55: '가려고요/Verb', 9: 'ㅎㅎㅎ/KoreanParticle', 2157: '이벤트/Noun', 389: '기다리겠/Verb', 1610: '숩/Noun', 616: '니당/Verb', 30: '가격/Noun', 1454: '비해/Verb', 664: '닭/Noun', 2394: '조금/Noun', 855: '들어있는건/Verb', 1744: '아쉬웠지만/Adjective', 1848: '양념/Noun', 259: '과/Josa', 1483: '사리는/Verb', 2505: '중독/Noun', 2327: '적/Suffix', 2187: '인/Josa', 1073: '매운/Adjective', 8: 'ㅎㅎ/KoreanParticle', 1883: '언제나/Adverb', 2241: '있는/Adjective', 2121: '음식/Noun', 466: '나/Josa', 2683: '친절/Noun', 2846: '하겠/Verb', 1631: '습/Noun', 2827: '푸/Verb', 2554: '짐/Noun', 1017: '맛있게/Adjective', 2292: '잘/Verb', 2054: '왔어요/Verb', 320: '국물/Noun', 2550: '진한/Adjective', 164: '같아요/Adjective', 1252: '바쁜/Adjective', 734: '도/Noun', 2685: '친절하게/Adjective', 709: '대해/Noun', 2475: '주셔서/Verb', 128: '감사해요/Verb', 1406: '북적/Noun', 2472: '주문/Noun', 3067: '힘드셨을텐데도/Adjective', 2089: '웃으며/Verb', 2686: '친절하고/Adjective', 2314: '재밌게/Adjective', 1279: '받아주셨어요/Verb', 1657: '시켰는데/Verb', 1021: '맛있구요/Adjective', 892: '똥집/Noun', 403: '기름/Noun', 2581: '쩐내/Noun', 2300: '잡내/Verb', 1244: '바로바로/Adverb', 2606: '차서/Noun', 2913: '한거/Verb', 2257: '있었으면/Adjective', 2452: '좋았을텐데/Adjective', 1673: '신나서/Adjective', 1243: '바로/Noun', 2595: '찍었/Verb', 2075: '용/Noun', 1601: '수정/Noun', 2682: '친구/Noun', 2932: '한테/Josa', 1277: '받아서/Verb', 2029: '올려용/Verb', 1345: '보내주세용/Verb', 398: '기대기다/Verb', 1019: '맛있고/Adjective', 2448: '좋았습니다/Adjective', 1036: '맛있어요/Adjective', 153: '강남/Noun', 2659: '최고/Noun', 1553: '성비/Noun', 859: '듯/Noun', 1608: '술/Noun', 2091: '원/Noun', 496: '나왔는데/Verb', 1859: '어디가/Noun', 2151: '이렇게/Adverb', 1134: '먹음/Noun', 750: '돌솥밥/Noun', 2501: '줌/Noun', 1039: '맛있었고/Adjective', 1611: '숯불/Noun', 2124: '의/Josa', 3013: '향/Noun', 585: '느꼈습니다/Verb', 2110: '육즙/Noun', 1500: '살아있고/Verb', 1047: '맛있었습니다/Adjective', 696: '대박/Noun', 2171: '이에요/Josa', 1031: '맛있습니다/Adjective', 1112: '먹었습니다/Verb', 988: '만큼/Josa', 981: '만족합니다/Adjective', 1571: '소고기/Noun', 126: '감사합니다/Verb', 2649: '체인점/Noun', 999: '많이/Adverb', 1526: '생기/Noun', 409: '기전/Noun', 1404: '부터/Josa', 627: '다닌/Verb', 2062: '요/Modifier', 1989: '예전/Noun', 173: '같지/Adjective', 1804: '않은것/Verb', 555: '년/Noun', 1488: '사이/Noun', 2408: '좀/Noun', 885: '떨어지고/Verb', 2309: '장아찌/Noun', 322: '국수/Noun', 1328: '변했어요/Adjective', 958: '만들고/Verb', 944: '막/Noun', 2973: '해주셨는데/Verb', 808: '두신거처럼/Verb', 898: '라고/Josa', 1679: '실망했어요/Adjective', 2156: '이번/Noun', 2526: '지금/Noun', 2149: '이런/Adjective', 1918: '없었다고기/Adjective', 2107: '육/Modifier', 1485: '사시미/Noun', 2591: '찌개/Noun', 246: '곤드레/Adverb', 2347: '전부/Noun', 270: '괜찮고/Adjective', 2733: '콜키/Noun', 2522: '지/Josa', 2832: '프리/Noun', 2330: '적립/Noun', 795: '된다는/Verb', 1407: '분/Noun', 545: '넘게/Verb', 388: '기다렸는데/Verb', 391: '기다리길/Verb', 402: '기도/Noun', 2533: '지만/Josa', 1329: '별/Modifier', 1216: '미네/Noun', 1072: '매우/Noun', 978: '만족하며/Adjective', 753: '돌아왔어요/Verb', 2700: '친절합니다/Adjective', 110: '갈께/Verb', 2074: '욧/Noun', 2702: '친절해요/Adjective', 24: 'ㅡ/KoreanParticle', 2693: '친절하시고/Adjective', 2632: '챙겨주셔서/Verb', 130: '감사했어요/Verb', 113: '갈래/Noun', 2259: '있으나/Adjective', 2376: '정신/Noun', 1896: '없고/Adjective', 1462: '빨리/Adverb', 468: '나가야/Noun', 596: '느낌이였어요/Verb', 1636: '시간대/Noun', 1452: '비추/Verb', 305: '구워주셔서/Verb', 2811: '편하고/Adjective', 2515: '즐겁게/Adjective', 948: '막었습니다/Verb', 1056: '맜/Noun', 2253: '있었구요/Adjective', 312: '구워주시면서/Verb', 1123: '먹으면/Verb', 2457: '좋을/Adjective', 1034: '맛있어서/Adjective', 2512: '즐거운/Adjective', 1347: '보냈습니다/Verb', 1025: '맛있는/Adjective', 729: '데넘/Noun', 1445: '비싸다여/Adjective', 857: '들이/Verb', 308: '구워주시고/Verb', 1558: '세상/Noun', 2174: '이영자/Noun', 1055: '맛집/Noun', 2838: '필요/Noun', 1925: '없음/Adjective', 2056: '왜/Noun', 2436: '좋아하는지/Adjective', 1808: '알거/Verb', 170: '같음/Adjective', 4: 'ㅋㅋㅋㅋ/KoreanParticle', 1972: '열심히/Adverb', 746: '돈/Noun', 1318: '벌어서/Verb', 831: '드신/Verb', 1879: '언능/Adverb', 830: '드시러/Verb', 232: '고고하세요/Adjective', 7: 'ㅎ/KoreanParticle', 457: '끊임없이/Adjective', 2001: '오는/Verb', 2169: '이었어요/Verb', 1486: '사실/Noun', 2177: '이전/Noun', 2538: '지점/Noun', 141: '갔가/Verb', 1502: '살짝/Noun', 1680: '실망했었는데/Adjective', 564: '논현/Noun', 1371: '본점/Noun', 64: '가보고/Verb', 1980: '영자/Noun', 1881: '언니/Suffix', 2201: '인지/Josa', 210: '게/Josa', 766: '됐어요/Verb', 1847: '양/Noun', 2338: '적지/Noun', 952: '만/Josa', 2927: '한우/Noun', 615: '니까/Josa', 2063: '요/Noun', 2656: '초밥/Noun', 1411: '분위기/Noun', 2738: '퀄리티/Noun', 2345: '전반/Noun', 1737: '아쉬운건/Adjective', 2413: '종류/Noun', 2333: '적었어요/Verb', 566: '놀/Noun', 240: '고온/Noun', 406: '기분/Noun', 906: '랄/Noun', 424: '까/Verb', 503: '난/Josa', 417: '김치/Noun', 2592: '찌게/Noun', 2225: '입니다/Adjective', 2625: '찾아/Verb', 1381: '뵙겠습니다/Verb', 2005: '오랜/Modifier', 954: '만/Noun', 1524: '생각나서/Verb', 843: '들려/Verb', 1370: '본/Verb', 2108: '육덕/Noun', 863: '등심/Noun', 99: '간만/Noun', 50: '가니/Verb', 1263: '반겨주시고/Verb', 2041: '와인/Noun', 1336: '병/Noun', 1280: '받았네요/Verb', 2025: '올/Modifier', 2367: '정겨운/Noun', 594: '느낌/Noun', 1756: '안고/Noun', 2033: '옵니다/Eomi', 2002: '오늘/Noun', 975: '만족하고/Adjective', 44: '가는것/Verb', 160: '같습니다/Adjective', 2027: '올게요/Verb', 929: '마리아/Noun', 2507: '쥬/Noun', 1207: '뭉/Noun', 2756: '태기/Noun', 1745: '아쉽네요/Adjective', 1946: '여긴/Verb', 1184: '무조건/Noun', 319: '구입/Noun', 2966: '해야/Verb', 2242: '있는데/Adjective', 344: '그게/Noun', 1753: '악수/Noun', 1316: '벌고자/Verb', 2342: '전략/Noun', 556: '노골/Noun', 2336: '적임/Noun', 478: '나쁘진/Adjective', 1801: '않으나/Verb', 1717: '쓸/Verb', 1520: '생각/Noun', 2040: '와야/Verb', 2938: '할듯/Verb', 1770: '안심/Noun', 1388: '부드러워요/Adjective', 1140: '메뉴판/Noun', 1339: '보고/Noun', 2880: '하려는데/Verb', 2273: '자꾸/Noun', 2800: '팔려는/Verb', 155: '강매/Noun', 1341: '보구/Noun', 1009: '말씀드릴께요/Verb', 920: '를/Noun', 1311: '번은/Noun', 860: '듯뭐/Noun', 2894: '하시는거죠/Verb', 2828: '품질/Noun', 2729: '코키/Noun', 1949: '여서/Josa', 986: '만족했습니다/Adjective', 2821: '평일/Noun', 1091: '먹기/Noun', 3068: '힘든/Adjective', 258: '공부/Noun', 1732: '아들/Noun', 2211: '일요/Noun', 2854: '하기/Verb', 916: '로/Noun', 283: '교대역/Noun', 377: '근처/Noun', 2624: '찾던/Verb', 2503: '중/Noun', 2753: '탐라/Noun', 740: '도야지/Noun', 1507: '삼겹살/Noun', 557: '노래/Noun', 1392: '부르던/Verb', 554: '녀석/Noun', 1931: '에게/Josa', 873: '딱이라/Adjective', 2964: '해서/Verb', 553: '네이버/Noun', 3002: '했더니/Verb', 2119: '음료/Noun', 833: '득템/Noun', 835: '듣던데로/Verb', 1514: '상차림/Noun', 2555: '짐하게/Verb', 2788: '팅/Noun', 789: '되자/Verb', 2221: '입가/Noun', 385: '기/Modifier', 684: '대/Modifier', 2388: '제주/Noun', 1992: '오/Modifier', 216: '겹/Noun', 2195: '인분/Noun', 2081: '우삼겹/Noun', 1101: '먹어서/Verb', 3052: '후식/Noun', 1122: '먹으려던/Verb', 418: '김치말이/Verb', 414: '기회/Noun', 1217: '미루고/Verb', 2223: '입구/Noun', 1582: '소프트아이스크림/Noun', 2862: '하나/Noun', 2587: '쫙/Noun', 1466: '빼서/Verb', 2385: '제대로/Noun', 3004: '했습니다/Verb', 2214: '일주일/Noun', 1665: '식/Suffix', 2868: '하는거/Verb', 640: '다시/Noun', 2909: '한/Josa', 1513: '상기/Noun', 1659: '시키는/Verb', 1110: '먹었다고/Verb', 2438: '좋아합니다/Adjective', 2695: '친절하시구/Adjective', 2575: '짱/Noun', 921: '리뷰/Noun', 997: '많은/Adjective', 2176: '이유/Noun', 2251: '있엇네/Noun', 6: 'ㅋㅋㅋㅋㅋㅋㅋㅋ/KoreanParticle', 2691: '친절하셨어요/Adjective', 282: '교대/Noun', 2261: '있으면/Adjective', 2246: '있습니다/Adjective', 991: '많고/Adjective', 1703: '쌈/Noun', 1299: '배부르게/Adjective', 1113: '먹었어요/Verb', 11: 'ㅎㅎㅎㅎㅎㄹㄹㄹ/KoreanParticle', 726: '덩달아/Noun', 2433: '좋아지네요/Verb', 1130: '먹을것도/Verb', 644: '다양하고/Adjective', 2130: '이/Modifier', 1623: '스크림/Noun', 331: '굿/Noun', 1048: '맛있었어/Adjective', 2072: '요한/Noun', 140: '갓/Noun', 602: '는데/Verb', 1991: '옛날/Noun', 2907: '학생/Noun', 2358: '점심/Noun', 2100: '위주/Noun', 1098: '먹다가/Verb', 1495: '사회인/Noun', 778: '되서/Verb', 2210: '일부러/Noun', 1957: '여전히/Adjective', 429: '깔끔하고/Adjective', 1939: '에요/Josa', 2178: '이제/Noun', 2285: '자주자주/Adverb', 77: '가야겟어요/Verb', 1090: '먹구가요/Verb', 2034: '옵니다/Verb', 2579: '짱짱/Noun', 23: 'ㅠㅡㅜ/KoreanParticle', 2139: '이네/Josa', 561: '녹는다는/Verb', 1180: '무슨/Modifier', 895: '뜻/Noun', 1172: '몰랐는데/Verb', 220: '경험/Noun', 1331: '별개/Noun', 824: '드리고/Verb', 1691: '싶네요/Verb', 2028: '올께요/Verb', 538: '너/Noun', 1855: '어/Suffix', 1178: '무/Noun', 1607: '순삭/Noun', 1075: '매일/Noun', 1997: '오고싶은/Verb', 1981: '영혼/Noun', 2249: '있어서/Adjective', 893: '뜨거운/Adjective', 1530: '샥샥/Noun', 1440: '비벼서/Verb', 456: '꿀이네요/Verb', 2467: '주/Noun', 2026: '올거/Verb', 3035: '환갑잔치/Noun', 1288: '방/Noun', 1325: '변경/Noun', 604: '늘/Noun', 2455: '좋은/Adjective', 2122: '음식점/Noun', 2698: '친절한/Adjective', 2947: '함께/Adverb', 41: '가끔/Noun', 2934: '할/Verb', 72: '가서/Verb', 515: '남자친구/Noun', 3032: '확실히/Adjective', 2553: '질도/Noun', 2420: '좋구/Adjective', 1987: '예요/Josa', 1099: '먹어/Verb', 1390: '부드럽구/Adjective', 1028: '맛있다고/Adjective', 1750: '아주/Noun', 1107: '먹었네요/Verb', 2381: '제/Noun', 1310: '번/Noun', 2765: '테이블/Noun', 2167: '이었던거/Verb', 169: '같은데/Adjective', 671: '담당/Noun', 1942: '여/Modifier', 1550: '성/Modifier', 1535: '서버/Noun', 1006: '말씀/Noun', 818: '드려도/Verb', 1400: '부족한/Adjective', 1599: '수시로/Adverb', 2634: '챙겨주시고/Verb', 2810: '편하게/Adjective', 1270: '받고/Verb', 2039: '와서/Verb', 969: '만족스러워/Adjective', 1393: '부모님/Noun', 1165: '모시/Noun', 56: '가려구요/Verb', 1233: '및/Noun', 1562: '세팅/Noun', 780: '되어/Verb', 2701: '친절해서/Adjective', 967: '만족스러/Adjective', 2095: '웟습니/Noun', 620: '다/Josa', 2278: '자리/Noun', 2399: '조용하니/Adjective', 1867: '어번/Noun', 3049: '후/Noun', 979: '만족하여/Adjective', 1956: '여자친구/Noun', 387: '기념일/Noun', 1344: '보내기/Verb', 2102: '위해/Noun', 2175: '이용/Noun', 1951: '여성/Noun', 1408: '분/Suffix', 2324: '저희/Modifier', 1283: '받으셨는데/Verb', 3064: '흔한/Adjective', 2196: '인사/Noun', 2079: '우리/Noun', 2064: '요구/Noun', 1917: '없었는데/Adjective', 2890: '하시겠냐고/Verb', 1201: '물어보고/Verb', 1934: '에도/Josa', 3033: '확인/Noun', 691: '대답/Noun', 3060: '휙/Noun', 63: '가버리시더라구요/Verb', 1954: '여의도/Noun', 1549: '설명/Noun', 345: '그냥/Noun', 534: '냅다/Adverb', 309: '구워주시고구/Verb', 2083: '우시다가/Verb', 2743: '큰소리/Noun', 1852: '얘기/Noun', 2891: '하시고/Verb', 1884: '언짢더군요/Adjective', 390: '기다리고/Verb', 2254: '있었는데/Adjective', 1208: '뭐/Noun', 371: '그리/Verb', 383: '급하신지/Adjective', 926: '마늘/Noun', 287: '구/Modifier', 2078: '우려/Noun', 1712: '쏟아/Verb', 2763: '테/Noun', 2771: '튀고고/Verb', 326: '굽/Noun', 62: '가버리시고/Verb', 775: '되는지/Verb', 1850: '양배추/Noun', 242: '고추/Noun', 1882: '언제/Noun', 1093: '먹는/Verb', 197: '건지/Verb', 1733: '아무런/Adjective', 1922: '없으셔서/Adjective', 446: '께/Josa', 2725: '컴/Noun', 2835: '플레인/Noun', 205: '걸었는데/Verb', 339: '그/Determiner', 448: '께서는/Josa', 2123: '응대/Noun', 2955: '해/Verb', 340: '그/Noun', 2996: '했네요/Verb', 2568: '짜리/Verb', 1977: '였어요/Verb', 2212: '일이/Noun', 381: '금요일/Noun', 2164: '이어서/Josa', 353: '그랬던건/Adjective', 2525: '지근/Noun', 1182: '무자/Noun', 376: '근무/Noun', 2271: '자/Suffix', 1155: '모/Noun', 2277: '자른것/Verb', 104: '갇마/Noun', 1359: '보이더군요/Verb', 918: '룸/Noun', 1302: '배정/Noun', 1275: '받아/Verb', 318: '구이/Noun', 796: '된장/Noun', 974: '만족스런/Adjective', 1976: '였습니다/Verb', 399: '기대이하였음/Verb', 2389: '제주도/Noun', 2023: '온거/Verb', 168: '같은/Adjective', 2950: '합니당/Verb', 2137: '이나/Josa', 965: '만족/Noun', 1447: '비싼/Adjective', 2806: '편이/Noun', 1053: '맛있음/Adjective', 2657: '초벌/Noun', 298: '구워오는/Verb', 204: '걸림/Verb', 1348: '보다/Josa', 2035: '옷/Noun', 533: '냄새/Noun', 1324: '벰/Verb', 685: '대/Suffix', 2803: '편/Noun', 2690: '친절하셨고/Adjective', 235: '고기랑/Noun', 536: '냉면/Noun', 637: '다만/Noun', 1741: '아쉬웠네요/Adjective', 2794: '파절/Noun', 1857: '어느/Modifier', 1460: '빠지는게/Verb', 2235: '잇었어요/Verb', 2017: '오픈/Noun', 603: '는데도/Verb', 2577: '짱/VerbPrefix', 2173: '이였/Verb', 613: '니/Josa', 1315: '번창/Noun', 2884: '하세/Verb', 2103: '유/Noun', 2456: '좋은데/Adjective', 1642: '시끄러워서/Adjective', 710: '대화/Noun', 844: '들렸어요/Verb', 368: '그레잇/Noun', 2718: '캐/Noun', 2508: '쥬얼/Noun', 2844: '하/Suffix', 2532: '지도/Noun', 1781: '않고/Verb', 1382: '부담/Noun', 574: '높지/Adjective', 2398: '조용하고/Adjective', 375: '근데/Adverb', 296: '구워서/Verb', 487: '나오니까/Verb', 1668: '식는/Verb', 121: '감/Noun', 2250: '있어요/Adjective', 278: '괜찮은데/Adjective', 1372: '본질/Noun', 1913: '없어요/Adjective', 720: '덕분/Noun', 2416: '좋게/Adjective', 21: 'ㅠㅠㅠㅠㅠㅠ/KoreanParticle', 106: '갈거에요/Verb', 2202: '인지/Noun', 1995: '오고/Verb', 354: '그랬으나/Adjective', 1189: '묵은지/Noun', 1893: '엄청나서/Adjective', 2076: '용서/Noun', 686: '대/Verb', 2209: '일본인/Noun', 2671: '출장/Noun', 123: '감동/Noun', 3001: '했다네요/Verb', 1948: '여러가지/Noun', 1505: '삼/Modifier', 2948: '합/Noun', 2403: '조합/Noun', 91: '각자/Noun', 370: '그릇/Noun', 576: '놔주시고/Verb', 2602: '차돌/Noun', 2968: '해요/Verb', 3037: '환기/Noun', 790: '되지/Verb', 1790: '않아요/Verb', 477: '나쁘지/Adjective', 1793: '않았는데/Verb', 2328: '적고/Verb', 2601: '차/Noun', 1246: '바빠/Adjective', 1362: '보이시더라구요/Verb', 537: '너/Modifier', 1183: '무적/Noun', 1330: '별/Noun', 1468: '뺐아요/Verb', 2093: '원인/Noun', 2558: '집도/Noun', 1731: '아닌데/Adjective', 2143: '이라/Josa', 358: '그런가싶은데/Adjective', 517: '납니다/Verb', 1156: '모두/Noun', 2669: '추하네요/Adjective', 68: '가보세요/Verb', 1573: '소금/Noun', 2308: '장소/Noun', 1181: '무엇/Noun', 665: '닭갈비/Noun', 1892: '엄청/Adverb', 718: '더운/Adjective', 506: '날/Noun', 1412: '불/Noun', 2266: '있음에도/Adjective', 1652: '시원하게/Adjective', 1128: '먹을/Verb', 2255: '있었습니다/Adjective', 1654: '시켜/Verb', 1842: '약시/Noun', 93: '간/Suffix', 611: '늦었는데도/Verb', 2350: '전화/Noun', 2706: '친절히/Adjective', 2981: '해주시는것도/Verb', 513: '남기지/Verb', 638: '다먹엇어/Noun', 2638: '처음/Noun', 2901: '하였는데/Verb', 1935: '에서/Josa', 1346: '보낸/Verb', 3034: '확정/Noun', 1192: '문자/Noun', 447: '께서/Josa', 868: '따로/Adverb', 1965: '연락/Noun', 2477: '주셨구요/Verb', 2767: '톡소/Noun', 1580: '소주/Noun', 2478: '주셨는데/Verb', 936: '마시는/Verb', 2315: '저/Determiner', 2933: '한텐/Noun', 872: '딱이더라구요/Adjective', 101: '간장/Noun', 1355: '보았는데/Verb', 672: '담번/Noun', 1674: '신사/Noun', 571: '놀러/Verb', 151: '갔을/Verb', 2077: '용하겠습니다/Adjective', 2564: '집중/Noun', 2866: '하느라/Verb', 1493: '사진하나를/Verb', 2596: '찍었네요/Verb', 2843: '하/Exclamation', 2952: '핫/Noun', 2052: '왔답니다/Verb', 2719: '캠핑/Noun', 1196: '물/Noun', 1720: '씬나는/Adjective', 2563: '집이었어요/Verb', 657: '단체/Noun', 149: '갔었는데/Verb', 2082: '우선/Noun', 2369: '정기/Noun', 1166: '모임/Noun', 2303: '잡았는데/Verb', 2434: '좋아하네요/Adjective', 347: '그다지/Noun', 543: '넓지/Adjective', 1787: '않아/Verb', 852: '들어갈수있나/Verb', 1194: '문제/Noun', 1908: '없더군요/Adjective', 2711: '칭구들/Noun', 1212: '므/Noun', 384: '긋/Verb', 1672: '신경/Noun', 1704: '써/Verb', 313: '구워주신/Verb', 2516: '즐겼습니다/Verb', 1576: '소세지/Noun', 2731: '콘치/Noun', 2510: '즈/Modifier', 883: '떡볶이/Noun', 862: '등/Noun', 1489: '사이드/Noun', 1139: '메뉴/Noun', 1823: '알차고/Adjective', 1213: '므너므/Noun', 90: '각/Modifier', 2220: '입/Noun', 712: '댜/Noun', 1084: '머것/Noun', 1952: '여우/Noun', 2750: '타나/Noun', 481: '나아아/Noun', 1722: '아/Josa', 2641: '첨으로/Adverb', 2849: '하고/Verb', 92: '간/Noun', 744: '독특한/Adjective', 738: '도심/Noun', 1584: '속/Noun', 719: '덕/Noun', 2513: '즐거웠다고/Adjective', 1040: '맛있었고요/Adjective', 1990: '예정/Noun', 1153: '몇번/Noun', 2580: '째/Suffix', 982: '만족합니당/Adjective', 2926: '한양/Noun', 877: '때문/Noun', 1993: '오게/Verb', 771: '되는거/Verb', 3012: '행복한/Adjective', 407: '기억/Noun', 959: '만들어/Verb', 2506: '줘서/Verb', 127: '감사합니당/Verb', 2519: '즐기며/Verb', 1578: '소시지/Noun', 660: '달달/Noun', 2875: '하니/Verb', 1035: '맛있어오/Adjective', 674: '담요/Noun', 1628: '슬리퍼/Noun', 2131: '이/Noun', 1705: '써서/Verb', 2518: '즐기다/Verb', 2047: '왔/Verb', 1569: '소개/Noun', 765: '됐구요/Verb', 516: '남짓한/Adjective', 2199: '인원/Noun', 1529: '생일/Noun', 2796: '파티/Noun', 279: '괜춘습니당/Noun', 33: '가기/Noun', 73: '가성/Noun', 1436: '비도/Noun', 2431: '좋아여/Adjective', 1891: '엄지/Noun', 2639: '척/Noun', 2825: '폭발/Noun', 1519: '생/Noun', 117: '갈비/Noun', 2732: '콜라보/Noun', 1269: '반했어/Noun', 964: '만이/Noun', 552: '네/Suffix', 2153: '이만/Noun', 253: '곳/Noun', 1484: '사생/Noun', 1475: '뿐일듯/Adjective', 1467: '빼주/Noun', 2310: '장치/Noun', 2237: '있고/Adjective', 2674: '충전기/Noun', 290: '구비/Noun', 761: '돼있고/Verb', 190: '걱정/Noun', 1076: '매장/Noun', 2928: '한잔/Noun', 1695: '싶었네요/Verb', 2085: '운전/Noun', 1740: '아쉬워요/Adjective', 2967: '해야겠어요/Verb', 275: '괜찮았습니다/Adjective', 2543: '직접/Noun', 315: '구워줘서/Verb', 2021: '오후/Noun', 1637: '시경/Noun', 1531: '샹/Noun', 922: '리아/Noun', 2498: '준비/Noun', 784: '되어있지/Verb', 1789: '않아서/Verb', 1377: '봐서/Verb', 1743: '아쉬웠습니다/Adjective', 1778: '앉아서/Verb', 1555: '세드/Noun', 2288: '작아서/Adjective', 1096: '먹는데/Verb', 1427: '불편했습니다/Adjective', 1323: '벨/Noun', 1911: '없어서/Adjective', 1416: '불러/Verb', 1837: '야해서/Adjective', 336: '귀찮았습니다/Adjective', 514: '남자/Noun', 1240: '바닥/Noun', 3061: '휴지/Noun', 2466: '주/Modifier', 2087: '울/Modifier', 2306: '장갑/Noun', 465: '낀/Verb', 2630: '채/Noun', 2486: '주웠고/Verb', 294: '구울/Noun', 285: '교체/Noun', 1803: '않은/Verb', 2972: '해주셔서/Verb', 1840: '약간/Noun', 2929: '한적해서/Adjective', 2099: '위생/Noun', 2582: '쪽/Noun', 178: '개선/Noun', 2837: '필/Noun', 1941: '여/Josa', 2263: '있을/Adjective', 1321: '베리/Noun', 2727: '코/Noun', 632: '다른/Modifier', 1936: '에서는/Josa', 1014: '맛볼수/Verb', 1900: '없는/Adjective', 1577: '소스/Noun', 2217: '일품/Noun', 890: '또한/Noun', 1170: '목/Noun', 1501: '살이/Noun', 2192: '인기/Noun', 1094: '먹는게/Verb', 1872: '어울릴/Verb', 165: '같았는데/Adjective', 2443: '좋았네요/Adjective', 2203: '인테리어/Noun', 82: '가정/Noun', 2556: '집/Noun', 2777: '특이하고/Adjective', 2899: '하시면/Verb', 2096: '웨이/Noun', 1044: '맛있었다/Adjective', 1171: '목살/Noun', 3058: '훌륭했고/Adjective', 263: '과도/Josa', 1869: '어울렸다/Verb', 1974: '였는데/Verb', 599: '늑간살/Noun', 1856: '어느/Adverb', 1398: '부위/Noun', 1916: '없었고/Adjective', 1293: '방울토마토/Noun', 295: '구워/Verb', 1126: '먹은건/Verb', 1676: '신의한수/Noun', 2396: '조만간/Noun', 1429: '붙어있고/Verb', 2422: '좋네요/Adjective', 669: '담/Noun', 373: '그리아도/Verb', 932: '마셔/Verb', 1694: '싶어요/Verb', 2409: '좀더/Noun', 777: '되면/Verb', 2418: '좋겠어요/Adjective', 698: '대비/Noun', 2644: '청결/Noun', 1754: '안/Noun', 150: '갔으면/Verb', 689: '대기/Noun', 1470: '뻔/Noun', 2861: '하길/Verb', 645: '다양한/Adjective', 1966: '연령/Noun', 2677: '층/Noun', 2621: '찾는/Verb', 2136: '이구/Noun', 88: '가족/Noun', 1967: '연인/Noun', 3044: '회사/Noun', 756: '동료/Noun', 643: '다양하게/Adjective', 861: '듯합/Noun', 648: '다재/Noun', 1595: '수고/Noun', 2885: '하세요/Verb', 2642: '첫/Modifier', 1309: '버터/Noun', 1443: '비빔밥/Noun', 1077: '매진/Noun', 1121: '먹으려/Verb', 288: '구/Noun', 2319: '저녁식사/Noun', 1832: '애용/Noun', 1669: '식당/Noun', 2193: '인당/Verb', 2159: '이상/Noun', 1085: '먹/Verb', 1927: '엇/VerbPrefix', 2762: '터질/Verb', 1471: '뻔했네요/Adjective', 1282: '받았어요/Verb', 2341: '전담/Noun', 2980: '해주시는/Verb', 2535: '지속/Noun', 1709: '써주시는/Verb', 1394: '부분/Noun', 2037: '와/Verb', 683: '닿았습니다/Verb', 2268: '있지만/Adjective', 1016: '맛있/Adjective', 2118: '음/Noun', 1874: '어쩔/Adverb', 1899: '없네요/Adjective', 2494: '죽/Noun', 292: '구성/Noun', 1097: '먹다/Verb', 80: '가자고/Verb', 2667: '추진/Noun', 2963: '해봤는데요/Verb', 2818: '편했고/Adjective', 2903: '하자고하네요/Verb', 1: 'ㅋ/KoreanParticle', 2852: '하고싶을/Verb', 968: '만족스러운/Adjective', 730: '데리/Noun', 144: '갔는데다/Verb', 2990: '핵/Noun', 1887: '얼굴/Noun', 1820: '알아봐주시고/Verb', 2730: '콘/Noun', 1518: '샐러드/Noun', 886: '떨어질/Verb', 85: '가져다주셔서/Verb', 238: '고맙다음/Adjective', 2857: '하기로/Verb', 266: '광고/Noun', 3019: '호평/Noun', 1742: '아쉬웠다/Adjective', 1985: '예식/Noun', 1633: '시/Noun', 2383: '제공/Noun', 770: '되는/Verb', 1794: '않았다/Verb', 1200: '물론/Adverb', 661: '달라/Noun', 2163: '이야기/Noun', 1799: '않았으나/Verb', 2496: '준다고도/Verb', 1829: '앟았/Noun', 639: '다생/Noun', 2567: '짜고/Verb', 100: '간이/Noun', 2243: '있다/Adjective', 1285: '발라내는/Verb', 1358: '보이는데/Verb', 1245: '바른/Verb', 1861: '어떻게/Adjective', 474: '나는지는/Verb', 2181: '이해/Noun', 1413: '불가/Noun', 2635: '챙겨주었다/Verb', 813: '둘이서/Noun', 961: '만원/Noun', 1448: '비용/Noun', 527: '내고/Verb', 3006: '했으나/Verb', 1904: '없다/Adjective', 32: '가고싶어요/Verb', 2892: '하시고요/Verb', 1262: '반/Noun', 335: '궈줘/Noun', 372: '그리고/Conjunction', 449: '껩데기/Noun', 2497: '준다더니/Verb', 342: '그건/Adverb', 1772: '안주/Noun', 917: '로는/Josa', 280: '괸찬네/Noun', 66: '가보는/Verb', 2165: '이었는데/Verb', 2168: '이었습니다/Verb', 1402: '부탁/Noun', 821: '드렸더니/Verb', 2402: '조용히/Adjective', 2256: '있었어요/Adjective', 1572: '소규모/Noun', 1167: '모임이시라면/Verb', 825: '드립니다/Verb', 2360: '점장님/Noun', 2514: '즐거웠습니다/Adjective', 2902: '하였습니다/Verb', 2481: '주신/Noun', 764: '돼지껍데기/Noun', 401: '기대하지/Adjective', 1798: '않았었는데/Verb', 437: '깜빡/Noun', 2224: '입니/Adjective', 677: '닷/Noun', 187: '거리/Noun', 40: '가깝고/Adjective', 3062: '흑/Adverb', 762: '돼지/Noun', 540: '넓고/Adjective', 2305: '장/Suffix', 1574: '소로/Noun', 286: '교통/Noun', 2421: '좋구요/Adjective', 2905: '하지만/Conjunction', 1645: '시끄러웠습니다/Adjective', 1000: '많이/Modifier', 2479: '주시/Noun', 1026: '맛있는데/Adjective', 1761: '안되네요/Adjective', 16: 'ㅠ/KoreanParticle', 1296: '배꼽/Noun', 2453: '좋으나/Adjective', 2499: '줄/Noun', 1163: '모르고/Verb', 1419: '불친절함/Adjective', 849: '들어/Verb', 772: '되는데/Verb', 1706: '써야/Verb', 1651: '시스템/Noun', 867: '따라와/Verb', 1738: '아쉬운듯/Adjective', 2769: '통해/Noun', 1767: '안되어있었습니다/Adjective', 2925: '한시였기/Verb', 1455: '빈/Noun', 1920: '없었습니다/Adjective', 3008: '했을/Verb', 1106: '먹었기에/Verb', 195: '건데/Eomi', 708: '대한/Noun', 966: '만족도/Noun', 572: '높았습니다/Adjective', 1960: '역삼/Noun', 2144: '이라고/Josa', 2959: '해도/Noun', 1588: '손색/Noun', 1924: '없을만한/Adjective', 806: '두꺼운데/Adjective', 1834: '야들야들하게/Adjective', 1389: '부드럽고/Adjective', 2534: '지방/Noun', 1503: '살코기/Noun', 2405: '조화로워요/Adjective', 1148: '명란/Noun', 1517: '색다른/Adjective', 2135: '이고/Josa', 745: '독특했어요/Adjective', 2799: '판이/Noun', 3071: '힘들었어요/Adjective', 3009: '했지만/Verb', 1844: '얇아/Adjective', 1506: '삼겹/Noun', 1333: '별로/Noun', 1845: '얇음/Adjective', 1160: '모르게/Verb', 374: '그만/Adverb', 1646: '시끄럽고/Adjective', 1818: '알바생/Noun', 1247: '바빠서/Adjective', 1538: '서빙/Noun', 1271: '받기가/Verb', 1615: '쉽지는/Verb', 1792: '않았네요/Verb', 192: '건가/Noun', 2229: '잇게잘/Verb', 1188: '묵었습니다/Verb', 1024: '맛있네요/Adjective', 1043: '맛있었는데/Adjective', 1950: '여섯/Noun', 3027: '화로/Noun', 2930: '한참/Noun', 1426: '불편했네요/Adjective', 2859: '하기에는/Verb', 2820: '평범하지만/Adjective', 1159: '모로/Noun', 874: '딴/Verb', 2689: '친절하셔서/Adjective', 1697: '싶을/Verb', 355: '그럭저럭/Adverb', 2170: '이었지만/Verb', 2464: '좌석/Noun', 992: '많구/Adjective', 838: '들개/Noun', 2778: '특이한/Adjective', 327: '굽기/Verb', 1292: '방식/Noun', 1964: '연기/Noun', 1757: '안나/Noun', 1564: '셀러/Noun', 816: '드/Noun', 2721: '커요/Verb', 2653: '초/Noun', 2566: '짜/Verb', 1539: '서서/Noun', 2924: '한산해서/Adjective', 1824: '암튼/Adverb', 1104: '먹었/Verb', 1629: '슴/Noun', 2280: '자리는/Adjective', 2412: '좁아요/Adjective', 2180: '이하/Noun', 1624: '스타일/Noun', 682: '당황/Noun', 2994: '했구요/Verb', 367: '그렇지만/Conjunction', 2752: '탄/Verb', 1175: '몸/Noun', 1758: '안나내요/Verb', 2414: '종업원/Noun', 167: '같에요/Adjective', 2724: '컨셉/Noun', 1675: '신선하고/Adjective', 2325: '저희/Noun', 699: '대식/Noun', 904: '라서/Noun', 2184: '익는거/Verb', 392: '기다리는/Verb', 211: '게/Noun', 135: '감질/Verb', 522: '났어요/Verb', 2183: '익/Noun', 757: '동안/Noun', 731: '데이트/Noun', 879: '땡기지만/Verb', 902: '라면/Noun', 196: '건장한/Adjective', 463: '끼리/Noun', 109: '갈꺼면/Verb', 605: '늦게/Verb', 491: '나온거/Verb', 1464: '빼고는/Verb', 937: '마싯었어용/Verb', 12: 'ㅎㅎㅎㅎㅎㅎ/KoreanParticle', 107: '갈게/Verb', 1337: '보감/Noun', 134: '감자탕/Noun', 1354: '보쌈/Noun', 2016: '오징어/Noun', 2654: '초무/Noun', 2710: '침/Noun', 2348: '전체/Noun', 2461: '좋음/Adjective', 2368: '정겹게/Adjective', 2697: '친절하신/Adjective', 567: '놀다/Verb', 2873: '하는지/Verb', 1439: '비법/Noun', 333: '궁금하네요/Adjective', 1497: '살/Noun', 768: '되게/Adverb', 911: '레스토랑/Noun', 1012: '맘/Noun', 1711: '쏙/Noun', 541: '넓어서/Adjective', 1222: '미슐랭/Noun', 650: '닥/Noun', 2491: '주차/Noun', 2940: '할말이/Verb', 1909: '없습니다/Adjective', 450: '꼬냑/Noun', 2741: '크리스마스/Noun', 2158: '이브/Noun', 114: '갈려구요/Verb', 2887: '하셨고/Verb', 277: '괜찮은/Adjective', 583: '느/Noun', 1137: '먼저/Noun', 1102: '먹어야겠어요/Verb', 351: '그래서/Adverb', 2120: '음미/Noun', 2941: '할수/Verb', 2236: '잇을꺼/Verb', 159: '같네요/Adjective', 1894: '업무/Noun', 1510: '상/Suffix', 2059: '외국인/Noun', 2361: '접대/Noun', 2279: '자리/Suffix', 622: '다녀왔습니다/Verb', 3017: '호주인/Noun', 1146: '명과/Noun', 2776: '특선/Noun', 1414: '불고기/Noun', 2375: '정식/Noun', 2058: '외국/Noun', 1327: '변하지/Adjective', 1784: '않는/Verb', 529: '내렸으면/Verb', 397: '기대/Noun', 1349: '보다는/Josa', 1632: '시/Modifier', 346: '그니/Noun', 2652: '쳐/Verb', 1068: '매/Modifier', 582: '뉴/Noun', 1968: '연하기/Adjective', 990: '만해/Noun', 1504: '삶은/Verb', 1600: '수육/Noun', 841: '들더군요/Verb', 589: '느끼하고/Adjective', 662: '달아서/Verb', 2560: '집사람/Noun', 2425: '좋다고/Adjective', 2365: '정갈합니다/Adjective', 1687: '십년/Noun', 2339: '전/Modifier', 2138: '이나/Noun', 2916: '한결같은/Adjective', 2565: '짙은/Adjective', 3045: '회색/Noun', 924: '마/Noun', 1579: '소재/Noun', 1453: '비치는/Verb', 2722: '커튼/Noun', 2618: '창밖/Noun', 1357: '보이는/Verb', 690: '대나무/Noun', 2086: '운치있습니다/Verb', 2703: '친절했고/Adjective', 2397: '조용하게/Adjective', 1693: '싶어서/Verb', 2723: '컨디션/Noun', 501: '나중/Noun', 1307: '뱀/Noun', 1399: '부정/Noun', 1157: '모든/Noun', 1306: '밸런스/Noun', 1064: '맞았고/Verb', 2629: '찾을/Verb', 681: '당일/Noun', 2442: '좋았구요/Adjective', 1831: '애기/Noun', 145: '갔는데도/Verb', 2590: '쯤/Suffix', 2527: '지나/Noun', 909: '런가/Noun', 1618: '스럽게/Josa', 2321: '저렴한/Adjective', 1536: '서브/Noun', 2427: '좋더라구요/Adjective', 2092: '원래/Noun', 2150: '이런/Modifier', 378: '글/Noun', 512: '남기는데/Verb', 1830: '애/Noun', 2439: '좋아해서/Adjective', 510: '남겨요/Verb', 111: '갈께요/Verb', 349: '그땐/Noun', 29: '가겠습니다/Verb', 273: '괜찮아요/Adjective', 1432: '비/Noun', 337: '규/Noun', 2889: '하셨는데/Verb', 361: '그런지/Adjective', 1198: '물건/Noun', 722: '던지고가고/Verb', 949: '막장/Noun', 714: '더군요/Adjective', 1206: '물휴지/Noun', 723: '던지고가서/Verb', 1225: '민망했네요/Adjective', 482: '나오고/Verb', 634: '다른데/Adjective', 2298: '잘못줘놓고/Verb', 84: '가져다주더군요/Verb', 1715: '쓰고가는데/Verb', 2142: '이딴/Modifier', 2987: '해줄거면/Verb', 635: '다른데가서/Adjective', 747: '돈더/Noun', 1714: '쓰고/Verb', 518: '낫겠습니다/Verb', 1590: '솔직히/Adjective', 2446: '좋았다면/Adjective', 2354: '점도/Noun', 2487: '주인/Noun', 1751: '아주머니/Noun', 1248: '바쁘면/Adjective', 1716: '쓰시고요/Verb', 2495: '준/Noun', 1878: '언/Modifier', 2380: '제/Modifier', 52: '가도/Noun', 1978: '영/Modifier', 755: '동/Modifier', 2406: '족발/Noun', 3016: '호점/Noun', 394: '기다리지/Verb', 1788: '않아도/Verb', 419: '김치전/Noun', 946: '막국수/Noun', 1873: '어제/Noun', 624: '다녀왔지만/Verb', 1639: '시끄러운거/Adjective', 1465: '빼곤/Verb', 2715: '카운터/Noun', 231: '고객/Noun', 701: '대응/Noun', 2662: '최악/Noun', 2570: '짜증나는듯/Adjective', 269: '괜찬/Noun', 260: '과/Noun', 2845: '하게/Verb', 1081: '맵/Noun', 2585: '쫄깃쫄깃/Noun', 807: '두부김치/Noun', 1379: '봤는데/Verb', 810: '둘/Noun', 498: '나왔어요/Verb', 1681: '실수/Noun', 500: '나왔지만/Verb', 706: '대체로/Noun', 1567: '셋팅/Noun', 2483: '주심/Noun', 470: '나게/Verb', 1907: '없다는게/Adjective', 1747: '아쉽지만/Adjective', 1052: '맛있으니/Adjective', 2824: '포장/Noun', 2961: '해보려구요/Verb', 1060: '맞긴한/Verb', 27: '가/Verb', 249: '골목/Noun', 3015: '호/Noun', 1235: '바글바글/Adverb', 2500: '줄이/Verb', 2588: '쭉/Noun', 1534: '서/Verb', 649: '다한/Noun', 1988: '예의/Noun', 1895: '없/Adjective', 659: '달까/Verb', 524: '내/Determiner', 2469: '주고/Verb', 1124: '먹으면서도/Verb', 479: '나쁜/Adjective', 2340: '전/Noun', 642: '다신/Verb', 914: '렵/Noun', 2626: '찾아오는/Verb', 1614: '쉽게/Verb', 2101: '위치/Noun', 2191: '인게/Josa', 1547: '선배/Noun', 842: '들도/Verb', 2437: '좋아하셔서/Adjective', 846: '들를게요/Verb', 2819: '편했습니다/Adjective', 1923: '없을/Adjective', 60: '가면/Noun', 2984: '해주신다고/Verb', 2888: '하셨네요/Verb', 1037: '맛있어용/Adjective', 2544: '진/Noun', 687: '대감/Noun', 323: '군데/Noun', 480: '나서/Verb', 2060: '외식/Noun', 2879: '하려구/Verb', 1928: '엉망/Noun', 189: '거의/Noun', 2561: '집어던지듯이/Verb', 575: '놓고가시고/Verb', 1253: '바쁜건/Adjective', 1810: '알겠는데/Verb', 363: '그럼/Adjective', 1710: '써주시지/Verb', 2218: '일행/Noun', 610: '늦었는데/Verb', 1229: '믿고가는/Verb', 2995: '했나/Verb', 1378: '봐요/Verb', 252: '곱창/Noun', 2739: '크게/Noun', 586: '느꼈어요/Verb', 758: '동창/Noun', 251: '곱/Noun', 785: '되었네요/Verb', 2382: '제각각/Noun', 2228: '입맛/Noun', 1197: '물개/Noun', 1258: '박수치며/Verb', 941: '마지막/Noun', 2044: '완벽했네요/Adjective', 678: '당/Modifier', 2204: '일/Modifier', 742: '도축/Noun', 2145: '이라는/Josa', 1190: '문구/Noun', 1231: '믿음/Noun', 43: '가는/Verb', 2140: '이다/Josa', 2900: '하얀/Adjective', 57: '가루/Noun', 1589: '솔솔/Noun', 1451: '비주/Noun', 1886: '얼/Noun', 2272: '자극/Noun', 2998: '했다/Verb', 2791: '파김치/Noun', 1401: '부추/Noun', 2780: '특제/Noun', 2593: '찍어/Verb', 1118: '먹으니/Verb', 2445: '좋았다/Adjective', 1482: '사랑/Noun', 396: '기다림/Noun', 2454: '좋으네요/Adjective', 1158: '모듬/Noun', 2520: '즐길수/Verb', 2546: '진리/Noun', 1932: '에너지/Noun', 953: '만/Modifier', 875: '땅/Noun', 2673: '충전/Noun', 2766: '토요일/Noun', 1522: '생각나는데/Verb', 154: '강남역/Noun', 847: '들리는/Verb', 460: '끝내주지만/Adjective', 704: '대창/Noun', 2275: '자랑/Noun', 255: '곳불토/Noun', 1343: '보내고/Verb', 147: '갔습니다/Verb', 2392: '조/Modifier', 3026: '화가/Noun', 3038: '환상/Noun', 752: '돌아서면/Verb', 1521: '생각나는/Verb', 2190: '인거/Josa', 1696: '싶은/Verb', 1221: '미세먼지/Noun', 848: '들릴게요/Verb', 1334: '별미/Noun', 472: '나네요/Verb', 1003: '많지안았으며/Adjective', 317: '구워지시고/Verb', 2296: '잘라주시기까지/Verb', 2805: '편안히/Adjective', 763: '돼지고기/Noun', 2864: '하남/Noun', 528: '내내/Noun', 3010: '행복/Noun', 593: '느낄/Verb', 2694: '친절하시고고기/Adjective', 95: '간건데/Verb', 2787: '팁/Noun', 1815: '알려주시고/Verb', 1708: '써주셔서/Verb', 129: '감사했습니다/Verb', 3011: '행복하게/Adjective', 2301: '잡아주셔서/Verb', 934: '마시/Verb', 1718: '씀/Verb', 2200: '인정/Noun', 2429: '좋아/Adjective', 1707: '써요/Verb', 432: '깔끔합니다/Adjective', 1284: '받지/Verb', 2111: '육질/Noun', 3042: '황제/Noun', 2247: '있어/Adjective', 1335: '별표/Noun', 1699: '싸/VerbPrefix', 2779: '특이했음/Adjective', 157: '같/Adjective', 2133: '이간/Noun', 2316: '저/Noun', 2645: '청결한/Adjective', 2559: '집맛/Noun', 1364: '보장/Noun', 800: '됨/Verb', 2798: '판도/Noun', 120: '갈아/Adverb', 116: '갈매기살/Noun', 486: '나오는데/Verb', 201: '걸리고/Verb', 199: '걸려/Verb', 393: '기다리다/Verb', 2540: '지치게/Verb', 776: '되더군요/Verb', 348: '그닥/Noun', 1698: '싶진/Verb', 1786: '않습니다/Verb', 2362: '정갈하고/Adjective', 2692: '친절하시/Adjective', 2853: '하구요/Verb', 819: '드려요/Verb', 1317: '벌써/Noun', 39: '가까이/Noun', 625: '다니고/Verb', 1516: '새로운/Adjective', 1032: '맛있어/Adjective', 2906: '하지요/Verb', 667: '닭발/Noun', 945: '막걸리/Noun', 1079: '맥주/Noun', 2489: '주종/Noun', 58: '가리지/Verb', 1780: '않게/Verb', 1870: '어울리고/Verb', 2004: '오래오래/Noun', 2971: '해주세요/Verb', 442: '깨끗했습니다/Adjective', 2332: '적었습니다/Verb', 3069: '힘든데/Adjective', 1944: '여기는/Verb', 1685: '심지어/Noun', 1022: '맛있기까지/Adjective', 1723: '아기/Noun', 2127: '의자/Noun', 1902: '없는듯/Adjective', 2992: '했고/Verb', 2542: '직장인/Noun', 2770: '퇴근/Noun', 2014: '오시더라구요/Verb', 2289: '작았지만/Adjective', 276: '괜찮았어요/Adjective', 2208: '일반/Noun', 1444: '비싸다고/Adjective', 1851: '양은/Noun', 324: '굳/Adjective', 236: '고기만/Noun', 1300: '배부르진/Adjective', 1805: '않을거/Verb', 158: '같고/Adjective', 175: '개꿀/Noun', 1018: '맛있게잘/Adjective', 882: '떡/Noun', 1760: '안녕하세요/Adjective', 760: '돼서/Verb', 1545: '선릉역/Noun', 2474: '주변/Noun', 237: '고깃집/Noun', 2547: '진심/Noun', 218: '겹살/Noun', 737: '도시락/Noun', 420: '김치찌개/Noun', 256: '공/Modifier', 422: '깃밥/Noun', 461: '끝내지/Verb', 935: '마시고/Verb', 1496: '산이/Noun', 715: '더라고요/Adjective', 2423: '좋는거/Adjective', 163: '같아여/Adjective', 445: '껍살/Noun', 1543: '섞어/Verb', 380: '금방/Noun', 316: '구워지는/Verb', 188: '거솓/Noun', 2441: '좋았고요/Adjective', 1982: '옆/Noun', 2749: '타게/Verb', 304: '구워주세요/Verb', 444: '껍데기/Noun', 2583: '쫀득/Noun', 1583: '속/Modifier', 1387: '부드러워서/Adjective', 458: '끝/Noun', 3022: '홀/Noun', 2557: '집기/Noun', 428: '깔끔하게/Adjective', 1458: '빛나서/Verb', 1888: '얼마/Noun', 1822: '알았는데/Verb', 2524: '지/Verb', 180: '개월/Noun', 779: '되셨다고/Verb', 570: '놀랐어요/Verb', 1734: '아무리/Adverb', 1033: '맛있어도/Adjective', 1862: '어려운데/Adjective', 1264: '반짝반짝해서/Adjective', 1020: '맛있구/Adjective', 430: '깔끔하네요/Adjective', 330: '굽는데/Verb', 3073: '힘들지/Adjective', 2584: '쫀쫀하/Noun', 2847: '하겠습니다/Verb', 1557: '세번/Noun', 1430: '붙어있는/Verb', 2965: '해서주니까/Verb', 2813: '편하기도/Adjective', 530: '내부/Noun', 440: '깨끗하니/Adjective', 2801: '팡팡/Adverb', 2219: '임/Noun', 191: '건/Noun', 1161: '모르겠는데/Verb', 1433: '비계/Noun', 217: '겹겹이/Noun', 788: '되있어서/Verb', 1666: '식감/Noun', 2876: '하다고/Verb', 584: '느껴짐/Verb', 2286: '자체/Noun', 441: '깨끗함/Adjective', 670: '담그셨다는/Verb', 2574: '짱/Modifier', 2068: '요새/Noun', 1525: '생겨서/Verb', 2197: '인생/Noun', 1105: '먹었고/Verb', 2428: '좋습니다/Adjective', 1441: '비빔냉면/Noun', 1260: '밖에/Josa', 1199: '물냉면/Noun', 2269: '잊어버림/Verb', 1592: '송포/Noun', 2073: '욤/Noun', 10: 'ㅎㅎㅎㅎ/KoreanParticle', 2231: '잇는것/Verb', 303: '구워주니까/Verb', 1865: '어른/Noun', 1998: '오기/Noun', 183: '걍/Adverb', 3055: '훈제오리/Noun', 1730: '아닌/Adjective', 423: '깊은/Adjective', 2883: '하면서/Verb', 1890: '엄마/Noun', 2011: '오붓하게/Adjective', 1350: '보리/Noun', 325: '굴비/Noun', 2435: '좋아하는/Adjective', 1297: '배나무/Noun', 250: '골오리/Verb', 1616: '슝/Noun', 2007: '오리가/Noun', 2105: '유명한/Adjective', 462: '끝장/Noun', 2050: '왔는데/Verb', 3048: '효도/Noun', 2363: '정갈한/Adjective', 1560: '세월/Noun', 2020: '오호/Exclamation', 1701: '싸인/Noun', 504: '난다/Verb', 2006: '오리/Noun', 1133: '먹을수있는/Verb', 2728: '코스/Noun', 2067: '요리/Noun', 435: '깔끔했다/Adjective', 1541: '서울/Noun', 2424: '좋다/Adjective', 1811: '알겠다/Verb', 124: '감사/Noun', 2364: '정갈한데/Adjective', 138: '갑자기/Noun', 2680: '치우고/Verb', 359: '그런건/Adjective', 365: '그렇네요/Adjective', 215: '겸/Noun', 3047: '회의/Noun', 1548: '선택/Noun', 910: '런치/Noun', 1597: '수다/Noun', 219: '경/Modifier', 488: '나오면서/Verb', 2155: '이미/Adverb', 193: '건너갔고/Verb', 1069: '매/Noun', 579: '눈/Noun', 1621: '스캔/Noun', 2019: '오향/Noun', 1314: '번쩍/Noun', 239: '고소하고/Adjective', 1386: '부드러움/Noun', 1268: '반했답니다/Adjective', 1667: '식구/Noun', 1415: '불금/Noun', 526: '내/Noun', 1581: '소중하니까/Adjective', 2009: '오리로/Noun', 1353: '보신/Noun', 2287: '자해/Noun', 467: '나/Noun', 2031: '옳았다/Adjective', 2010: '오봉/Noun', 2589: '쭉쭉쭉/Noun', 1027: '맛있다/Adjective', 930: '마무리/Noun', 2043: '완벽하게/Adjective', 2008: '오리고기/Noun', 864: '디/Noun', 459: '끝내주고/Adjective', 1752: '아줌마/Noun', 2676: '취향/Noun', 2317: '저격/Noun', 2166: '이었다는/Verb', 1713: '쏴/Verb', 2304: '잡채/Noun', 1366: '볶아서/Verb', 499: '나왔으면/Verb', 2216: '일텐데/Josa', 2688: '친절하세요/Adjective', 1512: '상견례/Noun', 212: '격식/Noun', 1871: '어울리는/Verb', 1523: '생각나면/Verb', 254: '곳불/Noun', 2716: '칼국수/Noun', 2290: '작은듯/Adjective', 2329: '적당해여/Adjective', 1437: '비록/Noun', 34: '가긴/Verb', 598: '느린것/Adjective', 166: '같았습니다/Adjective', 1663: '시킨지/Verb', 960: '만에/Josa', 1116: '먹었지만/Verb', 1746: '아쉽습니다/Adjective', 679: '당/Suffix', 2480: '주시는줄/Verb', 2881: '하며/Verb', 2071: '요청/Noun', 905: '란/Noun', 1007: '말씀드렸고/Verb', 823: '드렸었는데/Verb', 741: '도착/Noun', 2274: '자라/Noun', 2988: '해줘놓고/Verb', 815: '뒤늦게/Adjective', 2957: '해놓고/Verb', 1771: '안오느냐고/Verb', 2569: '짜증/Noun', 1544: '섞인/Verb', 900: '라니/Josa', 427: '까진/Josa', 2610: '착오/Noun', 362: '그럴/Adjective', 2182: '이후/Noun', 1478: '사과/Noun', 2921: '한마디/Noun', 869: '따지듯/Verb', 1969: '열/Modifier', 1728: '아니었느냐고/Adjective', 767: '되/Verb', 1195: '묻는데/Verb', 1420: '불쾌했습니다/Adjective', 1958: '여직원/Noun', 2757: '태도/Noun', 1626: '스페셜/Noun', 2198: '인스타/Noun', 148: '갔어요/Verb', 2712: '칭찬/Noun', 2764: '테라스/Noun', 2343: '전면/Noun', 2615: '창/Noun', 1971: '열려서/Verb', 2943: '할수있었어요/Verb', 2545: '진꽃살/Noun', 1499: '살살/Noun', 562: '녹아요/Verb', 1816: '알려주신/Verb', 1290: '방법/Noun', 694: '대로/Josa', 549: '넣어/Verb', 814: '뒀다가/Verb', 20: 'ㅠㅠㅠㅠㅠ/KoreanParticle', 1228: '믿고/Verb', 416: '김일도/Noun', 773: '되는듯/Verb', 1603: '숙성/Noun', 903: '라서/Josa', 834: '든/Josa', 2213: '일정하게/Adjective', 2586: '쫄깃쫄깃해/Noun', 2919: '한답니다/Verb', 1533: '서/Modifier', 2658: '초점/Noun', 781: '되어서/Verb', 1319: '법도/Noun', 1814: '알려주셔서/Verb', 963: '만의/Josa', 559: '노하우/Noun', 2640: '철학/Noun', 2245: '있다고나/Adjective', 2937: '할까/Verb', 1727: '아니라/Adjective', 1585: '속풀이/Noun', 177: '개밥/Noun', 1602: '수제/Noun', 2227: '입니다고/Adjective', 2462: '좋죠/Adjective', 2646: '청국장/Noun', 1542: '서초동/Noun', 1450: '비있는/Verb', 2264: '있을까요/Adjective', 1999: '오네요/Verb', 306: '구워주셨어요/Verb', 3070: '힘들어서/Adjective', 2912: '한개/Modifier', 1463: '빼/Noun', 2999: '했다가/Verb', 817: '드디어/Adverb', 623: '다녀왔어요/Verb', 1054: '맛있잖아/Adjective', 22: 'ㅠㅠㅠㅠㅠㅠㅠㅠ/KoreanParticle', 2815: '편함/Adjective', 1813: '알려주는대로/Verb', 2773: '특/Noun', 2594: '찍어서/Verb', 1135: '먹음/Verb', 1373: '볼/Noun', 2450: '좋았어용/Adjective', 119: '갈비탕/Noun', 2112: '육회/Noun', 2650: '체적/Noun', 976: '만족하나/Adjective', 1739: '아쉬움/Noun', 560: '녹는/Verb', 2661: '최상급/Noun', 1340: '보고왔습니다/Verb', 301: '구워주고/Verb', 89: '가지/Noun', 2834: '플레이/Noun', 1984: '예쁘게/Adjective', 984: '만족했/Adjective', 725: '덜덜/Noun', 97: '간다는/Verb', 2599: '찜콩/Noun', 2320: '저렴하면서도/Adjective', 310: '구워주시는/Verb', 2374: '정성/Noun', 421: '깃/Noun', 856: '들여져/Verb', 702: '대접받은/Verb', 1575: '소박하게/Adjective', 2840: '필요한것만/Adjective', 1152: '몇/Noun', 2829: '풍/Adverb', 1219: '미를/Adjective', 1963: '역할/Noun', 2484: '주었습니다/Verb', 1684: '심연/Noun', 2148: '이러/Verb', 247: '곤란해여/Adjective', 2696: '친절하시구요/Adjective', 759: '동치미/Noun', 962: '만은/Josa', 2521: '증말/Noun', 1919: '없었답니다/Adjective', 983: '만족해요/Adjective', 2631: '챙겨/Verb', 83: '가져가서/Verb', 933: '마셨어요/Verb', 2603: '차돌박이/Noun', 1015: '맛잇엇어/Noun', 2737: '퀄러티/Noun', 2401: '조용한/Adjective', 1630: '슴슴/Noun', 1239: '바꿨던데/Verb', 1065: '맞았어요/Verb', 3050: '후기/Noun', 511: '남기네요/Verb', 1255: '바쁠/Adjective', 297: '구워야하고/Verb', 489: '나오지만/Verb', 1425: '불편함/Adjective', 592: '느낀/Verb', 2326: '적/Noun', 2619: '찾게/Verb', 801: '됩니다/Verb', 597: '느리고/Adjective', 2528: '지난번/Noun', 307: '구워주시/Verb', 3003: '했던것/Verb', 311: '구워주시더라구요/Verb', 1202: '물어보니/Verb', 1174: '몰려서/Verb', 352: '그랬다고/Conjunction', 2895: '하시는데/Verb', 2786: '팀/Noun', 2189: '인가/Josa', 1889: '얼마나/Noun', 1250: '바쁘셨던/Adjective', 1162: '모르겠습니다/Verb', 573: '높은/Adjective', 2357: '점수/Noun', 2468: '주겠네요/Verb', 2226: '입니다가/Adjective', 69: '가보시길/Verb', 2666: '추웟어/Noun', 2109: '육전/Noun', 2426: '좋다다만/Adjective', 2605: '차별/Noun', 2917: '한다/Verb', 1841: '약속/Noun', 102: '간장게장/Noun', 2490: '주지/Noun', 1785: '않는다/Verb', 2372: '정보/Noun', 1906: '없다는걸/Adjective', 1150: '명시/Noun', 502: '낚이/Noun', 1912: '없어야/Adjective', 794: '된다고/Verb', 206: '검댕/Noun', 891: '똑같은/Adjective', 494: '나와/Verb', 2872: '하는수/Verb', 1422: '불판/Noun', 651: '닦고/Verb', 1109: '먹었다/Verb', 1149: '명성/Noun', 198: '걸/Noun', 1067: '맞지/Verb', 2356: '점례네/Noun', 2979: '해주시네요/Verb', 2978: '해주시고/Verb', 2355: '점례/Noun', 551: '네/Josa', 1046: '맛있었당/Adjective', 1473: '뼈/Noun', 1045: '맛있었다다만/Adjective', 1395: '부산/Noun', 2147: '이랑은/Josa', 2784: '틀림/Noun', 225: '계란말이/Noun', 2404: '조화/Noun', 369: '그룹/Noun', 996: '많았음/Adjective', 1082: '맵긴/Verb', 1365: '보통/Noun', 2882: '하면/Verb', 1132: '먹을만/Verb', 2874: '하니/Noun', 2080: '우린/Noun', 1274: '받는다고/Verb', 1563: '센스/Noun', 1876: '어차피/Noun', 1456: '빈자리/Noun', 1776: '앉긴/Verb', 1905: '없다고/Adjective', 2571: '짜증날듯/Adjective', 2573: '짠듯/Verb', 2046: '완젼/Noun', 125: '감사함니다/Verb', 1218: '미뤄/Verb', 820: '드렸는데도/Verb', 3063: '흔쾌히/Adjective', 1276: '받아들여주시고/Verb', 532: '내주셔서/Verb', 1827: '앞/Noun', 2115: '으로도/Josa', 798: '될거/Verb', 1215: '미끄러운거/Adjective', 925: '마감/Noun', 2162: '이시인/Noun', 426: '까지더라구요/Verb', 2465: '죄송/Noun', 2248: '있어도/Adjective', 2699: '친절함이/Adjective', 884: '떨어져/Verb', 1777: '앉아/Verb', 1835: '야한다고/Adjective', 2976: '해주셨으면/Verb', 1472: '뻔했습니다/Adjective', 588: '느끼지만/Verb', 223: '곁들이니/Verb', 590: '느끼함도/Adjective', 1556: '세명/Noun', 2049: '왔네요/Verb', 943: '마카/Noun', 2713: '카/Noun', 13: 'ㅗ/KoreanParticle', 2000: '오노/Noun', 2714: '카나/Noun', 2283: '자장/Noun', 970: '만족스러워서/Adjective', 434: '깔끔해요/Adjective', 1442: '비빔면/Noun', 132: '감사히/Adverb', 1086: '먹겠습니다/Verb', 1461: '빠짐/Verb', 565: '논현동/Noun', 1136: '먹자에서/Verb', 1342: '보기/Noun', 826: '드문/Adjective', 1403: '부탁드립니다/Adjective', 865: '따/Verb', 1376: '봉/Noun', 1266: '반하고/Adjective', 1773: '안질리는/Verb', 2839: '필요한건/Adjective', 1903: '없는지/Adjective', 2537: '지인/Noun', 1656: '시켜줄수/Verb', 1259: '밖/Noun', 1298: '배달/Noun', 802: '됬으면/Verb', 1612: '쉬는/Verb', 1080: '맨날/Adverb', 1129: '먹을거/Verb', 18: 'ㅠㅠㅠ/KoreanParticle', 2013: '오시/Noun', 1351: '보세요/Verb', 2628: '찾은/Verb', 2024: '온다면/Verb', 1937: '에서만/Josa', 1131: '먹을듯/Verb', 1725: '아깝지/Adjective', 1783: '않네요/Verb', 356: '그런/Adjective', 2267: '있죠/Adjective', 1291: '방송/Noun', 1800: '않았음/Verb', 1994: '오겠습니다/Verb', 1326: '변치/Noun', 1782: '않길/Verb', 436: '깜놀/Noun', 2761: '터지는/Verb', 1001: '많이주세요/Adjective', 1431: '블로그/Noun', 697: '대부분/Noun', 998: '많은데/Adjective', 492: '나온것처럼/Verb', 2240: '있네요/Adjective', 136: '감칠맛/Noun', 1498: '살맛/Noun', 1385: '부드러울수있다니/Adjective', 2802: '퍽퍽/Noun', 2207: '일도/Noun', 1242: '바람/Noun', 1418: '불어/Noun', 2822: '포기/Noun', 2942: '할수는/Verb', 2379: '정육/Noun', 2055: '왕/Suffix', 364: '그렇게/Adverb', 245: '고해/Noun', 1391: '부드럽습니다/Adjective', 1604: '순/Modifier', 3039: '환율/Noun', 2860: '하기엔/Verb', 1384: '부담스럽네요/Adjective', 1825: '압박/Noun', 2858: '하기에/Verb', 1638: '시끄러운/Adjective', 2239: '있구요/Adjective', 1002: '많지는/Adjective', 1806: '않지만/Verb', 743: '독특하고/Adjective', 913: '레트로/Noun', 1620: '스웨/Noun', 2830: '풍만/Noun', 940: '마저/Josa', 854: '들어요/Verb', 1042: '맛있었네요/Adjective', 558: '노른자/Noun', 3028: '화채/Noun', 139: '값/Noun', 1700: '싸고/Verb', 36: '가까우면/Adjective', 654: '단골/Noun', 2935: '할거/Verb', 2795: '파채/Noun', 2179: '이지만/Josa', 535: '냉동/Noun', 1864: '어렸을/Verb', 1111: '먹었던/Verb', 408: '기억나서/Verb', 3057: '훌륭해용/Adjective', 850: '들어가는/Verb', 1605: '순간/Noun', 3029: '확/Noun', 2230: '잇고/Verb', 675: '담주에도/Verb', 2664: '추가/Noun', 2509: '쥰맛탱/Noun', 289: '구리/Noun', 1627: '스피드/Noun', 2663: '쵝오/Noun', 2576: '짱/Suffix', 2233: '잇어/Verb', 2069: '요요/Noun', 2708: '친철/Noun', 1996: '오고싶네요/Verb', 1410: '분명/Noun', 1312: '번의/Noun', 1281: '받았는데/Verb', 1764: '안되어있구/Adjective', 2539: '지정/Noun', 1775: '앉기엔/Verb', 1423: '불편하여/Adjective', 1763: '안되어/Adjective', 636: '다를/Adjective', 783: '되어있는/Verb', 899: '라는/Josa', 1828: '앞뒤/Noun', 1059: '맞구/Verb', 1397: '부실하구/Adjective', 693: '대략/Noun', 1910: '없어/Adjective', 1361: '보이시네요/Verb', 1552: '성능/Noun', 1435: '비는/Verb', 271: '괜찮습니다/Adjective', 233: '고급/Noun', 2391: '져서/Verb', 2322: '저렴해서/Adjective', 569: '놀랐네요/Verb', 87: '가졌는데/Verb', 980: '만족한다고/Adjective', 2936: '할게요/Verb', 1238: '바꿔주시고/Verb', 2281: '자리였는데/Adjective', 2302: '잡아주셨어/Verb', 42: '가네여/Verb', 994: '많앗어요/Adjective', 908: '랫/Noun', 721: '던거/Adjective', 2299: '잡/Noun', 2736: '쾌적합니다/Adjective', 2850: '하고가서/Verb', 2975: '해주셨어요/Verb', 2393: '조/Noun', 2745: '큼/Verb', 1446: '비싸지만/Adjective', 2812: '편하고요/Adjective', 2232: '잇다/Verb', 971: '만족스러웠습니다/Adjective', 1494: '사항/Noun', 695: '대로/Noun', 2616: '창가/Noun', 2476: '주셨고/Verb', 1515: '상태/Noun', 1643: '시끄러워요/Adjective', 19: 'ㅠㅠㅠㅠ/KoreanParticle', 1606: '순두부/Noun', 923: '리필/Noun', 804: '두/Josa', 1649: '시끌시끌하긴/Adjective', 1796: '않았습니다만/Verb', 2335: '적은/Verb', 2090: '원/Modifier', 1877: '어치/Noun', 1103: '먹어줘야/Verb', 2611: '찰/Noun', 2188: '인/Noun', 410: '기준/Noun', 2836: '피크타임/Noun', 2530: '지났음에도/Verb', 928: '마련/Noun', 453: '꽉차/Verb', 3040: '활기/Noun', 548: '넘쳐/Adjective', 1214: '미국/Noun', 2022: '온/Noun', 3051: '후배/Noun', 786: '되었습니다/Verb', 1692: '싶습니다/Verb', 146: '갔다가/Verb', 647: '다음주/Noun', 2747: '타/Modifier', 1434: '비교/Noun', 2617: '창고/Noun', 901: '라도/Josa', 230: '고가/Noun', 1729: '아니였네요/Adjective', 2833: '플/Exclamation', 912: '레이스/Noun', 438: '깨끗하게/Adjective', 473: '나뉘어있어서/Verb', 956: '만나기에/Verb', 2951: '합리/Noun', 2817: '편해요/Adjective', 47: '가능하고/Adjective', 2265: '있음/Adjective', 2782: '튼/Verb', 1051: '맛있었지만/Adjective', 581: '눌러야/Verb', 497: '나왔습니다/Verb', 1179: '무난/Noun', 1383: '부담스러/Adjective', 2088: '움/Noun', 1169: '모자라면/Verb', 1821: '알아서/Verb', 2945: '할텐데/Verb', 628: '다룸/Noun', 439: '깨끗하고/Adjective', 1224: '미역/Noun', 3043: '황태/Noun', 1586: '손/Noun', 703: '대지/Noun', 1795: '않았습니다/Verb', 2417: '좋겠습니다/Adjective', 2768: '통/Noun', 48: '가능하니/Adjective', 2003: '오래/Adverb', 395: '기다릴까봐/Verb', 894: '뜨끈한/Adjective', 578: '누룽지/Noun', 1308: '뱃속/Noun', 2804: '편안/Noun', 1058: '맜있어/Noun', 261: '과거/Noun', 207: '겁나/Verb', 181: '개인/Noun', 950: '막창/Noun', 2823: '포에버/Noun', 321: '국산/Noun', 179: '개오래/Verb', 203: '걸리는데/Verb', 1762: '안되서/Adjective', 2032: '옴/Noun', 1191: '문안/Noun', 853: '들어갔는데/Verb', 483: '나오냐/Verb', 2842: '핑계/Noun', 711: '댄/Verb', 1509: '상/Noun', 2726: '케어/Noun', 1769: '안됨/Adjective', 2295: '잘라주면서/Verb', 1210: '뭘/Noun', 1117: '먹으/Verb', 897: '라거/Noun', 293: '구우/Noun', 1141: '멘트/Noun', 300: '구워주거나/Verb', 1860: '어떤/Adjective', 1915: '없엇음/Noun', 1833: '애초/Noun', 2294: '잘라주고/Verb', 1115: '먹었을텐데/Verb', 2141: '이도/Noun', 739: '도아/Noun', 614: '니/Noun', 2572: '짜증났음/Adjective', 1945: '여기저기/Noun', 2473: '주방/Noun', 244: '고하/Noun', 405: '기본/Noun', 484: '나오냐고/Verb', 1205: '물어봐야하고/Verb', 1819: '알아본다고하고/Verb', 676: '답/Noun', 2502: '줌/Verb', 1204: '물어봐/Verb', 1836: '야함/Adjective', 1609: '술술/Noun', 547: '넘어가는/Verb', 115: '갈만/Verb', 3036: '환경/Noun', 2735: '쾌적한/Adjective', 2808: '편입/Noun', 2331: '적어요/Verb', 1653: '시원한/Adjective', 1303: '배치/Noun', 2451: '좋았으며/Adjective', 2511: '즉시/Noun', 2637: '처리/Noun', 103: '간편/Noun', 302: '구워주는/Verb', 182: '개존맛/Noun', 2816: '편합니다/Adjective', 1817: '알바/Noun', 194: '건네주셔서/Verb', 2792: '파세요/Verb', 2531: '지는/Josa', 379: '글쎄/Noun', 939: '마인드/Noun', 284: '교육/Noun', 2841: '필요할듯/Adjective', 1640: '시끄러운것도/Adjective', 655: '단점/Noun', 782: '되어있고/Verb', 1559: '세심/Noun', 887: '떨어짐/Verb', 2323: '저번/Noun', 3030: '확실/Noun', 3066: '히/Adverb', 51: '가니깐/Verb', 1168: '모임있을/Verb', 880: '떄/Noun', 728: '데/Noun', 2748: '타/Noun', 314: '구워주지/Verb', 735: '도도/Noun', 2529: '지난주/Noun', 3024: '홍대/Noun', 2655: '초반/Noun', 2485: '주워주셨는데/Verb', 1962: '역점/Noun', 2258: '있었지만/Adjective', 2349: '전혀/Noun', 1677: '실내/Noun', 1858: '어두워/Adjective', 2186: '익었는지/Verb', 2797: '판단/Noun', 1863: '어려워/Adjective', 1424: '불편한/Adjective', 329: '굽는게/Verb', 3072: '힘들었을/Adjective', 1474: '뿐/Noun', 2989: '해줬는데/Verb', 774: '되는줄/Verb', 1173: '몰랐어요/Verb', 1930: '에가/Josa', 3059: '훨씬/Adverb', 2814: '편하더라고요/Adjective', 1490: '사있습니다/Verb', 2790: '파/Noun', 1186: '무침/Verb', 328: '굽는건데/Verb', 433: '깔끔해서/Adjective', 700: '대신/Noun', 1261: '반/Modifier', 1476: '뿔/Noun', 2789: '팅팅/Noun', 2759: '탱탱/Noun', 1527: '생생하니/Adjective', 2410: '좀있고/Adjective', 2523: '지/Modifier', 65: '가보기에/Verb', 1363: '보이진/Verb', 98: '간단한/Adjective', 1417: '불러야지/Verb', 2982: '해주시더라고요/Verb', 1338: '보강/Noun', 2983: '해주시면/Verb', 809: '두툼/Noun', 2856: '하기도/Verb', 2458: '좋을거/Adjective', 2030: '올리고/Verb', 343: '그것/Noun', 1057: '맜나/Noun', 2707: '친젛/Noun', 0: 'ㅇㅇㅇㅇㄹㄹㄹㄹㄹㄹㄹㄹㄹㄹㄹㄹㄹㄹㄹㄹㄹㄹㄹㄹㄹㄹ/KoreanParticle', 2684: '친절하/Adjective', 1682: '심/Noun', 2459: '좋을것/Adjective', 59: '가마/Noun', 248: '골/Noun', 1591: '송추갈비/Noun', 443: '꺼내놓으셔서/Verb', 1671: '식었고/Verb', 1438: '비린내가/Adjective', 521: '났습니다/Verb', 2552: '질긴/Verb', 2807: '편이었습니다/Verb', 2185: '익숙/Noun', 1854: '어/Noun', 1598: '수선/Noun', 2914: '한건데/Verb', 1678: '실망/Noun', 1619: '스럽네요/Adjective', 176: '개도/Noun', 1724: '아깝습니다/Adjective', 2627: '찾았네요/Verb', 1570: '소고/Noun', 267: '광부/Noun', 1230: '믿어서/Verb', 601: '는/Verb', 1565: '셈/Noun', 2678: '치고/Josa', 2097: '웬/Modifier', 1970: '열/Noun', 1973: '였네요/Verb', 1661: '시키지/Verb', 2038: '와사비/Noun', 2270: '잎/Noun', 2106: '유쾌하/Noun', 1683: '심도/Verb', 2931: '한층/Noun', 748: '돋구네요/Verb', 1396: '부서/Noun', 200: '걸렸습니다/Verb', 2956: '해가면서/Verb', 299: '구워주/Verb', 1593: '쇼/Noun', 546: '넘나/Verb', 1380: '봤던/Verb', 2084: '우중/Noun', 222: '곁들이는/Verb', 142: '갔는/Verb', 732: '뎅/Noun', 2400: '조용하진/Adjective', 2754: '탑/Noun', 2734: '쾌적하고/Adjective', 431: '깔끔한/Adjective', 1487: '사용/Noun', 2898: '하시던/Verb', 2313: '재고/Noun', 2098: '위/Noun', 2152: '이름/Noun', 1625: '스티커/Noun', 727: '덩어리/Noun', 86: '가져오셔서/Verb', 1236: '바꿔/Verb', 1119: '먹으라고/Verb', 531: '내시/Noun', 2920: '한두/Modifier', 45: '가는게/Verb', 977: '만족하는/Adjective', 2344: '전문점/Noun', 202: '걸리긴/Verb', 1648: '시끄럽지/Adjective', 79: '가요/Noun', 2740: '크기/Noun', 1849: '양도/Noun', 1617: '스노우/Noun', 1914: '없어져서/Verb', 1551: '성과/Noun', 3056: '훌륭해요/Adjective', 688: '대관/Noun', 1151: '명언/Noun', 2384: '제나/Noun', 1070: '매니져/Verb', 617: '님/Noun', 2675: '충족/Noun', 2620: '찾기/Noun', 2042: '완벽/Noun', 2012: '오세요/Verb', 265: '관자/Noun', 2018: '오피스/Noun', 2536: '지역/Noun', 2923: '한산한거/Adjective', 1953: '여유롭게/Verb', 1613: '쉴/Verb', 2785: '틈/Noun', 1251: '바쁘지/Adjective', 1802: '않으시면/Verb', 2482: '주신다/Verb', 1644: '시끄러웠는데/Adjective', 1686: '심하진/Adjective', 1797: '않았어요/Verb', 591: '느끼했는데/Adjective', 476: '나물/Noun', 455: '꿀맛/Noun', 828: '드셔/Verb', 2970: '해주는/Verb', 866: '따라/Verb', 2783: '틀리다는걸/Verb', 3018: '호텔/Noun', 38: '가까워서/Adjective', 1921: '없었지만/Adjective', 3031: '확실하네요/Adjective', 1278: '받아주셨고고기/Verb', 3007: '했으면/Verb', 2744: '클/Verb', 507: '날뻔/Noun', 2048: '왔고요/Verb', 209: '겉절이/Noun', 1138: '멋있었어요/Adjective', 1374: '볼수/Verb', 2775: '특별한/Adjective', 2172: '이여/Josa', 626: '다니는/Verb', 2104: '유독/Noun', 812: '둘이가서/Verb', 243: '고픈거/Adjective', 1405: '부터/Noun', 2578: '짱아찌/Noun', 2991: '햇/Noun', 37: '가까운/Adjective', 2709: '칠/Modifier', 1304: '백/Modifier', 71: '가봤는데/Verb', 805: '두/Noun', 2492: '주차장/Noun', 2944: '할인/Noun', 272: '괜찮아서/Adjective', 94: '간거였는데/Verb', 2297: '잘못/Noun', 1237: '바꿔주셨는데/Verb', 2395: '조리/Noun', 493: '나온게/Verb', 680: '당면/Noun', 580: '눌러/Verb', 1428: '붙고/Verb', 1469: '뻑뻑/Noun', 942: '마침/Noun', 840: '들고나/Verb', 61: '가방/Noun', 3014: '현금/Noun', 213: '결제/Noun', 3020: '혹은/Adverb', 49: '가능하다/Adjective', 1232: '밍밍/Noun', 1320: '벗어난/Verb', 1735: '아무튼/Adverb', 2337: '적절/Noun', 787: '되있구요/Verb', 2704: '친절했구요/Adjective', 973: '만족스러웠으나/Adjective', 2463: '좋지/Adjective', 2065: '요구사항/Noun', 707: '대표/Noun', 2094: '원칙/Noun', 1063: '맞다고/Verb', 2896: '하시니/Verb', 3065: '흰/Adjective', 1272: '받는/Verb', 595: '느낌이었네요/Verb', 338: '규칙/Noun', 475: '나름/Noun', 2262: '있으시겠지만/Adjective', 754: '돌이/Noun', 871: '딱딱하게/Adjective', 2826: '표정/Noun', 2869: '하는것을/Verb', 1721: '아/Exclamation', 629: '다르고/Adjective', 1853: '어/Eomi', 630: '다르니까/Adjective', 1294: '방침/Noun', 1209: '뭐라/Verb', 2939: '할말은/Verb', 1897: '없구요/Adjective', 366: '그렇듯/Adjective', 2855: '하기는/Verb', 829: '드셨다고/Verb', 845: '들르겠습니다/Verb', 404: '기막힌/Adjective', 2831: '프로/Noun', 2126: '의식/Noun', 717: '더욱/Noun', 1812: '알도/Noun', 1689: '싱거웠어요/Adjective', 2311: '장흥/Noun', 262: '과는/Josa', 224: '곁들이와/Verb', 2958: '해놨으니/Verb', 400: '기대하라고/Adjective', 888: '떵떵/Noun', 1768: '안된다며/Adjective', 1061: '맞냐고/Verb', 1938: '에서부터/Josa', 1203: '물어보시니/Verb', 1226: '민망했어요/Adjective', 792: '된거/Noun', 1062: '맞는지/Verb', 2351: '전화해서/Adjective', 947: '막상/Noun', 67: '가보니/Verb', 1147: '명단/Noun', 3041: '황당/Noun', 2742: '큰/Verb', 1779: '앉으라고/Verb', 131: '감사했지만/Verb', 2607: '차지/Noun', 2260: '있으니/Adjective', 268: '괜시리/Noun', 1227: '민폐/Noun', 464: '끼치는것/Verb', 162: '같아서/Adjective', 1095: '먹는내내/Verb', 938: '마음/Noun', 2809: '편치/Verb', 2215: '일찍/Noun', 673: '담아/Verb', 563: '논/Noun', 2113: '윤기/Noun', 1508: '삼성/Noun', 2751: '타운/Noun', 1660: '시키면/Verb', 2608: '착각/Noun', 2648: '체인/Noun', 412: '기지점/Noun', 1083: '맹탕/Noun', 1267: '반해서/Adjective', 2962: '해보았는데/Verb', 2517: '즐겼어요/Verb', 214: '결혼/Noun', 2918: '한다고/Verb', 955: '만/Suffix', 2647: '청첩장/Noun', 1352: '보시더니/Verb', 1546: '선물/Noun', 2447: '좋았던/Adjective', 2366: '정갈해서/Adjective', 656: '단지/Noun', 2359: '점심시간/Noun', 1249: '바쁘셔서/Adjective', 607: '늦어졌습니다/Verb', 972: '만족스러웠어요/Adjective', 985: '만족했답니다/Adjective', 75: '가신/Noun', 2877: '하던/Verb', 793: '된고/Verb', 70: '가볼게요/Verb', 631: '다르더라구요/Adjective', 989: '만큼/Noun', 2378: '정원/Noun', 2238: '있구/Adjective', 2562: '집은/Verb', 1901: '없는거/Adjective', 1089: '먹구/Verb', 2070: '요절/Noun', 1066: '맞이/Noun', 621: '다녀왔는데/Verb', 957: '만도/Noun', 1305: '백억/Noun', 577: '누/Noun', 1029: '맛있다길래/Adjective', 54: '가라/Noun', 1809: '알겠네요/Verb', 1301: '배부름을/Adjective', 587: '느끼고/Verb', 1866: '어머니/Noun', 1528: '생신/Noun', 2346: '전복/Noun', 2746: '키조개/Noun', 185: '거기/Noun', 221: '곁들여서/Verb', 1030: '맛있더군요/Adjective', 1241: '바라보며/Verb', 799: '될꺼/Verb', 612: '늦은/Verb', 1634: '시각/Noun', 568: '놀라고/Verb', 1885: '얹어도/Verb', 2863: '하나같이/Adverb', 2612: '찰떡/Noun', 334: '궁합/Noun', 2488: '주정이/Noun', 1596: '수긍/Noun', 2614: '참시/Verb', 2282: '자세하게/Adjective', 2051: '왔다고/Verb', 1008: '말씀드렸는데/Verb', 1766: '안되어있다는/Adjective', 186: '거듭/Noun', 525: '내/Modifier', 1959: '역/Noun', 2720: '캡쳐/Noun', 1356: '보여/Verb', 1765: '안되어있다고/Adjective', 2665: '추운/Verb', 508: '날씨/Noun', 1979: '영문/Noun', 1164: '모른/Verb', 751: '돌아/Verb', 469: '나갔어야/Verb', 2623: '찾다가/Verb', 2373: '정상/Noun', 2851: '하고도/Josa', 2609: '착석/Noun', 2160: '이상해서/Adjective', 851: '들어가서/Verb', 1650: '시도/Noun', 1540: '서야/Verb', 1774: '안쪽/Noun', 1332: '별도/Noun', 264: '관리/Noun', 769: '되고/Verb', 2244: '있다고/Adjective', 2986: '해주었습니다/Verb', 2793: '파악/Noun', 1211: '뭡/Noun', 705: '대체/Noun', 1193: '문전/Noun', 1257: '박대/Noun', 2600: '찝찝함이/Adjective', 1479: '사라지지/Verb', 1898: '없긴/Adjective', 839: '들고/Verb', 1641: '시끄러워/Adjective', 1481: '사람과/Noun', 2386: '제약/Noun', 96: '간격/Noun', 2411: '좁고/Adjective', 81: '가장/Noun', 2974: '해주셨습니다/Verb', 1023: '맛있긴/Adjective', 257: '공간/Noun', 1647: '시끄럽긴/Adjective', 291: '구석/Noun', 2252: '있었고/Adjective', 2444: '좋았는데/Adjective', 2774: '특대/Noun', 1662: '시킨/Verb', 1223: '미스/Noun', 2276: '자로/Noun', 2672: '충분하네요/Adjective', 542: '넓은/Adjective', 2985: '해주었더라구요/Verb', 2334: '적었지만/Verb', 1880: '언니/Noun', 2134: '이건/Noun', 505: '난다고/Verb'}\n"
     ]
    }
   ],
   "source": [
    "invert_index_vectorizer = {v: k for k, v in index_vectorizer.vocabulary_.items()}\n",
    "print(invert_index_vectorizer)"
   ]
  },
  {
   "cell_type": "code",
   "execution_count": 31,
   "metadata": {
    "scrolled": true
   },
   "outputs": [
    {
     "name": "stdout",
     "output_type": "stream",
     "text": [
      "맛있어요/Adjective 0.7689327837239531\n",
      "정말/Noun 0.43563769760481236\n",
      "모두/Noun 0.39475186821576874\n",
      "감사합니다/Verb 0.34850801887616806\n",
      "좋고/Adjective 0.34471666998044087\n",
      "먹었습니다/Verb 0.3410985390497016\n",
      "맛있습니다/Adjective 0.3299474284142872\n",
      "분위기/Noun 0.3289306114827572\n",
      "맛있네요/Adjective 0.3218596120089303\n",
      "소세지/Noun 0.30688171128357883\n",
      "맛있었어요/Adjective 0.29629411184261306\n",
      "님/Suffix 0.29609852204472403\n",
      "입니다/Adjective 0.2698732457244118\n",
      "분들/Suffix 0.2667977156013306\n",
      "모로/Noun 0.25255161802420323\n",
      "ㅠㅠㅠㅠㅠㅠ/KoreanParticle 0.23236082920422335\n",
      "대/Modifier 0.23131183505581043\n",
      "ㅎㅎ/KoreanParticle 0.23002402144376832\n",
      "맛있게/Adjective 0.22296340464479228\n",
      "다/Adverb 0.2227438565373262\n",
      "주인/Noun 0.21945109472831054\n",
      "갈거에요/Verb 0.21814929390961796\n",
      "최고/Noun 0.21777305340691794\n",
      "맛있고/Adjective 0.2152440785332877\n",
      "만족합니다/Adjective 0.21275215025935332\n",
      "만족스런/Adjective 0.20958098663978803\n",
      "친절하셨어요/Adjective 0.20930767844164336\n",
      "존맛/Noun 0.20183899360308982\n",
      "수제/Noun 0.19640014605482534\n",
      "완전/Noun 0.19458886032886863\n",
      "소고기/Noun 0.1901857283718155\n",
      "만족스러운/Adjective 0.1880609702090767\n",
      "많이/Modifier 0.1870878811336018\n",
      "엄마/Noun 0.1820042163045119\n",
      "잘/Verb 0.17908573791585858\n",
      "만족도/Noun 0.1720099237674939\n",
      "나오는/Verb 0.16625188153276507\n",
      "이었습니다/Verb 0.16171347325336016\n",
      "늘/Noun 0.1602045899943013\n",
      "최상급/Noun 0.1595827472474074\n",
      "보고왔습니다/Verb 0.1595827472474074\n",
      "녹는/Verb 0.1595827472474074\n",
      "응대/Noun 0.15939754656216068\n",
      "랑/Josa 0.15727762292863307\n",
      "밥/Noun 0.15652046999693822\n",
      "가도/Noun 0.1564439976280771\n",
      "짱/Modifier 0.15636622056980717\n",
      "해서/Verb 0.15339793137569013\n",
      "들/Verb 0.15313179068244145\n",
      "점심/Noun 0.15192522815270706\n",
      "주시/Noun 0.15173383237101604\n",
      "짱/VerbPrefix 0.15038881157385384\n",
      "좋음/Adjective 0.15038881157385384\n",
      "전체/Noun 0.15038881157385384\n",
      "살살/Noun 0.14982242812355312\n",
      "사장/Noun 0.14966265486607064\n",
      "다음/Noun 0.14850874388594415\n",
      "된장찌개/Noun 0.14722739462044476\n",
      "에요/Josa 0.14464152299116917\n",
      "곳/Noun 0.14382896014476212\n",
      "친절하셨고/Adjective 0.14237786124136323\n",
      "아쉬웠네요/Adjective 0.14237786124136323\n",
      "오고싶네요/Verb 0.1413224838680597\n",
      "깔끔하고/Adjective 0.1400980689833211\n",
      "프로/Noun 0.13773015904853023\n",
      "의식/Noun 0.13773015904853023\n",
      "기막힌/Adjective 0.13773015904853023\n",
      "입/Noun 0.13752588027049362\n",
      "고기랑/Noun 0.13579690561494243\n",
      "들/Suffix 0.13525376143160062\n",
      "편합니다/Adjective 0.13351986412835554\n",
      "풍만/Noun 0.1288407145679565\n",
      "스웨/Noun 0.1288407145679565\n",
      "마저/Josa 0.1288407145679565\n",
      "레트로/Noun 0.1288407145679565\n",
      "들어요/Verb 0.1288407145679565\n",
      "독특하고/Adjective 0.1288407145679565\n",
      "방/Noun 0.12835179298251687\n",
      "잇어요/Verb 0.1253535898553227\n",
      "잇고/Verb 0.1253535898553227\n",
      "치마/Noun 0.12502752769073674\n",
      "친절하시고/Adjective 0.12398442867862826\n",
      "또/Noun 0.12325193469723791\n",
      "날/Noun 0.12249391135857698\n",
      "의자/Noun 0.12096062406933211\n",
      "맘/Noun 0.12096062406933211\n",
      "회식/Noun 0.12009173876487136\n",
      "층/Noun 0.11958498050377289\n",
      "ㅋㅋㅋㅋ/KoreanParticle 0.11955952605033295\n",
      "감사했어요/Verb 0.11895040685860206\n",
      "ㅡ/KoreanParticle 0.11895040685860206\n",
      "단체/Noun 0.11880813771257276\n",
      "웟습니/Noun 0.11824297167438669\n",
      "만족스러/Adjective 0.11824297167438669\n",
      "데리/Noun 0.11790283887777712\n",
      "냉면/Noun 0.11724623360552135\n",
      "추천/Noun 0.1167525644266831\n",
      "이모/Noun 0.1165504692812826\n",
      "뿜뿜/Noun 0.11599892407462062\n",
      "말아먹어야겠습니다/Verb 0.11599892407462062\n"
     ]
    }
   ],
   "source": [
    "# 상위 100개 중요 단어 출력\n",
    "for coef in high_coef_pos_index[:100]:\n",
    "    print(invert_index_vectorizer[coef[1]], coef[0])"
   ]
  },
  {
   "cell_type": "code",
   "execution_count": 32,
   "metadata": {},
   "outputs": [],
   "source": [
    "# 품사별 랭킹\n",
    "noun_list = []\n",
    "adjective_list = []\n",
    "\n",
    "for coef in high_coef_pos_index[:100]:\n",
    "    pos_category = invert_index_vectorizer[coef[1]].split(\"/\")[1]\n",
    "    if pos_category == \"Noun\":\n",
    "        noun_list.append((invert_index_vectorizer[coef[1]], coef[0]))\n",
    "    elif pos_category == \"Adjective\":\n",
    "        adjective_list.append((invert_index_vectorizer[coef[1]], coef[0]))"
   ]
  },
  {
   "cell_type": "code",
   "execution_count": 33,
   "metadata": {},
   "outputs": [
    {
     "data": {
      "text/plain": [
       "[('정말/Noun', 0.43563769760481236),\n",
       " ('모두/Noun', 0.39475186821576874),\n",
       " ('분위기/Noun', 0.3289306114827572),\n",
       " ('소세지/Noun', 0.30688171128357883),\n",
       " ('모로/Noun', 0.25255161802420323),\n",
       " ('주인/Noun', 0.21945109472831054),\n",
       " ('최고/Noun', 0.21777305340691794),\n",
       " ('존맛/Noun', 0.20183899360308982),\n",
       " ('수제/Noun', 0.19640014605482534),\n",
       " ('완전/Noun', 0.19458886032886863)]"
      ]
     },
     "execution_count": 33,
     "metadata": {},
     "output_type": "execute_result"
    }
   ],
   "source": [
    "noun_list[:10]"
   ]
  },
  {
   "cell_type": "code",
   "execution_count": 34,
   "metadata": {},
   "outputs": [
    {
     "data": {
      "text/plain": [
       "[('맛있어요/Adjective', 0.7689327837239531),\n",
       " ('좋고/Adjective', 0.34471666998044087),\n",
       " ('맛있습니다/Adjective', 0.3299474284142872),\n",
       " ('맛있네요/Adjective', 0.3218596120089303),\n",
       " ('맛있었어요/Adjective', 0.29629411184261306),\n",
       " ('입니다/Adjective', 0.2698732457244118),\n",
       " ('맛있게/Adjective', 0.22296340464479228),\n",
       " ('맛있고/Adjective', 0.2152440785332877),\n",
       " ('만족합니다/Adjective', 0.21275215025935332),\n",
       " ('만족스런/Adjective', 0.20958098663978803)]"
      ]
     },
     "execution_count": 34,
     "metadata": {},
     "output_type": "execute_result"
    }
   ],
   "source": [
    "adjective_list[:10]"
   ]
  }
 ],
 "metadata": {
  "kernelspec": {
   "display_name": "Python 3",
   "language": "python",
   "name": "python3"
  },
  "language_info": {
   "codemirror_mode": {
    "name": "ipython",
    "version": 3
   },
   "file_extension": ".py",
   "mimetype": "text/x-python",
   "name": "python",
   "nbconvert_exporter": "python",
   "pygments_lexer": "ipython3",
   "version": "3.7.2"
  }
 },
 "nbformat": 4,
 "nbformat_minor": 2
}
