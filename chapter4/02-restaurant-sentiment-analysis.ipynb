{
 "cells": [
  {
   "cell_type": "markdown",
   "metadata": {},
   "source": [
    "Copyright (c) 2019 [윤기태]\n",
    "\n",
    "https://github.com/yoonkt200/python-data-analysis\n",
    "\n",
    "[MIT License](https://github.com/yoonkt200/python-data-analysis/blob/master/LICENSE.txt)"
   ]
  },
  {
   "cell_type": "markdown",
   "metadata": {},
   "source": [
    "# (가제) 파이썬 데이터 분석"
   ]
  },
  {
   "cell_type": "markdown",
   "metadata": {},
   "source": [
    "-----"
   ]
  },
  {
   "cell_type": "markdown",
   "metadata": {},
   "source": [
    "# 4.2) 강남역 맛집 리뷰로 알아보는 감성분석 "
   ]
  },
  {
   "cell_type": "markdown",
   "metadata": {},
   "source": [
    "### 바로가기"
   ]
  },
  {
   "cell_type": "markdown",
   "metadata": {},
   "source": [
    "- [<Step1. 크롤링> : 네이버 플레이스 리뷰 크롤링](#<Step1.-크롤링>-:-네이버-플레이스-리뷰-크롤링)\n",
    "    - [강남역 맛집 리스트 가져오기]\n",
    "    - [맛집 리뷰 정보 크롤링]\n",
    "- [<Step2. 분석> : TF-IDF를 이용한 핵심어 추출](#<Step2.-분석>-:-TF\\-IDF를-이용한-핵심어-추출)\n",
    "    - []\n",
    "- [<Step3. 분류> : 긍정 부정 리뷰 분류하기](#<Step3.-분류>-:-긍정-부정-리뷰-분류하기)\n",
    "    - []\n",
    "- [<Step4. 평가> : 모델 성능과 키워드 분석](#<Step4.-평가>-:-모델-성능과-키워드-분석)\n",
    "    - []"
   ]
  },
  {
   "cell_type": "markdown",
   "metadata": {},
   "source": [
    "-----"
   ]
  },
  {
   "cell_type": "code",
   "execution_count": 103,
   "metadata": {},
   "outputs": [],
   "source": [
    "# -*- coding: utf-8 -*-\n",
    "\n",
    "%matplotlib inline\n",
    "\n",
    "import pandas as pd\n",
    "import numpy as np\n",
    "import matplotlib.pyplot as plt\n",
    "import seaborn as sns\n",
    "\n",
    "import warnings\n",
    "warnings.filterwarnings(\"ignore\")"
   ]
  },
  {
   "cell_type": "markdown",
   "metadata": {},
   "source": [
    "# <Step1. 크롤링> : 네이버 플레이스 리뷰 크롤링"
   ]
  },
  {
   "cell_type": "markdown",
   "metadata": {},
   "source": [
    "### [강남역 맛집 리스트 가져오기]"
   ]
  },
  {
   "cell_type": "code",
   "execution_count": 163,
   "metadata": {
    "scrolled": true
   },
   "outputs": [],
   "source": [
    "# # 관련도순 상위 100개의 고기집 리스트 정보\n",
    "# import requests\n",
    "# import json\n",
    "\n",
    "# source_url = \"https://store.naver.com/sogum/api/businesses?\"\n",
    "# url_parameter_start = \"start=1\"\n",
    "# url_parameter_display = \"&display=\" # 번호 입력 필요\n",
    "# url_parameter_query = \"&query=강남역+고기집\"\n",
    "# url_parameter_sorting = \"&sortingOrder=precision\"\n",
    "# url_concat = source_url + url_parameter_start + \\\n",
    "#             url_parameter_display + str(100) + url_parameter_query + url_parameter_sorting\n",
    "# json_data = requests.get(url_concat).text\n",
    "# restaurant_list_data = json.loads(json_data)\n",
    "# print(restaurant_list_data)"
   ]
  },
  {
   "cell_type": "code",
   "execution_count": 164,
   "metadata": {},
   "outputs": [],
   "source": [
    "# # 크롤링에 필요한 id 정보 추출\n",
    "# restaurant_id_list = []\n",
    "\n",
    "# for start_idx in [1, 101, 201, 301, 401, 501, 601, 701, 801, 901]:\n",
    "#     source_url = \"https://store.naver.com/sogum/api/businesses?\"\n",
    "#     url_parameter_start = \"start=\" + str(start_idx)\n",
    "#     url_parameter_display = \"&display=\"\n",
    "#     url_parameter_query = \"&query=강남역+고기집\"\n",
    "#     url_parameter_sorting = \"&sortingOrder=precision\"\n",
    "#     url_concat = source_url + url_parameter_start + \\\n",
    "#                 url_parameter_display + str(start_idx+99) + url_parameter_query + url_parameter_sorting\n",
    "#     print(\"request_url:\", url_concat)\n",
    "#     json_data = requests.get(url_concat).text\n",
    "#     restaurant_list_data = json.loads(json_data)\n",
    "\n",
    "#     for restaurant in restaurant_list_data['items']:\n",
    "#         if 'moreBookingReviewsPath' in restaurant:\n",
    "#             restaurant_id_list.append(restaurant['id'])\n",
    "#\n",
    "# restaurant_id_list = list(set(restaurant_id_list))"
   ]
  },
  {
   "cell_type": "markdown",
   "metadata": {},
   "source": [
    "-----"
   ]
  },
  {
   "cell_type": "markdown",
   "metadata": {},
   "source": [
    "### [맛집 리뷰 정보 크롤링]"
   ]
  },
  {
   "cell_type": "code",
   "execution_count": 175,
   "metadata": {
    "scrolled": true
   },
   "outputs": [],
   "source": [
    "# # 가져온 맛집 리스트의 리뷰 정보 크롤링\n",
    "# import requests\n",
    "# from bs4 import BeautifulSoup\n",
    "# import re\n",
    "\n",
    "# columns = ['score', 'review']\n",
    "# df = pd.DataFrame(columns=columns)\n",
    "\n",
    "# source_url_head = \"https://store.naver.com/restaurants/detail?id=\"\n",
    "# source_url_tail = \"&tab=bookingReview#_tab\"\n",
    "\n",
    "# for idx in range(0, len(restaurant_id_list)):\n",
    "#     print(\"Crawl\", str(int(idx/len(restaurant_id_list)*100)), \"% complete..\")\n",
    "#     req = requests.get(source_url_head + str(restaurant_id_list[idx]) + source_url_tail)\n",
    "#     html = req.content\n",
    "#     soup = BeautifulSoup(html, 'lxml')\n",
    "#     review_area = soup.find(name=\"div\", attrs={\"class\":\"review_area\"})\n",
    "\n",
    "#     # 리뷰가 없는 페이지\n",
    "#     if review_area is None:\n",
    "#         continue\n",
    "\n",
    "#     review_list = review_area.find_all(name=\"div\", attrs={\"class\":\"info_area\"})\n",
    "#     for review in review_list:\n",
    "#         score = review.find(name=\"span\", attrs={\"class\":\"score\"}).text\n",
    "#         review_txt = review.find(name=\"div\", attrs={\"class\":\"review_txt\"}).text\n",
    "\n",
    "#         # to dataframe\n",
    "#         row = [score, review_txt]\n",
    "#         series = pd.Series(row, index=df.columns)\n",
    "#         df = df.append(series, ignore_index=True)\n",
    "# print(\"Crawl 100 %\", \"complete\")"
   ]
  },
  {
   "cell_type": "code",
   "execution_count": 176,
   "metadata": {},
   "outputs": [],
   "source": [
    "# # 4점 이상의 리뷰는 긍정 리뷰, 3점 이하의 리뷰는 부정 리뷰로 평가\n",
    "# df['y'] = df['score'].apply(lambda x: 1 if int(x) > 3 else 0)\n",
    "# del df['score']\n",
    "# print(df.shape)\n",
    "# df.head()"
   ]
  },
  {
   "cell_type": "code",
   "execution_count": 178,
   "metadata": {},
   "outputs": [],
   "source": [
    "df = pd.read_csv(\"temp_data.csv\")"
   ]
  },
  {
   "cell_type": "code",
   "execution_count": 179,
   "metadata": {},
   "outputs": [
    {
     "name": "stdout",
     "output_type": "stream",
     "text": [
      "(540, 2)\n"
     ]
    },
    {
     "data": {
      "text/html": [
       "<div>\n",
       "<style scoped>\n",
       "    .dataframe tbody tr th:only-of-type {\n",
       "        vertical-align: middle;\n",
       "    }\n",
       "\n",
       "    .dataframe tbody tr th {\n",
       "        vertical-align: top;\n",
       "    }\n",
       "\n",
       "    .dataframe thead th {\n",
       "        text-align: right;\n",
       "    }\n",
       "</style>\n",
       "<table border=\"1\" class=\"dataframe\">\n",
       "  <thead>\n",
       "    <tr style=\"text-align: right;\">\n",
       "      <th></th>\n",
       "      <th>review</th>\n",
       "      <th>y</th>\n",
       "    </tr>\n",
       "  </thead>\n",
       "  <tbody>\n",
       "    <tr>\n",
       "      <th>0</th>\n",
       "      <td>불판이 작아서 6명 테이블에 6명이 고기먹기엔 힘들었어요 ㅠㅠ</td>\n",
       "      <td>0</td>\n",
       "    </tr>\n",
       "    <tr>\n",
       "      <th>1</th>\n",
       "      <td>좋았습니다</td>\n",
       "      <td>1</td>\n",
       "    </tr>\n",
       "    <tr>\n",
       "      <th>2</th>\n",
       "      <td>분위기도 좋고 했지만 고기가 얇아 아쉬웠습니다.</td>\n",
       "      <td>1</td>\n",
       "    </tr>\n",
       "    <tr>\n",
       "      <th>3</th>\n",
       "      <td>생삼겹 고기 맛이 별로입니다.너무 얇음;;\\n이베리코 목살은 돼지 냄새나요;;;</td>\n",
       "      <td>0</td>\n",
       "    </tr>\n",
       "    <tr>\n",
       "      <th>4</th>\n",
       "      <td>고기가맛있어서. . . 저도모르게그만 술을...</td>\n",
       "      <td>1</td>\n",
       "    </tr>\n",
       "  </tbody>\n",
       "</table>\n",
       "</div>"
      ],
      "text/plain": [
       "                                         review  y\n",
       "0            불판이 작아서 6명 테이블에 6명이 고기먹기엔 힘들었어요 ㅠㅠ  0\n",
       "1                                         좋았습니다  1\n",
       "2                    분위기도 좋고 했지만 고기가 얇아 아쉬웠습니다.  1\n",
       "3  생삼겹 고기 맛이 별로입니다.너무 얇음;;\\n이베리코 목살은 돼지 냄새나요;;;  0\n",
       "4                    고기가맛있어서. . . 저도모르게그만 술을...  1"
      ]
     },
     "execution_count": 179,
     "metadata": {},
     "output_type": "execute_result"
    }
   ],
   "source": [
    "print(df.shape)\n",
    "df.head()"
   ]
  },
  {
   "cell_type": "markdown",
   "metadata": {},
   "source": [
    "-----"
   ]
  },
  {
   "cell_type": "markdown",
   "metadata": {},
   "source": [
    "# <Step2. 분석> : TF-IDF를 이용한 핵심어 추출"
   ]
  },
  {
   "cell_type": "code",
   "execution_count": null,
   "metadata": {},
   "outputs": [],
   "source": []
  },
  {
   "cell_type": "code",
   "execution_count": null,
   "metadata": {},
   "outputs": [],
   "source": []
  },
  {
   "cell_type": "code",
   "execution_count": null,
   "metadata": {},
   "outputs": [],
   "source": []
  },
  {
   "cell_type": "code",
   "execution_count": null,
   "metadata": {},
   "outputs": [],
   "source": []
  }
 ],
 "metadata": {
  "kernelspec": {
   "display_name": "Python 3",
   "language": "python",
   "name": "python3"
  },
  "language_info": {
   "codemirror_mode": {
    "name": "ipython",
    "version": 3
   },
   "file_extension": ".py",
   "mimetype": "text/x-python",
   "name": "python",
   "nbconvert_exporter": "python",
   "pygments_lexer": "ipython3",
   "version": "3.7.2"
  }
 },
 "nbformat": 4,
 "nbformat_minor": 2
}
