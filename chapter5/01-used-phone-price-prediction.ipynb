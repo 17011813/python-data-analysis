{
 "cells": [
  {
   "cell_type": "markdown",
   "metadata": {},
   "source": [
    "Copyright (c) 2019 [윤기태]\n",
    "\n",
    "https://github.com/yoonkt200/python-data-analysis\n",
    "\n",
    "[MIT License](https://github.com/yoonkt200/python-data-analysis/blob/master/LICENSE.txt)"
   ]
  },
  {
   "cell_type": "markdown",
   "metadata": {},
   "source": [
    "# (가제) 파이썬 데이터 분석"
   ]
  },
  {
   "cell_type": "markdown",
   "metadata": {},
   "source": [
    "-----"
   ]
  },
  {
   "cell_type": "markdown",
   "metadata": {},
   "source": [
    "# 5.1) 중고나라 핸드폰 거래가격 예측하기"
   ]
  },
  {
   "cell_type": "markdown",
   "metadata": {},
   "source": [
    "### 바로가기"
   ]
  },
  {
   "cell_type": "markdown",
   "metadata": {},
   "source": [
    "- [<Step1. 탐색적 분석> : 중고나라 데이터 분석](#<Step1.-탐색적-분석>-:-중고나라-데이터-분석)\n",
    "    - [중고나라 데이터셋 살펴보기]\n",
    "    - [개별 피처 탐색하기]\n",
    "    - [Random forest regressor를 이용한 가격 예측]\n",
    "- [<Step2. 피처 엔지니어링> : 예측 모델 개선](#<Step2.-피처-엔지니어링>-:-예측-모델-개선)\n",
    "    - [기존 feature의 가공]\n",
    "- [<Step3. 예측> : 중고폰 거래가 예측](#<Step3.-예측>-:-중고폰-거래가-예측)\n",
    "    - [Random forest regressor 재학습]\n",
    "    - [최적의 모델 파라미터 찾기]\n",
    "- [<Step4. 프로토타입> : 얼마고(Almhago?)](#<Step4.-프로토타입>-:-얼마고(Almhago?))\n",
    "    - ㅇㅁㅇㅁ"
   ]
  },
  {
   "cell_type": "markdown",
   "metadata": {},
   "source": [
    "-----"
   ]
  },
  {
   "cell_type": "code",
   "execution_count": 1,
   "metadata": {},
   "outputs": [],
   "source": [
    "# -*- coding: utf-8 -*-\n",
    "\n",
    "%matplotlib inline\n",
    "\n",
    "import pandas as pd\n",
    "import numpy as np\n",
    "import matplotlib.pyplot as plt\n",
    "import seaborn as sns\n",
    "\n",
    "import warnings\n",
    "warnings.filterwarnings(\"ignore\")"
   ]
  },
  {
   "cell_type": "markdown",
   "metadata": {},
   "source": [
    "# <Step1. 탐색적 분석> : 중고나라 데이터 분석"
   ]
  },
  {
   "cell_type": "markdown",
   "metadata": {},
   "source": [
    "### [중고나라 데이터셋 살펴보기]"
   ]
  },
  {
   "cell_type": "code",
   "execution_count": 2,
   "metadata": {},
   "outputs": [
    {
     "name": "stdout",
     "output_type": "stream",
     "text": [
      "<class 'pandas.core.frame.DataFrame'>\n",
      "RangeIndex: 4951 entries, 0 to 4950\n",
      "Data columns (total 7 columns):\n",
      "create_date      4951 non-null object\n",
      "price            4951 non-null float64\n",
      "text             4951 non-null object\n",
      "phone_model      4951 non-null object\n",
      "factory_price    4951 non-null int64\n",
      "maker            4951 non-null object\n",
      "price_index      4951 non-null float64\n",
      "dtypes: float64(2), int64(1), object(4)\n",
      "memory usage: 270.8+ KB\n",
      "None\n"
     ]
    },
    {
     "data": {
      "text/html": [
       "<div>\n",
       "<style scoped>\n",
       "    .dataframe tbody tr th:only-of-type {\n",
       "        vertical-align: middle;\n",
       "    }\n",
       "\n",
       "    .dataframe tbody tr th {\n",
       "        vertical-align: top;\n",
       "    }\n",
       "\n",
       "    .dataframe thead th {\n",
       "        text-align: right;\n",
       "    }\n",
       "</style>\n",
       "<table border=\"1\" class=\"dataframe\">\n",
       "  <thead>\n",
       "    <tr style=\"text-align: right;\">\n",
       "      <th></th>\n",
       "      <th>create_date</th>\n",
       "      <th>price</th>\n",
       "      <th>text</th>\n",
       "      <th>phone_model</th>\n",
       "      <th>factory_price</th>\n",
       "      <th>maker</th>\n",
       "      <th>price_index</th>\n",
       "    </tr>\n",
       "  </thead>\n",
       "  <tbody>\n",
       "    <tr>\n",
       "      <th>0</th>\n",
       "      <td>2017-03-19  4 35 00 PM</td>\n",
       "      <td>550000.0</td>\n",
       "      <td>아이폰6플러스 블랙+애플라이트 64기가 팝니다  아이폰6플러스 블랙+애플라이트 64...</td>\n",
       "      <td>iphone 6 64gb</td>\n",
       "      <td>924000</td>\n",
       "      <td>apple</td>\n",
       "      <td>95.96</td>\n",
       "    </tr>\n",
       "    <tr>\n",
       "      <th>1</th>\n",
       "      <td>2016-10-26  12 08 00 PM</td>\n",
       "      <td>380000.0</td>\n",
       "      <td>갤럭시s6엣지 32기가 팝니다 직거래  갤럭시s6엣지 32기가 품명 갤럭시s6엣지제...</td>\n",
       "      <td>galaxy s6 edge 32gb</td>\n",
       "      <td>979000</td>\n",
       "      <td>samsung</td>\n",
       "      <td>103.05</td>\n",
       "    </tr>\n",
       "    <tr>\n",
       "      <th>2</th>\n",
       "      <td>2016-10-25  12 52 00 PM</td>\n",
       "      <td>300000.0</td>\n",
       "      <td>갤럭시s6 풀박스로 팝니다~~~ 새상품급  실기스조차 없어요  직접거래 구매한지 1...</td>\n",
       "      <td>galaxy s6 32gb</td>\n",
       "      <td>854000</td>\n",
       "      <td>samsung</td>\n",
       "      <td>103.05</td>\n",
       "    </tr>\n",
       "    <tr>\n",
       "      <th>3</th>\n",
       "      <td>2017-03-23  11 14 00 PM</td>\n",
       "      <td>290000.0</td>\n",
       "      <td>sk  g5 티탄 폰 단품판매합니다  직접거래 sk g5 티탄 폰 단품판매합니다 올...</td>\n",
       "      <td>lg g5 32gb</td>\n",
       "      <td>836000</td>\n",
       "      <td>lg</td>\n",
       "      <td>95.96</td>\n",
       "    </tr>\n",
       "    <tr>\n",
       "      <th>4</th>\n",
       "      <td>2016-04-11  7 35 00 PM</td>\n",
       "      <td>280000.0</td>\n",
       "      <td>sony 엑스페리아 c5 ultra e5506 16gb  미사용 새제품 팝니다 1...</td>\n",
       "      <td>lg u 32gb</td>\n",
       "      <td>396000</td>\n",
       "      <td>lg</td>\n",
       "      <td>102.59</td>\n",
       "    </tr>\n",
       "  </tbody>\n",
       "</table>\n",
       "</div>"
      ],
      "text/plain": [
       "               create_date     price  \\\n",
       "0   2017-03-19  4 35 00 PM  550000.0   \n",
       "1  2016-10-26  12 08 00 PM  380000.0   \n",
       "2  2016-10-25  12 52 00 PM  300000.0   \n",
       "3  2017-03-23  11 14 00 PM  290000.0   \n",
       "4   2016-04-11  7 35 00 PM  280000.0   \n",
       "\n",
       "                                                text          phone_model  \\\n",
       "0  아이폰6플러스 블랙+애플라이트 64기가 팝니다  아이폰6플러스 블랙+애플라이트 64...        iphone 6 64gb   \n",
       "1  갤럭시s6엣지 32기가 팝니다 직거래  갤럭시s6엣지 32기가 품명 갤럭시s6엣지제...  galaxy s6 edge 32gb   \n",
       "2  갤럭시s6 풀박스로 팝니다~~~ 새상품급  실기스조차 없어요  직접거래 구매한지 1...       galaxy s6 32gb   \n",
       "3  sk  g5 티탄 폰 단품판매합니다  직접거래 sk g5 티탄 폰 단품판매합니다 올...           lg g5 32gb   \n",
       "4   sony 엑스페리아 c5 ultra e5506 16gb  미사용 새제품 팝니다 1...            lg u 32gb   \n",
       "\n",
       "   factory_price    maker  price_index  \n",
       "0         924000    apple        95.96  \n",
       "1         979000  samsung       103.05  \n",
       "2         854000  samsung       103.05  \n",
       "3         836000       lg        95.96  \n",
       "4         396000       lg       102.59  "
      ]
     },
     "execution_count": 2,
     "metadata": {},
     "output_type": "execute_result"
    }
   ],
   "source": [
    "df = pd.read_csv(\"../data/used_mobile_phone.csv\")\n",
    "print(df.info())\n",
    "df.head()"
   ]
  },
  {
   "cell_type": "markdown",
   "metadata": {},
   "source": [
    "-----"
   ]
  },
  {
   "cell_type": "markdown",
   "metadata": {},
   "source": [
    "### [개별 피처 탐색하기]"
   ]
  },
  {
   "cell_type": "markdown",
   "metadata": {},
   "source": [
    "##### date 피처 탐색"
   ]
  },
  {
   "cell_type": "code",
   "execution_count": 3,
   "metadata": {},
   "outputs": [
    {
     "data": {
      "text/plain": [
       "2016-10    2956\n",
       "2017-03    1311\n",
       "2016-08     107\n",
       "2016-09     105\n",
       "2016-04     102\n",
       "2016-05      89\n",
       "2016-06      76\n",
       "2016-07      74\n",
       "2016-03      70\n",
       "2016-02      61\n",
       "Name: month, dtype: int64"
      ]
     },
     "execution_count": 3,
     "metadata": {},
     "output_type": "execute_result"
    }
   ],
   "source": [
    "# 월별 거래 횟수\n",
    "df['month'] = df['create_date'].apply(lambda x: x[:7])\n",
    "df['month'].value_counts()"
   ]
  },
  {
   "cell_type": "code",
   "execution_count": 4,
   "metadata": {},
   "outputs": [
    {
     "data": {
      "image/png": "[encoded data removed]",
      "text/plain": [
       "<Figure size 432x288 with 1 Axes>"
      ]
     },
     "metadata": {
      "needs_background": "light"
     },
     "output_type": "display_data"
    }
   ],
   "source": [
    "# 일별 거래 횟수\n",
    "df_day = pd.to_datetime(df['create_date'].apply(lambda x: x[:10])).value_counts()\n",
    "df_day.plot()\n",
    "plt.show()"
   ]
  },
  {
   "cell_type": "markdown",
   "metadata": {},
   "source": [
    "-----"
   ]
  },
  {
   "cell_type": "markdown",
   "metadata": {},
   "source": [
    "##### 가격 피처 탐색"
   ]
  },
  {
   "cell_type": "code",
   "execution_count": 5,
   "metadata": {},
   "outputs": [
    {
     "data": {
      "text/plain": [
       "<matplotlib.axes._subplots.AxesSubplot at 0x18eec418898>"
      ]
     },
     "execution_count": 5,
     "metadata": {},
     "output_type": "execute_result"
    },
    {
     "data": {
      "image/png": "[encoded data removed]",
      "text/plain": [
       "<Figure size 432x288 with 1 Axes>"
      ]
     },
     "metadata": {
      "needs_background": "light"
     },
     "output_type": "display_data"
    }
   ],
   "source": [
    "# 가격 분포 탐색\n",
    "df['price'].hist(bins=\"auto\")"
   ]
  },
  {
   "cell_type": "code",
   "execution_count": 6,
   "metadata": {},
   "outputs": [],
   "source": [
    "df_price_model_mean = df.groupby('phone_model')['price'].transform(lambda x: np.mean(x))\n",
    "df_price_model_std = df.groupby('phone_model')['price'].transform(lambda x: np.std(x))"
   ]
  },
  {
   "cell_type": "code",
   "execution_count": 7,
   "metadata": {},
   "outputs": [
    {
     "data": {
      "text/plain": [
       "<matplotlib.axes._subplots.AxesSubplot at 0x18eed9d6c88>"
      ]
     },
     "execution_count": 7,
     "metadata": {},
     "output_type": "execute_result"
    },
    {
     "data": {
      "image/png": "[encoded data removed]",
      "text/plain": [
       "<Figure size 432x288 with 1 Axes>"
      ]
     },
     "metadata": {
      "needs_background": "light"
     },
     "output_type": "display_data"
    }
   ],
   "source": [
    "# 같은 모델내의 가격 분포 탐색\n",
    "df_price_model_mean = df.groupby('phone_model')['price'].transform(lambda x: np.mean(x))\n",
    "df_price_model_std = df.groupby('phone_model')['price'].transform(lambda x: np.std(x))\n",
    "df_price_model_z_score = (df['price'] - df_price_model_mean) / df_price_model_std\n",
    "df_price_model_z_score.hist(bins=\"auto\")"
   ]
  },
  {
   "cell_type": "markdown",
   "metadata": {},
   "source": [
    "-----"
   ]
  },
  {
   "cell_type": "markdown",
   "metadata": {},
   "source": [
    "##### 출고가 피처 탐색"
   ]
  },
  {
   "cell_type": "code",
   "execution_count": 8,
   "metadata": {},
   "outputs": [
    {
     "data": {
      "text/plain": [
       "<matplotlib.axes._subplots.AxesSubplot at 0x18eedaa9940>"
      ]
     },
     "execution_count": 8,
     "metadata": {},
     "output_type": "execute_result"
    },
    {
     "data": {
      "image/png": "[encoded data removed]",
      "text/plain": [
       "<Figure size 432x288 with 1 Axes>"
      ]
     },
     "metadata": {
      "needs_background": "light"
     },
     "output_type": "display_data"
    }
   ],
   "source": [
    "df['factory_price'].hist(bins=\"auto\")"
   ]
  },
  {
   "cell_type": "code",
   "execution_count": 9,
   "metadata": {},
   "outputs": [
    {
     "data": {
      "text/plain": [
       "<matplotlib.axes._subplots.AxesSubplot at 0x18eedbcf2e8>"
      ]
     },
     "execution_count": 9,
     "metadata": {},
     "output_type": "execute_result"
    },
    {
     "data": {
      "image/png": "[encoded data removed]",
      "text/plain": [
       "<Figure size 432x288 with 1 Axes>"
      ]
     },
     "metadata": {
      "needs_background": "light"
     },
     "output_type": "display_data"
    }
   ],
   "source": [
    "df.plot.scatter(x='factory_price', y='price')"
   ]
  },
  {
   "cell_type": "markdown",
   "metadata": {},
   "source": [
    "-----"
   ]
  },
  {
   "cell_type": "markdown",
   "metadata": {},
   "source": [
    "##### 핸드폰 모델 피처 탐색"
   ]
  },
  {
   "cell_type": "code",
   "execution_count": 10,
   "metadata": {},
   "outputs": [
    {
     "name": "stdout",
     "output_type": "stream",
     "text": [
      "count      64.000000\n",
      "mean       77.359375\n",
      "std       143.432786\n",
      "min        10.000000\n",
      "25%        23.000000\n",
      "50%        35.000000\n",
      "75%        90.500000\n",
      "max      1002.000000\n",
      "Name: phone_model, dtype: float64\n"
     ]
    },
    {
     "data": {
      "text/plain": [
       "{'whiskers': [<matplotlib.lines.Line2D at 0x18eedc5e470>,\n",
       "  <matplotlib.lines.Line2D at 0x18eedc5e7b8>],\n",
       " 'caps': [<matplotlib.lines.Line2D at 0x18eedc5eb00>,\n",
       "  <matplotlib.lines.Line2D at 0x18eedc5ee48>],\n",
       " 'boxes': [<matplotlib.lines.Line2D at 0x18eedc5e048>],\n",
       " 'medians': [<matplotlib.lines.Line2D at 0x18eedc5ef28>],\n",
       " 'fliers': [<matplotlib.lines.Line2D at 0x18eedc67518>],\n",
       " 'means': []}"
      ]
     },
     "execution_count": 10,
     "metadata": {},
     "output_type": "execute_result"
    },
    {
     "data": {
      "image/png": "[encoded data removed]",
      "text/plain": [
       "<Figure size 432x288 with 1 Axes>"
      ]
     },
     "metadata": {
      "needs_background": "light"
     },
     "output_type": "display_data"
    }
   ],
   "source": [
    "# 모델별 총 거래 데이터 개수\n",
    "model_counts = df['phone_model'].value_counts()\n",
    "print(model_counts.describe())\n",
    "plt.boxplot(model_counts)"
   ]
  },
  {
   "cell_type": "markdown",
   "metadata": {},
   "source": [
    "-----"
   ]
  },
  {
   "cell_type": "markdown",
   "metadata": {},
   "source": [
    "### `[미니 퀴즈 - 5.1]`\n",
    "- `'maker', 'price_index' 피처에 대한 특징을 탐색해 보도록 합시다.` \n",
    "    - value_counts를 이용하여 피처의 분포를 탐색해보도록 합시다.\n",
    "        - maker : 3개의 제조사가 대부분의 데이터를 대표하고 있는 것을 알 수 있습니다.\n",
    "        - price_index : 핸드폰 물가의 변동률은 매 달마다 일어나지 않는다는 것을 알 수 있습니다."
   ]
  },
  {
   "cell_type": "markdown",
   "metadata": {},
   "source": [
    "##### 메이커 피처 탐색"
   ]
  },
  {
   "cell_type": "code",
   "execution_count": 11,
   "metadata": {},
   "outputs": [
    {
     "name": "stdout",
     "output_type": "stream",
     "text": [
      "apple      2450\n",
      "samsung    1642\n",
      "lg          677\n",
      "pantech      57\n",
      "sony         37\n",
      "huawei       35\n",
      "tg           28\n",
      "sky          25\n",
      "Name: maker, dtype: int64\n"
     ]
    },
    {
     "data": {
      "text/plain": [
       "{'whiskers': [<matplotlib.lines.Line2D at 0x18eedcb0eb8>,\n",
       "  <matplotlib.lines.Line2D at 0x18eedcb0f98>],\n",
       " 'caps': [<matplotlib.lines.Line2D at 0x18eedcbe588>,\n",
       "  <matplotlib.lines.Line2D at 0x18eedcbe8d0>],\n",
       " 'boxes': [<matplotlib.lines.Line2D at 0x18eedcb0ac8>],\n",
       " 'medians': [<matplotlib.lines.Line2D at 0x18eedcbec18>],\n",
       " 'fliers': [<matplotlib.lines.Line2D at 0x18eedcbef60>],\n",
       " 'means': []}"
      ]
     },
     "execution_count": 11,
     "metadata": {},
     "output_type": "execute_result"
    },
    {
     "data": {
      "image/png": "[encoded data removed]",
      "text/plain": [
       "<Figure size 432x288 with 1 Axes>"
      ]
     },
     "metadata": {
      "needs_background": "light"
     },
     "output_type": "display_data"
    }
   ],
   "source": [
    "maker_counts = df['maker'].value_counts()\n",
    "print(maker_counts)\n",
    "plt.boxplot(maker_counts)"
   ]
  },
  {
   "cell_type": "markdown",
   "metadata": {},
   "source": [
    "##### 물가 피처 탐색"
   ]
  },
  {
   "cell_type": "code",
   "execution_count": 12,
   "metadata": {},
   "outputs": [
    {
     "data": {
      "text/plain": [
       "103.05    3061\n",
       "95.96     1311\n",
       "102.59     448\n",
       "94.90      131\n",
       "Name: price_index, dtype: int64"
      ]
     },
     "execution_count": 12,
     "metadata": {},
     "output_type": "execute_result"
    }
   ],
   "source": [
    "df['price_index'].value_counts()"
   ]
  },
  {
   "cell_type": "markdown",
   "metadata": {},
   "source": [
    "-----"
   ]
  },
  {
   "cell_type": "markdown",
   "metadata": {},
   "source": [
    "### [Random forest regressor를 이용한 가격 예측]"
   ]
  },
  {
   "cell_type": "code",
   "execution_count": 13,
   "metadata": {
    "scrolled": true
   },
   "outputs": [
    {
     "data": {
      "text/html": [
       "<div>\n",
       "<style scoped>\n",
       "    .dataframe tbody tr th:only-of-type {\n",
       "        vertical-align: middle;\n",
       "    }\n",
       "\n",
       "    .dataframe tbody tr th {\n",
       "        vertical-align: top;\n",
       "    }\n",
       "\n",
       "    .dataframe thead th {\n",
       "        text-align: right;\n",
       "    }\n",
       "</style>\n",
       "<table border=\"1\" class=\"dataframe\">\n",
       "  <thead>\n",
       "    <tr style=\"text-align: right;\">\n",
       "      <th></th>\n",
       "      <th>create_date</th>\n",
       "      <th>price</th>\n",
       "      <th>text</th>\n",
       "      <th>phone_model</th>\n",
       "      <th>factory_price</th>\n",
       "      <th>maker</th>\n",
       "      <th>price_index</th>\n",
       "      <th>month</th>\n",
       "    </tr>\n",
       "  </thead>\n",
       "  <tbody>\n",
       "    <tr>\n",
       "      <th>0</th>\n",
       "      <td>2017-03-19  4 35 00 PM</td>\n",
       "      <td>550000.0</td>\n",
       "      <td>아이폰6플러스 블랙+애플라이트 64기가 팝니다  아이폰6플러스 블랙+애플라이트 64...</td>\n",
       "      <td>iphone 6 64gb</td>\n",
       "      <td>924000</td>\n",
       "      <td>apple</td>\n",
       "      <td>95.96</td>\n",
       "      <td>2017-03</td>\n",
       "    </tr>\n",
       "    <tr>\n",
       "      <th>1</th>\n",
       "      <td>2016-10-26  12 08 00 PM</td>\n",
       "      <td>380000.0</td>\n",
       "      <td>갤럭시s6엣지 32기가 팝니다 직거래  갤럭시s6엣지 32기가 품명 갤럭시s6엣지제...</td>\n",
       "      <td>galaxy s6 edge 32gb</td>\n",
       "      <td>979000</td>\n",
       "      <td>samsung</td>\n",
       "      <td>103.05</td>\n",
       "      <td>2016-10</td>\n",
       "    </tr>\n",
       "    <tr>\n",
       "      <th>2</th>\n",
       "      <td>2016-10-25  12 52 00 PM</td>\n",
       "      <td>300000.0</td>\n",
       "      <td>갤럭시s6 풀박스로 팝니다~~~ 새상품급  실기스조차 없어요  직접거래 구매한지 1...</td>\n",
       "      <td>galaxy s6 32gb</td>\n",
       "      <td>854000</td>\n",
       "      <td>samsung</td>\n",
       "      <td>103.05</td>\n",
       "      <td>2016-10</td>\n",
       "    </tr>\n",
       "    <tr>\n",
       "      <th>3</th>\n",
       "      <td>2017-03-23  11 14 00 PM</td>\n",
       "      <td>290000.0</td>\n",
       "      <td>sk  g5 티탄 폰 단품판매합니다  직접거래 sk g5 티탄 폰 단품판매합니다 올...</td>\n",
       "      <td>lg g5 32gb</td>\n",
       "      <td>836000</td>\n",
       "      <td>lg</td>\n",
       "      <td>95.96</td>\n",
       "      <td>2017-03</td>\n",
       "    </tr>\n",
       "    <tr>\n",
       "      <th>4</th>\n",
       "      <td>2016-04-11  7 35 00 PM</td>\n",
       "      <td>280000.0</td>\n",
       "      <td>sony 엑스페리아 c5 ultra e5506 16gb  미사용 새제품 팝니다 1...</td>\n",
       "      <td>lg u 32gb</td>\n",
       "      <td>396000</td>\n",
       "      <td>lg</td>\n",
       "      <td>102.59</td>\n",
       "      <td>2016-04</td>\n",
       "    </tr>\n",
       "  </tbody>\n",
       "</table>\n",
       "</div>"
      ],
      "text/plain": [
       "               create_date     price  \\\n",
       "0   2017-03-19  4 35 00 PM  550000.0   \n",
       "1  2016-10-26  12 08 00 PM  380000.0   \n",
       "2  2016-10-25  12 52 00 PM  300000.0   \n",
       "3  2017-03-23  11 14 00 PM  290000.0   \n",
       "4   2016-04-11  7 35 00 PM  280000.0   \n",
       "\n",
       "                                                text          phone_model  \\\n",
       "0  아이폰6플러스 블랙+애플라이트 64기가 팝니다  아이폰6플러스 블랙+애플라이트 64...        iphone 6 64gb   \n",
       "1  갤럭시s6엣지 32기가 팝니다 직거래  갤럭시s6엣지 32기가 품명 갤럭시s6엣지제...  galaxy s6 edge 32gb   \n",
       "2  갤럭시s6 풀박스로 팝니다~~~ 새상품급  실기스조차 없어요  직접거래 구매한지 1...       galaxy s6 32gb   \n",
       "3  sk  g5 티탄 폰 단품판매합니다  직접거래 sk g5 티탄 폰 단품판매합니다 올...           lg g5 32gb   \n",
       "4   sony 엑스페리아 c5 ultra e5506 16gb  미사용 새제품 팝니다 1...            lg u 32gb   \n",
       "\n",
       "   factory_price    maker  price_index    month  \n",
       "0         924000    apple        95.96  2017-03  \n",
       "1         979000  samsung       103.05  2016-10  \n",
       "2         854000  samsung       103.05  2016-10  \n",
       "3         836000       lg        95.96  2017-03  \n",
       "4         396000       lg       102.59  2016-04  "
      ]
     },
     "execution_count": 13,
     "metadata": {},
     "output_type": "execute_result"
    }
   ],
   "source": [
    "df.head()"
   ]
  },
  {
   "cell_type": "markdown",
   "metadata": {},
   "source": [
    "-----"
   ]
  },
  {
   "cell_type": "markdown",
   "metadata": {},
   "source": [
    "##### Random forest 모델 학습"
   ]
  },
  {
   "cell_type": "code",
   "execution_count": 15,
   "metadata": {},
   "outputs": [
    {
     "name": "stdout",
     "output_type": "stream",
     "text": [
      "MSE train: 10623059864.573, test: 13902313827.847\n",
      "R^2 train: 0.781, test: 0.682\n"
     ]
    },
    {
     "data": {
      "text/plain": [
       "[('factory_price', 0.40636645927306553),\n",
       " ('maker_apple', 0.29746783054889203),\n",
       " ('phone_model_galaxy s3 3g 8gb', 0.022154413584295603),\n",
       " ('phone_model_iphone se 64gb', 0.021708714054972558),\n",
       " ('price_index', 0.020519620379356108),\n",
       " ('phone_model_galaxy s4 32gb', 0.01633761922493097),\n",
       " ('month_2017-03', 0.01480294494661192),\n",
       " ('maker_samsung', 0.014678079687307355),\n",
       " ('phone_model_galaxy s6 32gb', 0.012595334191914479),\n",
       " ('month_2016-05', 0.011135816714075136)]"
      ]
     },
     "execution_count": 15,
     "metadata": {},
     "output_type": "execute_result"
    },
    {
     "data": {
      "image/png": "[encoded data removed]",
      "text/plain": [
       "<Figure size 432x288 with 1 Axes>"
      ]
     },
     "metadata": {
      "needs_background": "light"
     },
     "output_type": "display_data"
    }
   ],
   "source": [
    "from sklearn.model_selection import train_test_split\n",
    "from sklearn.feature_extraction import DictVectorizer\n",
    "from sklearn.ensemble import RandomForestRegressor\n",
    "from sklearn.metrics import r2_score\n",
    "from sklearn.metrics import mean_squared_error\n",
    "\n",
    "# 학습용 데이터 준비\n",
    "df = df[['price', 'phone_model', 'factory_price', 'maker', 'price_index', 'month']]\n",
    "df = pd.get_dummies(df, columns=['phone_model', 'maker', 'month'])\n",
    "X = df.loc[:, df.columns != 'price']\n",
    "y = df['price']\n",
    "X_train, X_test, y_train, y_test = train_test_split(X, y, test_size=0.3, random_state=0)\n",
    "\n",
    "# 랜덤 포레스트 학습 및 평가\n",
    "forest = RandomForestRegressor(n_estimators=1000,\n",
    "                               criterion='mse')\n",
    "forest.fit(X_train, y_train)\n",
    "y_train_pred = forest.predict(X_train)\n",
    "y_test_pred = forest.predict(X_test)\n",
    "print('MSE train: %.3f, test: %.3f' % (\n",
    "        mean_squared_error(y_train, y_train_pred),\n",
    "        mean_squared_error(y_test, y_test_pred)))\n",
    "print('R^2 train: %.3f, test: %.3f' % (\n",
    "        r2_score(y_train, y_train_pred),\n",
    "        r2_score(y_test, y_test_pred)))\n",
    "\n",
    "# 피처 중요도 plot\n",
    "importances = forest.feature_importances_\n",
    "indices = np.argsort(importances)[::-1]\n",
    "plt.bar(range(X.shape[1]), importances[indices])\n",
    "\n",
    "# 피처 중요도 print\n",
    "feat_labels = X.columns.tolist()\n",
    "feature = list(zip(feat_labels, forest.feature_importances_))\n",
    "sorted(feature, key=lambda tup: tup[1], reverse=True)[:10]"
   ]
  },
  {
   "cell_type": "code",
   "execution_count": 16,
   "metadata": {
    "code_folding": []
   },
   "outputs": [
    {
     "name": "stdout",
     "output_type": "stream",
     "text": [
      "('month_2017-03', 0.01480294494661192)\n",
      "('month_2016-05', 0.011135816714075136)\n",
      "('month_2016-09', 0.008327894964668844)\n",
      "('month_2016-04', 0.007710324270606384)\n",
      "('month_2016-10', 0.006373994697508981)\n",
      "('month_2016-06', 0.004420286560996185)\n",
      "('month_2016-08', 0.003611180620194981)\n",
      "('month_2016-07', 0.002723552905387054)\n",
      "('month_2016-03', 0.002376531067591209)\n",
      "('month_2016-02', 0.0009476912267991444)\n"
     ]
    }
   ],
   "source": [
    "# 영향력이 높은 month 순으로 출력\n",
    "for sorted_feature in sorted(feature, key=lambda tup: tup[1], reverse=True):\n",
    "    if \"month\" in sorted_feature[0]: \n",
    "        print(sorted_feature)"
   ]
  },
  {
   "cell_type": "markdown",
   "metadata": {},
   "source": [
    "-----"
   ]
  },
  {
   "cell_type": "markdown",
   "metadata": {},
   "source": [
    "##### 예측 결과 scatter plot"
   ]
  },
  {
   "cell_type": "code",
   "execution_count": 17,
   "metadata": {},
   "outputs": [
    {
     "data": {
      "text/plain": [
       "<matplotlib.collections.PathCollection at 0x18eee81bf28>"
      ]
     },
     "execution_count": 17,
     "metadata": {},
     "output_type": "execute_result"
    },
    {
     "data": {
      "image/png": "[encoded data removed]",
      "text/plain": [
       "<Figure size 432x288 with 1 Axes>"
      ]
     },
     "metadata": {
      "needs_background": "light"
     },
     "output_type": "display_data"
    }
   ],
   "source": [
    "plt.scatter(y_test.values, y_test_pred)"
   ]
  },
  {
   "cell_type": "markdown",
   "metadata": {},
   "source": [
    "-----"
   ]
  },
  {
   "cell_type": "markdown",
   "metadata": {},
   "source": [
    "# <Step2. 피처 엔지니어링> : 예측 모델 개선"
   ]
  },
  {
   "cell_type": "markdown",
   "metadata": {},
   "source": [
    "### [기존 feature의 가공]"
   ]
  },
  {
   "cell_type": "code",
   "execution_count": 19,
   "metadata": {},
   "outputs": [],
   "source": [
    "df = pd.read_csv(\"../data/used_mobile_phone.csv\")"
   ]
  },
  {
   "cell_type": "markdown",
   "metadata": {},
   "source": [
    "##### create_date로 시간점수 생성하기"
   ]
  },
  {
   "cell_type": "code",
   "execution_count": 20,
   "metadata": {},
   "outputs": [
    {
     "name": "stdout",
     "output_type": "stream",
     "text": [
      "0    1.489849e+09\n",
      "1    1.477408e+09\n",
      "2    1.477321e+09\n",
      "3    1.490195e+09\n",
      "4    1.460300e+09\n",
      "5    1.490108e+09\n",
      "6    1.490195e+09\n",
      "7    1.475766e+09\n",
      "8    1.490368e+09\n",
      "9    1.458659e+09\n",
      "Name: create_unixtime, dtype: float64\n"
     ]
    }
   ],
   "source": [
    "from datetime import datetime\n",
    "import time\n",
    "\n",
    "def date_to_unixtime(date_str):\n",
    "    timestamp = time.mktime(datetime.strptime(date_str, '%Y-%m-%d').timetuple())\n",
    "    return timestamp\n",
    "\n",
    "df['create_unixtime'] = df['create_date'].apply(lambda x: date_to_unixtime(x[:10]))\n",
    "print(df['create_unixtime'][:10])"
   ]
  },
  {
   "cell_type": "code",
   "execution_count": 21,
   "metadata": {},
   "outputs": [
    {
     "data": {
      "text/html": [
       "<div>\n",
       "<style scoped>\n",
       "    .dataframe tbody tr th:only-of-type {\n",
       "        vertical-align: middle;\n",
       "    }\n",
       "\n",
       "    .dataframe tbody tr th {\n",
       "        vertical-align: top;\n",
       "    }\n",
       "\n",
       "    .dataframe thead th {\n",
       "        text-align: right;\n",
       "    }\n",
       "</style>\n",
       "<table border=\"1\" class=\"dataframe\">\n",
       "  <thead>\n",
       "    <tr style=\"text-align: right;\">\n",
       "      <th></th>\n",
       "      <th>create_date</th>\n",
       "      <th>create_unixtime</th>\n",
       "      <th>create_time_score</th>\n",
       "    </tr>\n",
       "  </thead>\n",
       "  <tbody>\n",
       "    <tr>\n",
       "      <th>0</th>\n",
       "      <td>2017-03-19  4 35 00 PM</td>\n",
       "      <td>1.489849e+09</td>\n",
       "      <td>0.985612</td>\n",
       "    </tr>\n",
       "    <tr>\n",
       "      <th>1</th>\n",
       "      <td>2016-10-26  12 08 00 PM</td>\n",
       "      <td>1.477408e+09</td>\n",
       "      <td>0.640288</td>\n",
       "    </tr>\n",
       "    <tr>\n",
       "      <th>2</th>\n",
       "      <td>2016-10-25  12 52 00 PM</td>\n",
       "      <td>1.477321e+09</td>\n",
       "      <td>0.637890</td>\n",
       "    </tr>\n",
       "    <tr>\n",
       "      <th>3</th>\n",
       "      <td>2017-03-23  11 14 00 PM</td>\n",
       "      <td>1.490195e+09</td>\n",
       "      <td>0.995204</td>\n",
       "    </tr>\n",
       "    <tr>\n",
       "      <th>4</th>\n",
       "      <td>2016-04-11  7 35 00 PM</td>\n",
       "      <td>1.460300e+09</td>\n",
       "      <td>0.165468</td>\n",
       "    </tr>\n",
       "  </tbody>\n",
       "</table>\n",
       "</div>"
      ],
      "text/plain": [
       "               create_date  create_unixtime  create_time_score\n",
       "0   2017-03-19  4 35 00 PM     1.489849e+09           0.985612\n",
       "1  2016-10-26  12 08 00 PM     1.477408e+09           0.640288\n",
       "2  2016-10-25  12 52 00 PM     1.477321e+09           0.637890\n",
       "3  2017-03-23  11 14 00 PM     1.490195e+09           0.995204\n",
       "4   2016-04-11  7 35 00 PM     1.460300e+09           0.165468"
      ]
     },
     "execution_count": 21,
     "metadata": {},
     "output_type": "execute_result"
    }
   ],
   "source": [
    "df['create_time_score'] = (df['create_unixtime'] - df['create_unixtime'].min()) / \\\n",
    "                          (df['create_unixtime'].max() - df['create_unixtime'].min())\n",
    "df[['create_date', 'create_unixtime', 'create_time_score']].head()"
   ]
  },
  {
   "cell_type": "markdown",
   "metadata": {},
   "source": [
    "-----"
   ]
  },
  {
   "cell_type": "markdown",
   "metadata": {},
   "source": [
    "##### phone_model 피처 분리"
   ]
  },
  {
   "cell_type": "code",
   "execution_count": 22,
   "metadata": {},
   "outputs": [
    {
     "data": {
      "text/html": [
       "<div>\n",
       "<style scoped>\n",
       "    .dataframe tbody tr th:only-of-type {\n",
       "        vertical-align: middle;\n",
       "    }\n",
       "\n",
       "    .dataframe tbody tr th {\n",
       "        vertical-align: top;\n",
       "    }\n",
       "\n",
       "    .dataframe thead th {\n",
       "        text-align: right;\n",
       "    }\n",
       "</style>\n",
       "<table border=\"1\" class=\"dataframe\">\n",
       "  <thead>\n",
       "    <tr style=\"text-align: right;\">\n",
       "      <th></th>\n",
       "      <th>phone_model_storage</th>\n",
       "      <th>phone_model_detail</th>\n",
       "    </tr>\n",
       "  </thead>\n",
       "  <tbody>\n",
       "    <tr>\n",
       "      <th>0</th>\n",
       "      <td>64gb</td>\n",
       "      <td>iphone 6</td>\n",
       "    </tr>\n",
       "    <tr>\n",
       "      <th>1</th>\n",
       "      <td>32gb</td>\n",
       "      <td>galaxy s6 edge</td>\n",
       "    </tr>\n",
       "    <tr>\n",
       "      <th>2</th>\n",
       "      <td>32gb</td>\n",
       "      <td>galaxy s6</td>\n",
       "    </tr>\n",
       "    <tr>\n",
       "      <th>3</th>\n",
       "      <td>32gb</td>\n",
       "      <td>lg g5</td>\n",
       "    </tr>\n",
       "    <tr>\n",
       "      <th>4</th>\n",
       "      <td>32gb</td>\n",
       "      <td>lg u</td>\n",
       "    </tr>\n",
       "  </tbody>\n",
       "</table>\n",
       "</div>"
      ],
      "text/plain": [
       "  phone_model_storage phone_model_detail\n",
       "0                64gb           iphone 6\n",
       "1                32gb     galaxy s6 edge\n",
       "2                32gb          galaxy s6\n",
       "3                32gb              lg g5\n",
       "4                32gb               lg u"
      ]
     },
     "execution_count": 22,
     "metadata": {},
     "output_type": "execute_result"
    }
   ],
   "source": [
    "df['phone_model_storage'] = df['phone_model'].apply(lambda x: x.split(\" \")[-1])\n",
    "df['phone_model_detail'] = df['phone_model'].apply(lambda x: ' '.join(x.split(\" \")[:-1]))\n",
    "df[['phone_model_storage', 'phone_model_detail']].head()"
   ]
  },
  {
   "cell_type": "code",
   "execution_count": 23,
   "metadata": {},
   "outputs": [
    {
     "data": {
      "text/plain": [
       "{'whiskers': [<matplotlib.lines.Line2D at 0x18eee996550>,\n",
       "  <matplotlib.lines.Line2D at 0x18eee996860>,\n",
       "  <matplotlib.lines.Line2D at 0x18eee99ec50>,\n",
       "  <matplotlib.lines.Line2D at 0x18eee99ef98>],\n",
       " 'caps': [<matplotlib.lines.Line2D at 0x18eee996ba8>,\n",
       "  <matplotlib.lines.Line2D at 0x18eee996ef0>,\n",
       "  <matplotlib.lines.Line2D at 0x18eee9a9320>,\n",
       "  <matplotlib.lines.Line2D at 0x18eee9a9668>],\n",
       " 'boxes': [<matplotlib.lines.Line2D at 0x18eee996160>,\n",
       "  <matplotlib.lines.Line2D at 0x18eee99e908>],\n",
       " 'medians': [<matplotlib.lines.Line2D at 0x18eee996fd0>,\n",
       "  <matplotlib.lines.Line2D at 0x18eee9a99b0>],\n",
       " 'fliers': [<matplotlib.lines.Line2D at 0x18eee99e5c0>,\n",
       "  <matplotlib.lines.Line2D at 0x18eee9a9cf8>],\n",
       " 'means': []}"
      ]
     },
     "execution_count": 23,
     "metadata": {},
     "output_type": "execute_result"
    },
    {
     "data": {
      "image/png": "[encoded data removed]",
      "text/plain": [
       "<Figure size 432x288 with 1 Axes>"
      ]
     },
     "metadata": {
      "needs_background": "light"
     },
     "output_type": "display_data"
    }
   ],
   "source": [
    "# 모델별 총 거래 데이터 개수 비교\n",
    "model_counts = df['phone_model'].value_counts()\n",
    "model_detail_counts = df['phone_model_detail'].value_counts()\n",
    "data = [model_counts, model_detail_counts]\n",
    "mpl_fig = plt.figure()\n",
    "ax = mpl_fig.add_subplot(111)\n",
    "ax.boxplot(data)"
   ]
  },
  {
   "cell_type": "markdown",
   "metadata": {},
   "source": [
    "-----"
   ]
  },
  {
   "cell_type": "markdown",
   "metadata": {},
   "source": [
    "##### phone_model 관련 딕셔너리 생성"
   ]
  },
  {
   "cell_type": "code",
   "execution_count": 24,
   "metadata": {
    "scrolled": true
   },
   "outputs": [
    {
     "name": "stdout",
     "output_type": "stream",
     "text": [
      "{('iphone 6', '64gb'): 924000, ('galaxy  ...\n"
     ]
    }
   ],
   "source": [
    "# 모델명 + 용량으로 출고가를 찾을 수 있는 딕셔너리 생성\n",
    "model_to_factory_price_dict = {}\n",
    "for index, row in df.iterrows():\n",
    "    model_concat = (row['phone_model_detail'], row['phone_model_storage'])\n",
    "    if model_concat in model_to_factory_price_dict:\n",
    "        pass\n",
    "    else:\n",
    "        model_to_factory_price_dict[model_concat] = row['factory_price']\n",
    "print(str(model_to_factory_price_dict)[:40], \"...\")"
   ]
  },
  {
   "cell_type": "markdown",
   "metadata": {},
   "source": [
    "-----"
   ]
  },
  {
   "cell_type": "markdown",
   "metadata": {},
   "source": [
    "### [감성분석으로 물품의 상태 분류하기]"
   ]
  },
  {
   "cell_type": "markdown",
   "metadata": {},
   "source": [
    "##### 감성분류의 정답 데이터셋 생성"
   ]
  },
  {
   "cell_type": "code",
   "execution_count": 25,
   "metadata": {},
   "outputs": [
    {
     "name": "stdout",
     "output_type": "stream",
     "text": [
      "-1.3966616903783426\n",
      "1.666982156397844\n"
     ]
    },
    {
     "data": {
      "image/png": "[encoded data removed]",
      "text/plain": [
       "<Figure size 432x288 with 1 Axes>"
      ]
     },
     "metadata": {
      "needs_background": "light"
     },
     "output_type": "display_data"
    }
   ],
   "source": [
    "df['price_by_group'] = df.groupby('phone_model_detail')['price'].transform(lambda x: (x - x.mean()) / x.std())\n",
    "ax = df['price_by_group'].hist(bins=\"auto\")\n",
    "lower_bound = df['price_by_group'].quantile(0.05)\n",
    "upper_bound = df['price_by_group'].quantile(0.95)\n",
    "ax.axvline(x=lower_bound, color='r', linestyle='dashed', linewidth=2)\n",
    "ax.axvline(x=upper_bound, color='r', linestyle='dashed', linewidth=2)\n",
    "print(lower_bound)\n",
    "print(upper_bound)"
   ]
  },
  {
   "cell_type": "code",
   "execution_count": 26,
   "metadata": {},
   "outputs": [
    {
     "data": {
      "text/html": [
       "<div>\n",
       "<style scoped>\n",
       "    .dataframe tbody tr th:only-of-type {\n",
       "        vertical-align: middle;\n",
       "    }\n",
       "\n",
       "    .dataframe tbody tr th {\n",
       "        vertical-align: top;\n",
       "    }\n",
       "\n",
       "    .dataframe thead th {\n",
       "        text-align: right;\n",
       "    }\n",
       "</style>\n",
       "<table border=\"1\" class=\"dataframe\">\n",
       "  <thead>\n",
       "    <tr style=\"text-align: right;\">\n",
       "      <th></th>\n",
       "      <th>price</th>\n",
       "      <th>price_lower</th>\n",
       "      <th>price_upper</th>\n",
       "      <th>price_level</th>\n",
       "      <th>text</th>\n",
       "    </tr>\n",
       "  </thead>\n",
       "  <tbody>\n",
       "    <tr>\n",
       "      <th>0</th>\n",
       "      <td>550000.0</td>\n",
       "      <td>180000.0</td>\n",
       "      <td>680000.0</td>\n",
       "      <td>1</td>\n",
       "      <td>아이폰6플러스 블랙+애플라이트 64기가 팝니다  아이폰6플러스 블랙+애플라이트 64...</td>\n",
       "    </tr>\n",
       "    <tr>\n",
       "      <th>1</th>\n",
       "      <td>380000.0</td>\n",
       "      <td>180000.0</td>\n",
       "      <td>414000.0</td>\n",
       "      <td>1</td>\n",
       "      <td>갤럭시s6엣지 32기가 팝니다 직거래  갤럭시s6엣지 32기가 품명 갤럭시s6엣지제...</td>\n",
       "    </tr>\n",
       "    <tr>\n",
       "      <th>2</th>\n",
       "      <td>300000.0</td>\n",
       "      <td>150000.0</td>\n",
       "      <td>349000.0</td>\n",
       "      <td>1</td>\n",
       "      <td>갤럭시s6 풀박스로 팝니다~~~ 새상품급  실기스조차 없어요  직접거래 구매한지 1...</td>\n",
       "    </tr>\n",
       "    <tr>\n",
       "      <th>3</th>\n",
       "      <td>290000.0</td>\n",
       "      <td>100000.0</td>\n",
       "      <td>500000.0</td>\n",
       "      <td>1</td>\n",
       "      <td>sk  g5 티탄 폰 단품판매합니다  직접거래 sk g5 티탄 폰 단품판매합니다 올...</td>\n",
       "    </tr>\n",
       "    <tr>\n",
       "      <th>4</th>\n",
       "      <td>280000.0</td>\n",
       "      <td>18000.0</td>\n",
       "      <td>400000.0</td>\n",
       "      <td>1</td>\n",
       "      <td>sony 엑스페리아 c5 ultra e5506 16gb  미사용 새제품 팝니다 1...</td>\n",
       "    </tr>\n",
       "  </tbody>\n",
       "</table>\n",
       "</div>"
      ],
      "text/plain": [
       "      price  price_lower  price_upper price_level  \\\n",
       "0  550000.0     180000.0     680000.0           1   \n",
       "1  380000.0     180000.0     414000.0           1   \n",
       "2  300000.0     150000.0     349000.0           1   \n",
       "3  290000.0     100000.0     500000.0           1   \n",
       "4  280000.0      18000.0     400000.0           1   \n",
       "\n",
       "                                                text  \n",
       "0  아이폰6플러스 블랙+애플라이트 64기가 팝니다  아이폰6플러스 블랙+애플라이트 64...  \n",
       "1  갤럭시s6엣지 32기가 팝니다 직거래  갤럭시s6엣지 32기가 품명 갤럭시s6엣지제...  \n",
       "2  갤럭시s6 풀박스로 팝니다~~~ 새상품급  실기스조차 없어요  직접거래 구매한지 1...  \n",
       "3  sk  g5 티탄 폰 단품판매합니다  직접거래 sk g5 티탄 폰 단품판매합니다 올...  \n",
       "4   sony 엑스페리아 c5 ultra e5506 16gb  미사용 새제품 팝니다 1...  "
      ]
     },
     "execution_count": 26,
     "metadata": {},
     "output_type": "execute_result"
    }
   ],
   "source": [
    "def get_price_level(price, lower, upper):\n",
    "    if price <= lower:\n",
    "        return \"0\"\n",
    "    elif price >= upper:\n",
    "        return \"2\"\n",
    "    else:\n",
    "        return \"1\"\n",
    "\n",
    "df['price_lower'] = df.groupby('phone_model_detail')['price'].transform(lambda x: x.quantile(0.05))\n",
    "df['price_upper'] = df.groupby('phone_model_detail')['price'].transform(lambda x: x.quantile(0.95))\n",
    "df['price_level'] = df.apply(lambda row: get_price_level(row['price'], row['price_lower'], \n",
    "                                                         row['price_upper']), axis=1)\n",
    "df[['price', 'price_lower', 'price_upper', 'price_level', 'text']].head()"
   ]
  },
  {
   "cell_type": "markdown",
   "metadata": {},
   "source": [
    "-----"
   ]
  },
  {
   "cell_type": "markdown",
   "metadata": {},
   "source": [
    "##### 텍스트 전처리"
   ]
  },
  {
   "cell_type": "code",
   "execution_count": 27,
   "metadata": {},
   "outputs": [
    {
     "name": "stdout",
     "output_type": "stream",
     "text": [
      "['거래', '입니', '판매', '아이폰', '갤럭시', '골드', '팝', '만원', '폰', '시']\n"
     ]
    }
   ],
   "source": [
    "import pickle\n",
    "import re\n",
    "\n",
    "with open('../data/used_mobile_phone_stopwords.pkl', 'rb') as f:\n",
    "    stopwords = pickle.load(f)\n",
    "\n",
    "def text_cleaning(text):\n",
    "    text = ''.join(c for c in text if c.isalnum() or c in '+, ')\n",
    "    text = ''.join([i for i in text if not i.isdigit()])\n",
    "    return text\n",
    "\n",
    "df['text'] = df['text'].apply(lambda x: text_cleaning(x))\n",
    "print(stopwords[:10])"
   ]
  },
  {
   "cell_type": "markdown",
   "metadata": {},
   "source": [
    "-----"
   ]
  },
  {
   "cell_type": "markdown",
   "metadata": {},
   "source": [
    "##### 형태소 단위로 추출"
   ]
  },
  {
   "cell_type": "code",
   "execution_count": 28,
   "metadata": {},
   "outputs": [
    {
     "name": "stdout",
     "output_type": "stream",
     "text": [
      "['+', '애플', '라이트', '팝니다', '+', '애플', '라이트', '팝니다', '+', '애플', '라이트', '팝니다', '리퍼', '기간', '만료', '되어서', '징', '하게', '되었습니다', '상태', '초', 'a', '급', '스', '없습니다', '+', '애플', '라이트', '팝니다', '+', '애플', '라이트', '팝니다', '리퍼', '기간', '만료', '되어서', '징', '하게', '되었습니다', '상태', '초', 'a', '급', '스', '없습니다', '징', '애플', '라이트', '홈', '버튼', '링', '카메라', '링', '볼륨', '버튼', '슬립', '버튼', '검금', '심플', '튀지', '않게', '이쁘게', '했구요', '유심', '꽂고', '바로', '사용', '하시면', '됩니다', '사람', '이냐', '자주', '물어보고', '실제', '더욱', '이쁩니다', '밤', '영롱하게', '맥북', '뒷', '사과', '로고', '비춰지고', '요전', '넘어가기', '위해', '합니다', '가능합니다', '박스', '어머니', '버리시고', '이어폰', '충전기', '정품', '드립니다', '직거래', '우선', '순', '위로', '정', '싶으시면', '선', '입금', '택배', '발송', '해드리겠습니다', '믿으시면', '직거래', '하시길', '추천', '해요', '안전', '합니다', '서울시', '강남구', '역삼동', '차병원', '사거리', '근처', '가격']\n"
     ]
    }
   ],
   "source": [
    "from konlpy.tag import Okt\n",
    "\n",
    "def get_pos(x):\n",
    "    tagger = Okt()\n",
    "    poses = tagger.pos(x)\n",
    "    return [pos[0] for pos in poses if pos[0] not in stopwords]\n",
    "\n",
    "# 형태소 추출 동작 테스트\n",
    "result = get_pos(df['text'][0])\n",
    "print(result)"
   ]
  },
  {
   "cell_type": "markdown",
   "metadata": {},
   "source": [
    "-----"
   ]
  },
  {
   "cell_type": "markdown",
   "metadata": {},
   "source": [
    "##### 빈출 단어 3000개 선정"
   ]
  },
  {
   "cell_type": "code",
   "execution_count": 29,
   "metadata": {},
   "outputs": [
    {
     "data": {
      "text/plain": [
       "[('입니다', 6342),\n",
       " ('직거래', 5015),\n",
       " ('s', 4877),\n",
       " ('합니다', 4681),\n",
       " ('택배', 4276),\n",
       " ('사용', 3997),\n",
       " ('급', 3487),\n",
       " ('상태', 3373),\n",
       " ('팝니다', 3126),\n",
       " ('가능합니다', 2798),\n",
       " ('정상', 2769),\n",
       " ('사진', 2614),\n",
       " ('가격', 2542),\n",
       " ('+', 2443),\n",
       " ('케이스', 2314),\n",
       " ('a', 2276),\n",
       " ('주세요', 2229),\n",
       " ('해지', 2212),\n",
       " ('삭제', 2201),\n",
       " ('제품', 2198),\n",
       " ('있습니다', 2196),\n",
       " ('박스', 2123),\n",
       " ('가능', 2088),\n",
       " ('직접', 1954),\n",
       " ('액정', 1909),\n",
       " ('배터리', 1897),\n",
       " ('성품', 1783),\n",
       " ('필름', 1626),\n",
       " ('리퍼', 1488),\n",
       " ('충전기', 1371),\n",
       " ('없습니다', 1338),\n",
       " ('풀', 1273),\n",
       " ('개통', 1235),\n",
       " ('유심', 1219),\n",
       " ('즈', 1199),\n",
       " ('안전', 1146),\n",
       " ('스', 1093),\n",
       " ('하기', 1069),\n",
       " ('신청', 1052),\n",
       " ('드립니다', 1027),\n",
       " ('통신사', 1016),\n",
       " ('구입', 1012),\n",
       " ('약정', 1003),\n",
       " ('이어폰', 991),\n",
       " ('공기', 972),\n",
       " ('새', 968),\n",
       " ('기변', 962),\n",
       " ('포함', 953),\n",
       " ('모델', 953),\n",
       " ('선택', 908),\n",
       " ('됩니다', 849),\n",
       " ('확인', 799),\n",
       " ('기간', 760),\n",
       " ('기스', 731),\n",
       " ('그레이', 720),\n",
       " ('찍힘', 690),\n",
       " ('방법', 683),\n",
       " ('바로', 677),\n",
       " ('할인', 673),\n",
       " ('제', 663),\n",
       " ('시기', 642),\n",
       " ('스페이스', 636),\n",
       " ('희망', 632),\n",
       " ('번호', 632),\n",
       " ('중고나라', 624),\n",
       " ('본체', 622),\n",
       " ('같이', 621),\n",
       " ('생활', 614),\n",
       " ('잘', 602),\n",
       " ('무', 602),\n",
       " ('퀵', 597),\n",
       " ('글', 592),\n",
       " ('된', 592),\n",
       " ('않을', 586),\n",
       " ('공식', 580),\n",
       " ('앱', 580),\n",
       " ('확정', 579),\n",
       " ('기능', 575),\n",
       " ('다운', 575),\n",
       " ('양', 573),\n",
       " ('호환', 573),\n",
       " ('케이블', 570),\n",
       " ('받기', 566),\n",
       " ('미', 564),\n",
       " ('이메일', 564),\n",
       " ('작성', 564),\n",
       " ('부분', 560),\n",
       " ('금지', 560),\n",
       " ('될수', 558),\n",
       " ('식아이디', 557),\n",
       " ('허위', 557),\n",
       " ('임의', 557),\n",
       " ('통보', 557),\n",
       " ('채우지', 556),\n",
       " ('핸드폰', 555),\n",
       " ('편한', 552),\n",
       " ('전혀', 551),\n",
       " ('충전', 546),\n",
       " ('내용', 541),\n",
       " ('연락처', 539),\n",
       " ('단말기', 530),\n",
       " ('부산', 526),\n",
       " ('대구', 524),\n",
       " ('미사', 519),\n",
       " ('정품', 517),\n",
       " ('중고', 511),\n",
       " ('문제', 511),\n",
       " ('없이', 510),\n",
       " ('이상', 510),\n",
       " ('보호', 510),\n",
       " ('방문', 509),\n",
       " ('없는', 507),\n",
       " ('외관', 502),\n",
       " ('외', 495),\n",
       " ('인천', 478),\n",
       " ('깨끗합니다', 477),\n",
       " ('x', 476),\n",
       " ('초기', 472),\n",
       " ('하나', 465),\n",
       " ('참고', 457),\n",
       " ('이구', 457),\n",
       " ('요금', 456),\n",
       " ('개월', 445),\n",
       " ('이나', 445),\n",
       " ('사이트', 437),\n",
       " ('팔아요', 432),\n",
       " ('하시면', 422),\n",
       " ('했습니다', 422),\n",
       " ('동', 419),\n",
       " ('카페', 417),\n",
       " ('보내', 408),\n",
       " ('카톡', 407),\n",
       " ('블로그', 406),\n",
       " ('링크', 403),\n",
       " ('싸이', 399),\n",
       " ('강퇴', 399),\n",
       " ('삼성', 395),\n",
       " ('거치', 395),\n",
       " ('있는', 387),\n",
       " ('호선', 384),\n",
       " ('모든', 383),\n",
       " ('입금', 382),\n",
       " ('처리', 380),\n",
       " ('없음', 378),\n",
       " ('뒷', 377),\n",
       " ('핑크', 374),\n",
       " ('카메라', 373),\n",
       " ('거주지', 372),\n",
       " ('공', 369),\n",
       " ('하여', 364),\n",
       " ('역도', 363),\n",
       " ('재판매', 358),\n",
       " ('유도', 357),\n",
       " ('선', 350),\n",
       " ('교체', 347),\n",
       " ('강화유리', 347),\n",
       " ('경매', 345),\n",
       " ('만만', 344),\n",
       " ('부탁드립니다', 344),\n",
       " ('구성', 342),\n",
       " ('필수', 342),\n",
       " ('차대', 339),\n",
       " ('재시', 337),\n",
       " ('없고', 333),\n",
       " ('전체', 332),\n",
       " ('파손', 332),\n",
       " ('다른', 331),\n",
       " ('가능하며', 329),\n",
       " ('작동', 329),\n",
       " ('가능한', 323),\n",
       " ('교환', 317),\n",
       " ('드리겠습니다', 314),\n",
       " ('좋습니다', 312),\n",
       " ('기계', 312),\n",
       " ('생각', 312),\n",
       " ('그대로', 311),\n",
       " ('추가', 311),\n",
       " ('약간', 309),\n",
       " ('살짝', 306),\n",
       " ('바랍니다', 304),\n",
       " ('테두리', 303),\n",
       " ('풀박', 301),\n",
       " ('미개', 298),\n",
       " ('거의', 297),\n",
       " ('부담', 295),\n",
       " ('쪽', 285),\n",
       " ('조금', 285),\n",
       " ('비', 284),\n",
       " ('주시', 283),\n",
       " ('as', 281),\n",
       " ('하지', 280),\n",
       " ('싸게', 279),\n",
       " ('때', 278),\n",
       " ('하겠습니다', 277),\n",
       " ('봉', 275),\n",
       " ('완전', 274),\n",
       " ('상품', 273),\n",
       " ('댓글', 271),\n",
       " ('착불', 267),\n",
       " ('부착', 266),\n",
       " ('때문', 265),\n",
       " ('금액', 262),\n",
       " ('아주', 262),\n",
       " ('폴더', 261),\n",
       " ('원하시면', 256),\n",
       " ('와인', 256),\n",
       " ('할', 251),\n",
       " ('하며', 247),\n",
       " ('수', 246),\n",
       " ('하단', 245),\n",
       " ('현재', 242),\n",
       " ('거주', 239),\n",
       " ('한번', 238),\n",
       " ('버튼', 235),\n",
       " ('더', 234),\n",
       " ('가능하고', 233),\n",
       " ('정말', 233),\n",
       " ('있고', 233),\n",
       " ('엘지', 231),\n",
       " ('커버', 230),\n",
       " ('블루', 230),\n",
       " ('번', 230),\n",
       " ('원합니다', 230),\n",
       " ('기본', 229),\n",
       " ('해주세요', 227),\n",
       " ('터치', 227),\n",
       " ('그냥', 227),\n",
       " ('하는', 220),\n",
       " ('용감', 218),\n",
       " ('시간', 218),\n",
       " ('전부', 218),\n",
       " ('대전', 218),\n",
       " ('되어', 217),\n",
       " ('통화', 216),\n",
       " ('센터', 216),\n",
       " ('있구요', 214),\n",
       " ('쿨', 213),\n",
       " ('깨끗한', 213),\n",
       " ('앞', 211),\n",
       " ('새거', 211),\n",
       " ('미국', 210),\n",
       " ('같습니다', 209),\n",
       " ('광주', 205),\n",
       " ('근처', 204),\n",
       " ('없구요', 203),\n",
       " ('하실', 202),\n",
       " ('착', 202),\n",
       " ('방식', 202),\n",
       " ('환불', 202),\n",
       " ('애플', 201),\n",
       " ('아래', 201),\n",
       " ('서비스', 200),\n",
       " ('젤리', 199),\n",
       " ('유리', 198),\n",
       " ('가능하구요', 196),\n",
       " ('선호', 195),\n",
       " ('않습니다', 193),\n",
       " ('수원', 193),\n",
       " ('모서리', 191),\n",
       " ('곳', 190),\n",
       " ('달', 187),\n",
       " ('하세요', 185),\n",
       " ('스마트폰', 184),\n",
       " ('화면', 184),\n",
       " ('경기도', 184),\n",
       " ('신품', 184),\n",
       " ('강화', 184),\n",
       " ('제트', 184),\n",
       " ('드려요', 183),\n",
       " ('특', 181),\n",
       " ('부품', 179),\n",
       " ('발송', 178),\n",
       " ('년월', 178),\n",
       " ('상단', 178),\n",
       " ('유플러스', 177),\n",
       " ('새것', 176),\n",
       " ('이후', 174),\n",
       " ('풀셋', 174),\n",
       " ('좋은', 173),\n",
       " ('사양', 173),\n",
       " ('홍', 173),\n",
       " ('역', 169),\n",
       " ('개봉', 169),\n",
       " ('테스트', 168),\n",
       " ('수리', 167),\n",
       " ('있어요', 167),\n",
       " ('아무', 166),\n",
       " ('투명', 166),\n",
       " ('잔기스', 164),\n",
       " ('흠집', 164),\n",
       " ('미노트', 164),\n",
       " ('분실', 162),\n",
       " ('천안', 162),\n",
       " ('받은', 162),\n",
       " ('나머지', 161),\n",
       " ('점', 161),\n",
       " ('하자', 160),\n",
       " ('하시고', 160),\n",
       " ('저렴하게', 159),\n",
       " ('않은', 158),\n",
       " ('신분', 157),\n",
       " ('유', 157),\n",
       " ('용량', 156),\n",
       " ('하시는', 156),\n",
       " ('전면', 156),\n",
       " ('언락폰', 155),\n",
       " ('양호', 154),\n",
       " ('금', 154),\n",
       " ('하였습니다', 153),\n",
       " ('보시다시피', 153),\n",
       " ('별도', 152),\n",
       " ('하구요', 152),\n",
       " ('방탄', 151),\n",
       " ('스그', 151),\n",
       " ('여분', 150),\n",
       " ('본', 147),\n",
       " ('하셔도', 146),\n",
       " ('무상', 146),\n",
       " ('따로', 146),\n",
       " ('세이프', 146),\n",
       " ('좀', 146),\n",
       " ('와이파이', 144),\n",
       " ('무선', 144),\n",
       " ('제외', 144),\n",
       " ('종', 144),\n",
       " ('되었습니다', 141),\n",
       " ('천원', 141),\n",
       " ('프로', 141),\n",
       " ('눌', 141),\n",
       " ('매트', 141),\n",
       " ('배송', 140),\n",
       " ('약', 140),\n",
       " ('절충', 140),\n",
       " ('했구요', 138),\n",
       " ('우선', 138),\n",
       " ('대리점', 138),\n",
       " ('인터넷', 137),\n",
       " ('없으며', 135),\n",
       " ('수수료', 135),\n",
       " ('다시', 135),\n",
       " ('초', 134),\n",
       " ('끼', 134),\n",
       " ('평일', 134),\n",
       " ('삽니다', 134),\n",
       " ('고장', 133),\n",
       " ('이번', 131),\n",
       " ('부근', 131),\n",
       " ('겁니다', 131),\n",
       " ('아님', 130),\n",
       " ('매장', 129),\n",
       " ('해드립니다', 129),\n",
       " ('보조', 128),\n",
       " ('하던', 127),\n",
       " ('인식', 127),\n",
       " ('불량', 126),\n",
       " ('포장', 126),\n",
       " ('부천', 124),\n",
       " ('걸', 124),\n",
       " ('군데', 124),\n",
       " ('베가', 123),\n",
       " ('언제', 123),\n",
       " ('월일', 122),\n",
       " ('첨부', 122),\n",
       " ('전주', 122),\n",
       " ('항상', 121),\n",
       " ('갤', 121),\n",
       " ('처분', 120),\n",
       " ('불가', 120),\n",
       " ('비는', 120),\n",
       " ('매우', 119),\n",
       " ('남음', 119),\n",
       " ('없어요', 118),\n",
       " ('참조', 118),\n",
       " ('국내', 118),\n",
       " ('언', 117),\n",
       " ('가입', 117),\n",
       " ('잔', 117),\n",
       " ('지문', 117),\n",
       " ('있어서', 116),\n",
       " ('장소', 116),\n",
       " ('절대', 116),\n",
       " ('밑', 116),\n",
       " ('해외', 115),\n",
       " ('되는', 115),\n",
       " ('용인', 115),\n",
       " ('적용', 115),\n",
       " ('오시', 114),\n",
       " ('옵티머스', 113),\n",
       " ('있으며', 113),\n",
       " ('유니크로', 113),\n",
       " ('무음', 113),\n",
       " ('실사', 112),\n",
       " ('분만', 112),\n",
       " ('좋아요', 112),\n",
       " ('팔', 111),\n",
       " ('안녕하세요', 111),\n",
       " ('하면서', 111),\n",
       " ('답변', 111),\n",
       " ('작은', 110),\n",
       " ('젠더', 110),\n",
       " ('가능해요', 109),\n",
       " ('아직', 109),\n",
       " ('당연히', 108),\n",
       " ('넥서스', 108),\n",
       " ('최초', 107),\n",
       " ('불입', 107),\n",
       " ('삼', 107),\n",
       " ('베터리', 107),\n",
       " ('드릴게요', 107),\n",
       " ('개인', 107),\n",
       " ('오른쪽', 106),\n",
       " ('아이디', 106),\n",
       " ('밧데리', 106),\n",
       " ('드릴께요', 106),\n",
       " ('스크래치', 105),\n",
       " ('보관', 105),\n",
       " ('관심', 104),\n",
       " ('있지만', 103),\n",
       " ('선불', 103),\n",
       " ('변경', 103),\n",
       " ('큰', 103),\n",
       " ('되고', 103),\n",
       " ('팩', 103),\n",
       " ('공장', 102),\n",
       " ('급처', 102),\n",
       " ('꼭', 102),\n",
       " ('예약', 101),\n",
       " ('혹시', 101),\n",
       " ('감사합니다', 100),\n",
       " ('출구', 100),\n",
       " ('이용', 100),\n",
       " ('되구요', 99),\n",
       " ('안심', 99),\n",
       " ('내장', 99),\n",
       " ('펜', 99),\n",
       " ('먼저', 99),\n",
       " ('했던', 98),\n",
       " ('버전', 98),\n",
       " ('아닙니다', 97),\n",
       " ('메인보드', 97),\n",
       " ('안산', 97),\n",
       " ('한지', 96),\n",
       " ('안됩니다', 96),\n",
       " ('주말', 96),\n",
       " ('사절', 96),\n",
       " ('스마트', 95),\n",
       " ('하면', 95),\n",
       " ('용이', 95),\n",
       " ('한국', 95),\n",
       " ('문', 94),\n",
       " ('최상', 94),\n",
       " ('오늘', 94),\n",
       " ('겔럭시', 94),\n",
       " ('맥스', 94),\n",
       " ('하게', 93),\n",
       " ('너무', 93),\n",
       " ('필요하시면', 93),\n",
       " ('자국', 93),\n",
       " ('일본', 92),\n",
       " ('물', 92),\n",
       " ('홈', 91),\n",
       " ('보기', 91),\n",
       " ('지금', 91),\n",
       " ('있음', 91),\n",
       " ('nbsp', 91),\n",
       " ('최대한', 91),\n",
       " ('홍콩', 91),\n",
       " ('저녁', 90),\n",
       " ('답장', 90),\n",
       " ('보니', 90),\n",
       " ('가지', 90),\n",
       " ('있는데', 90),\n",
       " ('궁금하신', 90),\n",
       " ('쓰던', 90),\n",
       " ('보고', 90),\n",
       " ('왼쪽', 89),\n",
       " ('깨끗하고', 89),\n",
       " ('택포', 89),\n",
       " ('쪽지', 89),\n",
       " ('있으면', 89),\n",
       " ('작년', 89),\n",
       " ('기타', 88),\n",
       " ('반품', 88),\n",
       " ('뒤', 88),\n",
       " ('많은', 88),\n",
       " ('사항', 88),\n",
       " ('만료', 87),\n",
       " ('락', 87),\n",
       " ('문의사항', 87),\n",
       " ('아이언', 87),\n",
       " ('자세한', 87),\n",
       " ('상처', 87),\n",
       " ('그랜드', 87),\n",
       " ('범퍼', 87),\n",
       " ('붙여서', 87),\n",
       " ('진행', 87),\n",
       " ('청주', 86),\n",
       " ('schw', 85),\n",
       " ('알파', 85),\n",
       " ('남아있습니다', 85),\n",
       " ('분당', 85),\n",
       " ('위해', 84),\n",
       " ('배송비', 84),\n",
       " ('망', 84),\n",
       " ('기준', 84),\n",
       " ('카드', 84),\n",
       " ('드리구요', 84),\n",
       " ('네오', 84),\n",
       " ('사실', 84),\n",
       " ('임', 84),\n",
       " ('보이는', 83),\n",
       " ('오후', 83),\n",
       " ('사파이어', 83),\n",
       " ('새로', 83),\n",
       " ('조건', 82),\n",
       " ('침수', 82),\n",
       " ('인근', 82),\n",
       " ('해요', 81),\n",
       " ('자세히', 81),\n",
       " ('처음', 81),\n",
       " ('강남', 81),\n",
       " ('환영', 81),\n",
       " ('이어팟', 81),\n",
       " ('물건', 80),\n",
       " ('원하시는', 80),\n",
       " ('등록', 80),\n",
       " ('이미지', 80),\n",
       " ('일산', 80),\n",
       " ('이동', 80),\n",
       " ('또한', 80),\n",
       " ('징', 79),\n",
       " ('비닐', 79),\n",
       " ('찍힘이', 79),\n",
       " ('완납', 79),\n",
       " ('무료', 78),\n",
       " ('단자', 78),\n",
       " ('이외', 78),\n",
       " ('연', 77),\n",
       " ('금제', 77),\n",
       " ('구성은', 77),\n",
       " ('찍힌', 77),\n",
       " ('의사', 77),\n",
       " ('중화역', 77),\n",
       " ('있으나', 76),\n",
       " ('하니', 76),\n",
       " ('부', 76),\n",
       " ('의정부', 76),\n",
       " ('있으니', 76),\n",
       " ('일반', 75),\n",
       " ('남았습니다', 75),\n",
       " ('칩', 75),\n",
       " ('톡', 74),\n",
       " ('엑스페리아', 74),\n",
       " ('후시', 74),\n",
       " ('받지', 74),\n",
       " ('붙여', 74),\n",
       " ('빠른', 74),\n",
       " ('락폰', 74),\n",
       " ('개호환', 74),\n",
       " ('현상', 73),\n",
       " ('대개', 73),\n",
       " ('얼마', 73),\n",
       " ('제거', 73),\n",
       " ('감안', 73),\n",
       " ('했는데', 73),\n",
       " ('하였고', 73),\n",
       " ('안전거래도', 72),\n",
       " ('팜', 72),\n",
       " ('하려고', 72),\n",
       " ('올립니다', 72),\n",
       " ('예정', 72),\n",
       " ('유지', 71),\n",
       " ('목포', 71),\n",
       " ('월희', 71),\n",
       " ('알뜰폰', 71),\n",
       " ('둘다', 71),\n",
       " ('성남', 70),\n",
       " ('악세사리', 70),\n",
       " ('공공', 70),\n",
       " ('물품', 70),\n",
       " ('크게', 70),\n",
       " ('울산', 70),\n",
       " ('안양', 69),\n",
       " ('심', 69),\n",
       " ('같은', 69),\n",
       " ('집', 69),\n",
       " ('어댑터', 69),\n",
       " ('않았습니다', 69),\n",
       " ('iphone', 69),\n",
       " ('검수', 69),\n",
       " ('정중히', 68),\n",
       " ('레드', 68),\n",
       " ('전화기', 68),\n",
       " ('빼', 68),\n",
       " ('화웨이', 68),\n",
       " ('경기', 68),\n",
       " ('내년', 68),\n",
       " ('이력', 68),\n",
       " ('업무', 68),\n",
       " ('샤오미', 68),\n",
       " ('짐', 68),\n",
       " ('용기', 68),\n",
       " ('일단', 68),\n",
       " ('받고', 68),\n",
       " ('각', 67),\n",
       " ('있으시면', 67),\n",
       " ('광역시', 67),\n",
       " ('창원', 67),\n",
       " ('결과', 67),\n",
       " ('가죽', 67),\n",
       " ('설정', 66),\n",
       " ('하셔서', 66),\n",
       " ('어디', 66),\n",
       " ('이면', 66),\n",
       " ('지프로', 66),\n",
       " ('했고', 66),\n",
       " ('결제', 66),\n",
       " ('데이터', 65),\n",
       " ('전원', 65),\n",
       " ('미세한', 65),\n",
       " ('aa', 65),\n",
       " ('가능하니', 65),\n",
       " ('있으', 64),\n",
       " ('써서', 64),\n",
       " ('받습니다', 64),\n",
       " ('기존', 64),\n",
       " ('등등', 63),\n",
       " ('없네요', 63),\n",
       " ('되도록', 63),\n",
       " ('무기', 63),\n",
       " ('실기', 63),\n",
       " ('자부', 63),\n",
       " ('아시겠지만', 62),\n",
       " ('세트', 62),\n",
       " ('반', 62),\n",
       " ('눈', 62),\n",
       " ('우측', 62),\n",
       " ('언락', 62),\n",
       " ('올해', 62),\n",
       " ('빨리', 62),\n",
       " ('제조', 61),\n",
       " ('++', 61),\n",
       " ('주변', 61),\n",
       " ('않으며', 61),\n",
       " ('봅니다', 60),\n",
       " ('지원', 60),\n",
       " ('함', 60),\n",
       " ('상관없이', 60),\n",
       " ('입니다구', 60),\n",
       " ('이유', 60),\n",
       " ('가서', 60),\n",
       " ('위주', 60),\n",
       " ('않고', 60),\n",
       " ('출시', 60),\n",
       " ('화이트골드', 60),\n",
       " ('오닉스', 60),\n",
       " ('티', 59),\n",
       " ('내부', 59),\n",
       " ('쓰실', 59),\n",
       " ('없어서', 59),\n",
       " ('slte', 59),\n",
       " ('현금', 59),\n",
       " ('챙겨', 59),\n",
       " ('말씀', 59),\n",
       " ('보증', 58),\n",
       " ('에누리', 58),\n",
       " ('sktg', 58),\n",
       " ('전용', 58),\n",
       " ('신용', 58),\n",
       " ('헬로모바일', 58),\n",
       " ('통일', 58),\n",
       " ('실제', 57),\n",
       " ('드리고', 57),\n",
       " ('깨끗하게', 57),\n",
       " ('스피커', 57),\n",
       " ('총', 57),\n",
       " ('흰색', 57),\n",
       " ('우체국택배', 57),\n",
       " ('보면', 57),\n",
       " ('통신', 57),\n",
       " ('스카이', 56),\n",
       " ('쓰시', 56),\n",
       " ('밖에', 56),\n",
       " ('원래', 56),\n",
       " ('정보', 56),\n",
       " ('물론', 56),\n",
       " ('날', 56),\n",
       " ('마지막', 56),\n",
       " ('되어있습니다', 56),\n",
       " ('받았습니다', 56),\n",
       " ('애플스토어', 56),\n",
       " ('믿고', 55),\n",
       " ('흔적', 55),\n",
       " ('되면', 55),\n",
       " ('통', 55),\n",
       " ('드림', 55),\n",
       " ('실리콘', 55),\n",
       " ('선물', 55),\n",
       " ('위치', 55),\n",
       " ('조정', 55),\n",
       " ('회사', 55),\n",
       " ('plus', 55),\n",
       " ('근무', 55),\n",
       " ('바', 55),\n",
       " ('내놓습니다', 55),\n",
       " ('상해', 54),\n",
       " ('붙이', 54),\n",
       " ('있어', 54),\n",
       " ('지장', 54),\n",
       " ('되지', 54),\n",
       " ('셋', 54),\n",
       " ('부평', 54),\n",
       " ('편입', 54),\n",
       " ('김포', 54),\n",
       " ('의무', 54),\n",
       " ('안전하게', 54),\n",
       " ('일이', 54),\n",
       " ('시크릿', 53),\n",
       " ('칠', 53),\n",
       " ('거리', 53),\n",
       " ('인치', 53),\n",
       " ('역시', 53),\n",
       " ('흥정', 53),\n",
       " ('찔러', 53),\n",
       " ('빼고', 53),\n",
       " ('순천', 53),\n",
       " ('c', 52),\n",
       " ('비밀번호', 52),\n",
       " ('잠금', 52),\n",
       " ('sphw', 52),\n",
       " ('부탁', 52),\n",
       " ('cj', 52),\n",
       " ('직', 52),\n",
       " ('되며', 52),\n",
       " ('성능', 52),\n",
       " ('최상급', 52),\n",
       " ('aaa', 52),\n",
       " ('사서', 52),\n",
       " ('해지한', 52),\n",
       " ('램', 52),\n",
       " ('잠실', 52),\n",
       " ('스크레치', 52),\n",
       " ('걱정', 52),\n",
       " ('늦어요', 52),\n",
       " ('법적', 52),\n",
       " ('찍힘은', 52),\n",
       " ('순', 51),\n",
       " ('불로', 51),\n",
       " ('없지만', 51),\n",
       " ('lgsu', 51),\n",
       " ('다녀서', 51),\n",
       " ('넣어', 51),\n",
       " ('쓰고', 51),\n",
       " ('카카오', 51),\n",
       " ('받아서', 51),\n",
       " ('일주일', 51),\n",
       " ('지하철', 51),\n",
       " ('직구', 51),\n",
       " ('무조건', 51),\n",
       " ('평택', 50),\n",
       " ('협의', 50),\n",
       " ('루나', 50),\n",
       " ('잔기', 50),\n",
       " ('좋구요', 50),\n",
       " ('끝', 50),\n",
       " ('죄송합니다', 50),\n",
       " ('법', 50),\n",
       " ('빠르게', 50),\n",
       " ('하다가', 49),\n",
       " ('찍어', 49),\n",
       " ('안나', 49),\n",
       " ('로만', 49),\n",
       " ('브라운', 49),\n",
       " ('육', 49),\n",
       " ('티타늄', 49),\n",
       " ('안전한', 49),\n",
       " ('책임집니다', 49),\n",
       " ('되서', 49),\n",
       " ('note', 49),\n",
       " ('색', 48),\n",
       " ('티탄', 48),\n",
       " ('여기', 48),\n",
       " ('일체', 48),\n",
       " ('메모리', 48),\n",
       " ('측면', 48),\n",
       " ('옆', 48),\n",
       " ('드릴수', 48),\n",
       " ('오셔서', 48),\n",
       " ('외부', 47),\n",
       " ('gold', 47),\n",
       " ('빼고는', 47),\n",
       " ('우체국', 47),\n",
       " ('깨짐', 47),\n",
       " ('고객', 47),\n",
       " ('좋음', 47),\n",
       " ('특성', 47),\n",
       " ('기단', 47),\n",
       " ('lt', 46),\n",
       " ('dmb', 46),\n",
       " ('lglu', 46),\n",
       " ('좋겠습니다', 46),\n",
       " ('계속', 46),\n",
       " ('위쪽', 46),\n",
       " ('알', 46),\n",
       " ('하는데', 46),\n",
       " ('깨끗이', 46),\n",
       " ('하루', 46),\n",
       " ('드릴', 46),\n",
       " ('롬', 46),\n",
       " ('애지중지', 46),\n",
       " ('정', 45),\n",
       " ('서울시', 45),\n",
       " ('편이', 45),\n",
       " ('관계', 45),\n",
       " ('신규', 45),\n",
       " ('년도', 45),\n",
       " ('하였으며', 45),\n",
       " ('업', 45),\n",
       " ('어플', 45),\n",
       " ('지난', 45),\n",
       " ('쓴', 45),\n",
       " ('방수', 45),\n",
       " ('조회', 44),\n",
       " ('관', 44),\n",
       " ('하셔야', 44),\n",
       " ('시오', 44),\n",
       " ('슈피겐', 44),\n",
       " ('앞뒤', 44),\n",
       " ('추천', 43),\n",
       " ('lgsh', 43),\n",
       " ('서구', 43),\n",
       " ('상관없습니다', 43),\n",
       " ('가능하십니다', 43),\n",
       " ('m', 43),\n",
       " ('울', 43),\n",
       " ('별로', 43),\n",
       " ('이상무', 43),\n",
       " ('고속', 43),\n",
       " ('마시고', 43),\n",
       " ('등급', 43),\n",
       " ('저촉', 43),\n",
       " ('이기', 43),\n",
       " ('됐습니다', 43),\n",
       " ('smnk', 43),\n",
       " ('끝났습니다', 43),\n",
       " ('취급', 43),\n",
       " ('요청', 42),\n",
       " ('동봉', 42),\n",
       " ('팬택', 42),\n",
       " ('수준', 42),\n",
       " ('맨', 42),\n",
       " ('깨끗함', 42),\n",
       " ('세용', 42),\n",
       " ('동대문구', 42),\n",
       " ('깨진', 42),\n",
       " ('보입니다', 42),\n",
       " ('강동', 42),\n",
       " ('사설', 42),\n",
       " ('계양구', 42),\n",
       " ('업자', 42),\n",
       " ('퀄컴', 42),\n",
       " ('바꾸게', 42),\n",
       " ('본인', 41),\n",
       " ('키', 41),\n",
       " ('되있습니다', 41),\n",
       " ('이내', 41),\n",
       " ('진동', 41),\n",
       " ('같은거', 41),\n",
       " ('사은', 41),\n",
       " ('않아', 41),\n",
       " ('스티커', 41),\n",
       " ('깔끔한', 41),\n",
       " ('뽁뽁', 41),\n",
       " ('송파', 41),\n",
       " ('여부', 40),\n",
       " ('홍대', 40),\n",
       " ('롤리팝', 40),\n",
       " ('핀', 40),\n",
       " ('im', 40),\n",
       " ('깨끗', 40),\n",
       " ('블루투스', 40),\n",
       " ('씌우고', 40),\n",
       " ('깔끔합니다', 40),\n",
       " ('라인', 40),\n",
       " ('했어요', 40),\n",
       " ('남아', 40),\n",
       " ('쓰셔도', 40),\n",
       " ('할부', 40),\n",
       " ('값', 40),\n",
       " ('라이트닝', 40),\n",
       " ('해드리겠습니다', 39),\n",
       " ('보이지', 39),\n",
       " ('남겨주세요', 39),\n",
       " ('하다', 39),\n",
       " ('샤베트', 39),\n",
       " ('p', 39),\n",
       " ('검색', 39),\n",
       " ('끼워서', 39),\n",
       " ('인하', 39),\n",
       " ('남은', 39),\n",
       " ('받을', 39),\n",
       " ('관련', 39),\n",
       " ('드리고요', 39),\n",
       " ('경산', 39),\n",
       " ('끼우면', 39),\n",
       " ('사기', 39),\n",
       " ('영', 39),\n",
       " ('광양', 39),\n",
       " ('퀵서비스', 39),\n",
       " ('사람', 38),\n",
       " ('넣어서', 38),\n",
       " ('아니니', 38),\n",
       " ('마세요', 38),\n",
       " ('상의', 38),\n",
       " ('짜리', 38),\n",
       " ('현', 38),\n",
       " ('낮', 38),\n",
       " ('깨끗해요', 38),\n",
       " ('여러', 38),\n",
       " ('잭', 38),\n",
       " ('흠', 38),\n",
       " ('됨', 38),\n",
       " ('끝난', 38),\n",
       " ('설치', 38),\n",
       " ('있는거', 38),\n",
       " ('가장', 38),\n",
       " ('진짜', 38),\n",
       " ('광대역', 38),\n",
       " ('없다고', 38),\n",
       " ('찍힘이나', 38),\n",
       " ('원하구요', 38),\n",
       " ('ok', 38),\n",
       " ('lgkh', 37),\n",
       " ('자급', 37),\n",
       " ('아이', 37),\n",
       " ('경남', 37),\n",
       " ('오전', 37),\n",
       " ('부탁드려요', 37),\n",
       " ('일괄', 37),\n",
       " ('가셔서', 37),\n",
       " ('올려', 37),\n",
       " ('하시기', 37),\n",
       " ('대신', 37),\n",
       " ('촬영', 37),\n",
       " ('전북', 37),\n",
       " ('바꾸면서', 37),\n",
       " ('저장', 37),\n",
       " ('한글', 37),\n",
       " ('시세', 37),\n",
       " ('상자', 37),\n",
       " ('여수', 37),\n",
       " ('칠이사이', 37),\n",
       " ('답터', 36),\n",
       " ('착용', 36),\n",
       " ('이전', 36),\n",
       " ('멀쩡합니다', 36),\n",
       " ('연결', 36),\n",
       " ('해보니', 36),\n",
       " ('최저', 36),\n",
       " ('당일', 36),\n",
       " ('편의점', 36),\n",
       " ('shves', 36),\n",
       " ('써', 36),\n",
       " ('회', 36),\n",
       " ('알리', 36),\n",
       " ('드리며', 36),\n",
       " ('없고요', 36),\n",
       " ('파는', 36),\n",
       " ('있네요', 36),\n",
       " ('아예', 36),\n",
       " ('중랑구', 36),\n",
       " ('일자', 36),\n",
       " ('있고요', 36),\n",
       " ('월말', 36),\n",
       " ('쓰다가', 36),\n",
       " ('여서', 36),\n",
       " ('와같이', 36),\n",
       " ('받아', 36),\n",
       " ('소니', 35),\n",
       " ('스타일', 35),\n",
       " ('휘', 35),\n",
       " ('긁', 35),\n",
       " ('되었고', 35),\n",
       " ('요구', 35),\n",
       " ('가구', 35),\n",
       " ('뭐', 35),\n",
       " ('강동구', 35),\n",
       " ('실물', 35),\n",
       " ('넣고', 35),\n",
       " ('붙어있는', 35),\n",
       " ('되요', 35),\n",
       " ('가능하고요', 35),\n",
       " ('정식', 35),\n",
       " ('강남역', 35),\n",
       " ('눌러서', 35),\n",
       " ('점검', 35),\n",
       " ('일대', 35),\n",
       " ('보험', 35),\n",
       " ('밤', 34),\n",
       " ('둘', 34),\n",
       " ...]"
      ]
     },
     "execution_count": 29,
     "metadata": {},
     "output_type": "execute_result"
    }
   ],
   "source": [
    "from collections import Counter\n",
    "\n",
    "# 빈출 단어 추출\n",
    "corpus = sum(df['text'].apply(lambda x: get_pos(x)).tolist(), [])\n",
    "counter = Counter(corpus)\n",
    "counts = counter.most_common(2500)\n",
    "common_words = [key for key, _ in counter.most_common(2500)]\n",
    "\n",
    "counts"
   ]
  },
  {
   "cell_type": "code",
   "execution_count": 30,
   "metadata": {},
   "outputs": [
    {
     "data": {
      "text/plain": [
       "1    4296\n",
       "0     334\n",
       "2     321\n",
       "Name: price_level, dtype: int64"
      ]
     },
     "execution_count": 30,
     "metadata": {},
     "output_type": "execute_result"
    }
   ],
   "source": [
    "df['price_level'].value_counts()"
   ]
  },
  {
   "cell_type": "markdown",
   "metadata": {},
   "source": [
    "-----"
   ]
  },
  {
   "cell_type": "markdown",
   "metadata": {},
   "source": [
    "##### TF-IDF 벡터 생성"
   ]
  },
  {
   "cell_type": "code",
   "execution_count": 31,
   "metadata": {},
   "outputs": [
    {
     "name": "stdout",
     "output_type": "stream",
     "text": [
      "(1284, 2476)\n",
      "(321, 2476)\n"
     ]
    }
   ],
   "source": [
    "from sklearn.feature_extraction.text import CountVectorizer\n",
    "from sklearn.feature_extraction.text import TfidfTransformer\n",
    "\n",
    "# 빈출 단어를 제외한 모든 형태소 제거\n",
    "def get_common_pos(x):\n",
    "    tagger = Okt()\n",
    "    poses = tagger.pos(x)\n",
    "    return [pos[0] for pos in poses if pos[0] in common_words]\n",
    "\n",
    "# 1:3:1 비율로 랜덤 샘플링\n",
    "negative_random = df[df['price_level']=='0'].sample(321, random_state=30)\n",
    "neutral_random = df[df['price_level']=='1'].sample(321*3, random_state=30)\n",
    "positive_random = df[df['price_level']=='2'].sample(321, random_state=30)\n",
    "\n",
    "# 샘플링 완료된 데이터셋\n",
    "df_sample = negative_random.append(neutral_random).append(positive_random)\n",
    "\n",
    "# TF-IDF\n",
    "index_vectorizer = CountVectorizer(tokenizer = lambda x: get_common_pos(x))\n",
    "X = index_vectorizer.fit_transform(df_sample['text'].tolist())\n",
    "tfidf_vectorizer = TfidfTransformer()\n",
    "X = tfidf_vectorizer.fit_transform(X)\n",
    "\n",
    "# 감성 분류 학습 데이터셋\n",
    "y = df_sample['price_level']\n",
    "x_train, x_test, y_train, y_test = train_test_split(X, y, test_size=0.20, random_state=30)\n",
    "print(x_train.shape)\n",
    "print(x_test.shape)"
   ]
  },
  {
   "cell_type": "markdown",
   "metadata": {},
   "source": [
    "-----"
   ]
  },
  {
   "cell_type": "markdown",
   "metadata": {},
   "source": [
    "##### 상품 상태 분류하기"
   ]
  },
  {
   "cell_type": "code",
   "execution_count": 32,
   "metadata": {},
   "outputs": [
    {
     "name": "stdout",
     "output_type": "stream",
     "text": [
      "Accuracy: 0.77\n"
     ]
    }
   ],
   "source": [
    "from sklearn.metrics import accuracy_score\n",
    "from sklearn.svm import SVC\n",
    "\n",
    "# 비선형 SVM 분류기\n",
    "svm = SVC(kernel='rbf', C=10.0, random_state=0, gamma=0.10)\n",
    "svm.fit(x_train, y_train)\n",
    "y_pred_ksvc = svm.predict(x_test)\n",
    "print('Accuracy: %.2f' % accuracy_score(y_test, y_pred_ksvc))\n",
    "# pickle.dump(svm, open(os.path.join(dest, 'svm_for_textClassify.pkl'), 'wb')) "
   ]
  },
  {
   "cell_type": "code",
   "execution_count": 33,
   "metadata": {},
   "outputs": [
    {
     "name": "stdout",
     "output_type": "stream",
     "text": [
      "[[ 30  28   4]\n",
      " [ 10 181  10]\n",
      " [  2  21  35]]\n"
     ]
    }
   ],
   "source": [
    "from sklearn.metrics import confusion_matrix\n",
    "\n",
    "confmat = confusion_matrix(y_true=y_test, y_pred=y_pred_ksvc)\n",
    "print(confmat)"
   ]
  },
  {
   "cell_type": "markdown",
   "metadata": {},
   "source": [
    "-----"
   ]
  },
  {
   "cell_type": "markdown",
   "metadata": {},
   "source": [
    "# <Step3. 예측> : 중고폰 거래가 예측"
   ]
  },
  {
   "cell_type": "markdown",
   "metadata": {},
   "source": [
    "### [Random forest regressor 재학습]"
   ]
  },
  {
   "cell_type": "code",
   "execution_count": 34,
   "metadata": {},
   "outputs": [
    {
     "name": "stdout",
     "output_type": "stream",
     "text": [
      "MSE train: 4777797811.307, test: 10961060265.994\n",
      "R^2 train: 0.901, test: 0.749\n"
     ]
    },
    {
     "data": {
      "text/plain": [
       "[('maker_apple', 0.25339718975494213),\n",
       " ('factory_price', 0.2529054191619952),\n",
       " ('create_time_score', 0.11636719868787332),\n",
       " ('phone_model_storage_16gb', 0.06082745454564304),\n",
       " ('product_status_2', 0.04786212666938887),\n",
       " ('phone_model_detail_galaxy s7 edge', 0.02792059568214229),\n",
       " ('phone_model_storage_64gb', 0.025842851813607428),\n",
       " ('phone_model_detail_galaxy note5', 0.02394567208931084),\n",
       " ('phone_model_detail_galaxy s7', 0.02178632865392917),\n",
       " ('product_status_0', 0.021760518308375065)]"
      ]
     },
     "execution_count": 34,
     "metadata": {},
     "output_type": "execute_result"
    },
    {
     "data": {
      "image/png": "[encoded data removed]",
      "text/plain": [
       "<Figure size 432x288 with 1 Axes>"
      ]
     },
     "metadata": {
      "needs_background": "light"
     },
     "output_type": "display_data"
    }
   ],
   "source": [
    "# Text 피처로 '상품 상태 피처' 생성\n",
    "X = index_vectorizer.transform(df['text'].tolist())\n",
    "X = tfidf_vectorizer.transform(X)\n",
    "df['product_status'] = pd.Series(svm.predict(X))\n",
    "\n",
    "# 모델링 데이터 준비\n",
    "df = df[['price', 'factory_price', 'maker', 'price_index', 'create_time_score', 'phone_model_storage',\n",
    "                'phone_model_detail', 'product_status']]\n",
    "df = pd.get_dummies(df, columns=['maker', 'phone_model_storage', 'phone_model_detail', 'product_status'])\n",
    "\n",
    "# Train, Test 데이터 분리\n",
    "X = df.loc[:, df.columns != 'price']\n",
    "y = df['price']\n",
    "X_train, X_test, y_train, y_test = train_test_split(X, y, test_size=0.3, random_state=0)\n",
    "\n",
    "# 랜덤 포레스트 학습 및 평가\n",
    "forest = RandomForestRegressor(n_estimators=1000,\n",
    "                               criterion='mse')\n",
    "forest.fit(X_train, y_train)\n",
    "y_train_pred = forest.predict(X_train)\n",
    "y_test_pred = forest.predict(X_test)\n",
    "print('MSE train: %.3f, test: %.3f' % (\n",
    "        mean_squared_error(y_train, y_train_pred),\n",
    "        mean_squared_error(y_test, y_test_pred)))\n",
    "print('R^2 train: %.3f, test: %.3f' % (\n",
    "        r2_score(y_train, y_train_pred),\n",
    "        r2_score(y_test, y_test_pred)))\n",
    "\n",
    "# 피처 중요도 plot\n",
    "importances = forest.feature_importances_\n",
    "plt.plot(importances, \"o\")\n",
    "\n",
    "# 피처 중요도 print\n",
    "feat_labels = X.columns.tolist()\n",
    "feature = list(zip(feat_labels, forest.feature_importances_))\n",
    "sorted(feature, key=lambda tup: tup[1], reverse=True)[:10]"
   ]
  },
  {
   "cell_type": "markdown",
   "metadata": {},
   "source": [
    "------"
   ]
  },
  {
   "cell_type": "markdown",
   "metadata": {},
   "source": [
    "##### feature-index 관련 딕셔너리 생성"
   ]
  },
  {
   "cell_type": "code",
   "execution_count": 35,
   "metadata": {},
   "outputs": [
    {
     "name": "stdout",
     "output_type": "stream",
     "text": [
      "{'factory_price': 0, 'price_index': 1, ' ...\n"
     ]
    }
   ],
   "source": [
    "col_to_index_dict = {}\n",
    "for idx, col in enumerate(df.columns[1:]):\n",
    "    col_to_index_dict[col] = idx\n",
    "    \n",
    "print(str(col_to_index_dict)[:40], \"...\")"
   ]
  },
  {
   "cell_type": "markdown",
   "metadata": {},
   "source": [
    "-----"
   ]
  },
  {
   "cell_type": "markdown",
   "metadata": {},
   "source": [
    "##### 예측 결과 scatter plot"
   ]
  },
  {
   "cell_type": "code",
   "execution_count": 36,
   "metadata": {},
   "outputs": [
    {
     "data": {
      "text/plain": [
       "<matplotlib.collections.PathCollection at 0x18efdc55e48>"
      ]
     },
     "execution_count": 36,
     "metadata": {},
     "output_type": "execute_result"
    },
    {
     "data": {
      "image/png": "[encoded data removed]",
      "text/plain": [
       "<Figure size 432x288 with 1 Axes>"
      ]
     },
     "metadata": {
      "needs_background": "light"
     },
     "output_type": "display_data"
    }
   ],
   "source": [
    "plt.scatter(y_test.values, y_test_pred)"
   ]
  },
  {
   "cell_type": "markdown",
   "metadata": {},
   "source": [
    "-----"
   ]
  },
  {
   "cell_type": "markdown",
   "metadata": {},
   "source": [
    "### [최적의 모델 파라미터 찾기]"
   ]
  },
  {
   "cell_type": "code",
   "execution_count": 37,
   "metadata": {},
   "outputs": [
    {
     "name": "stdout",
     "output_type": "stream",
     "text": [
      "Fitting 3 folds for each of 100 candidates, totalling 300 fits\n"
     ]
    },
    {
     "name": "stderr",
     "output_type": "stream",
     "text": [
      "[Parallel(n_jobs=-1)]: Using backend LokyBackend with 4 concurrent workers.\n",
      "[Parallel(n_jobs=-1)]: Done  33 tasks      | elapsed:  1.3min\n",
      "[Parallel(n_jobs=-1)]: Done 154 tasks      | elapsed:  3.9min\n",
      "[Parallel(n_jobs=-1)]: Done 300 out of 300 | elapsed:  8.8min finished\n",
      "C:\\ProgramData\\Anaconda3\\lib\\site-packages\\sklearn\\model_selection\\_search.py:841: DeprecationWarning: The default of the `iid` parameter will change from True to False in version 0.22 and will be removed in 0.24. This will change numeric results when test-set sizes are unequal.\n",
      "  DeprecationWarning)\n"
     ]
    },
    {
     "data": {
      "text/plain": [
       "RandomizedSearchCV(cv=3, error_score='raise-deprecating',\n",
       "          estimator=RandomForestRegressor(bootstrap=True, criterion='mse', max_depth=None,\n",
       "           max_features='auto', max_leaf_nodes=None,\n",
       "           min_impurity_decrease=0.0, min_impurity_split=None,\n",
       "           min_samples_leaf=1, min_samples_split=2,\n",
       "           min_weight_fraction_leaf=0.0, n_estimators='warn', n_jobs=None,\n",
       "           oob_score=False, random_state=None, verbose=0, warm_start=False),\n",
       "          fit_params=None, iid='warn', n_iter=100, n_jobs=-1,\n",
       "          param_distributions={'n_estimators': [200, 400, 600, 800, 1000, 1200, 1400, 1600, 1800, 2000], 'max_features': ['auto', 'sqrt'], 'max_depth': [10, 20, 30, 40, 50, 60, 70, 80, 90, 100, 110, None], 'bootstrap': [True, False]},\n",
       "          pre_dispatch='2*n_jobs', random_state=42, refit=True,\n",
       "          return_train_score='warn', scoring=None, verbose=2)"
      ]
     },
     "execution_count": 37,
     "metadata": {},
     "output_type": "execute_result"
    }
   ],
   "source": [
    "from sklearn.model_selection import RandomizedSearchCV\n",
    "\n",
    "# 파라미터 후보군 선정\n",
    "n_estimators = [int(x) for x in np.linspace(start = 200, stop = 2000, num = 10)]\n",
    "max_features = ['auto', 'sqrt']\n",
    "max_depth = [int(x) for x in np.linspace(10, 110, num = 11)]\n",
    "max_depth.append(None)\n",
    "bootstrap = [True, False]\n",
    "\n",
    "# RandomizedSearchCV 오브젝트 생성\n",
    "random_grid = {'n_estimators': n_estimators,\n",
    "               'max_features': max_features,\n",
    "               'max_depth': max_depth,\n",
    "               'bootstrap': bootstrap}\n",
    "forest = RandomForestRegressor()\n",
    "optimal_forest = RandomizedSearchCV(estimator = forest, \n",
    "                                    param_distributions = random_grid, \n",
    "                                    n_iter = 100, \n",
    "                                    cv = 3, \n",
    "                                    verbose=2,\n",
    "                                    random_state=42, \n",
    "                                    n_jobs = -1)\n",
    "\n",
    "# 모델 학습\n",
    "X = df.loc[:, df.columns != 'price']\n",
    "y = df['price']\n",
    "optimal_forest.fit(X, y)"
   ]
  },
  {
   "cell_type": "markdown",
   "metadata": {},
   "source": [
    "-----"
   ]
  },
  {
   "cell_type": "markdown",
   "metadata": {},
   "source": [
    "##### 최적 파라미터 출력"
   ]
  },
  {
   "cell_type": "code",
   "execution_count": 38,
   "metadata": {},
   "outputs": [
    {
     "data": {
      "text/plain": [
       "{'n_estimators': 2000,\n",
       " 'max_features': 'auto',\n",
       " 'max_depth': 10,\n",
       " 'bootstrap': False}"
      ]
     },
     "execution_count": 38,
     "metadata": {},
     "output_type": "execute_result"
    }
   ],
   "source": [
    "optimal_forest.best_params_"
   ]
  },
  {
   "cell_type": "markdown",
   "metadata": {},
   "source": [
    "-----"
   ]
  },
  {
   "cell_type": "markdown",
   "metadata": {},
   "source": [
    "##### 최적 모델 학습 결과"
   ]
  },
  {
   "cell_type": "code",
   "execution_count": 39,
   "metadata": {},
   "outputs": [
    {
     "name": "stdout",
     "output_type": "stream",
     "text": [
      "MSE train: 8808359342.848, test: 7645657258.599\n",
      "R^2 train: 0.818, test: 0.825\n"
     ]
    },
    {
     "data": {
      "text/plain": [
       "[('factory_price', 0.29646178523290273),\n",
       " ('maker_apple', 0.27561463622459076),\n",
       " ('phone_model_storage_16gb', 0.07214209431234403),\n",
       " ('create_time_score', 0.0657513685035865),\n",
       " ('product_status_2', 0.06263992520032223),\n",
       " ('phone_model_detail_galaxy s7 edge', 0.027077101189726924),\n",
       " ('phone_model_detail_iphone 6', 0.025028165789604363),\n",
       " ('product_status_0', 0.02443523519070575),\n",
       " ('phone_model_detail_galaxy s4', 0.020530253156036227),\n",
       " ('product_status_1', 0.01381250513598047)]"
      ]
     },
     "execution_count": 39,
     "metadata": {},
     "output_type": "execute_result"
    },
    {
     "data": {
      "image/png": "[encoded data removed]",
      "text/plain": [
       "<Figure size 432x288 with 1 Axes>"
      ]
     },
     "metadata": {
      "needs_background": "light"
     },
     "output_type": "display_data"
    }
   ],
   "source": [
    "y_train_pred = optimal_forest.predict(X_train)\n",
    "y_test_pred = optimal_forest.predict(X_test)\n",
    "print('MSE train: %.3f, test: %.3f' % (\n",
    "        mean_squared_error(y_train, y_train_pred),\n",
    "        mean_squared_error(y_test, y_test_pred)))\n",
    "print('R^2 train: %.3f, test: %.3f' % (\n",
    "        r2_score(y_train, y_train_pred),\n",
    "        r2_score(y_test, y_test_pred)))\n",
    "\n",
    "# 피처 중요도 plot\n",
    "importances = optimal_forest.best_estimator_.feature_importances_\n",
    "indices = np.argsort(importances)[::-1]\n",
    "plt.bar(range(X.shape[1]), importances[indices])\n",
    "\n",
    "# 피처 중요도 print\n",
    "feat_labels = X.columns.tolist()\n",
    "feature = list(zip(feat_labels, optimal_forest.best_estimator_.feature_importances_))\n",
    "sorted(feature, key=lambda tup: tup[1], reverse=True)[:10]"
   ]
  },
  {
   "cell_type": "markdown",
   "metadata": {},
   "source": [
    "-----"
   ]
  },
  {
   "cell_type": "markdown",
   "metadata": {},
   "source": [
    "##### 예측 결과 scatter plot"
   ]
  },
  {
   "cell_type": "code",
   "execution_count": 40,
   "metadata": {},
   "outputs": [
    {
     "data": {
      "text/plain": [
       "<matplotlib.collections.PathCollection at 0x18effcff390>"
      ]
     },
     "execution_count": 40,
     "metadata": {},
     "output_type": "execute_result"
    },
    {
     "data": {
      "image/png": "[encoded data removed]",
      "text/plain": [
       "<Figure size 432x288 with 1 Axes>"
      ]
     },
     "metadata": {
      "needs_background": "light"
     },
     "output_type": "display_data"
    }
   ],
   "source": [
    "plt.scatter(y_test.values, y_test_pred)"
   ]
  },
  {
   "cell_type": "code",
   "execution_count": 41,
   "metadata": {},
   "outputs": [],
   "source": [
    "#TF-IDF로 생성된 벡터를 회귀분석 모델의 피처로 사용하는 것도 좋은 방법이지만, \n",
    "#그러한 분석 방법을 수행하려면 조금 더 많은 것들을 배워야 하기 때문에 이번 예제에서는 회귀모델의 피처로 사용하지는 않도록 하겠습니다."
   ]
  },
  {
   "cell_type": "markdown",
   "metadata": {},
   "source": [
    "-----"
   ]
  },
  {
   "cell_type": "markdown",
   "metadata": {},
   "source": [
    "# <Step4. 프로토타입> : 얼마고(Almhago?)"
   ]
  },
  {
   "cell_type": "markdown",
   "metadata": {},
   "source": [
    "### [재사용을 위한 파일 저장]"
   ]
  },
  {
   "cell_type": "code",
   "execution_count": 42,
   "metadata": {},
   "outputs": [
    {
     "data": {
      "text/plain": [
       "['../data/used_mobile_pickles/rf_regressor.pickle']"
      ]
     },
     "execution_count": 42,
     "metadata": {},
     "output_type": "execute_result"
    }
   ],
   "source": [
    "from sklearn.externals import joblib\n",
    "\n",
    "with open('../data/used_mobile_pickles/model_to_factory_price_dict.pickle', 'wb') as f:\n",
    "    pickle.dump(model_to_factory_price_dict, f, pickle.HIGHEST_PROTOCOL)\n",
    "    \n",
    "with open('../data/used_mobile_pickles/col_to_index_dict.pickle', 'wb') as f:\n",
    "    pickle.dump(col_to_index_dict, f, pickle.HIGHEST_PROTOCOL)\n",
    "    \n",
    "with open('../data/used_mobile_pickles/common_words.pickle', 'wb') as f:\n",
    "    pickle.dump(common_words, f, pickle.HIGHEST_PROTOCOL)\n",
    "    \n",
    "with open('../data/used_mobile_pickles/init_vectorizer_vocabulary.pickle', 'wb') as f:\n",
    "    pickle.dump(index_vectorizer.vocabulary_, f, pickle.HIGHEST_PROTOCOL)\n",
    "    \n",
    "with open('../data/used_mobile_pickles/tfidf_vectorizer.pickle', 'wb') as f:\n",
    "    pickle.dump(tfidf_vectorizer, f, pickle.HIGHEST_PROTOCOL)\n",
    "    \n",
    "with open('../data/used_mobile_pickles/svm_classifier.pickle', 'wb') as f:\n",
    "    pickle.dump(svm, f, pickle.HIGHEST_PROTOCOL)\n",
    "\n",
    "joblib.dump(optimal_forest.best_estimator_, '../data/used_mobile_pickles/rf_regressor.pickle', compress = 1)"
   ]
  },
  {
   "cell_type": "markdown",
   "metadata": {},
   "source": [
    "-----"
   ]
  },
  {
   "cell_type": "markdown",
   "metadata": {},
   "source": [
    "### [가격 예측 프로그램 만들기]"
   ]
  },
  {
   "cell_type": "markdown",
   "metadata": {},
   "source": [
    "##### 예측에 필요한 파일 로드"
   ]
  },
  {
   "cell_type": "code",
   "execution_count": 43,
   "metadata": {},
   "outputs": [],
   "source": [
    "import pickle\n",
    "\n",
    "with open('../data/used_mobile_pickles/model_to_factory_price_dict.pickle', 'rb') as f:\n",
    "    model_to_factory_price_dict = pickle.load(f)\n",
    "    \n",
    "with open('../data/used_mobile_pickles/col_to_index_dict.pickle', 'rb') as f:\n",
    "    col_to_index_dict = pickle.load(f)\n",
    "    \n",
    "with open('../data/used_mobile_pickles/common_words.pickle', 'rb') as f:\n",
    "    common_words = pickle.load(f)\n",
    "\n",
    "with open('../data/used_mobile_pickles/init_vectorizer_vocabulary.pickle', 'rb') as f:\n",
    "    init_vectorizer_vocabulary = pickle.load(f)\n",
    "    \n",
    "with open('../data/used_mobile_pickles/tfidf_vectorizer.pickle', 'rb') as f:\n",
    "    tfidf_vectorizer = pickle.load(f)\n",
    "    \n",
    "with open('../data/used_mobile_pickles/svm_classifier.pickle', 'rb') as f:\n",
    "    svm_classifier = pickle.load(f)\n",
    "\n",
    "rf_regressor = joblib.load('../data/used_mobile_pickles/rf_regressor.pickle')"
   ]
  },
  {
   "cell_type": "markdown",
   "metadata": {},
   "source": [
    "-----"
   ]
  },
  {
   "cell_type": "markdown",
   "metadata": {},
   "source": [
    "##### 프로그램(함수) 만들기"
   ]
  },
  {
   "cell_type": "code",
   "execution_count": 44,
   "metadata": {},
   "outputs": [],
   "source": [
    "import numpy as np\n",
    "\n",
    "from konlpy.tag import Okt\n",
    "from sklearn.feature_extraction.text import CountVectorizer\n",
    "from sklearn.feature_extraction.text import TfidfTransformer\n",
    "from sklearn.svm import SVC\n",
    "from sklearn.ensemble import RandomForestRegressor\n",
    "from sklearn.model_selection import RandomizedSearchCV\n",
    "\n",
    "\n",
    "class Almhago():\n",
    "    def __init__(self, model_to_factory_price_dict, col_to_index_dict, \n",
    "                 common_words, init_vectorizer_vocabulary, tfidf_vectorizer, \n",
    "                 prd_status_classifier, price_regressor):\n",
    "        self._model_to_factory_price_dict = model_to_factory_price_dict\n",
    "        self._col_to_index_dict = col_to_index_dict\n",
    "        self._common_words = common_words\n",
    "        self._init_vectorizer_vocabulary = init_vectorizer_vocabulary\n",
    "        self._index_vectorizer = self._init_index_vectorizer()\n",
    "        self._tfidf_vectorizer = tfidf_vectorizer\n",
    "        self._prd_status_classifier = prd_status_classifier\n",
    "        self._price_regressor = price_regressor\n",
    "        \n",
    "    def _get_common_pos(self, x):\n",
    "        tagger = Okt()\n",
    "        poses = tagger.pos(x)\n",
    "        return [pos[0] for pos in poses if pos[0] in self._common_words]\n",
    "    \n",
    "    def _text_cleaning(self, text):\n",
    "        text = ''.join(c for c in text if c.isalnum() or c in '+, ')\n",
    "        text = ''.join([i for i in text if not i.isdigit()])\n",
    "        return text\n",
    "        \n",
    "    def _init_index_vectorizer(self):\n",
    "        word_index_vectorizer = CountVectorizer(tokenizer = lambda x: self._get_common_pos(x))\n",
    "        word_index_vectorizer.vocabulary_ = self._init_vectorizer_vocabulary\n",
    "        return word_index_vectorizer\n",
    "    \n",
    "    def _get_ftr_price(self, model_name, storage):\n",
    "        return self._model_to_factory_price_dict[(model_name, storage)]\n",
    "    \n",
    "    def _get_prd_status(self, text):\n",
    "        X = self._index_vectorizer.transform([self._text_cleaning(program_test_dict['text'])])\n",
    "        X = self._tfidf_vectorizer.transform(X)\n",
    "        return self._prd_status_classifier.predict(X)[0]\n",
    "    \n",
    "    def _print_almhago(self, model, price, prd_status):\n",
    "        status = \"\"\n",
    "        if prd_status == \"0\":\n",
    "            status = \"불량한\"\n",
    "        elif prd_status == \"1\":\n",
    "            status = \"양호한\"\n",
    "        else:\n",
    "            status = \"좋은\"\n",
    "        print(\"선택하신\", model, \"모델은\", status, \"상태입니다. Almhago 예상 가격은\", str(int(price[0])), \"원 입니다.\")\n",
    "    \n",
    "    def predict(self, input_dict):\n",
    "        feature = np.zeros(64)\n",
    "        feature[self._col_to_index_dict['factory_price']] = self._get_ftr_price(input_dict['phone_model_detail'],\n",
    "                                                                                input_dict['phone_model_storage'])\n",
    "        feature[self._col_to_index_dict['price_index']] = input_dict['price_index']\n",
    "        feature[self._col_to_index_dict['create_time_score']] = input_dict['create_time_score']\n",
    "        feature[self._col_to_index_dict[\"_\".join([\"maker\", input_dict['maker']])]] = 1\n",
    "        feature[self._col_to_index_dict[\"_\".join([\"phone_model_detail\", input_dict['phone_model_detail']])]] = 1\n",
    "        feature[self._col_to_index_dict[\"_\".join([\"phone_model_storage\", input_dict['phone_model_storage']])]] = 1\n",
    "        feature[self._col_to_index_dict[\"_\".join([\"product_status\", self._get_prd_status(input_dict['text'])])]] = 1\n",
    "        \n",
    "        # predict result\n",
    "        predicted_price = self._price_regressor.predict([feature])\n",
    "        self._print_almhago(input_dict['phone_model_detail'], \n",
    "                            predicted_price, \n",
    "                            self._get_prd_status(input_dict['text']))"
   ]
  },
  {
   "cell_type": "markdown",
   "metadata": {},
   "source": [
    "-----"
   ]
  },
  {
   "cell_type": "markdown",
   "metadata": {},
   "source": [
    "##### 프로그램 테스트"
   ]
  },
  {
   "cell_type": "code",
   "execution_count": 45,
   "metadata": {},
   "outputs": [
    {
     "name": "stdout",
     "output_type": "stream",
     "text": [
      "선택하신 iphone 6 모델은 불량한 상태입니다. Almhago 예상 가격은 152307 원 입니다.\n"
     ]
    }
   ],
   "source": [
    "recent_price_index = 95.96\n",
    "recent_create_time_score = 1.0\n",
    "program_test_dict = {\"maker\": \"apple\",\n",
    "                     \"phone_model_detail\": \"iphone 6\",\n",
    "                     \"phone_model_storage\": \"16gb\",\n",
    "                     \"text\": '아이폰6 스페이스그레이 16기가 10만원에 팔아요~ 직접거래 \\\n",
    "                     메인보드 세척 완료 한 침수 폰 입니다폰 안켜지는 상테이구요 고쳐서 쓰실분 가져가세요10만원에 팔아요 \\\n",
    "                     리퍼한지 얼마안되서 기스 이런거 하나도 없습니당~서울 강남 근처 직거래 가능하며택배거래도 가능해요',\n",
    "                     \"price_index\": recent_price_index,\n",
    "                     \"create_time_score\": recent_create_time_score}\n",
    "\n",
    "almhago = Almhago(model_to_factory_price_dict, col_to_index_dict, \n",
    "                  common_words, init_vectorizer_vocabulary, tfidf_vectorizer, \n",
    "                  svm_classifier, rf_regressor)\n",
    "almhago.predict(program_test_dict)"
   ]
  }
 ],
 "metadata": {
  "kernelspec": {
   "display_name": "Python 3",
   "language": "python",
   "name": "python3"
  },
  "language_info": {
   "codemirror_mode": {
    "name": "ipython",
    "version": 3
   },
   "file_extension": ".py",
   "mimetype": "text/x-python",
   "name": "python",
   "nbconvert_exporter": "python",
   "pygments_lexer": "ipython3",
   "version": "3.7.2"
  },
  "toc": {
   "base_numbering": 1,
   "nav_menu": {},
   "number_sections": true,
   "sideBar": true,
   "skip_h1_title": false,
   "title_cell": "Table of Contents",
   "title_sidebar": "Contents",
   "toc_cell": false,
   "toc_position": {
    "height": "calc(100% - 180px)",
    "left": "10px",
    "top": "150px",
    "width": "384px"
   },
   "toc_section_display": true,
   "toc_window_display": true
  }
 },
 "nbformat": 4,
 "nbformat_minor": 2
}
