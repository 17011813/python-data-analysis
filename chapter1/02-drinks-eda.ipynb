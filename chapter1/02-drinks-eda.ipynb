{
 "cells": [
  {
   "cell_type": "markdown",
   "metadata": {},
   "source": [
    "Copyright (c) 2019 [윤기태]\n",
    "\n",
    "https://github.com/yoonkt200/python-data-analysis\n",
    "\n",
    "[MIT License](https://github.com/yoonkt200/python-data-analysis/blob/master/LICENSE.txt)"
   ]
  },
  {
   "cell_type": "markdown",
   "metadata": {},
   "source": [
    "# (가제) 파이썬 데이터 분석"
   ]
  },
  {
   "cell_type": "markdown",
   "metadata": {},
   "source": [
    "-----"
   ]
  },
  {
   "cell_type": "markdown",
   "metadata": {},
   "source": [
    "# 1.3 국가별 음주 데이터 분석하기"
   ]
  },
  {
   "cell_type": "markdown",
   "metadata": {},
   "source": [
    "### 바로가기"
   ]
  },
  {
   "cell_type": "markdown",
   "metadata": {},
   "source": [
    "- [1. 데이터의 기초 정보 살펴보기](#2.-데이터의-기초-정보-살펴보기)\n",
    "    - [drinks 데이터셋의 기본 정보]\n",
    "    - 1.2) 변수간의 상관관계 탐색\n",
    "        - [두 변수간의 상관계수 구하기]\n",
    "        - [여러 변수들의 상관관계 분석]\n",
    "    - [Chipotle 데이터셋의 수치적 특징 파악]\n",
    "    - [가장 많이 주문한 item]\n",
    "    - [주문된 item의 개수]\n",
    "    - [item당 주문 개수와 총량]\n",
    "- [2. 스무고개로 분석하는 개념적 탐색](#2.-스무고개로-분석하는-개념적-탐색)\n",
    "    - [결측 데이터 전처리]\n",
    "    - [그룹 단위의 데이터 분석 : 대륙별 분석]\n",
    "    - [그룹 단위의 데이터 분석 : 의미를 가지는 피처 재구성하기]\n",
    "- [3. 분석 대상간의 통계적인 차이 검정](#3.-분석-대상간의-통계적인-차이-검정)\n",
    "    - [아프리카와 유럽간의 술 소비량 차이 검정하기]\n",
    "- [대한민국은 얼마나 술을 독하게 마시는 나라일까?](#대한민국은-얼마나-술을-독하게-마시는-나라일까?)\n",
    "- [부록 : 탐색적 데이터 분석 리포트](#부록-:-탐색적-데이터-분석-리포트)"
   ]
  },
  {
   "cell_type": "markdown",
   "metadata": {},
   "source": [
    "-----"
   ]
  },
  {
   "cell_type": "code",
   "execution_count": 1,
   "metadata": {},
   "outputs": [],
   "source": [
    "%matplotlib inline"
   ]
  },
  {
   "cell_type": "markdown",
   "metadata": {},
   "source": [
    "# 1. 데이터의 기초 정보 살펴보기"
   ]
  },
  {
   "cell_type": "markdown",
   "metadata": {},
   "source": [
    "### [drinks 데이터셋의 기본 정보]"
   ]
  },
  {
   "cell_type": "code",
   "execution_count": 2,
   "metadata": {},
   "outputs": [],
   "source": [
    "# -*- coding: utf-8 -*-\n",
    "\n",
    "import pandas as pd\n",
    "import numpy as np\n",
    "\n",
    "url = 'https://raw.githubusercontent.com/yoonkt200/python-data-analysis/master/data/drinks.csv'\n",
    "drinks = pd.read_csv(url) # read_csv 함수로 데이터를 Dataframe 형태로 불러옵니다."
   ]
  },
  {
   "cell_type": "code",
   "execution_count": 3,
   "metadata": {},
   "outputs": [
    {
     "name": "stdout",
     "output_type": "stream",
     "text": [
      "(193, 6)\n",
      "------------------------------------\n",
      "<class 'pandas.core.frame.DataFrame'>\n",
      "RangeIndex: 193 entries, 0 to 192\n",
      "Data columns (total 6 columns):\n",
      "country                         193 non-null object\n",
      "beer_servings                   193 non-null int64\n",
      "spirit_servings                 193 non-null int64\n",
      "wine_servings                   193 non-null int64\n",
      "total_litres_of_pure_alcohol    193 non-null float64\n",
      "continent                       170 non-null object\n",
      "dtypes: float64(1), int64(3), object(2)\n",
      "memory usage: 9.1+ KB\n",
      "None\n",
      "------------------------------------\n",
      "Index(['country', 'beer_servings', 'spirit_servings', 'wine_servings',\n",
      "       'total_litres_of_pure_alcohol', 'continent'],\n",
      "      dtype='object')\n"
     ]
    }
   ],
   "source": [
    "print(drinks.shape)\n",
    "print(\"------------------------------------\")\n",
    "print(drinks.info())\n",
    "print(\"------------------------------------\")\n",
    "print(drinks.columns)"
   ]
  },
  {
   "cell_type": "code",
   "execution_count": 4,
   "metadata": {},
   "outputs": [
    {
     "data": {
      "text/html": [
       "<div>\n",
       "<style scoped>\n",
       "    .dataframe tbody tr th:only-of-type {\n",
       "        vertical-align: middle;\n",
       "    }\n",
       "\n",
       "    .dataframe tbody tr th {\n",
       "        vertical-align: top;\n",
       "    }\n",
       "\n",
       "    .dataframe thead th {\n",
       "        text-align: right;\n",
       "    }\n",
       "</style>\n",
       "<table border=\"1\" class=\"dataframe\">\n",
       "  <thead>\n",
       "    <tr style=\"text-align: right;\">\n",
       "      <th></th>\n",
       "      <th>country</th>\n",
       "      <th>beer_servings</th>\n",
       "      <th>spirit_servings</th>\n",
       "      <th>wine_servings</th>\n",
       "      <th>total_litres_of_pure_alcohol</th>\n",
       "      <th>continent</th>\n",
       "    </tr>\n",
       "  </thead>\n",
       "  <tbody>\n",
       "    <tr>\n",
       "      <th>0</th>\n",
       "      <td>Afghanistan</td>\n",
       "      <td>0</td>\n",
       "      <td>0</td>\n",
       "      <td>0</td>\n",
       "      <td>0.0</td>\n",
       "      <td>AS</td>\n",
       "    </tr>\n",
       "    <tr>\n",
       "      <th>1</th>\n",
       "      <td>Albania</td>\n",
       "      <td>89</td>\n",
       "      <td>132</td>\n",
       "      <td>54</td>\n",
       "      <td>4.9</td>\n",
       "      <td>EU</td>\n",
       "    </tr>\n",
       "    <tr>\n",
       "      <th>2</th>\n",
       "      <td>Algeria</td>\n",
       "      <td>25</td>\n",
       "      <td>0</td>\n",
       "      <td>14</td>\n",
       "      <td>0.7</td>\n",
       "      <td>AF</td>\n",
       "    </tr>\n",
       "    <tr>\n",
       "      <th>3</th>\n",
       "      <td>Andorra</td>\n",
       "      <td>245</td>\n",
       "      <td>138</td>\n",
       "      <td>312</td>\n",
       "      <td>12.4</td>\n",
       "      <td>EU</td>\n",
       "    </tr>\n",
       "    <tr>\n",
       "      <th>4</th>\n",
       "      <td>Angola</td>\n",
       "      <td>217</td>\n",
       "      <td>57</td>\n",
       "      <td>45</td>\n",
       "      <td>5.9</td>\n",
       "      <td>AF</td>\n",
       "    </tr>\n",
       "    <tr>\n",
       "      <th>5</th>\n",
       "      <td>Antigua &amp; Barbuda</td>\n",
       "      <td>102</td>\n",
       "      <td>128</td>\n",
       "      <td>45</td>\n",
       "      <td>4.9</td>\n",
       "      <td>NaN</td>\n",
       "    </tr>\n",
       "    <tr>\n",
       "      <th>6</th>\n",
       "      <td>Argentina</td>\n",
       "      <td>193</td>\n",
       "      <td>25</td>\n",
       "      <td>221</td>\n",
       "      <td>8.3</td>\n",
       "      <td>SA</td>\n",
       "    </tr>\n",
       "    <tr>\n",
       "      <th>7</th>\n",
       "      <td>Armenia</td>\n",
       "      <td>21</td>\n",
       "      <td>179</td>\n",
       "      <td>11</td>\n",
       "      <td>3.8</td>\n",
       "      <td>EU</td>\n",
       "    </tr>\n",
       "    <tr>\n",
       "      <th>8</th>\n",
       "      <td>Australia</td>\n",
       "      <td>261</td>\n",
       "      <td>72</td>\n",
       "      <td>212</td>\n",
       "      <td>10.4</td>\n",
       "      <td>OC</td>\n",
       "    </tr>\n",
       "    <tr>\n",
       "      <th>9</th>\n",
       "      <td>Austria</td>\n",
       "      <td>279</td>\n",
       "      <td>75</td>\n",
       "      <td>191</td>\n",
       "      <td>9.7</td>\n",
       "      <td>EU</td>\n",
       "    </tr>\n",
       "  </tbody>\n",
       "</table>\n",
       "</div>"
      ],
      "text/plain": [
       "             country  beer_servings  spirit_servings  wine_servings  \\\n",
       "0        Afghanistan              0                0              0   \n",
       "1            Albania             89              132             54   \n",
       "2            Algeria             25                0             14   \n",
       "3            Andorra            245              138            312   \n",
       "4             Angola            217               57             45   \n",
       "5  Antigua & Barbuda            102              128             45   \n",
       "6          Argentina            193               25            221   \n",
       "7            Armenia             21              179             11   \n",
       "8          Australia            261               72            212   \n",
       "9            Austria            279               75            191   \n",
       "\n",
       "   total_litres_of_pure_alcohol continent  \n",
       "0                           0.0        AS  \n",
       "1                           4.9        EU  \n",
       "2                           0.7        AF  \n",
       "3                          12.4        EU  \n",
       "4                           5.9        AF  \n",
       "5                           4.9       NaN  \n",
       "6                           8.3        SA  \n",
       "7                           3.8        EU  \n",
       "8                          10.4        OC  \n",
       "9                           9.7        EU  "
      ]
     },
     "execution_count": 4,
     "metadata": {},
     "output_type": "execute_result"
    }
   ],
   "source": [
    "drinks.head(10)"
   ]
  },
  {
   "cell_type": "code",
   "execution_count": 5,
   "metadata": {},
   "outputs": [
    {
     "data": {
      "text/html": [
       "<div>\n",
       "<style scoped>\n",
       "    .dataframe tbody tr th:only-of-type {\n",
       "        vertical-align: middle;\n",
       "    }\n",
       "\n",
       "    .dataframe tbody tr th {\n",
       "        vertical-align: top;\n",
       "    }\n",
       "\n",
       "    .dataframe thead th {\n",
       "        text-align: right;\n",
       "    }\n",
       "</style>\n",
       "<table border=\"1\" class=\"dataframe\">\n",
       "  <thead>\n",
       "    <tr style=\"text-align: right;\">\n",
       "      <th></th>\n",
       "      <th>beer_servings</th>\n",
       "      <th>spirit_servings</th>\n",
       "      <th>wine_servings</th>\n",
       "      <th>total_litres_of_pure_alcohol</th>\n",
       "    </tr>\n",
       "  </thead>\n",
       "  <tbody>\n",
       "    <tr>\n",
       "      <th>count</th>\n",
       "      <td>193.000000</td>\n",
       "      <td>193.000000</td>\n",
       "      <td>193.000000</td>\n",
       "      <td>193.000000</td>\n",
       "    </tr>\n",
       "    <tr>\n",
       "      <th>mean</th>\n",
       "      <td>106.160622</td>\n",
       "      <td>80.994819</td>\n",
       "      <td>49.450777</td>\n",
       "      <td>4.717098</td>\n",
       "    </tr>\n",
       "    <tr>\n",
       "      <th>std</th>\n",
       "      <td>101.143103</td>\n",
       "      <td>88.284312</td>\n",
       "      <td>79.697598</td>\n",
       "      <td>3.773298</td>\n",
       "    </tr>\n",
       "    <tr>\n",
       "      <th>min</th>\n",
       "      <td>0.000000</td>\n",
       "      <td>0.000000</td>\n",
       "      <td>0.000000</td>\n",
       "      <td>0.000000</td>\n",
       "    </tr>\n",
       "    <tr>\n",
       "      <th>25%</th>\n",
       "      <td>20.000000</td>\n",
       "      <td>4.000000</td>\n",
       "      <td>1.000000</td>\n",
       "      <td>1.300000</td>\n",
       "    </tr>\n",
       "    <tr>\n",
       "      <th>50%</th>\n",
       "      <td>76.000000</td>\n",
       "      <td>56.000000</td>\n",
       "      <td>8.000000</td>\n",
       "      <td>4.200000</td>\n",
       "    </tr>\n",
       "    <tr>\n",
       "      <th>75%</th>\n",
       "      <td>188.000000</td>\n",
       "      <td>128.000000</td>\n",
       "      <td>59.000000</td>\n",
       "      <td>7.200000</td>\n",
       "    </tr>\n",
       "    <tr>\n",
       "      <th>max</th>\n",
       "      <td>376.000000</td>\n",
       "      <td>438.000000</td>\n",
       "      <td>370.000000</td>\n",
       "      <td>14.400000</td>\n",
       "    </tr>\n",
       "  </tbody>\n",
       "</table>\n",
       "</div>"
      ],
      "text/plain": [
       "       beer_servings  spirit_servings  wine_servings  \\\n",
       "count     193.000000       193.000000     193.000000   \n",
       "mean      106.160622        80.994819      49.450777   \n",
       "std       101.143103        88.284312      79.697598   \n",
       "min         0.000000         0.000000       0.000000   \n",
       "25%        20.000000         4.000000       1.000000   \n",
       "50%        76.000000        56.000000       8.000000   \n",
       "75%       188.000000       128.000000      59.000000   \n",
       "max       376.000000       438.000000     370.000000   \n",
       "\n",
       "       total_litres_of_pure_alcohol  \n",
       "count                    193.000000  \n",
       "mean                       4.717098  \n",
       "std                        3.773298  \n",
       "min                        0.000000  \n",
       "25%                        1.300000  \n",
       "50%                        4.200000  \n",
       "75%                        7.200000  \n",
       "max                       14.400000  "
      ]
     },
     "execution_count": 5,
     "metadata": {},
     "output_type": "execute_result"
    }
   ],
   "source": [
    "drinks.describe()"
   ]
  },
  {
   "cell_type": "markdown",
   "metadata": {},
   "source": [
    "-----"
   ]
  },
  {
   "cell_type": "markdown",
   "metadata": {},
   "source": [
    "## 1-2. 변수간의 상관관계 탐색"
   ]
  },
  {
   "cell_type": "markdown",
   "metadata": {},
   "source": [
    "### [두 변수간의 상관계수 구하기]\n",
    "\n",
    "- 여러 개의 변수들의 서로간의 상관계수를 구하기 앞서, 두 변수간의 상관계수를 구하는 연습을 해봅니다."
   ]
  },
  {
   "cell_type": "code",
   "execution_count": 6,
   "metadata": {},
   "outputs": [
    {
     "name": "stdout",
     "output_type": "stream",
     "text": [
      "               beer_servings  wine_servings\n",
      "beer_servings       1.000000       0.527172\n",
      "wine_servings       0.527172       1.000000\n"
     ]
    }
   ],
   "source": [
    "# 'beer_servings', 'wine_servings' 두 변수간의 상관계수 계산\n",
    "corr = drinks[['beer_servings', 'wine_servings']].corr(method = 'pearson')\n",
    "print(corr)"
   ]
  },
  {
   "cell_type": "markdown",
   "metadata": {},
   "source": [
    "-----"
   ]
  },
  {
   "cell_type": "markdown",
   "metadata": {},
   "source": [
    "### [여러 변수들의 상관관계 분석]"
   ]
  },
  {
   "cell_type": "code",
   "execution_count": 7,
   "metadata": {},
   "outputs": [
    {
     "name": "stdout",
     "output_type": "stream",
     "text": [
      "                              beer_servings  spirit_servings  wine_servings  \\\n",
      "beer_servings                      1.000000         0.458819       0.527172   \n",
      "spirit_servings                    0.458819         1.000000       0.194797   \n",
      "wine_servings                      0.527172         0.194797       1.000000   \n",
      "total_litres_of_pure_alcohol       0.835839         0.654968       0.667598   \n",
      "\n",
      "                              total_litres_of_pure_alcohol  \n",
      "beer_servings                                     0.835839  \n",
      "spirit_servings                                   0.654968  \n",
      "wine_servings                                     0.667598  \n",
      "total_litres_of_pure_alcohol                      1.000000  \n"
     ]
    }
   ],
   "source": [
    "# 변수간의 상관계수 행렬 구하기\n",
    "cols = ['beer_servings', 'spirit_servings', 'wine_servings', 'total_litres_of_pure_alcohol']\n",
    "corr = drinks[cols].corr(method = 'pearson')\n",
    "print(corr)"
   ]
  },
  {
   "cell_type": "code",
   "execution_count": 9,
   "metadata": {},
   "outputs": [
    {
     "data": {
      "image/png": "[encoded data removed]",
      "text/plain": [
       "<Figure size 432x288 with 2 Axes>"
      ]
     },
     "metadata": {},
     "output_type": "display_data"
    }
   ],
   "source": [
    "import seaborn as sns\n",
    "import matplotlib.pyplot as plt\n",
    "\n",
    "# corr 행렬 히트맵 시각화\n",
    "cols_view = ['beer', 'spirit', 'wine', 'alcohol'] # 그래프 출력을 위한 cols 이름 축약\n",
    "sns.set(font_scale=1.5)\n",
    "hm = sns.heatmap(corr.values,\n",
    "            cbar=True,\n",
    "            annot=True, \n",
    "            square=True,\n",
    "            fmt='.2f',\n",
    "            annot_kws={'size': 15},\n",
    "            yticklabels=cols_view,\n",
    "            xticklabels=cols_view)\n",
    "\n",
    "plt.tight_layout()\n",
    "plt.show()"
   ]
  },
  {
   "cell_type": "code",
   "execution_count": 10,
   "metadata": {},
   "outputs": [
    {
     "data": {
      "image/png": "[encoded data removed]",
      "text/plain": [
       "<Figure size 720x720 with 20 Axes>"
      ]
     },
     "metadata": {},
     "output_type": "display_data"
    }
   ],
   "source": [
    "# 시각화 라이브러리를 이용한 변수간의 scatter plot 시각화\n",
    "\n",
    "sns.set(style='whitegrid', context='notebook')\n",
    "sns.pairplot(drinks[['beer_servings', 'spirit_servings', \n",
    "                     'wine_servings', 'total_litres_of_pure_alcohol']], height=2.5)\n",
    "plt.show()"
   ]
  },
  {
   "cell_type": "markdown",
   "metadata": {},
   "source": [
    "-----"
   ]
  },
  {
   "cell_type": "markdown",
   "metadata": {},
   "source": [
    "# 2. 스무고개로 분석하는 개념적 탐색"
   ]
  },
  {
   "cell_type": "markdown",
   "metadata": {},
   "source": [
    "### [결측 데이터 전처리]\n",
    "- continent column에 대한 결측 데이터 처리 과정"
   ]
  },
  {
   "cell_type": "code",
   "execution_count": 11,
   "metadata": {},
   "outputs": [
    {
     "name": "stdout",
     "output_type": "stream",
     "text": [
      "country                          0\n",
      "beer_servings                    0\n",
      "spirit_servings                  0\n",
      "wine_servings                    0\n",
      "total_litres_of_pure_alcohol     0\n",
      "continent                       23\n",
      "dtype: int64\n",
      "------------------------------------\n",
      "country                          object\n",
      "beer_servings                     int64\n",
      "spirit_servings                   int64\n",
      "wine_servings                     int64\n",
      "total_litres_of_pure_alcohol    float64\n",
      "continent                        object\n",
      "dtype: object\n"
     ]
    }
   ],
   "source": [
    "print(drinks.isnull().sum())\n",
    "print(\"------------------------------------\")\n",
    "print(drinks.dtypes)"
   ]
  },
  {
   "cell_type": "code",
   "execution_count": 12,
   "metadata": {},
   "outputs": [],
   "source": [
    "drinks['continent'] = drinks['continent'].fillna('OT')"
   ]
  },
  {
   "cell_type": "code",
   "execution_count": 13,
   "metadata": {},
   "outputs": [
    {
     "data": {
      "text/html": [
       "<div>\n",
       "<style scoped>\n",
       "    .dataframe tbody tr th:only-of-type {\n",
       "        vertical-align: middle;\n",
       "    }\n",
       "\n",
       "    .dataframe tbody tr th {\n",
       "        vertical-align: top;\n",
       "    }\n",
       "\n",
       "    .dataframe thead th {\n",
       "        text-align: right;\n",
       "    }\n",
       "</style>\n",
       "<table border=\"1\" class=\"dataframe\">\n",
       "  <thead>\n",
       "    <tr style=\"text-align: right;\">\n",
       "      <th></th>\n",
       "      <th>country</th>\n",
       "      <th>beer_servings</th>\n",
       "      <th>spirit_servings</th>\n",
       "      <th>wine_servings</th>\n",
       "      <th>total_litres_of_pure_alcohol</th>\n",
       "      <th>continent</th>\n",
       "    </tr>\n",
       "  </thead>\n",
       "  <tbody>\n",
       "    <tr>\n",
       "      <th>0</th>\n",
       "      <td>Afghanistan</td>\n",
       "      <td>0</td>\n",
       "      <td>0</td>\n",
       "      <td>0</td>\n",
       "      <td>0.0</td>\n",
       "      <td>AS</td>\n",
       "    </tr>\n",
       "    <tr>\n",
       "      <th>1</th>\n",
       "      <td>Albania</td>\n",
       "      <td>89</td>\n",
       "      <td>132</td>\n",
       "      <td>54</td>\n",
       "      <td>4.9</td>\n",
       "      <td>EU</td>\n",
       "    </tr>\n",
       "    <tr>\n",
       "      <th>2</th>\n",
       "      <td>Algeria</td>\n",
       "      <td>25</td>\n",
       "      <td>0</td>\n",
       "      <td>14</td>\n",
       "      <td>0.7</td>\n",
       "      <td>AF</td>\n",
       "    </tr>\n",
       "    <tr>\n",
       "      <th>3</th>\n",
       "      <td>Andorra</td>\n",
       "      <td>245</td>\n",
       "      <td>138</td>\n",
       "      <td>312</td>\n",
       "      <td>12.4</td>\n",
       "      <td>EU</td>\n",
       "    </tr>\n",
       "    <tr>\n",
       "      <th>4</th>\n",
       "      <td>Angola</td>\n",
       "      <td>217</td>\n",
       "      <td>57</td>\n",
       "      <td>45</td>\n",
       "      <td>5.9</td>\n",
       "      <td>AF</td>\n",
       "    </tr>\n",
       "    <tr>\n",
       "      <th>5</th>\n",
       "      <td>Antigua &amp; Barbuda</td>\n",
       "      <td>102</td>\n",
       "      <td>128</td>\n",
       "      <td>45</td>\n",
       "      <td>4.9</td>\n",
       "      <td>OT</td>\n",
       "    </tr>\n",
       "    <tr>\n",
       "      <th>6</th>\n",
       "      <td>Argentina</td>\n",
       "      <td>193</td>\n",
       "      <td>25</td>\n",
       "      <td>221</td>\n",
       "      <td>8.3</td>\n",
       "      <td>SA</td>\n",
       "    </tr>\n",
       "    <tr>\n",
       "      <th>7</th>\n",
       "      <td>Armenia</td>\n",
       "      <td>21</td>\n",
       "      <td>179</td>\n",
       "      <td>11</td>\n",
       "      <td>3.8</td>\n",
       "      <td>EU</td>\n",
       "    </tr>\n",
       "    <tr>\n",
       "      <th>8</th>\n",
       "      <td>Australia</td>\n",
       "      <td>261</td>\n",
       "      <td>72</td>\n",
       "      <td>212</td>\n",
       "      <td>10.4</td>\n",
       "      <td>OC</td>\n",
       "    </tr>\n",
       "    <tr>\n",
       "      <th>9</th>\n",
       "      <td>Austria</td>\n",
       "      <td>279</td>\n",
       "      <td>75</td>\n",
       "      <td>191</td>\n",
       "      <td>9.7</td>\n",
       "      <td>EU</td>\n",
       "    </tr>\n",
       "  </tbody>\n",
       "</table>\n",
       "</div>"
      ],
      "text/plain": [
       "             country  beer_servings  spirit_servings  wine_servings  \\\n",
       "0        Afghanistan              0                0              0   \n",
       "1            Albania             89              132             54   \n",
       "2            Algeria             25                0             14   \n",
       "3            Andorra            245              138            312   \n",
       "4             Angola            217               57             45   \n",
       "5  Antigua & Barbuda            102              128             45   \n",
       "6          Argentina            193               25            221   \n",
       "7            Armenia             21              179             11   \n",
       "8          Australia            261               72            212   \n",
       "9            Austria            279               75            191   \n",
       "\n",
       "   total_litres_of_pure_alcohol continent  \n",
       "0                           0.0        AS  \n",
       "1                           4.9        EU  \n",
       "2                           0.7        AF  \n",
       "3                          12.4        EU  \n",
       "4                           5.9        AF  \n",
       "5                           4.9        OT  \n",
       "6                           8.3        SA  \n",
       "7                           3.8        EU  \n",
       "8                          10.4        OC  \n",
       "9                           9.7        EU  "
      ]
     },
     "execution_count": 13,
     "metadata": {},
     "output_type": "execute_result"
    }
   ],
   "source": [
    "drinks.head(10)"
   ]
  },
  {
   "cell_type": "code",
   "execution_count": 14,
   "metadata": {},
   "outputs": [
    {
     "data": {
      "image/png": "[encoded data removed]",
      "text/plain": [
       "<Figure size 432x288 with 1 Axes>"
      ]
     },
     "metadata": {},
     "output_type": "display_data"
    }
   ],
   "source": [
    "from matplotlib.gridspec import GridSpec\n",
    "import matplotlib as mpl\n",
    "\n",
    "labels = drinks['continent'].value_counts().index.tolist()\n",
    "fracs1 = drinks['continent'].value_counts().values.tolist()\n",
    "explode = (0, 0, 0, 0.25, 0, 0)\n",
    "\n",
    "plt.pie(fracs1, explode=explode, labels=labels, autopct='%.0f%%', shadow=True)\n",
    "plt.title('null data to \\'OT\\'')\n",
    "plt.show()"
   ]
  },
  {
   "cell_type": "markdown",
   "metadata": {},
   "source": [
    "-----"
   ]
  },
  {
   "cell_type": "markdown",
   "metadata": {},
   "source": [
    "### [그룹 단위의 데이터 분석 : 대륙별 분석]\n",
    "- apply, agg 함수와 filter 기법을 이용한 그룹별 분석"
   ]
  },
  {
   "cell_type": "code",
   "execution_count": 15,
   "metadata": {},
   "outputs": [
    {
     "data": {
      "text/html": [
       "<div>\n",
       "<style scoped>\n",
       "    .dataframe tbody tr th:only-of-type {\n",
       "        vertical-align: middle;\n",
       "    }\n",
       "\n",
       "    .dataframe tbody tr th {\n",
       "        vertical-align: top;\n",
       "    }\n",
       "\n",
       "    .dataframe thead th {\n",
       "        text-align: right;\n",
       "    }\n",
       "</style>\n",
       "<table border=\"1\" class=\"dataframe\">\n",
       "  <thead>\n",
       "    <tr style=\"text-align: right;\">\n",
       "      <th></th>\n",
       "      <th>mean</th>\n",
       "      <th>min</th>\n",
       "      <th>max</th>\n",
       "      <th>sum</th>\n",
       "    </tr>\n",
       "    <tr>\n",
       "      <th>continent</th>\n",
       "      <th></th>\n",
       "      <th></th>\n",
       "      <th></th>\n",
       "      <th></th>\n",
       "    </tr>\n",
       "  </thead>\n",
       "  <tbody>\n",
       "    <tr>\n",
       "      <th>AF</th>\n",
       "      <td>16.339623</td>\n",
       "      <td>0</td>\n",
       "      <td>152</td>\n",
       "      <td>866</td>\n",
       "    </tr>\n",
       "    <tr>\n",
       "      <th>AS</th>\n",
       "      <td>60.840909</td>\n",
       "      <td>0</td>\n",
       "      <td>326</td>\n",
       "      <td>2677</td>\n",
       "    </tr>\n",
       "    <tr>\n",
       "      <th>EU</th>\n",
       "      <td>132.555556</td>\n",
       "      <td>0</td>\n",
       "      <td>373</td>\n",
       "      <td>5965</td>\n",
       "    </tr>\n",
       "    <tr>\n",
       "      <th>OC</th>\n",
       "      <td>58.437500</td>\n",
       "      <td>0</td>\n",
       "      <td>254</td>\n",
       "      <td>935</td>\n",
       "    </tr>\n",
       "    <tr>\n",
       "      <th>OT</th>\n",
       "      <td>165.739130</td>\n",
       "      <td>68</td>\n",
       "      <td>438</td>\n",
       "      <td>3812</td>\n",
       "    </tr>\n",
       "  </tbody>\n",
       "</table>\n",
       "</div>"
      ],
      "text/plain": [
       "                 mean  min  max   sum\n",
       "continent                            \n",
       "AF          16.339623    0  152   866\n",
       "AS          60.840909    0  326  2677\n",
       "EU         132.555556    0  373  5965\n",
       "OC          58.437500    0  254   935\n",
       "OT         165.739130   68  438  3812"
      ]
     },
     "execution_count": 15,
     "metadata": {},
     "output_type": "execute_result"
    }
   ],
   "source": [
    "# 대륙별 spirit_servings의 평균, 최소, 최대, 합계 구하기\n",
    "result = drinks.groupby('continent').spirit_servings.agg(['mean', 'min', 'max', 'sum'])\n",
    "result.head()"
   ]
  },
  {
   "cell_type": "code",
   "execution_count": 16,
   "metadata": {},
   "outputs": [
    {
     "name": "stdout",
     "output_type": "stream",
     "text": [
      "continent\n",
      "EU    8.617778\n",
      "OT    5.995652\n",
      "SA    6.308333\n",
      "Name: total_litres_of_pure_alcohol, dtype: float64\n"
     ]
    }
   ],
   "source": [
    "# 전체 평균보다 많은 알코올을 섭취하는 대륙 구하기\n",
    "total_mean = drinks.total_litres_of_pure_alcohol.mean()\n",
    "continent_mean = drinks.groupby('continent')['total_litres_of_pure_alcohol'].mean()\n",
    "continent_over_mean = continent_mean[continent_mean >= total_mean]\n",
    "print(continent_over_mean)"
   ]
  },
  {
   "cell_type": "code",
   "execution_count": 17,
   "metadata": {},
   "outputs": [
    {
     "name": "stdout",
     "output_type": "stream",
     "text": [
      "EU\n"
     ]
    }
   ],
   "source": [
    "# 평균 beer_servings이 가장 높은 대륙 구하기\n",
    "beer_continent = drinks.groupby('continent').beer_servings.mean().idxmax()\n",
    "print(beer_continent)"
   ]
  },
  {
   "cell_type": "code",
   "execution_count": 18,
   "metadata": {},
   "outputs": [
    {
     "data": {
      "image/png": "[encoded data removed]",
      "text/plain": [
       "<Figure size 432x288 with 1 Axes>"
      ]
     },
     "metadata": {},
     "output_type": "display_data"
    }
   ],
   "source": [
    "# 대륙별 spirit_servings의 평균, 최소, 최대, 합계 시각화\n",
    "n_groups = len(result.index)\n",
    "means = result['mean'].tolist()\n",
    "mins = result['min'].tolist()\n",
    "maxs = result['max'].tolist()\n",
    "sums = result['sum'].tolist()\n",
    " \n",
    "index = np.arange(n_groups)\n",
    "bar_width = 0.1\n",
    " \n",
    "rects1 = plt.bar(index, means, bar_width,\n",
    "                 color='r',\n",
    "                 label='Mean')\n",
    " \n",
    "rects2 = plt.bar(index + bar_width, mins, bar_width,\n",
    "                 color='g',\n",
    "                 label='Min')\n",
    "\n",
    "rects3 = plt.bar(index + bar_width * 2, maxs, bar_width,\n",
    "                 color='b',\n",
    "                 label='Max')\n",
    " \n",
    "rects3 = plt.bar(index + bar_width * 3, sums, bar_width,\n",
    "                 color='y',\n",
    "                 label='Sum')\n",
    "\n",
    "plt.xticks(index, result.index.tolist())\n",
    "plt.legend()\n",
    "plt.show()"
   ]
  },
  {
   "cell_type": "code",
   "execution_count": 19,
   "metadata": {},
   "outputs": [
    {
     "data": {
      "image/png": "[encoded data removed]",
      "text/plain": [
       "<Figure size 432x288 with 1 Axes>"
      ]
     },
     "metadata": {},
     "output_type": "display_data"
    }
   ],
   "source": [
    "# 대륙별 total_litres_of_pure_alcohol 시각화\n",
    "continents = continent_mean.index.tolist()\n",
    "continents.append('mean')\n",
    "x_pos = np.arange(len(continents))\n",
    "alcohol = continent_mean.tolist()\n",
    "alcohol.append(total_mean)\n",
    " \n",
    "bar_list = plt.bar(x_pos, alcohol, align='center', alpha=0.5)\n",
    "bar_list[len(continents) - 1].set_color('r')\n",
    "plt.plot([0., 6], [total_mean, total_mean], \"k--\")\n",
    "plt.xticks(x_pos, continents)\n",
    "\n",
    "plt.ylabel('total_litres_of_pure_alcohol')\n",
    "plt.title('total_litres_of_pure_alcohol by Continent')\n",
    "\n",
    "plt.show()"
   ]
  },
  {
   "cell_type": "code",
   "execution_count": 20,
   "metadata": {},
   "outputs": [
    {
     "data": {
      "image/png": "[encoded data removed]",
      "text/plain": [
       "<Figure size 432x288 with 1 Axes>"
      ]
     },
     "metadata": {},
     "output_type": "display_data"
    }
   ],
   "source": [
    "# 대륙별 beer_servings 시각화\n",
    "beer_group = drinks.groupby('continent')['beer_servings'].sum()\n",
    "continents = beer_group.index.tolist()\n",
    "y_pos = np.arange(len(continents))\n",
    "alcohol = beer_group.tolist()\n",
    " \n",
    "bar_list = plt.bar(y_pos, alcohol, align='center', alpha=0.5)\n",
    "bar_list[continents.index(\"EU\")].set_color('r')\n",
    "plt.xticks(y_pos, continents)\n",
    "plt.ylabel('beer_servings')\n",
    "plt.title('beer_servings by Continent')\n",
    " \n",
    "plt.show()"
   ]
  },
  {
   "cell_type": "markdown",
   "metadata": {},
   "source": [
    "-----"
   ]
  },
  {
   "cell_type": "markdown",
   "metadata": {},
   "source": [
    "### [그룹 단위의 데이터 분석 : 의미를 가지는 피처 재구성하기]\n",
    "- total_servings : beer_servings, spirit_servings, wine_servings의 합을 통해 실질적인 소비량을 계산\n",
    "- alcohol_rate : 소비량 대비 알콜 비율을 계산\n",
    "- alcohol_rate_rank, alcohol_rate_continent 등으로 응용."
   ]
  },
  {
   "cell_type": "code",
   "execution_count": 21,
   "metadata": {},
   "outputs": [],
   "source": [
    "# 대륙별 평균 wine_servings 피처 만들어서 병합하기\n",
    "result = drinks.groupby('continent').mean()['wine_servings']\n",
    "df = result.to_frame().reset_index()\n",
    "df = df.rename(columns={'wine_servings': 'wine_servings_contavg'})\n",
    "drinks = pd.merge(drinks, df, on='continent', how='outer')\n",
    "\n",
    "# 위와 같은 방법\n",
    "drinks['wine_servings_contavg'] = drinks.groupby('continent')['wine_servings'].transform(np.mean)\n",
    "\n",
    "# 국가별 total_servings 피처 만들어서 병합하기\n",
    "drinks['total_servings'] = drinks['beer_servings'] + drinks['wine_servings'] + drinks['spirit_servings']\n",
    "\n",
    "# 전체 평균보다 적은 알코올을 섭취하는 대륙 중에서, spirit을 가장 많이 마시는 국가 구하기\n",
    "total_mean = drinks.total_litres_of_pure_alcohol.mean()\n",
    "continent_mean = drinks.groupby('continent').total_litres_of_pure_alcohol.mean()\n",
    "continent_under_mean = continent_mean[continent_mean <= total_mean].index.tolist()\n",
    "df_continent_under_mean = drinks.loc[drinks.continent.isin(continent_under_mean)]\n",
    "\n",
    "most_spirit_under_mean = df_continent_under_mean.loc[df_continent_under_mean['spirit_servings'].idxmax()]\n",
    "\n",
    "# 술 소비량 대비 알콜 비율에 대한 칼럼 만들어서 병합하기\n",
    "drinks['alcohol_rate'] = drinks['total_litres_of_pure_alcohol'] / drinks['total_servings']\n",
    "drinks['alcohol_rate'] = drinks['alcohol_rate'].fillna(0)\n",
    "\n",
    "# 술 소비량 대비 알콜 비율 : 전체 순위 중 한국의 순위 구하기\n",
    "drinks['alcohol_rate_rank'] = drinks['alcohol_rate'].rank(ascending=False)\n",
    "drinks['alcohol_rate_rank'] = drinks['alcohol_rate_rank'].apply(np.floor)\n",
    "drinks.loc[drinks['country'] == 'South Korea'].alcohol_rate_rank\n",
    "\n",
    "# 대륙별 술 소비량 대비 알콜 비율 구하기\n",
    "continent_sum = drinks.groupby('continent').sum()\n",
    "continent_sum['alcohol_rate_continent'] = continent_sum['total_litres_of_pure_alcohol'] / continent_sum['total_servings']\n",
    "continent_sum = continent_sum.reset_index()\n",
    "continent_sum = continent_sum[['continent', 'alcohol_rate_continent']]\n",
    "\n",
    "drinks = pd.merge(drinks, continent_sum, on='continent', how='outer')"
   ]
  },
  {
   "cell_type": "code",
   "execution_count": 22,
   "metadata": {},
   "outputs": [
    {
     "name": "stdout",
     "output_type": "stream",
     "text": [
      "전체 평균보다 적은 알코올을 섭취하는 대륙 중, spirit을 가장 많이 마시는 국가\n",
      "country                         Russian Federation\n",
      "beer_servings                                  247\n",
      "spirit_servings                                326\n",
      "wine_servings                                   73\n",
      "total_litres_of_pure_alcohol                  11.5\n",
      "continent                                       AS\n",
      "wine_servings_contavg                      9.06818\n",
      "total_servings                                 646\n",
      "Name: 30, dtype: object\n",
      "------------------------------------\n",
      "Index(['country', 'beer_servings', 'spirit_servings', 'wine_servings',\n",
      "       'total_litres_of_pure_alcohol', 'continent', 'wine_servings_contavg',\n",
      "       'total_servings', 'alcohol_rate', 'alcohol_rate_rank',\n",
      "       'alcohol_rate_continent'],\n",
      "      dtype='object')\n"
     ]
    },
    {
     "data": {
      "text/html": [
       "<div>\n",
       "<style scoped>\n",
       "    .dataframe tbody tr th:only-of-type {\n",
       "        vertical-align: middle;\n",
       "    }\n",
       "\n",
       "    .dataframe tbody tr th {\n",
       "        vertical-align: top;\n",
       "    }\n",
       "\n",
       "    .dataframe thead th {\n",
       "        text-align: right;\n",
       "    }\n",
       "</style>\n",
       "<table border=\"1\" class=\"dataframe\">\n",
       "  <thead>\n",
       "    <tr style=\"text-align: right;\">\n",
       "      <th></th>\n",
       "      <th>country</th>\n",
       "      <th>beer_servings</th>\n",
       "      <th>spirit_servings</th>\n",
       "      <th>wine_servings</th>\n",
       "      <th>total_litres_of_pure_alcohol</th>\n",
       "      <th>continent</th>\n",
       "      <th>wine_servings_contavg</th>\n",
       "      <th>total_servings</th>\n",
       "      <th>alcohol_rate</th>\n",
       "      <th>alcohol_rate_rank</th>\n",
       "      <th>alcohol_rate_continent</th>\n",
       "    </tr>\n",
       "  </thead>\n",
       "  <tbody>\n",
       "    <tr>\n",
       "      <th>0</th>\n",
       "      <td>Afghanistan</td>\n",
       "      <td>0</td>\n",
       "      <td>0</td>\n",
       "      <td>0</td>\n",
       "      <td>0.0</td>\n",
       "      <td>AS</td>\n",
       "      <td>9.068182</td>\n",
       "      <td>0</td>\n",
       "      <td>0.000000</td>\n",
       "      <td>187.0</td>\n",
       "      <td>0.020293</td>\n",
       "    </tr>\n",
       "    <tr>\n",
       "      <th>1</th>\n",
       "      <td>Bahrain</td>\n",
       "      <td>42</td>\n",
       "      <td>63</td>\n",
       "      <td>7</td>\n",
       "      <td>2.0</td>\n",
       "      <td>AS</td>\n",
       "      <td>9.068182</td>\n",
       "      <td>112</td>\n",
       "      <td>0.017857</td>\n",
       "      <td>106.0</td>\n",
       "      <td>0.020293</td>\n",
       "    </tr>\n",
       "    <tr>\n",
       "      <th>2</th>\n",
       "      <td>Bangladesh</td>\n",
       "      <td>0</td>\n",
       "      <td>0</td>\n",
       "      <td>0</td>\n",
       "      <td>0.0</td>\n",
       "      <td>AS</td>\n",
       "      <td>9.068182</td>\n",
       "      <td>0</td>\n",
       "      <td>0.000000</td>\n",
       "      <td>187.0</td>\n",
       "      <td>0.020293</td>\n",
       "    </tr>\n",
       "    <tr>\n",
       "      <th>3</th>\n",
       "      <td>Bhutan</td>\n",
       "      <td>23</td>\n",
       "      <td>0</td>\n",
       "      <td>0</td>\n",
       "      <td>0.4</td>\n",
       "      <td>AS</td>\n",
       "      <td>9.068182</td>\n",
       "      <td>23</td>\n",
       "      <td>0.017391</td>\n",
       "      <td>174.0</td>\n",
       "      <td>0.020293</td>\n",
       "    </tr>\n",
       "    <tr>\n",
       "      <th>4</th>\n",
       "      <td>Brunei</td>\n",
       "      <td>31</td>\n",
       "      <td>2</td>\n",
       "      <td>1</td>\n",
       "      <td>0.6</td>\n",
       "      <td>AS</td>\n",
       "      <td>9.068182</td>\n",
       "      <td>34</td>\n",
       "      <td>0.017647</td>\n",
       "      <td>162.0</td>\n",
       "      <td>0.020293</td>\n",
       "    </tr>\n",
       "  </tbody>\n",
       "</table>\n",
       "</div>"
      ],
      "text/plain": [
       "       country  beer_servings  spirit_servings  wine_servings  \\\n",
       "0  Afghanistan              0                0              0   \n",
       "1      Bahrain             42               63              7   \n",
       "2   Bangladesh              0                0              0   \n",
       "3       Bhutan             23                0              0   \n",
       "4       Brunei             31                2              1   \n",
       "\n",
       "   total_litres_of_pure_alcohol continent  wine_servings_contavg  \\\n",
       "0                           0.0        AS               9.068182   \n",
       "1                           2.0        AS               9.068182   \n",
       "2                           0.0        AS               9.068182   \n",
       "3                           0.4        AS               9.068182   \n",
       "4                           0.6        AS               9.068182   \n",
       "\n",
       "   total_servings  alcohol_rate  alcohol_rate_rank  alcohol_rate_continent  \n",
       "0               0      0.000000              187.0                0.020293  \n",
       "1             112      0.017857              106.0                0.020293  \n",
       "2               0      0.000000              187.0                0.020293  \n",
       "3              23      0.017391              174.0                0.020293  \n",
       "4              34      0.017647              162.0                0.020293  "
      ]
     },
     "execution_count": 22,
     "metadata": {},
     "output_type": "execute_result"
    }
   ],
   "source": [
    "print(\"전체 평균보다 적은 알코올을 섭취하는 대륙 중, spirit을 가장 많이 마시는 국가\")\n",
    "print(most_spirit_under_mean)\n",
    "print(\"------------------------------------\")\n",
    "print(drinks.columns)\n",
    "drinks.head()"
   ]
  },
  {
   "cell_type": "markdown",
   "metadata": {},
   "source": [
    "-----"
   ]
  },
  {
   "cell_type": "markdown",
   "metadata": {},
   "source": [
    "# 3. 분석 대상간의 통계적인 차이 검정"
   ]
  },
  {
   "cell_type": "markdown",
   "metadata": {},
   "source": [
    "### [아프리카와 유럽간의 술 소비량 차이 검정하기]"
   ]
  },
  {
   "cell_type": "code",
   "execution_count": 22,
   "metadata": {},
   "outputs": [
    {
     "name": "stdout",
     "output_type": "stream",
     "text": [
      "The t-statistic and p-value assuming equal variances is 3.778 and 0.000.\n",
      "The t-statistic and p-value not assuming equal variances is 4.100 and 0.000\n"
     ]
    }
   ],
   "source": [
    "# 아프리카와 유럽간의 술 소비량 대비 알콜 비율의 차이 검정하기\n",
    "africa = drinks.loc[drinks['continent']=='AF']\n",
    "europe = drinks.loc[drinks['continent']=='EU']\n",
    "\n",
    "from scipy import stats\n",
    "tTestResult = stats.ttest_ind(africa['alcohol_rate'], europe['alcohol_rate'])\n",
    "tTestResultDiffVar = stats.ttest_ind(africa['alcohol_rate'], europe['alcohol_rate'], equal_var=False)\n",
    "\n",
    "print(\"The t-statistic and p-value assuming equal variances is %.3f and %.3f.\" % tTestResult)\n",
    "print(\"The t-statistic and p-value not assuming equal variances is %.3f and %.3f\" % tTestResultDiffVar)"
   ]
  },
  {
   "cell_type": "markdown",
   "metadata": {},
   "source": [
    "-----"
   ]
  },
  {
   "cell_type": "markdown",
   "metadata": {},
   "source": [
    "# 대한민국은 얼마나 술을 독하게 마시는 나라일까?"
   ]
  },
  {
   "cell_type": "code",
   "execution_count": 23,
   "metadata": {},
   "outputs": [
    {
     "data": {
      "text/html": [
       "<div>\n",
       "<style scoped>\n",
       "    .dataframe tbody tr th:only-of-type {\n",
       "        vertical-align: middle;\n",
       "    }\n",
       "\n",
       "    .dataframe tbody tr th {\n",
       "        vertical-align: top;\n",
       "    }\n",
       "\n",
       "    .dataframe thead th {\n",
       "        text-align: right;\n",
       "    }\n",
       "</style>\n",
       "<table border=\"1\" class=\"dataframe\">\n",
       "  <thead>\n",
       "    <tr style=\"text-align: right;\">\n",
       "      <th></th>\n",
       "      <th>country</th>\n",
       "      <th>alcohol_rate</th>\n",
       "    </tr>\n",
       "  </thead>\n",
       "  <tbody>\n",
       "    <tr>\n",
       "      <th>109</th>\n",
       "      <td>Gambia</td>\n",
       "      <td>0.266667</td>\n",
       "    </tr>\n",
       "    <tr>\n",
       "      <th>131</th>\n",
       "      <td>Sierra Leone</td>\n",
       "      <td>0.223333</td>\n",
       "    </tr>\n",
       "    <tr>\n",
       "      <th>126</th>\n",
       "      <td>Nigeria</td>\n",
       "      <td>0.185714</td>\n",
       "    </tr>\n",
       "    <tr>\n",
       "      <th>138</th>\n",
       "      <td>Uganda</td>\n",
       "      <td>0.153704</td>\n",
       "    </tr>\n",
       "    <tr>\n",
       "      <th>127</th>\n",
       "      <td>Rwanda</td>\n",
       "      <td>0.151111</td>\n",
       "    </tr>\n",
       "  </tbody>\n",
       "</table>\n",
       "</div>"
      ],
      "text/plain": [
       "          country  alcohol_rate\n",
       "109        Gambia      0.266667\n",
       "131  Sierra Leone      0.223333\n",
       "126       Nigeria      0.185714\n",
       "138        Uganda      0.153704\n",
       "127        Rwanda      0.151111"
      ]
     },
     "execution_count": 23,
     "metadata": {},
     "output_type": "execute_result"
    }
   ],
   "source": [
    "country_with_rank = drinks[['country', 'alcohol_rate']]\n",
    "country_with_rank = country_with_rank.sort_values(by=['alcohol_rate'], ascending=0)\n",
    "country_with_rank.head(5)"
   ]
  },
  {
   "cell_type": "code",
   "execution_count": 24,
   "metadata": {},
   "outputs": [
    {
     "data": {
      "image/png": "[encoded data removed]",
      "text/plain": [
       "<Figure size 432x288 with 1 Axes>"
      ]
     },
     "metadata": {},
     "output_type": "display_data"
    }
   ],
   "source": [
    "country_list = country_with_rank.country.tolist()\n",
    "x_pos = np.arange(len(country_list))\n",
    "rank = country_with_rank.alcohol_rate.tolist()\n",
    " \n",
    "bar_list = plt.bar(x_pos, rank)\n",
    "bar_list[country_list.index(\"South Korea\")].set_color('r')\n",
    "plt.ylabel('alcohol rate')\n",
    "plt.title('liquor drink rank by contry')\n",
    "plt.axis([0, 200, 0, 0.3])\n",
    "\n",
    "korea_rank = country_list.index(\"South Korea\")\n",
    "korea_alc_rate = country_with_rank[country_with_rank['country'] == 'South Korea']['alcohol_rate'].values[0]\n",
    "plt.annotate('South Korea : ' + str(korea_rank - 1), \n",
    "             xy=(korea_rank, korea_alc_rate), \n",
    "             xytext=(korea_rank + 10, korea_alc_rate + 0.05),\n",
    "             arrowprops=dict(facecolor='red', shrink=0.05))\n",
    "\n",
    "plt.show()"
   ]
  },
  {
   "cell_type": "markdown",
   "metadata": {},
   "source": [
    "-----"
   ]
  },
  {
   "cell_type": "markdown",
   "metadata": {},
   "source": [
    "# 부록 : 탐색적 데이터 분석 리포트"
   ]
  },
  {
   "cell_type": "code",
   "execution_count": 27,
   "metadata": {},
   "outputs": [
    {
     "ename": "NameError",
     "evalue": "name '이미지' is not defined",
     "output_type": "error",
     "traceback": [
      "\u001b[0;31m---------------------------------------------------------------------------\u001b[0m",
      "\u001b[0;31mNameError\u001b[0m                                 Traceback (most recent call last)",
      "\u001b[0;32m<ipython-input-27-d8d7d846c9f5>\u001b[0m in \u001b[0;36m<module>\u001b[0;34m\u001b[0m\n\u001b[0;32m----> 1\u001b[0;31m \u001b[0m이미지\u001b[0m\u001b[0;34m\u001b[0m\u001b[0;34m\u001b[0m\u001b[0m\n\u001b[0m",
      "\u001b[0;31mNameError\u001b[0m: name '이미지' is not defined"
     ]
    }
   ],
   "source": [
    "이미지"
   ]
  },
  {
   "cell_type": "code",
   "execution_count": null,
   "metadata": {},
   "outputs": [],
   "source": []
  }
 ],
 "metadata": {
  "kernelspec": {
   "display_name": "Python 3",
   "language": "python",
   "name": "python3"
  },
  "language_info": {
   "codemirror_mode": {
    "name": "ipython",
    "version": 3
   },
   "file_extension": ".py",
   "mimetype": "text/x-python",
   "name": "python",
   "nbconvert_exporter": "python",
   "pygments_lexer": "ipython3",
   "version": "3.6.7"
  }
 },
 "nbformat": 4,
 "nbformat_minor": 2
}
